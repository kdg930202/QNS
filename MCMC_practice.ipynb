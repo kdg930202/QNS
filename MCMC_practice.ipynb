{
 "cells": [
  {
   "cell_type": "code",
   "execution_count": null,
   "id": "e8bb33e6",
   "metadata": {},
   "outputs": [],
   "source": [
    "#To do\n",
    "#Try disorder strength 1 which is defineltely ergodic phase and also try strengh something like 30"
   ]
  },
  {
   "cell_type": "code",
   "execution_count": null,
   "id": "4ae4a194",
   "metadata": {},
   "outputs": [],
   "source": [
    "import netket as nk\n",
    "from numpy.lib.function_base import append\n",
    "from itertools import permutations, combinations\n",
    "from netket.vqs.mc import get_local_kernel_arguments, get_local_kernel\n",
    "import time\n",
    "import matplotlib.pyplot as plt\n",
    "import json\n",
    "import numpy as np\n",
    "from numpy.linalg import eig\n",
    "# from flax.core.frozen_dict import FrozenDict\n",
    "import flax\n",
    "from netket.optimizer.qgt import QGTJacobianPyTree\n",
    "\n",
    "\n",
    "from typing import Callable, Tuple\n",
    "from functools import partial\n",
    "\n",
    "import jax\n",
    "from jax import numpy as jnp\n",
    "\n",
    "from netket.stats import statistics as mpi_statistics, mean as mpi_mean, Stats\n",
    "from netket.utils.types import PyTree\n",
    "from netket.operator.spin import sigmax, sigmay,sigmaz\n",
    "\n",
    "import matplotlib.pyplot as plt\n",
    "from tqdm import tqdm\n",
    "################################################################\n",
    "################################################################\n",
    "################################################################\n",
    "###############ED는 sparse matrix가지고 한다 !!!###################\n",
    "from scipy.sparse.linalg import eigsh\n",
    "################################################################\n",
    "################################################################\n",
    "################################################################\n",
    "import os\n",
    "import pandas as pd\n",
    "\n",
    "\n",
    "from alpha_mcmc import alpha_mcmc\n",
    "from calculate_variance import calculate_variance\n"
   ]
  },
  {
   "cell_type": "code",
   "execution_count": null,
   "id": "3cf3df55",
   "metadata": {},
   "outputs": [],
   "source": [
    "import os\n",
    "os.environ[\"JAX_PLATFORM_NAME\"] = \"cpu\""
   ]
  },
  {
   "cell_type": "code",
   "execution_count": null,
   "id": "056c8935",
   "metadata": {},
   "outputs": [],
   "source": [
    "# Define a 1d chain\n",
    "L = 10\n",
    "g = nk.graph.Hypercube(length=L, n_dim=1, pbc=True)\n",
    "#g.translation_group\n",
    "#g.point_group\n",
    "#g.rotation_group\n",
    "#g.space_group\n",
    "\n",
    "hi = nk.hilbert.Spin(s=0.5, total_sz=0, N=g.n_nodes)\n",
    "# hi = nk.hilbert.Spin(s=0.5, N=g.n_nodes)\n",
    "\n",
    "# calling the Heisenberg Hamiltonian\n",
    "ha = nk.operator.Heisenberg(hilbert=hi, graph=g)\n",
    "b=1\n",
    "a=-1\n",
    "Gamma = (b-a) * np.random.random_sample(L) + a\n",
    "\n",
    "################################################################################\n",
    "################################################################################\n",
    "################################################################################\n",
    "#이렇게 정의하는게 더 빨랑\n",
    "ha = sum([ sigmax(hi,i)*sigmax(hi,(i+1)%L)\n",
    "         + sigmay(hi,i)*sigmay(hi,(i+1)%L)\n",
    "         + sigmaz(hi,i)*sigmaz(hi,(i+1)%L)\n",
    "           for i in range(L)])\n",
    "################################################################################\n",
    "################################################################################\n",
    "################################################################################\n",
    "ha = ha + sum([Gamma[i]*sigmaz(hi,i) for i in range(L)])\n",
    "\n",
    "leng = np.shape(hi.all_states())[0]\n",
    "print(leng)"
   ]
  },
  {
   "cell_type": "code",
   "execution_count": null,
   "id": "4be06c08",
   "metadata": {},
   "outputs": [],
   "source": [
    "E, vec = eigsh(ha.to_sparse(), k = 200, which=\"LA\")"
   ]
  },
  {
   "cell_type": "code",
   "execution_count": null,
   "id": "0fb148c4",
   "metadata": {},
   "outputs": [],
   "source": [
    "np.shape(vec)"
   ]
  },
  {
   "cell_type": "code",
   "execution_count": null,
   "id": "98bdcf86",
   "metadata": {},
   "outputs": [],
   "source": [
    "sma = max(E)-8\n",
    "big = max(E)-7\n",
    "Et = np.random.uniform(low=sma, high=big, size=None)\n",
    "plt.scatter(np.arange(len(E)),np.sort(E),s=10)\n",
    "plt.plot([0,len(E)],[Et,Et],'r')\n",
    "plt.ylim([Et-0.1,Et+0.1])\n",
    "print(Et)"
   ]
  },
  {
   "cell_type": "code",
   "execution_count": null,
   "id": "075a4ea3",
   "metadata": {},
   "outputs": [],
   "source": [
    "Target = (ha-Et)@(ha-Et)"
   ]
  },
  {
   "cell_type": "code",
   "execution_count": null,
   "id": "b59f0967",
   "metadata": {},
   "outputs": [],
   "source": [
    "def Rule_Full(eta, n_steps_):\n",
    "    ma = nk.models.RBM(alpha=2, param_dtype=complex)\n",
    "    vs = nk.vqs.FullSumState(hi, ma)\n",
    "    op = nk.optimizer.Adam(learning_rate=eta)\n",
    "    sr = nk.optimizer.SR(diag_shift=0.1, holomorphic=True)\n",
    "\n",
    "    gs = nk.VMC(\n",
    "      hamiltonian=Target,\n",
    "      optimizer=op,\n",
    "      preconditioner=sr,\n",
    "      variational_state=vs)\n",
    "\n",
    "    start = time.time()\n",
    "    gs.run(n_steps_, out='RBM')\n",
    "    end = time.time()\n",
    "    H_Et_squred = vs.expect((ha-Et)@(ha-Et)).mean.real\n",
    "    Energy = vs.expect(ha).mean.real\n",
    "    Variance = calculate_variance(ha, vs)\n",
    "    result = [H_Et_squred, Energy, Variance]\n",
    "    return result\n",
    "\n",
    "def Rule_Exchange(eta, n_steps_, n_samples_,batch):\n",
    "    ma = nk.models.RBM(alpha=2, param_dtype=complex)\n",
    "#     sa = nk.sampler.MetropolisHamiltonian(hi, ha)\n",
    "    sa = nk.sampler.MetropolisExchange(hi, graph=g, n_chains=batch)\n",
    "    vs = nk.vqs.MCState(sa, ma, n_samples = n_samples_)\n",
    "\n",
    "    op = nk.optimizer.Sgd(learning_rate=eta)\n",
    "    sr = nk.optimizer.SR(diag_shift=0.1, holomorphic=True)\n",
    "\n",
    "    gs = nk.VMC(\n",
    "      hamiltonian=Target,\n",
    "      optimizer=op,\n",
    "      preconditioner=sr,\n",
    "      variational_state=vs)\n",
    "\n",
    "    start = time.time()\n",
    "    gs.run(n_steps_, out='RBM')\n",
    "    end = time.time()\n",
    "    H_Et_squred = vs.expect((ha-Et)@(ha-Et)).mean.real\n",
    "    Energy = vs.expect(ha).mean.real\n",
    "    Variance = calculate_variance(ha, vs)\n",
    "    result = [H_Et_squred, Energy, Variance]\n",
    "    return result\n"
   ]
  },
  {
   "cell_type": "code",
   "execution_count": null,
   "id": "7b686e64",
   "metadata": {},
   "outputs": [],
   "source": [
    "A10 = Rule_Full(eta=0.01, n_steps_=10000)"
   ]
  },
  {
   "cell_type": "code",
   "execution_count": null,
   "id": "b5d9b3f9",
   "metadata": {},
   "outputs": [],
   "source": [
    "def alpha_depen(n_steps, alpha_):\n",
    "  learning_rate = 0.001\n",
    "  ma = nk.models.RBM(alpha=alpha_, param_dtype=complex)\n",
    "  vs = nk.vqs.FullSumState(hi, ma)\n",
    "  op = nk.optimizer.Sgd(learning_rate=learning_rate)\n",
    "  sr = nk.optimizer.SR(diag_shift=0.001, holomorphic=True)\n",
    "    \n",
    "#     ma = nk.models.RBM(alpha=2, param_dtype=complex)\n",
    "#     vs = nk.vqs.FullSumState(hi, ma)\n",
    "#     op = nk.optimizer.Adam(learning_rate=eta)\n",
    "#     sr = nk.optimizer.SR(diag_shift=0.1, holomorphic=True)\n",
    "     \n",
    "  gs = nk.VMC(\n",
    "      hamiltonian=Target,\n",
    "      optimizer=op,\n",
    "      preconditioner=sr,\n",
    "      variational_state=vs)\n",
    "\n",
    "  start = time.time()\n",
    "  gs.run(n_steps, out='RBM')\n",
    "  end = time.time()\n",
    "  data=json.load(open(\"RBM.log\"))\n",
    "  energy = vs.expect(ha).mean.real\n",
    "  variance = vs.expect(ha@ha).mean.real-vs.expect(ha).mean.real**2\n",
    "  print([energy, variance])\n",
    "  return energy, variance;"
   ]
  },
  {
   "cell_type": "code",
   "execution_count": null,
   "id": "588d7f44",
   "metadata": {},
   "outputs": [],
   "source": [
    "e2 , v2 = alpha_depen(30000,2)"
   ]
  },
  {
   "cell_type": "code",
   "execution_count": null,
   "id": "c09c5b47",
   "metadata": {},
   "outputs": [],
   "source": [
    "v2"
   ]
  },
  {
   "cell_type": "code",
   "execution_count": 1,
   "id": "cda480a3",
   "metadata": {},
   "outputs": [
    {
     "name": "stderr",
     "output_type": "stream",
     "text": [
      "An NVIDIA GPU may be present on this machine, but a CUDA-enabled jaxlib is not installed. Falling back to cpu.\n"
     ]
    },
    {
     "ename": "NameError",
     "evalue": "name 'hi' is not defined",
     "output_type": "error",
     "traceback": [
      "\u001b[0;31m---------------------------------------------------------------------------\u001b[0m",
      "\u001b[0;31mNameError\u001b[0m                                 Traceback (most recent call last)",
      "Cell \u001b[0;32mIn[1], line 24\u001b[0m\n\u001b[1;32m     21\u001b[0m sr \u001b[38;5;241m=\u001b[39m nk\u001b[38;5;241m.\u001b[39moptimizer\u001b[38;5;241m.\u001b[39mSR(diag_shift\u001b[38;5;241m=\u001b[39moptax\u001b[38;5;241m.\u001b[39mlinear_schedule(\u001b[38;5;241m0.1\u001b[39m, \u001b[38;5;241m0.01\u001b[39m, \u001b[38;5;241m200\u001b[39m))\n\u001b[1;32m     23\u001b[0m \u001b[38;5;66;03m# Variational state\u001b[39;00m\n\u001b[0;32m---> 24\u001b[0m vs \u001b[38;5;241m=\u001b[39m nk\u001b[38;5;241m.\u001b[39mvqs\u001b[38;5;241m.\u001b[39mFullSumState(hi, ma)\n\u001b[1;32m     26\u001b[0m \u001b[38;5;66;03m# Variational monte carlo driver with a variational state\u001b[39;00m\n\u001b[1;32m     27\u001b[0m gs \u001b[38;5;241m=\u001b[39m nk\u001b[38;5;241m.\u001b[39mVMC(ha, op, variational_state\u001b[38;5;241m=\u001b[39mvs, preconditioner\u001b[38;5;241m=\u001b[39msr)\n",
      "\u001b[0;31mNameError\u001b[0m: name 'hi' is not defined"
     ]
    }
   ],
   "source": []
  },
  {
   "cell_type": "code",
   "execution_count": null,
   "id": "88188c9a",
   "metadata": {},
   "outputs": [],
   "source": []
  }
 ],
 "metadata": {
  "kernelspec": {
   "display_name": "Python 3",
   "language": "python",
   "name": "python3"
  },
  "language_info": {
   "codemirror_mode": {
    "name": "ipython",
    "version": 3
   },
   "file_extension": ".py",
   "mimetype": "text/x-python",
   "name": "python",
   "nbconvert_exporter": "python",
   "pygments_lexer": "ipython3",
   "version": "3.11.5"
  }
 },
 "nbformat": 4,
 "nbformat_minor": 5
}
