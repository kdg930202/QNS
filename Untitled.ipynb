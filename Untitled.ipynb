{
 "cells": [
  {
   "cell_type": "code",
   "execution_count": 3,
   "id": "bd780f46",
   "metadata": {},
   "outputs": [],
   "source": [
    "import netket as nk\n",
    "from numpy.lib.function_base import append\n",
    "from itertools import permutations, combinations\n",
    "from netket.vqs.mc import get_local_kernel_arguments, get_local_kernel\n",
    "import time\n",
    "import matplotlib.pyplot as plt\n",
    "import json\n",
    "import numpy as np\n",
    "from numpy.linalg import eig\n",
    "from flax.core.frozen_dict import FrozenDict\n",
    "import flax\n",
    "from netket.optimizer.qgt import QGTJacobianPyTree\n",
    "\n",
    "\n",
    "from typing import Callable, Tuple\n",
    "from functools import partial\n",
    "\n",
    "import jax\n",
    "from jax import numpy as jnp\n",
    "\n",
    "from netket.stats import statistics as mpi_statistics, mean as mpi_mean, Stats\n",
    "from netket.utils.types import PyTree\n",
    "from netket.operator.spin import sigmax, sigmay,sigmaz\n",
    "\n",
    "import matplotlib.pyplot as plt\n",
    "from tqdm import tqdm\n",
    "################################################################\n",
    "################################################################\n",
    "################################################################\n",
    "###############ED는 sparse matrix가지고 한다 !!!###################\n",
    "from scipy.sparse.linalg import eigsh\n",
    "################################################################\n",
    "################################################################\n",
    "################################################################\n",
    "import os\n",
    "import pandas as pd\n",
    "\n",
    "from alpha_depen import alpha_depen"
   ]
  },
  {
   "cell_type": "code",
   "execution_count": 16,
   "id": "268eeacc",
   "metadata": {},
   "outputs": [],
   "source": [
    "from netket.graph import Chain\n",
    "from netket.models import GCNN\n",
    "\n",
    "# Define a 1d chain\n",
    "L = 20\n",
    "g = nk.graph.Hypercube(length=L, n_dim=1, pbc=True)\n",
    "#g.translation_group\n",
    "#g.point_group\n",
    "#g.rotation_group\n",
    "#g.space_group\n",
    "\n",
    "hi = nk.hilbert.Spin(s=0.5, total_sz=0, N=g.n_nodes)\n",
    "\n",
    "ha = nk.operator.Heisenberg(hilbert=hi, graph=g)\n",
    "\n",
    "Et = np.random.uniform(low=0, high=(L-2), size=None)\n"
   ]
  },
  {
   "cell_type": "code",
   "execution_count": 21,
   "id": "059bf670",
   "metadata": {},
   "outputs": [],
   "source": [
    "E, vec = eigsh(ha.to_sparse(),k=100)"
   ]
  },
  {
   "cell_type": "code",
   "execution_count": 22,
   "id": "34be4a81",
   "metadata": {},
   "outputs": [
    {
     "data": {
      "text/plain": [
       "array([-35.61754612, -34.74576394, -34.21753829, -33.63032594,\n",
       "       -33.63032594, -32.87369434, -32.87369434, -32.29004202,\n",
       "       -32.22561252, -32.22561252, -31.82953378, -31.82953378,\n",
       "       -31.78314776, -31.78314776, -31.20096083, -31.20096083,\n",
       "       -31.17387495, -31.17387495, -31.14646673, -31.05916209,\n",
       "       -30.6523276 , -30.5495082 , -30.5495082 , -30.54736325,\n",
       "       -30.54736325, -30.3619819 , -30.3619819 , -30.22060279,\n",
       "       -30.21618229, -30.21618229, -30.10965697, -30.10965697,\n",
       "       -29.97861151, -29.97861151, -29.91500427, -29.91500427,\n",
       "       -29.91063128, -29.91063128, -29.56713427, -29.56713427,\n",
       "       -29.49907507, -29.49907507, -29.41041608, -29.41041608,\n",
       "       -29.36878277, -29.36878277, -29.34470795, -29.34470795,\n",
       "       -29.30875953, -29.30875953, -29.14565886, -29.14565886,\n",
       "       -29.13285711, -29.13285711, -29.10222401, -29.10222401,\n",
       "       -29.08537735, -29.08537735, -28.94568268, -28.94568268,\n",
       "       -28.86986186, -28.86986186, -28.83097669, -28.79480949,\n",
       "       -28.79480949, -28.77553102, -28.77553102, -28.6227061 ,\n",
       "       -28.6227061 , -28.55242433, -28.55242433, -28.5469545 ,\n",
       "       -28.5469545 , -28.51763999, -28.51763999, -28.4816237 ,\n",
       "       -28.4816237 , -28.45668036, -28.43393851, -28.43393851,\n",
       "       -28.36108276, -28.36108276, -28.3182956 , -28.3182956 ,\n",
       "       -28.23584331, -28.23584331, -28.15526778, -28.15526778,\n",
       "       -28.1256187 , -28.1256187 , -28.05633167, -28.05633167,\n",
       "       -28.02540464, -28.01733309, -28.01733309, -27.91428743,\n",
       "       -27.91428743, -27.91267355, -27.91267355, -27.88583499])"
      ]
     },
     "execution_count": 22,
     "metadata": {},
     "output_type": "execute_result"
    }
   ],
   "source": [
    "E"
   ]
  },
  {
   "cell_type": "code",
   "execution_count": 6,
   "id": "183bd6b3",
   "metadata": {},
   "outputs": [
    {
     "data": {
      "text/plain": [
       "(13.884413492916075, 14.084413492916074)"
      ]
     },
     "execution_count": 6,
     "metadata": {},
     "output_type": "execute_result"
    },
    {
     "data": {
      "image/png": "[encoded data removed]",
      "text/plain": [
       "<Figure size 640x480 with 1 Axes>"
      ]
     },
     "metadata": {},
     "output_type": "display_data"
    }
   ],
   "source": [
    "plt.scatter(np.arange(len(E)),E,s=20)\n",
    "plt.plot([0,len(E)],[Et,Et],'r')\n",
    "plt.ylim([Et-0.1,Et+0.1])"
   ]
  },
  {
   "cell_type": "code",
   "execution_count": 7,
   "id": "e27a3d33",
   "metadata": {},
   "outputs": [],
   "source": [
    "ha_Et = ha-Et\n",
    "HA = ha_Et@ha_Et"
   ]
  },
  {
   "cell_type": "code",
   "execution_count": 9,
   "id": "7e27fdf5",
   "metadata": {},
   "outputs": [
    {
     "name": "stderr",
     "output_type": "stream",
     "text": [
      " 21%|▏| 21433/100000 [1:47:46<6:35:06,  3.31it/s, Energy=4.879-0.002j ± 0.082 [σ\n"
     ]
    },
    {
     "ename": "KeyboardInterrupt",
     "evalue": "",
     "output_type": "error",
     "traceback": [
      "\u001b[0;31m---------------------------------------------------------------------------\u001b[0m",
      "\u001b[0;31mKeyboardInterrupt\u001b[0m                         Traceback (most recent call last)",
      "Cell \u001b[0;32mIn[9], line 3\u001b[0m\n\u001b[1;32m      1\u001b[0m n_steps \u001b[38;5;241m=\u001b[39m \u001b[38;5;241m100000\u001b[39m\n\u001b[1;32m      2\u001b[0m learning_rate \u001b[38;5;241m=\u001b[39m \u001b[38;5;241m0.00001\u001b[39m\n\u001b[0;32m----> 3\u001b[0m e1 , v1 \u001b[38;5;241m=\u001b[39m alpha_depen(learning_rate, n_steps,\u001b[38;5;241m2\u001b[39m, hi, g, HA, Et)\n",
      "File \u001b[0;32m~/Downloads/Dario/alpha_depen.py:68\u001b[0m, in \u001b[0;36malpha_depen\u001b[0;34m(learning_rate, n_steps, alpha_, hi, g, ha, Et)\u001b[0m\n\u001b[1;32m     66\u001b[0m \n\u001b[1;32m     67\u001b[0m   start = time.time()\n\u001b[0;32m---> 68\u001b[0m   gs.run(n_steps, out='RBM')\n\u001b[1;32m     69\u001b[0m   end = time.time()\n\u001b[1;32m     70\u001b[0m \n",
      "File \u001b[0;32m~/anaconda3/lib/python3.11/site-packages/netket/driver/abstract_variational_driver.py:260\u001b[0m, in \u001b[0;36mAbstractVariationalDriver.run\u001b[0;34m(self, n_iter, out, obs, show_progress, save_params_every, write_every, step_size, callback)\u001b[0m\n\u001b[1;32m    257\u001b[0m old_step \u001b[38;5;241m=\u001b[39m \u001b[38;5;28mself\u001b[39m\u001b[38;5;241m.\u001b[39mstep_count\n\u001b[1;32m    258\u001b[0m first_step \u001b[38;5;241m=\u001b[39m \u001b[38;5;28;01mTrue\u001b[39;00m\n\u001b[0;32m--> 260\u001b[0m \u001b[38;5;28;01mfor\u001b[39;00m step \u001b[38;5;129;01min\u001b[39;00m \u001b[38;5;28mself\u001b[39m\u001b[38;5;241m.\u001b[39miter(n_iter, step_size):\n\u001b[1;32m    261\u001b[0m     log_data \u001b[38;5;241m=\u001b[39m \u001b[38;5;28mself\u001b[39m\u001b[38;5;241m.\u001b[39mestimate(obs)\n\u001b[1;32m    262\u001b[0m     \u001b[38;5;28mself\u001b[39m\u001b[38;5;241m.\u001b[39m_log_additional_data(log_data, step)\n",
      "File \u001b[0;32m~/anaconda3/lib/python3.11/site-packages/netket/driver/abstract_variational_driver.py:170\u001b[0m, in \u001b[0;36mAbstractVariationalDriver.iter\u001b[0;34m(self, n_steps, step)\u001b[0m\n\u001b[1;32m    168\u001b[0m \u001b[38;5;28;01mfor\u001b[39;00m _ \u001b[38;5;129;01min\u001b[39;00m \u001b[38;5;28mrange\u001b[39m(\u001b[38;5;241m0\u001b[39m, n_steps, step):\n\u001b[1;32m    169\u001b[0m     \u001b[38;5;28;01mfor\u001b[39;00m i \u001b[38;5;129;01min\u001b[39;00m \u001b[38;5;28mrange\u001b[39m(\u001b[38;5;241m0\u001b[39m, step):\n\u001b[0;32m--> 170\u001b[0m         dp \u001b[38;5;241m=\u001b[39m \u001b[38;5;28mself\u001b[39m\u001b[38;5;241m.\u001b[39m_forward_and_backward()\n\u001b[1;32m    171\u001b[0m         \u001b[38;5;28;01mif\u001b[39;00m i \u001b[38;5;241m==\u001b[39m \u001b[38;5;241m0\u001b[39m:\n\u001b[1;32m    172\u001b[0m             \u001b[38;5;28;01myield\u001b[39;00m \u001b[38;5;28mself\u001b[39m\u001b[38;5;241m.\u001b[39mstep_count\n",
      "File \u001b[0;32m~/anaconda3/lib/python3.11/site-packages/netket/driver/vmc.py:130\u001b[0m, in \u001b[0;36mVMC._forward_and_backward\u001b[0;34m(self)\u001b[0m\n\u001b[1;32m    127\u001b[0m \u001b[38;5;28mself\u001b[39m\u001b[38;5;241m.\u001b[39mstate\u001b[38;5;241m.\u001b[39mreset()\n\u001b[1;32m    129\u001b[0m \u001b[38;5;66;03m# Compute the local energy estimator and average Energy\u001b[39;00m\n\u001b[0;32m--> 130\u001b[0m \u001b[38;5;28mself\u001b[39m\u001b[38;5;241m.\u001b[39m_loss_stats, \u001b[38;5;28mself\u001b[39m\u001b[38;5;241m.\u001b[39m_loss_grad \u001b[38;5;241m=\u001b[39m \u001b[38;5;28mself\u001b[39m\u001b[38;5;241m.\u001b[39mstate\u001b[38;5;241m.\u001b[39mexpect_and_grad(\u001b[38;5;28mself\u001b[39m\u001b[38;5;241m.\u001b[39m_ham)\n\u001b[1;32m    132\u001b[0m \u001b[38;5;66;03m# if it's the identity it does\u001b[39;00m\n\u001b[1;32m    133\u001b[0m \u001b[38;5;66;03m# self._dp = self._loss_grad\u001b[39;00m\n\u001b[1;32m    134\u001b[0m \u001b[38;5;28mself\u001b[39m\u001b[38;5;241m.\u001b[39m_dp \u001b[38;5;241m=\u001b[39m \u001b[38;5;28mself\u001b[39m\u001b[38;5;241m.\u001b[39mpreconditioner(\u001b[38;5;28mself\u001b[39m\u001b[38;5;241m.\u001b[39mstate, \u001b[38;5;28mself\u001b[39m\u001b[38;5;241m.\u001b[39m_loss_grad, \u001b[38;5;28mself\u001b[39m\u001b[38;5;241m.\u001b[39mstep_count)\n",
      "File \u001b[0;32m~/anaconda3/lib/python3.11/site-packages/netket/vqs/mc/mc_state/state.py:619\u001b[0m, in \u001b[0;36mMCState.expect_and_grad\u001b[0;34m(self, O, mutable, **kwargs)\u001b[0m\n\u001b[1;32m    616\u001b[0m \u001b[38;5;28;01mif\u001b[39;00m mutable \u001b[38;5;129;01mis\u001b[39;00m \u001b[38;5;28;01mNone\u001b[39;00m:\n\u001b[1;32m    617\u001b[0m     mutable \u001b[38;5;241m=\u001b[39m \u001b[38;5;28mself\u001b[39m\u001b[38;5;241m.\u001b[39mmutable\n\u001b[0;32m--> 619\u001b[0m \u001b[38;5;28;01mreturn\u001b[39;00m expect_and_grad(\n\u001b[1;32m    620\u001b[0m     \u001b[38;5;28mself\u001b[39m,\n\u001b[1;32m    621\u001b[0m     O,\n\u001b[1;32m    622\u001b[0m     \u001b[38;5;28mself\u001b[39m\u001b[38;5;241m.\u001b[39mchunk_size,\n\u001b[1;32m    623\u001b[0m     mutable\u001b[38;5;241m=\u001b[39mmutable,\n\u001b[1;32m    624\u001b[0m     \u001b[38;5;241m*\u001b[39m\u001b[38;5;241m*\u001b[39mkwargs,\n\u001b[1;32m    625\u001b[0m )\n",
      "    \u001b[0;31m[... skipping hidden 1 frame]\u001b[0m\n",
      "File \u001b[0;32m~/anaconda3/lib/python3.11/site-packages/netket/vqs/mc/mc_state/expect_grad.py:58\u001b[0m, in \u001b[0;36mexpect_and_grad_default_formula\u001b[0;34m(vstate, Ô, chunk_size, mutable, use_covariance, *args)\u001b[0m\n\u001b[1;32m     51\u001b[0m     use_covariance \u001b[38;5;241m=\u001b[39m Ô\u001b[38;5;241m.\u001b[39mis_hermitian\n\u001b[1;32m     53\u001b[0m \u001b[38;5;28;01mif\u001b[39;00m use_covariance:\n\u001b[1;32m     54\u001b[0m     \u001b[38;5;66;03m# Implementation of expect_and_grad for `use_covariance == True` (due to the Literal[True]\u001b[39;00m\n\u001b[1;32m     55\u001b[0m     \u001b[38;5;66;03m# type in the signature).` This case is equivalent to the composition of the\u001b[39;00m\n\u001b[1;32m     56\u001b[0m     \u001b[38;5;66;03m# `expect_and_forces` and `force_to_grad` functions.\u001b[39;00m\n\u001b[1;32m     57\u001b[0m     \u001b[38;5;66;03m# return expect_and_grad_from_covariance(vstate, Ô, *args, mutable=mutable)\u001b[39;00m\n\u001b[0;32m---> 58\u001b[0m     Ō, Ō_grad \u001b[38;5;241m=\u001b[39m expect_and_forces(vstate, Ô, chunk_size, \u001b[38;5;241m*\u001b[39margs, mutable\u001b[38;5;241m=\u001b[39mmutable)\n\u001b[1;32m     59\u001b[0m     Ō_grad \u001b[38;5;241m=\u001b[39m force_to_grad(Ō_grad, vstate\u001b[38;5;241m.\u001b[39mparameters)\n\u001b[1;32m     60\u001b[0m     \u001b[38;5;28;01mreturn\u001b[39;00m Ō, Ō_grad\n",
      "    \u001b[0;31m[... skipping hidden 1 frame]\u001b[0m\n",
      "File \u001b[0;32m~/anaconda3/lib/python3.11/site-packages/netket/vqs/mc/mc_state/expect_forces.py:48\u001b[0m, in \u001b[0;36mexpect_and_forces\u001b[0;34m(vstate, Ô, chunk_size, mutable)\u001b[0m\n\u001b[1;32m     40\u001b[0m \u001b[38;5;129m@dispatch\u001b[39m\n\u001b[1;32m     41\u001b[0m \u001b[38;5;28;01mdef\u001b[39;00m \u001b[38;5;21mexpect_and_forces\u001b[39m(  \u001b[38;5;66;03m# noqa: F811\u001b[39;00m\n\u001b[1;32m     42\u001b[0m     vstate: MCState,\n\u001b[0;32m   (...)\u001b[0m\n\u001b[1;32m     46\u001b[0m     mutable: CollectionFilter \u001b[38;5;241m=\u001b[39m \u001b[38;5;28;01mFalse\u001b[39;00m,\n\u001b[1;32m     47\u001b[0m ) \u001b[38;5;241m-\u001b[39m\u001b[38;5;241m>\u001b[39m \u001b[38;5;28mtuple\u001b[39m[Stats, PyTree]:\n\u001b[0;32m---> 48\u001b[0m     σ, args \u001b[38;5;241m=\u001b[39m get_local_kernel_arguments(vstate, Ô)\n\u001b[1;32m     50\u001b[0m     local_estimator_fun \u001b[38;5;241m=\u001b[39m get_local_kernel(vstate, Ô)\n\u001b[1;32m     52\u001b[0m     Ō, Ō_grad, new_model_state \u001b[38;5;241m=\u001b[39m forces_expect_hermitian(\n\u001b[1;32m     53\u001b[0m         local_estimator_fun,\n\u001b[1;32m     54\u001b[0m         vstate\u001b[38;5;241m.\u001b[39m_apply_fun,\n\u001b[0;32m   (...)\u001b[0m\n\u001b[1;32m     59\u001b[0m         args,\n\u001b[1;32m     60\u001b[0m     )\n",
      "    \u001b[0;31m[... skipping hidden 1 frame]\u001b[0m\n",
      "File \u001b[0;32m~/anaconda3/lib/python3.11/site-packages/netket/vqs/mc/mc_state/expect.py:61\u001b[0m, in \u001b[0;36mget_local_kernel_arguments\u001b[0;34m(vstate, Ô)\u001b[0m\n\u001b[1;32m     57\u001b[0m \u001b[38;5;129m@dispatch\u001b[39m\n\u001b[1;32m     58\u001b[0m \u001b[38;5;28;01mdef\u001b[39;00m \u001b[38;5;21mget_local_kernel_arguments\u001b[39m(vstate: MCState, Ô: DiscreteOperator):  \u001b[38;5;66;03m# noqa: F811\u001b[39;00m\n\u001b[1;32m     59\u001b[0m     check_hilbert(vstate\u001b[38;5;241m.\u001b[39mhilbert, Ô\u001b[38;5;241m.\u001b[39mhilbert)\n\u001b[0;32m---> 61\u001b[0m     σ \u001b[38;5;241m=\u001b[39m vstate\u001b[38;5;241m.\u001b[39msamples\n\u001b[1;32m     62\u001b[0m     σp, mels \u001b[38;5;241m=\u001b[39m Ô\u001b[38;5;241m.\u001b[39mget_conn_padded(σ)\n\u001b[1;32m     63\u001b[0m     \u001b[38;5;28;01mreturn\u001b[39;00m σ, (σp, mels)\n",
      "File \u001b[0;32m~/anaconda3/lib/python3.11/site-packages/netket/vqs/mc/mc_state/state.py:521\u001b[0m, in \u001b[0;36mMCState.samples\u001b[0;34m(self)\u001b[0m\n\u001b[1;32m    510\u001b[0m \u001b[38;5;250m\u001b[39m\u001b[38;5;124;03m\"\"\"\u001b[39;00m\n\u001b[1;32m    511\u001b[0m \u001b[38;5;124;03mReturns the set of cached samples.\u001b[39;00m\n\u001b[1;32m    512\u001b[0m \n\u001b[0;32m   (...)\u001b[0m\n\u001b[1;32m    518\u001b[0m \u001b[38;5;124;03m:meth:`~MCState.reset` or :meth:`~MCState.sample`.\u001b[39;00m\n\u001b[1;32m    519\u001b[0m \u001b[38;5;124;03m\"\"\"\u001b[39;00m\n\u001b[1;32m    520\u001b[0m \u001b[38;5;28;01mif\u001b[39;00m \u001b[38;5;28mself\u001b[39m\u001b[38;5;241m.\u001b[39m_samples \u001b[38;5;129;01mis\u001b[39;00m \u001b[38;5;28;01mNone\u001b[39;00m:\n\u001b[0;32m--> 521\u001b[0m     \u001b[38;5;28mself\u001b[39m\u001b[38;5;241m.\u001b[39msample()\n\u001b[1;32m    522\u001b[0m \u001b[38;5;28;01mreturn\u001b[39;00m \u001b[38;5;28mself\u001b[39m\u001b[38;5;241m.\u001b[39m_samples\n",
      "File \u001b[0;32m~/anaconda3/lib/python3.11/site-packages/netket/vqs/mc/mc_state/state.py:493\u001b[0m, in \u001b[0;36mMCState.sample\u001b[0;34m(self, chain_length, n_samples, n_discard_per_chain)\u001b[0m\n\u001b[1;32m    488\u001b[0m \u001b[38;5;28mself\u001b[39m\u001b[38;5;241m.\u001b[39msampler_state \u001b[38;5;241m=\u001b[39m \u001b[38;5;28mself\u001b[39m\u001b[38;5;241m.\u001b[39msampler\u001b[38;5;241m.\u001b[39mreset(\n\u001b[1;32m    489\u001b[0m     \u001b[38;5;28mself\u001b[39m\u001b[38;5;241m.\u001b[39mmodel, \u001b[38;5;28mself\u001b[39m\u001b[38;5;241m.\u001b[39mvariables, \u001b[38;5;28mself\u001b[39m\u001b[38;5;241m.\u001b[39msampler_state\n\u001b[1;32m    490\u001b[0m )\n\u001b[1;32m    492\u001b[0m \u001b[38;5;28;01mif\u001b[39;00m \u001b[38;5;28mself\u001b[39m\u001b[38;5;241m.\u001b[39mn_discard_per_chain \u001b[38;5;241m>\u001b[39m \u001b[38;5;241m0\u001b[39m:\n\u001b[0;32m--> 493\u001b[0m     _, \u001b[38;5;28mself\u001b[39m\u001b[38;5;241m.\u001b[39msampler_state \u001b[38;5;241m=\u001b[39m \u001b[38;5;28mself\u001b[39m\u001b[38;5;241m.\u001b[39msampler\u001b[38;5;241m.\u001b[39msample(\n\u001b[1;32m    494\u001b[0m         \u001b[38;5;28mself\u001b[39m\u001b[38;5;241m.\u001b[39mmodel,\n\u001b[1;32m    495\u001b[0m         \u001b[38;5;28mself\u001b[39m\u001b[38;5;241m.\u001b[39mvariables,\n\u001b[1;32m    496\u001b[0m         state\u001b[38;5;241m=\u001b[39m\u001b[38;5;28mself\u001b[39m\u001b[38;5;241m.\u001b[39msampler_state,\n\u001b[1;32m    497\u001b[0m         chain_length\u001b[38;5;241m=\u001b[39mn_discard_per_chain,\n\u001b[1;32m    498\u001b[0m     )\n\u001b[1;32m    500\u001b[0m \u001b[38;5;28mself\u001b[39m\u001b[38;5;241m.\u001b[39m_samples, \u001b[38;5;28mself\u001b[39m\u001b[38;5;241m.\u001b[39msampler_state \u001b[38;5;241m=\u001b[39m \u001b[38;5;28mself\u001b[39m\u001b[38;5;241m.\u001b[39msampler\u001b[38;5;241m.\u001b[39msample(\n\u001b[1;32m    501\u001b[0m     \u001b[38;5;28mself\u001b[39m\u001b[38;5;241m.\u001b[39mmodel,\n\u001b[1;32m    502\u001b[0m     \u001b[38;5;28mself\u001b[39m\u001b[38;5;241m.\u001b[39mvariables,\n\u001b[1;32m    503\u001b[0m     state\u001b[38;5;241m=\u001b[39m\u001b[38;5;28mself\u001b[39m\u001b[38;5;241m.\u001b[39msampler_state,\n\u001b[1;32m    504\u001b[0m     chain_length\u001b[38;5;241m=\u001b[39mchain_length,\n\u001b[1;32m    505\u001b[0m )\n\u001b[1;32m    506\u001b[0m \u001b[38;5;28;01mreturn\u001b[39;00m \u001b[38;5;28mself\u001b[39m\u001b[38;5;241m.\u001b[39m_samples\n",
      "File \u001b[0;32m~/anaconda3/lib/python3.11/site-packages/netket/sampler/base.py:274\u001b[0m, in \u001b[0;36mSampler.sample\u001b[0;34m(sampler, machine, parameters, state, chain_length)\u001b[0m\n\u001b[1;32m    271\u001b[0m \u001b[38;5;28;01mif\u001b[39;00m state \u001b[38;5;129;01mis\u001b[39;00m \u001b[38;5;28;01mNone\u001b[39;00m:\n\u001b[1;32m    272\u001b[0m     state \u001b[38;5;241m=\u001b[39m sampler\u001b[38;5;241m.\u001b[39mreset(machine, parameters)\n\u001b[0;32m--> 274\u001b[0m \u001b[38;5;28;01mreturn\u001b[39;00m sampler\u001b[38;5;241m.\u001b[39m_sample_chain(\n\u001b[1;32m    275\u001b[0m     wrap_afun(machine), parameters, state, chain_length\n\u001b[1;32m    276\u001b[0m )\n",
      "File \u001b[0;32m~/anaconda3/lib/python3.11/site-packages/netket/utils/struct/dataclass.py:448\u001b[0m, in \u001b[0;36mdataclass.<locals>.clz_from_iterable\u001b[0;34m(meta, data)\u001b[0m\n\u001b[1;32m    445\u001b[0m     data \u001b[38;5;241m=\u001b[39m \u001b[38;5;28mtuple\u001b[39m(\u001b[38;5;28mgetattr\u001b[39m(x, name) \u001b[38;5;28;01mfor\u001b[39;00m name \u001b[38;5;129;01min\u001b[39;00m data_fields)\n\u001b[1;32m    446\u001b[0m     \u001b[38;5;28;01mreturn\u001b[39;00m data, meta\n\u001b[0;32m--> 448\u001b[0m \u001b[38;5;28;01mdef\u001b[39;00m \u001b[38;5;21mclz_from_iterable\u001b[39m(meta, data):\n\u001b[1;32m    449\u001b[0m     meta_args \u001b[38;5;241m=\u001b[39m \u001b[38;5;28mtuple\u001b[39m(\u001b[38;5;28mzip\u001b[39m(meta_fields, meta))\n\u001b[1;32m    450\u001b[0m     data_args \u001b[38;5;241m=\u001b[39m \u001b[38;5;28mtuple\u001b[39m(\u001b[38;5;28mzip\u001b[39m(data_fields, data))\n",
      "\u001b[0;31mKeyboardInterrupt\u001b[0m: "
     ]
    }
   ],
   "source": [
    "n_steps = 100000\n",
    "learning_rate = 0.00001\n",
    "e1 , v1 = alpha_depen(learning_rate, n_steps,2, hi, g, HA, Et)"
   ]
  },
  {
   "cell_type": "code",
   "execution_count": null,
   "id": "78931dc4",
   "metadata": {},
   "outputs": [],
   "source": []
  }
 ],
 "metadata": {
  "kernelspec": {
   "display_name": "Python 3",
   "language": "python",
   "name": "python3"
  },
  "language_info": {
   "codemirror_mode": {
    "name": "ipython",
    "version": 3
   },
   "file_extension": ".py",
   "mimetype": "text/x-python",
   "name": "python",
   "nbconvert_exporter": "python",
   "pygments_lexer": "ipython3",
   "version": "3.11.5"
  }
 },
 "nbformat": 4,
 "nbformat_minor": 5
}
