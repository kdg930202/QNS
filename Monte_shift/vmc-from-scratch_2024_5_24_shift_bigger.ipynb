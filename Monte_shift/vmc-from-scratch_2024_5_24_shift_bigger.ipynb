{
 "cells": [
  {
   "cell_type": "code",
   "execution_count": 79,
   "metadata": {
    "tags": []
   },
   "outputs": [],
   "source": [
    "import netket\n",
    "from flax.core.scope import CollectionFilter\n",
    "from netket.utils.types import PyTree\n",
    "from netket.operator import Squared\n",
    "from functools import partial, lru_cache\n",
    "from typing import Callable, Optional\n",
    "\n",
    "import jax\n",
    "from jax import numpy as jnp\n",
    "from flax.core.scope import CollectionFilter, DenyList  # noqa: F401\n",
    "\n",
    "import netket as nk\n",
    "from netket import jax as nkjax\n",
    "from netket.operator import DiscreteOperator, Squared\n",
    "from netket.stats import Stats\n",
    "from netket.utils.types import PyTree\n",
    "from netket.utils.dispatch import dispatch\n",
    "\n",
    "# from nektet.vqs import _ex\n",
    "from netket.vqs import expect_and_grad, expect_and_forces\n",
    "from netket.vqs.mc.common import force_to_grad, get_local_kernel, get_local_kernel_arguments\n",
    "from netket.stats import Stats\n",
    "import time\n",
    "import json\n",
    "import matplotlib.pyplot as plt\n",
    "import numpy as np\n",
    "from netket.operator.spin import sigmax, sigmay,sigmaz\n",
    "from netket.stats import Stats, statistics\n",
    "\n",
    "from functools import partial\n",
    "from typing import Callable, Optional\n",
    "\n",
    "import jax\n",
    "from jax import numpy as jnp\n",
    "from flax.core.scope import CollectionFilter, DenyList  # noqa: F401\n",
    "\n",
    "from netket import jax as nkjax\n",
    "from netket import config\n",
    "from netket.stats import Stats\n",
    "from netket.utils import mpi, dispatch\n",
    "from netket.utils.types import PyTree\n",
    "\n",
    "from netket.operator import (\n",
    "    AbstractOperator,\n",
    "    Squared,\n",
    ")\n",
    "\n",
    "from netket.vqs import expect_and_grad, expect_and_forces\n",
    "from netket.vqs import MCState"
   ]
  },
  {
   "cell_type": "code",
   "execution_count": 80,
   "metadata": {
    "tags": []
   },
   "outputs": [],
   "source": [
    "# Define the Hilbert space based on this graph\n",
    "# We impose to have a fixed total magnetization of zero\n",
    "# Define a 1d chain\n",
    "L = 6\n",
    "dis = 1\n",
    "g = nk.graph.Hypercube(length=L, n_dim=1, pbc=True)\n",
    "hi = nk.hilbert.Spin(s=0.5, total_sz=0, N=g.n_nodes)\n",
    "# calling the Heisenberg Hamiltonian\n",
    "ha = nk.operator.Heisenberg(hilbert=hi, graph=g)\n",
    "# ha = nk.operator.Heisenberg(hilbert=hi, graph=g)\n",
    "b=dis\n",
    "a=-dis\n",
    "Gamma = (b-a) * np.random.random_sample(L) + a\n",
    "\n",
    "################################################################################\n",
    "################################################################################\n",
    "################################################################################\n",
    "#이렇게 정의하는게 더 빨랑\n",
    "ha = sum([ sigmax(hi,i)*sigmax(hi,(i+1)%L)\n",
    "         + sigmay(hi,i)*sigmay(hi,(i+1)%L)\n",
    "         + sigmaz(hi,i)*sigmaz(hi,(i+1)%L)\n",
    "           for i in range(L)])\n",
    "################################################################################\n",
    "################################################################################\n",
    "################################################################################\n",
    "# ha = ha + sum([Gamma[i]*sigmaz(hi,i) for i in range(L)])"
   ]
  },
  {
   "cell_type": "code",
   "execution_count": 81,
   "metadata": {},
   "outputs": [
    {
     "name": "stdout",
     "output_type": "stream",
     "text": [
      "1.983766535960823\n"
     ]
    }
   ],
   "source": [
    "Et = np.random.uniform(low=0, high=L, size=None)\n",
    "print(Et)\n",
    "ha_Et_squ = (ha-Et)@(ha-Et)\n",
    "ha_Et = ha-Et\n",
    "\n",
    "\n",
    "hamiltonian_jax = ha.to_pauli_strings().to_jax_operator()\n",
    "hamiltonian_sparse = ha.to_sparse()\n",
    "hamiltonian_jax_sparse = hamiltonian_jax.to_sparse()\n",
    "\n",
    "hamiltonian_Et_jax = ha_Et.to_pauli_strings().to_jax_operator()\n",
    "hamiltonian_Et_sparse = ha_Et.to_sparse()\n",
    "hamiltonian_Et_jax_sparse = hamiltonian_Et_jax.to_sparse()\n",
    "\n",
    "hamiltonian_Et_squ_jax = ha_Et_squ.to_pauli_strings().to_jax_operator()\n",
    "hamiltonian_Et_squ_sparse = ha_Et_squ.to_sparse()\n",
    "hamiltonian_Et_squ_jax_sparse = hamiltonian_Et_squ_jax.to_sparse()\n",
    "\n",
    "model = nk.models.RBM(alpha=2, param_dtype=complex)\n",
    "key = jax.random.key(0)\n",
    "\n",
    "parameters = model.init(key, np.random.rand(hi.size))"
   ]
  },
  {
   "cell_type": "code",
   "execution_count": 82,
   "metadata": {},
   "outputs": [
    {
     "data": {
      "text/plain": [
       "[<matplotlib.lines.Line2D at 0x7f9af0830990>]"
      ]
     },
     "execution_count": 82,
     "metadata": {},
     "output_type": "execute_result"
    },
    {
     "data": {
      "image/png": "[encoded data removed]",
      "text/plain": [
       "<Figure size 640x480 with 1 Axes>"
      ]
     },
     "metadata": {},
     "output_type": "display_data"
    }
   ],
   "source": [
    "E, vec = np.linalg.eigh(ha.to_dense())\n",
    "plt.scatter(range(len(E)),E)\n",
    "plt.plot([0,len(E)],[Et,Et],'r')"
   ]
  },
  {
   "cell_type": "code",
   "execution_count": 83,
   "metadata": {},
   "outputs": [
    {
     "data": {
      "text/plain": [
       "<matplotlib.collections.PathCollection at 0x7f9b108ba190>"
      ]
     },
     "execution_count": 83,
     "metadata": {},
     "output_type": "execute_result"
    },
    {
     "data": {
      "image/png": "[encoded data removed]",
      "text/plain": [
       "<Figure size 640x480 with 1 Axes>"
      ]
     },
     "metadata": {},
     "output_type": "display_data"
    }
   ],
   "source": [
    "E, vec = np.linalg.eigh(ha_Et_squ.to_dense())\n",
    "plt.scatter(range(len(E)),E)"
   ]
  },
  {
   "cell_type": "code",
   "execution_count": 84,
   "metadata": {
    "tags": []
   },
   "outputs": [],
   "source": [
    "def to_array(model, parameters):\n",
    "    # begin by generating all configurations in the hilbert space.\n",
    "    # all_States returns a batch of configurations that is (hi.n_states, N) large.\n",
    "    all_configurations = hi.all_states()\n",
    "\n",
    "    # now evaluate the model, and convert to a normalised wavefunction.\n",
    "    logpsi = model.apply(parameters, all_configurations)\n",
    "    psi = jnp.exp(logpsi)\n",
    "    psi = psi / jnp.linalg.norm(psi)\n",
    "    return psi"
   ]
  },
  {
   "cell_type": "markdown",
   "metadata": {},
   "source": [
    "### 3.3 Energy\n",
    "Now, using that function, let's build another one that computes the energy of the mean field state for the given parameters! \n",
    "To do that, you can for example convert the hamiltonian to a sparse format and compute the energy"
   ]
  },
  {
   "cell_type": "code",
   "execution_count": 85,
   "metadata": {
    "tags": []
   },
   "outputs": [],
   "source": [
    "def compute_energy(model, parameters, ham):\n",
    "    psi = to_array(model, parameters)\n",
    "    return psi.conj().T@(ham@psi)"
   ]
  },
  {
   "cell_type": "code",
   "execution_count": 86,
   "metadata": {},
   "outputs": [],
   "source": [
    "def compute_variance(model, parameters, ham):\n",
    "    psi = to_array(model, parameters)\n",
    "    return psi.conj().T@(ham@ham@psi) - (psi.conj().T@(ham@psi))**2"
   ]
  },
  {
   "cell_type": "markdown",
   "metadata": {},
   "source": [
    "## 4. Monte Carlo complications "
   ]
  },
  {
   "cell_type": "markdown",
   "metadata": {},
   "source": [
    "Until now we did everything by summing over the whole hilbert space, but for larger problems that won't be possible. So let's look into MC sampling."
   ]
  },
  {
   "cell_type": "code",
   "execution_count": 88,
   "metadata": {},
   "outputs": [],
   "source": [
    "def compute_local_energies(model, parameters, hamiltonian_jax, sigma):\n",
    "    eta, H_sigmaeta = hamiltonian_jax.get_conn_padded(sigma)\n",
    "    \n",
    "    logpsi_sigma = model.apply(parameters, sigma)\n",
    "    logpsi_eta = model.apply(parameters, eta)\n",
    "    logpsi_sigma = jnp.expand_dims(logpsi_sigma, -1) \n",
    "    \n",
    "    res = jnp.sum(H_sigmaeta * jnp.exp(logpsi_eta - logpsi_sigma), axis=-1)\n",
    "    \n",
    "    return res\n"
   ]
  },
  {
   "cell_type": "markdown",
   "metadata": {
    "tags": []
   },
   "source": [
    "### 4.3 Sampling the energy\n",
    "\n",
    "So now write a function that computes the energy and estimates its error. I remind you that the error is given by \n",
    "\n",
    "$$\n",
    "    \\epsilon_E = \\sqrt{\\frac{\\mathbb{V}\\text{ar}(E_\\text{loc})}{N_\\text{samples}}}\n",
    "$$"
   ]
  },
  {
   "cell_type": "code",
   "execution_count": 89,
   "metadata": {
    "tags": []
   },
   "outputs": [],
   "source": [
    "@partial(jax.jit, static_argnames='model')\n",
    "def estimate_energy(model, parameters, hamiltonian_jax, sigma):\n",
    "    E_loc = compute_local_energies(model, parameters, hamiltonian_jax, sigma)\n",
    "    \n",
    "    E_average = jnp.mean(E_loc)\n",
    "    E_variance = jnp.var(E_loc)\n",
    "    E_error = jnp.sqrt(E_variance / E_loc.size)\n",
    "    \n",
    "    # we return a netket Stats object that wraps all statistical information related to this mean value.\n",
    "    return nk.stats.Stats(mean=E_average, error_of_mean=E_error, variance=E_variance)\n"
   ]
  },
  {
   "cell_type": "markdown",
   "metadata": {
    "tags": []
   },
   "source": [
    "### 4.4 Sampling the gradient of the energy \n",
    "\n",
    "We have seen during the class that the gradient of the energy can be estimated according to the formula\n",
    "\n",
    "$$\n",
    "    \\nabla_k E = \\mathbb{E}_{\\sigma\\sim|\\psi(\\sigma)|^2} \\left[ (\\nabla_k \\log\\psi(\\sigma))^\\star \\left( E_\\text{loc}(\\sigma) - \\langle E \\rangle\\right)\\right] \\approx \\frac{1}{N_s}\\sum_i^{N_s} (\\nabla_k \\log\\psi(\\sigma_i))^\\star \\left( E_\\text{loc}(\\sigma_i) - \\langle E \\rangle\\right)\n",
    "$$\n",
    "\n",
    "Where $\\langle E \\rangle$ can be estimated as $\\langle E \\rangle \\approx \\frac{1}{N_s}\\sum_i E_\\text{loc}(\\sigma_i)$\n",
    "\n",
    "Now, for a second, think of $\\nabla_k \\log\\psi(\\sigma_i)$ as the _JACOBIAN_ of the function $\\log\\psi_\\sigma : \\mathbb{R}^{N_\\text{pars}} \\rightarrow \\mathbb{R}^{N_\\text{samples}}$, and think for a moment of $E_\\text{loc}(\\sigma_i)$ as a vector of size $\\mathbb{R}^{N_\\text{samples}}$"
   ]
  },
  {
   "cell_type": "markdown",
   "metadata": {},
   "source": [
    "Now implement a function that computes the jacobian-vector product in order to estimate the gradient of the energy. You can either do this vector-Jacobian-transpose product manually by using `jax.jacrev` and `jax.tree.map`, but you can also have a look at `jax.vjp` which does it automatically for you."
   ]
  },
  {
   "cell_type": "code",
   "execution_count": 90,
   "metadata": {},
   "outputs": [],
   "source": [
    "def add(x,y):\n",
    "    return x+y"
   ]
  },
  {
   "cell_type": "code",
   "execution_count": 122,
   "metadata": {},
   "outputs": [],
   "source": [
    "@partial(jax.jit, static_argnames='model')\n",
    "def estimate_energy_and_gradient(model, parameters, sigma):\n",
    "    # reshape the samples to a vector of samples with no extra batch dimensions\n",
    "    sigma = sigma.reshape(-1, sigma.shape[-1])\n",
    "    \n",
    "    E_loc_ha_Et_squ = compute_local_energies(model, parameters, hamiltonian_Et_squ_jax, sigma)\n",
    "    E_loc_ha_Et = compute_local_energies(model, parameters, hamiltonian_Et_jax, sigma)\n",
    "    \n",
    "    # compute the energy as well\n",
    "    E_average = jnp.mean(E_loc_ha_Et_squ)\n",
    "    E_average_ha_Et = jnp.mean(E_loc_ha_Et)\n",
    "\n",
    "\n",
    "    # comptue the gradient ...\n",
    "    # first define the function to be differentiated\n",
    "    logpsi_sigma_fun = lambda pars : model.apply(pars, sigma)\n",
    "\n",
    "    # use jacrev with jax.tree.map, or even better, jax.vjp\n",
    "    _, vjpfun = jax.vjp(logpsi_sigma_fun, parameters)\n",
    "    E_grad1 = vjpfun((E_loc_ha_Et_squ - E_average)/E_loc_ha_Et_squ.size)\n",
    "    E_grad2 = vjpfun(-2*(E_loc_ha_Et - 2*E_average_ha_Et)/E_loc_ha_Et.size)\n",
    "\n",
    "    E_grad = jax.tree.map(add, E_grad1, E_grad2)\n",
    "    # E_grad = E_grad1\n",
    "\n",
    "    return E_grad[0]"
   ]
  },
  {
   "cell_type": "markdown",
   "metadata": {
    "tags": []
   },
   "source": [
    "### 4.5: Let's get down to business\n",
    "\n",
    "Now let's wrap everything up and let's use this code to compute the ground state with an SGD optimisation using the mean field and jastrow ansatz"
   ]
  },
  {
   "cell_type": "code",
   "execution_count": 123,
   "metadata": {
    "tags": []
   },
   "outputs": [
    {
     "name": "stderr",
     "output_type": "stream",
     "text": [
      "100%|█████████████████████████████████████| 50000/50000 [08:47<00:00, 94.75it/s]\n"
     ]
    }
   ],
   "source": [
    "from tqdm import tqdm\n",
    "import optax\n",
    "\n",
    "# settings \n",
    "# model = nk.models.RBM(alpha=2, param_dtype=complex)\n",
    "model = nk.models.RBM(alpha=2, param_dtype=complex)\n",
    "sampler = nk.sampler.MetropolisSampler(\n",
    "                        hi,                            # the hilbert space to be sampled\n",
    "                        nk.sampler.rules.ExchangeRule(graph=g),  # the transition rule\n",
    "                        # nk.sampler.rules.LocalRule(),\n",
    "                        n_chains = 8)\n",
    "n_iters = 50000\n",
    "chain_length = 256//sampler.n_chains\n",
    "\n",
    "# initialise\n",
    "parameters = model.init(jax.random.key(1), np.ones((hi.size, )))\n",
    "sampler_state = sampler.init_state(model, parameters, seed=0)\n",
    "\n",
    "optimizer = optax.adam(learning_rate=0.001)\n",
    "optimizer_state = optimizer.init(parameters)\n",
    "\n",
    "\n",
    "# logging: you can (if you want) use netket loggers to avoid writing a lot of boilerplate...\n",
    "# they accumulate data you throw at them\n",
    "logger = nk.logging.RuntimeLog()\n",
    "Eenergy = []\n",
    "for i in tqdm(range(n_iters)):\n",
    "    # sample\n",
    "    sampler_state = sampler.reset(model, parameters, state=sampler_state)\n",
    "    samples, sampler_state = sampler.sample(model, parameters, state=sampler_state, chain_length=chain_length)\n",
    "    \n",
    "    # compute energy and gradient\n",
    "    E_grad = estimate_energy_and_gradient(model, parameters, samples)\n",
    "    updates, optimizer_state = optimizer.update(E_grad, optimizer_state, parameters)\n",
    "    parameters = optax.apply_updates(parameters, updates)\n"
   ]
  },
  {
   "cell_type": "code",
   "execution_count": 124,
   "metadata": {},
   "outputs": [],
   "source": [
    "# plt.plot(Eenergy)"
   ]
  },
  {
   "cell_type": "code",
   "execution_count": 125,
   "metadata": {},
   "outputs": [
    {
     "data": {
      "text/plain": [
       "Array([ 0.18625166+4.16607093e-04j,  0.18524494+1.70963044e-04j,\n",
       "        0.10799756-1.83390050e-01j, -0.14525506-2.67477330e-01j,\n",
       "        0.10576942+1.82603308e-01j,  0.18994726-3.41471906e-04j,\n",
       "        0.10806853-1.83697951e-01j,  0.1888719 -5.36637346e-04j,\n",
       "        0.10804299-1.84088436e-01j, -0.1423126 -2.69863665e-01j,\n",
       "       -0.15153414+2.45555423e-01j,  0.10250426+1.82217452e-01j,\n",
       "        0.18746633+5.27126328e-04j,  0.10143265+1.79828204e-01j,\n",
       "        0.18646638+3.12278348e-04j,  0.11012083-1.84232014e-01j,\n",
       "       -0.15198821+2.57786932e-01j,  0.10720717+1.82824538e-01j,\n",
       "        0.19113131-2.59245884e-04j,  0.19006291-4.22540004e-04j],      dtype=complex128)"
      ]
     },
     "execution_count": 125,
     "metadata": {},
     "output_type": "execute_result"
    }
   ],
   "source": [
    "to_array(model, parameters)"
   ]
  },
  {
   "cell_type": "code",
   "execution_count": 126,
   "metadata": {},
   "outputs": [
    {
     "name": "stdout",
     "output_type": "stream",
     "text": [
      "Energy :  3.584798521135509\n",
      "Variance :  2.903194879410309\n"
     ]
    }
   ],
   "source": [
    "# to plot the data, access it!logger.data['Energy']['Mean'].real\n",
    "# plt.plot(logger.data['Energy']['iters'], logger.data['Energy']['Mean'].real)\n",
    "print('Energy : ',compute_energy(model, parameters, ha).real)\n",
    "print('Variance : ',compute_variance(model, parameters, ha).real)"
   ]
  },
  {
   "cell_type": "markdown",
   "metadata": {},
   "source": [
    "### 5.2: Try better optimisers\n",
    "\n",
    "There is a library, [optax](https://optax.readthedocs.io/en/latest/), that implements several optimisers. \n",
    "Try to use adam or other optimisers.\n",
    "The way you use them is as follows:"
   ]
  },
  {
   "cell_type": "code",
   "execution_count": null,
   "metadata": {
    "tags": []
   },
   "outputs": [],
   "source": [
    "import optax\n",
    "\n",
    "# define\n",
    "optimizer = optax.adam(learning_rate=0.01)\n",
    "\n",
    "# initialise\n",
    "parameters = model.init(...)\n",
    "optimizer_state = optimizer.init(parameters)\n",
    "\n",
    "for i in range(n_iters):\n",
    "    E, E_grad = estimate_energy_and_grad(..., parameters, ...)\n",
    "    \n",
    "    updates, optimizer_state = optimizer.update(E_grad, optimizer_state, parameters)\n",
    "    parameters = optax.apply_updates(parameters, updates)\n"
   ]
  },
  {
   "cell_type": "markdown",
   "metadata": {},
   "source": [
    "### 5.3: Sky's the limit\n",
    "\n",
    "What you've seen so far gives you the tools to quickly get started in running VMC calculations, without having to worry about sampling (which is a bit tricky to implement) and operators (which are very tricky to implement).\n",
    "\n",
    "You can use this as a starting point to implement stochastic reconfiguration, the dynamics, and much more!"
   ]
  },
  {
   "cell_type": "code",
   "execution_count": null,
   "metadata": {},
   "outputs": [],
   "source": []
  }
 ],
 "metadata": {
  "kernelspec": {
   "display_name": "Python 3 (ipykernel)",
   "language": "python",
   "name": "python3"
  },
  "language_info": {
   "codemirror_mode": {
    "name": "ipython",
    "version": 3
   },
   "file_extension": ".py",
   "mimetype": "text/x-python",
   "name": "python",
   "nbconvert_exporter": "python",
   "pygments_lexer": "ipython3",
   "version": "3.11.7"
  }
 },
 "nbformat": 4,
 "nbformat_minor": 4
}
