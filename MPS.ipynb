{
 "cells": [
  {
   "cell_type": "code",
   "execution_count": 1,
   "id": "0584f7e6",
   "metadata": {},
   "outputs": [
    {
     "name": "stderr",
     "output_type": "stream",
     "text": [
      "An NVIDIA GPU may be present on this machine, but a CUDA-enabled jaxlib is not installed. Falling back to cpu.\n"
     ]
    }
   ],
   "source": [
    "import netket as nk\n",
    "from numpy.lib.function_base import append\n",
    "from itertools import permutations, combinations\n",
    "from netket.vqs.mc import get_local_kernel_arguments, get_local_kernel\n",
    "import time\n",
    "import matplotlib.pyplot as plt\n",
    "import json\n",
    "import numpy as np\n",
    "from numpy.linalg import eig\n",
    "# from flax.core.frozen_dict import FrozenDict\n",
    "import flax\n",
    "from netket.optimizer.qgt import QGTJacobianPyTree\n",
    "\n",
    "\n",
    "from typing import Callable, Tuple\n",
    "from functools import partial\n",
    "\n",
    "import jax\n",
    "from jax import numpy as jnp\n",
    "\n",
    "from netket.stats import statistics as mpi_statistics, mean as mpi_mean, Stats\n",
    "from netket.utils.types import PyTree\n",
    "from netket.operator.spin import sigmax, sigmay,sigmaz\n",
    "\n",
    "import matplotlib.pyplot as plt\n",
    "from tqdm import tqdm\n",
    "################################################################\n",
    "################################################################\n",
    "################################################################\n",
    "###############ED는 sparse matrix가지고 한다 !!!###################\n",
    "from scipy.sparse.linalg import eigsh\n",
    "################################################################\n",
    "################################################################\n",
    "################################################################\n",
    "import os\n",
    "import pandas as pd\n",
    "import seaborn as sns\n",
    "\n",
    "\n",
    "from alpha_mcmc import alpha_mcmc\n",
    "from calculate_variance import calculate_variance\n"
   ]
  },
  {
   "cell_type": "code",
   "execution_count": 2,
   "id": "76728984",
   "metadata": {},
   "outputs": [],
   "source": [
    "# Define a 1d chain\n",
    "L = 10\n",
    "g = nk.graph.Hypercube(length=L, n_dim=1, pbc=True)\n",
    "#g.translation_group\n",
    "#g.point_group\n",
    "#g.rotation_group\n",
    "#g.space_group\n",
    "\n",
    "hi = nk.hilbert.Spin(s=0.5, total_sz=0, N=g.n_nodes)\n",
    "Gamma = np.random.uniform(-1,1,10)\n",
    "\n",
    "# ha = sum([ sigmax(hi,i)*sigmax(hi,(i+1)%L)\n",
    "#          + sigmay(hi,i)*sigmay(hi,(i+1)%L)\n",
    "#          + sigmaz(hi,i)*sigmaz(hi,(i+1)%L)\n",
    "#            for i in range(L)])\n",
    "\n",
    "# ha = ha + sum([Gamma[i]*sigmaz(hi,i) for i in range(L)])\n",
    "ha = sum([Gamma[i]*sigmaz(hi,i) for i in range(L)])\n"
   ]
  },
  {
   "cell_type": "code",
   "execution_count": 3,
   "id": "393e0333",
   "metadata": {},
   "outputs": [],
   "source": [
    "leng = np.shape(hi.all_states())[0]\n",
    "# E, vec = eigsh(ha.to_sparse(), 1000)"
   ]
  },
  {
   "cell_type": "code",
   "execution_count": 4,
   "id": "2c8893f4",
   "metadata": {},
   "outputs": [
    {
     "data": {
      "text/plain": [
       "252"
      ]
     },
     "execution_count": 4,
     "metadata": {},
     "output_type": "execute_result"
    }
   ],
   "source": [
    "leng"
   ]
  },
  {
   "cell_type": "code",
   "execution_count": 5,
   "id": "7c10beb2",
   "metadata": {},
   "outputs": [],
   "source": [
    "E, vec = eigsh(ha.to_sparse(),k = leng-2)"
   ]
  },
  {
   "cell_type": "code",
   "execution_count": 6,
   "id": "62c2ce2a",
   "metadata": {},
   "outputs": [
    {
     "data": {
      "text/plain": [
       "array([-5.55589067, -5.13085524, -4.94807268, -4.91719372, -4.34347515,\n",
       "       -4.33655169, -4.16069259, -4.12981363, -3.76671286, -3.73565715,\n",
       "       -3.7047782 , -3.54917161, -3.52199564, -3.32919505, -3.22467492,\n",
       "       -3.19436165, -3.1464125 , -3.12413617, -3.11553354, -3.04189237,\n",
       "       -3.01157909, -3.01101341, -2.98070014, -2.97933277, -2.94135361,\n",
       "       -2.91047465, -2.72137706, -2.6904981 , -2.61685693, -2.58654365,\n",
       "       -2.58597797, -2.5556647 , -2.55429733, -2.53489151, -2.50771554,\n",
       "       -2.43037138, -2.40319541, -2.40005811, -2.37288214, -2.37151478,\n",
       "       -2.34063582, -2.10985607, -2.00533594, -1.97502267, -1.96505268,\n",
       "       -1.93399697, -1.92707352, -1.90311801, -1.89619456, -1.86053255,\n",
       "       -1.83021927, -1.82947684, -1.82255339, -1.79916357, -1.79859788,\n",
       "       -1.79224011, -1.79167443, -1.76828461, -1.76136116, -1.75999379,\n",
       "       -1.72033546, -1.61581533, -1.58550205, -1.54001724, -1.43549711,\n",
       "       -1.40518384, -1.35723468, -1.32635573, -1.32247599, -1.29530002,\n",
       "       -1.25271455, -1.22240128, -1.2218356 , -1.21795586, -1.19152232,\n",
       "       -1.19077989, -1.18764258, -1.16046661, -1.13969343, -1.10881447,\n",
       "       -1.0351733 , -1.00486002, -1.00429434, -0.97398107, -0.81519675,\n",
       "       -0.78488347, -0.78431779, -0.75400452, -0.75263715, -0.7457137 ,\n",
       "       -0.71465799, -0.68377903, -0.68036334, -0.64948439, -0.64811702,\n",
       "       -0.64119357, -0.61780375, -0.61088029, -0.61013786, -0.60153523,\n",
       "       -0.57982459, -0.5792589 , -0.57122196, -0.56985459, -0.54894563,\n",
       "       -0.53897564, -0.50099648, -0.46670183, -0.46533446, -0.43502119,\n",
       "       -0.43445551, -0.40414223, -0.39647635, -0.36616307, -0.20367576,\n",
       "       -0.17649979, -0.17336249, -0.14618652, -0.14481916, -0.1139402 ,\n",
       "       -0.06884236, -0.04166639, -0.04029903, -0.0208932 , -0.00998575,\n",
       "        0.00998575,  0.0208932 ,  0.04029903,  0.04166639,  0.06884236,\n",
       "        0.1139402 ,  0.14481916,  0.14618652,  0.17336249,  0.17649979,\n",
       "        0.20367576,  0.36616307,  0.39647635,  0.40414223,  0.43445551,\n",
       "        0.43502119,  0.46533446,  0.46670183,  0.50099648,  0.53897564,\n",
       "        0.54894563,  0.56985459,  0.57122196,  0.5792589 ,  0.57982459,\n",
       "        0.60153523,  0.61013786,  0.61088029,  0.61780375,  0.64119357,\n",
       "        0.64811702,  0.64948439,  0.68036334,  0.68377903,  0.71465799,\n",
       "        0.7457137 ,  0.75263715,  0.75400452,  0.78431779,  0.78488347,\n",
       "        0.81519675,  0.97398107,  1.00429434,  1.00486002,  1.0351733 ,\n",
       "        1.10881447,  1.13969343,  1.16046661,  1.18764258,  1.19077989,\n",
       "        1.19152232,  1.21795586,  1.2218356 ,  1.22240128,  1.25271455,\n",
       "        1.29530002,  1.32247599,  1.32635573,  1.35723468,  1.40518384,\n",
       "        1.43549711,  1.54001724,  1.58550205,  1.61581533,  1.72033546,\n",
       "        1.75999379,  1.76136116,  1.76828461,  1.79167443,  1.79224011,\n",
       "        1.79859788,  1.79916357,  1.82255339,  1.82947684,  1.83021927,\n",
       "        1.86053255,  1.89619456,  1.90311801,  1.92707352,  1.93399697,\n",
       "        1.96505268,  1.97502267,  2.00533594,  2.10985607,  2.34063582,\n",
       "        2.37151478,  2.37288214,  2.40005811,  2.40319541,  2.43037138,\n",
       "        2.50771554,  2.53489151,  2.55429733,  2.5556647 ,  2.58597797,\n",
       "        2.58654365,  2.61685693,  2.6904981 ,  2.72137706,  2.91047465,\n",
       "        2.94135361,  2.97933277,  2.98070014,  3.01101341,  3.01157909,\n",
       "        3.04189237,  3.11553354,  3.12413617,  3.1464125 ,  3.19436165,\n",
       "        3.22467492,  3.32919505,  3.52199564,  3.54917161,  3.7047782 ,\n",
       "        3.73565715,  3.76671286,  4.12981363,  4.16069259,  4.33655169,\n",
       "        4.34347515,  4.91719372,  4.94807268,  5.13085524,  5.55589067])"
      ]
     },
     "execution_count": 6,
     "metadata": {},
     "output_type": "execute_result"
    }
   ],
   "source": [
    "E"
   ]
  },
  {
   "cell_type": "code",
   "execution_count": 52,
   "id": "e6a51d63",
   "metadata": {},
   "outputs": [
    {
     "data": {
      "text/plain": [
       "1.7269102707299506"
      ]
     },
     "execution_count": 52,
     "metadata": {},
     "output_type": "execute_result"
    }
   ],
   "source": [
    "Et"
   ]
  },
  {
   "cell_type": "code",
   "execution_count": 51,
   "id": "e49578e5",
   "metadata": {
    "scrolled": false
   },
   "outputs": [
    {
     "data": {
      "text/plain": [
       "[<matplotlib.lines.Line2D at 0x7f19d794f710>]"
      ]
     },
     "execution_count": 51,
     "metadata": {},
     "output_type": "execute_result"
    },
    {
     "data": {
      "image/png": "[encoded data removed]",
      "text/plain": [
       "<Figure size 640x480 with 1 Axes>"
      ]
     },
     "metadata": {},
     "output_type": "display_data"
    }
   ],
   "source": [
    "LOW = 1\n",
    "HIG = 2\n",
    "Et = np.random.uniform(low=LOW, high=HIG, size=None)\n",
    "plt.scatter(np.arange(len(E)),np.sort(E),s=10)\n",
    "plt.ylim([Et-0.2,Et+0.2])\n",
    "plt.plot([0,len(E)],[Et,Et],'r')"
   ]
  },
  {
   "cell_type": "code",
   "execution_count": 8,
   "id": "5e426fc4",
   "metadata": {},
   "outputs": [],
   "source": [
    "# def dimension_depen(n_steps, learning_rate, bond_dimen, hamil, target_E):\n",
    "def dimension_depen(n_steps, learning_rate, bond_dimen):\n",
    "\n",
    "\n",
    "  model = nk.models.MPSPeriodic(hilbert=hi, graph=g, bond_dim=bond_dimen)\n",
    "  sa = nk.sampler.MetropolisExchange(hilbert=hi,graph=g)\n",
    "\n",
    "  vs = nk.vqs.FullSumState(hi, model)\n",
    "\n",
    "  # Optimizer\n",
    "  op = nk.optimizer.Sgd(learning_rate=learning_rate)\n",
    "  # Stochastic Reconfiguration\n",
    "  sr = nk.optimizer.SR(diag_shift=0.1, holomorphic=True)\n",
    "\n",
    "  Target_Ha = ha - Et\n",
    "    \n",
    "  gs = nk.VMC(\n",
    "      hamiltonian=Target_Ha@Target_Ha,\n",
    "      optimizer=op,\n",
    "      preconditioner=sr,\n",
    "      variational_state=vs)\n",
    "\n",
    "  start = time.time()\n",
    "  gs.run(n_steps, out='MPS')\n",
    "  end = time.time()\n",
    "\n",
    "  return vs"
   ]
  },
  {
   "cell_type": "code",
   "execution_count": 10,
   "id": "e94fe786",
   "metadata": {},
   "outputs": [
    {
     "name": "stderr",
     "output_type": "stream",
     "text": [
      "100%|█| 10000/10000 [00:17<00:00, 578.21it/s, Energy=6.303e-03+4.091e-22j ± 0.00\n"
     ]
    }
   ],
   "source": [
    "vs01 = dimension_depen(10000, 0.01, 1)"
   ]
  },
  {
   "cell_type": "code",
   "execution_count": null,
   "id": "090a8d16",
   "metadata": {},
   "outputs": [],
   "source": []
  },
  {
   "cell_type": "code",
   "execution_count": 15,
   "id": "c70637c2",
   "metadata": {},
   "outputs": [
    {
     "name": "stdout",
     "output_type": "stream",
     "text": [
      "1.7611739212890098\n",
      "0.006302774967177012\n",
      "0.0062658727934397085\n"
     ]
    }
   ],
   "source": [
    "print(vs01.expect(ha).mean.real)\n",
    "print(vs01.expect((ha-Et)@(ha-Et)).mean.real)\n",
    "print(calculate_variance(ha,vs01))"
   ]
  },
  {
   "cell_type": "code",
   "execution_count": null,
   "id": "4a12726c",
   "metadata": {},
   "outputs": [],
   "source": [
    "calculate_variance(ha,vs01)"
   ]
  },
  {
   "cell_type": "code",
   "execution_count": 35,
   "id": "efb4caa7",
   "metadata": {},
   "outputs": [],
   "source": [
    "lis = [1,2,3,4,5,6,7,8,9,10,20,30,40]\n",
    "En = []\n",
    "En_Et_squred = []\n",
    "Varian = []\n",
    "states = []"
   ]
  },
  {
   "cell_type": "code",
   "execution_count": 36,
   "id": "2b9a09ae",
   "metadata": {},
   "outputs": [
    {
     "data": {
      "text/plain": [
       "[FullSumState(\n",
       "   hilbert = Spin(s=1/2, total_sz=0, N=10),\n",
       "   n_parameters = 50000),\n",
       " FullSumState(\n",
       "   hilbert = Spin(s=1/2, total_sz=0, N=10),\n",
       "   n_parameters = 50000)]"
      ]
     },
     "execution_count": 36,
     "metadata": {},
     "output_type": "execute_result"
    }
   ],
   "source": [
    "[vs,vs]"
   ]
  },
  {
   "cell_type": "code",
   "execution_count": 37,
   "id": "2d2210ed",
   "metadata": {},
   "outputs": [
    {
     "name": "stderr",
     "output_type": "stream",
     "text": [
      "100%|█| 10000/10000 [00:17<00:00, 569.13it/s, Energy=5.747e-03-6.063e-21j ± 0.00\n",
      "100%|█| 10000/10000 [00:48<00:00, 204.22it/s, Energy=2.402e-03-3.512e-21j ± 0.00\n",
      "100%|█| 10000/10000 [01:17<00:00, 128.55it/s, Energy=6.859e-03-7.584e-21j ± 0.00\n",
      "100%|█| 10000/10000 [01:23<00:00, 120.34it/s, Energy=8.268e-03-5.234e-21j ± 0.00\n",
      "100%|█| 10000/10000 [02:40<00:00, 62.21it/s, Energy=7.141e-03-1.056e-20j ± 0.000\n",
      "100%|█| 10000/10000 [03:21<00:00, 49.75it/s, Energy=6.390e-03-2.113e-20j ± 0.000\n",
      "100%|█| 10000/10000 [05:10<00:00, 32.24it/s, Energy=7.902e-03-8.231e-21j ± 0.000\n",
      "100%|█| 10000/10000 [03:51<00:00, 43.16it/s, Energy=5.827e-03+1.877e-20j ± 0.000\n",
      "100%|█| 10000/10000 [06:06<00:00, 27.26it/s, Energy=7.542e-03-4.403e-21j ± 0.000\n",
      "100%|█| 10000/10000 [07:17<00:00, 22.86it/s, Energy=7.095e-03-3.503e-20j ± 0.000\n",
      "100%|█| 10000/10000 [19:34<00:00,  8.52it/s, Energy=7.413e-03-2.763e-21j ± 0.000\n",
      "100%|█| 10000/10000 [50:50<00:00,  3.28it/s, Energy=7.711e-03-2.354e-21j ± 0.000\n",
      "100%|█| 10000/10000 [1:37:20<00:00,  1.71it/s, Energy=7.082e-03-2.200e-20j ± 0.0\n"
     ]
    }
   ],
   "source": [
    "for i in lis:\n",
    "    vs = dimension_depen(10000, 0.01, i)\n",
    "    states.append(vs)\n",
    "    En.append(vs.expect(ha).mean.real)\n",
    "    En_Et_squred.append(vs.expect((ha-Et)@(ha-Et)).mean.real)\n",
    "    Varian.append(calculate_variance(ha,vs))"
   ]
  },
  {
   "cell_type": "code",
   "execution_count": 55,
   "id": "1f1bb84e",
   "metadata": {},
   "outputs": [],
   "source": [
    "log_E_Et_squred = np.log10(En_Et_squred)\n",
    "log_variance = np.log10(Varian)"
   ]
  },
  {
   "cell_type": "code",
   "execution_count": 49,
   "id": "10f8cd44",
   "metadata": {},
   "outputs": [
    {
     "data": {
      "text/plain": [
       "[Array(1.75674818, dtype=float64),\n",
       " Array(1.79258526, dtype=float64),\n",
       " Array(1.78757111, dtype=float64),\n",
       " Array(1.78266641, dtype=float64),\n",
       " Array(1.78577634, dtype=float64),\n",
       " Array(1.78650697, dtype=float64),\n",
       " Array(1.78031987, dtype=float64),\n",
       " Array(1.7882477, dtype=float64),\n",
       " Array(1.78496641, dtype=float64),\n",
       " Array(1.78659234, dtype=float64),\n",
       " Array(1.78925759, dtype=float64),\n",
       " Array(1.78782102, dtype=float64),\n",
       " Array(1.78417965, dtype=float64)]"
      ]
     },
     "execution_count": 49,
     "metadata": {},
     "output_type": "execute_result"
    }
   ],
   "source": [
    "En"
   ]
  },
  {
   "cell_type": "code",
   "execution_count": 42,
   "id": "1429d940",
   "metadata": {},
   "outputs": [
    {
     "data": {
      "text/plain": [
       "[Array(0.00574656, dtype=float64),\n",
       " Array(0.00240172, dtype=float64),\n",
       " Array(0.00685863, dtype=float64),\n",
       " Array(0.00826717, dtype=float64),\n",
       " Array(0.00714041, dtype=float64),\n",
       " Array(0.00638885, dtype=float64),\n",
       " Array(0.00790126, dtype=float64),\n",
       " Array(0.00582692, dtype=float64),\n",
       " Array(0.00754156, dtype=float64),\n",
       " Array(0.00709465, dtype=float64),\n",
       " Array(0.00741297, dtype=float64),\n",
       " Array(0.00771047, dtype=float64),\n",
       " Array(0.00708105, dtype=float64)]"
      ]
     },
     "execution_count": 42,
     "metadata": {},
     "output_type": "execute_result"
    }
   ],
   "source": [
    "En_Et_squred"
   ]
  },
  {
   "cell_type": "code",
   "execution_count": 57,
   "id": "feda6818",
   "metadata": {
    "scrolled": false
   },
   "outputs": [
    {
     "data": {
      "text/plain": [
       "<matplotlib.legend.Legend at 0x7f19d751e790>"
      ]
     },
     "execution_count": 57,
     "metadata": {},
     "output_type": "execute_result"
    },
    {
     "data": {
      "image/png": "[encoded data removed]",
      "text/plain": [
       "<Figure size 640x480 with 1 Axes>"
      ]
     },
     "metadata": {},
     "output_type": "display_data"
    }
   ],
   "source": [
    "plt.scatter(lis, log_E_Et_squred, label=r'$log_{10}(<(H-Et)^2>)$')\n",
    "plt.scatter(lis, log_variance, label=r'$log_{10}(Variance)$')\n",
    "plt.xlabel('bond dimension')\n",
    "plt.legend()"
   ]
  },
  {
   "cell_type": "code",
   "execution_count": 30,
   "id": "cbf5d125",
   "metadata": {},
   "outputs": [
    {
     "data": {
      "text/plain": [
       "[Array(0.00626587, dtype=float64),\n",
       " Array(0.00626587, dtype=float64),\n",
       " Array(0.00626587, dtype=float64),\n",
       " Array(0.00626587, dtype=float64),\n",
       " Array(0.00626587, dtype=float64),\n",
       " Array(0.00626587, dtype=float64),\n",
       " Array(0.00626587, dtype=float64),\n",
       " Array(0.00626587, dtype=float64),\n",
       " Array(0.00626587, dtype=float64),\n",
       " Array(0.00626587, dtype=float64),\n",
       " Array(0.00626587, dtype=float64),\n",
       " Array(0.00626587, dtype=float64),\n",
       " Array(0.00626587, dtype=float64),\n",
       " Array(0.00626587, dtype=float64)]"
      ]
     },
     "execution_count": 30,
     "metadata": {},
     "output_type": "execute_result"
    }
   ],
   "source": [
    "Varian"
   ]
  },
  {
   "cell_type": "code",
   "execution_count": 28,
   "id": "e4860435",
   "metadata": {},
   "outputs": [
    {
     "data": {
      "text/plain": [
       "<matplotlib.collections.PathCollection at 0x7f1a04565b50>"
      ]
     },
     "execution_count": 28,
     "metadata": {},
     "output_type": "execute_result"
    },
    {
     "data": {
      "image/png": "[encoded data removed]",
      "text/plain": [
       "<Figure size 640x480 with 1 Axes>"
      ]
     },
     "metadata": {},
     "output_type": "display_data"
    }
   ],
   "source": [
    "plt.scatter(lis, log_variance)"
   ]
  },
  {
   "cell_type": "code",
   "execution_count": null,
   "id": "939c1554",
   "metadata": {
    "scrolled": true
   },
   "outputs": [],
   "source": [
    "# vs1 = dimension_depen(10000, 0.01, 10, hamil=ha, target_E=Et)\n",
    "vs1 = dimension_depen(10000, 0.01, 10)\n",
    "# vs2 = dimension_depen(3000, 0.01, 20)\n",
    "# vs3 = dimension_depen(3000, 0.01, 30)\n",
    "# vs4 = dimension_depen(3000, 0.01, 40)\n"
   ]
  },
  {
   "cell_type": "code",
   "execution_count": null,
   "id": "0d0c5dfc",
   "metadata": {},
   "outputs": [],
   "source": [
    "vs2 = dimension_depen(10000, 0.01, 20)"
   ]
  },
  {
   "cell_type": "code",
   "execution_count": null,
   "id": "03756621",
   "metadata": {},
   "outputs": [],
   "source": [
    "print(vs1.expect(ha))\n",
    "print(vs1.expect((ha-Et)@(ha-Et)))\n",
    "print(calculate_variance(ha,vs1))"
   ]
  },
  {
   "cell_type": "code",
   "execution_count": null,
   "id": "62df53c5",
   "metadata": {},
   "outputs": [],
   "source": [
    "print(vs2.expect(ha))\n",
    "print(vs2.expect((ha-Et)@(ha-Et)))\n",
    "print(calculate_variance(ha,vs2))"
   ]
  },
  {
   "cell_type": "code",
   "execution_count": null,
   "id": "f85d8ec9",
   "metadata": {},
   "outputs": [],
   "source": [
    "print(vs3.expect((ha-Et)@(ha-Et)))\n",
    "print(calculate_variance(ha,vs3))"
   ]
  },
  {
   "cell_type": "code",
   "execution_count": null,
   "id": "f03529df",
   "metadata": {},
   "outputs": [],
   "source": [
    "print(vs4.expect((ha-Et)@(ha-Et)))\n",
    "print(calculate_variance(ha,vs4))"
   ]
  },
  {
   "cell_type": "code",
   "execution_count": null,
   "id": "dea4df80",
   "metadata": {},
   "outputs": [],
   "source": []
  }
 ],
 "metadata": {
  "kernelspec": {
   "display_name": "Python 3",
   "language": "python",
   "name": "python3"
  },
  "language_info": {
   "codemirror_mode": {
    "name": "ipython",
    "version": 3
   },
   "file_extension": ".py",
   "mimetype": "text/x-python",
   "name": "python",
   "nbconvert_exporter": "python",
   "pygments_lexer": "ipython3",
   "version": "3.11.5"
  }
 },
 "nbformat": 4,
 "nbformat_minor": 5
}
