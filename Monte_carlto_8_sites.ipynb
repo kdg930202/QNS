{
 "cells": [
  {
   "cell_type": "code",
   "execution_count": 2,
   "metadata": {
    "colab": {
     "base_uri": "https://localhost:8080/"
    },
    "executionInfo": {
     "elapsed": 40976,
     "status": "ok",
     "timestamp": 1708156075339,
     "user": {
      "displayName": "dogyen ko (Kodo)",
      "userId": "17400671760216123133"
     },
     "user_tz": -540
    },
    "id": "ffku5TQVB_Qo",
    "outputId": "761057dc-e9ac-44a9-d7e5-067949e828fe"
   },
   "outputs": [
    {
     "name": "stderr",
     "output_type": "stream",
     "text": [
      "An NVIDIA GPU may be present on this machine, but a CUDA-enabled jaxlib is not installed. Falling back to cpu.\n"
     ]
    }
   ],
   "source": [
    "# %pip install --quiet netket\n",
    "import netket as nk\n",
    "from numpy.lib.function_base import append\n",
    "from itertools import permutations, combinations\n",
    "from netket.vqs.mc import get_local_kernel_arguments, get_local_kernel\n",
    "import time\n",
    "import matplotlib.pyplot as plt\n",
    "import json\n",
    "import numpy as np\n",
    "from numpy.linalg import eig\n",
    "from flax.core.frozen_dict import FrozenDict\n",
    "import flax\n",
    "from netket.optimizer.qgt import QGTJacobianPyTree\n",
    "\n",
    "\n",
    "from typing import Callable, Tuple\n",
    "from functools import partial\n",
    "\n",
    "import jax\n",
    "from jax import numpy as jnp\n",
    "\n",
    "from netket.stats import statistics as mpi_statistics, mean as mpi_mean, Stats\n",
    "from netket.utils.types import PyTree\n",
    "from netket.operator.spin import sigmax, sigmay,sigmaz\n",
    "\n",
    "import matplotlib.pyplot as plt\n",
    "from tqdm import tqdm\n",
    "################################################################\n",
    "from scipy.sparse.linalg import eigsh\n",
    "################################################################\n",
    "import os\n",
    "import pandas as pd\n",
    "\n"
   ]
  },
  {
   "cell_type": "code",
   "execution_count": 3,
   "metadata": {
    "id": "G3gwNqpgCIFY"
   },
   "outputs": [],
   "source": [
    "from netket.graph import Chain\n",
    "from netket.models import GCNN\n",
    "\n",
    "# Define a 1d chain\n",
    "L = 8\n",
    "dis = 1\n",
    "g = nk.graph.Hypercube(length=L, n_dim=1, pbc=True)\n",
    "#g.translation_group\n",
    "#g.point_group\n",
    "#g.rotation_group\n",
    "#g.space_group\n",
    "\n",
    "hi = nk.hilbert.Spin(s=0.5, total_sz=0, N=g.n_nodes)\n",
    "# hi = nk.hilbert.Spin(s=0.5, N=g.n_nodes)\n",
    "\n",
    "# calling the Heisenberg Hamiltonian\n",
    "ha = nk.operator.Heisenberg(hilbert=hi, graph=g)\n",
    "b=dis\n",
    "a=-dis\n",
    "Gamma = (b-a) * np.random.random_sample(L) + a\n",
    "\n",
    "################################################################################\n",
    "################################################################################\n",
    "################################################################################\n",
    "#이렇게 정의하는게 더 빨랑\n",
    "ha = sum([ sigmax(hi,i)*sigmax(hi,(i+1)%L)\n",
    "         + sigmay(hi,i)*sigmay(hi,(i+1)%L)\n",
    "         + sigmaz(hi,i)*sigmaz(hi,(i+1)%L)\n",
    "           for i in range(L)])\n",
    "################################################################################\n",
    "################################################################################\n",
    "################################################################################\n",
    "ha = ha + sum([Gamma[i]*sigmaz(hi,i) for i in range(L)])\n",
    "# E, vec = eigsh((ha).to_dense(), k=2**L)\n",
    "E, vec = np.linalg.eigh(ha.to_dense())\n",
    "\n",
    "\n",
    "# plt.plot([0,2**L-1],[0,0],'r')\n",
    "# plt.plot([0,2**L-1],[6.46555,6.46555],'g')\n",
    "# plt.plot([0,2**L-1],[-1,-1],'r')"
   ]
  },
  {
   "cell_type": "code",
   "execution_count": 10,
   "metadata": {},
   "outputs": [
    {
     "data": {
      "text/plain": [
       "(70, 70)"
      ]
     },
     "execution_count": 10,
     "metadata": {},
     "output_type": "execute_result"
    }
   ],
   "source": [
    "np.shape(vec)"
   ]
  },
  {
   "cell_type": "code",
   "execution_count": 4,
   "metadata": {
    "colab": {
     "base_uri": "https://localhost:8080/",
     "height": 447
    },
    "executionInfo": {
     "elapsed": 500,
     "status": "ok",
     "timestamp": 1708156147865,
     "user": {
      "displayName": "dogyen ko (Kodo)",
      "userId": "17400671760216123133"
     },
     "user_tz": -540
    },
    "id": "TTzcA3QHCJ_6",
    "outputId": "b78f07d8-e572-4157-8211-55237f62faac"
   },
   "outputs": [
    {
     "data": {
      "text/plain": [
       "[<matplotlib.lines.Line2D at 0x7f0247395990>]"
      ]
     },
     "execution_count": 4,
     "metadata": {},
     "output_type": "execute_result"
    },
    {
     "data": {
      "image/png": "[encoded data removed]",
      "text/plain": [
       "<Figure size 640x480 with 1 Axes>"
      ]
     },
     "metadata": {},
     "output_type": "display_data"
    }
   ],
   "source": [
    "Et = L*np.random.uniform(low=0, high=1, size=None)\n",
    "\n",
    "# print(E)\n",
    "# print(np.sort(E_np))\n",
    "# plt.scatter(np.arange(len(E)),np.sort(E),s=20)\n",
    "plt.scatter(np.arange(len(E)),E,s=20)\n",
    "plt.ylabel('E',fontsize=18)\n",
    "plt.plot([0,len(E)],[Et,Et],'r')"
   ]
  },
  {
   "cell_type": "code",
   "execution_count": 5,
   "metadata": {
    "colab": {
     "base_uri": "https://localhost:8080/"
    },
    "executionInfo": {
     "elapsed": 4,
     "status": "ok",
     "timestamp": 1708156148351,
     "user": {
      "displayName": "dogyen ko (Kodo)",
      "userId": "17400671760216123133"
     },
     "user_tz": -540
    },
    "id": "p74V1dggCL0Y",
    "outputId": "b3c78d2b-bc0d-4160-9283-dd4180ab1e01"
   },
   "outputs": [
    {
     "data": {
      "text/plain": [
       "0.008308614120238292"
      ]
     },
     "execution_count": 5,
     "metadata": {},
     "output_type": "execute_result"
    }
   ],
   "source": [
    "E_sq, vec_sq = np.linalg.eigh(((ha-Et)@(ha-Et)).to_dense())\n",
    "min(E_sq)"
   ]
  },
  {
   "cell_type": "code",
   "execution_count": 6,
   "metadata": {
    "colab": {
     "base_uri": "https://localhost:8080/"
    },
    "executionInfo": {
     "elapsed": 4,
     "status": "ok",
     "timestamp": 1708156103318,
     "user": {
      "displayName": "dogyen ko (Kodo)",
      "userId": "17400671760216123133"
     },
     "user_tz": -540
    },
    "id": "mN1kL_UDCS9r",
    "outputId": "846158f6-2114-4faa-c9b2-e86945eebc90"
   },
   "outputs": [
    {
     "data": {
      "text/plain": [
       "5.309867339473955"
      ]
     },
     "execution_count": 6,
     "metadata": {},
     "output_type": "execute_result"
    }
   ],
   "source": [
    "Et"
   ]
  },
  {
   "cell_type": "code",
   "execution_count": 7,
   "metadata": {
    "id": "ycTJ8YXECsI2"
   },
   "outputs": [],
   "source": [
    "def alpha_depen(samples, hilb, gra, Target, n_steps, alpha_, eta, eta_sr):\n",
    "\n",
    "\n",
    "\n",
    "  ma = nk.models.RBM(alpha=alpha_, param_dtype=complex)\n",
    "  sa = nk.sampler.MetropolisExchange(hilbert=hilb,graph=gra,d_max=1, n_chains=16)\n",
    "  # vs = nk.vqs.FullSumState(hi, ma)\n",
    "  vs = nk.vqs.MCState(sa, ma, n_samples=samples)\n",
    "  op = nk.optimizer.Sgd(learning_rate=eta)\n",
    "  sr = nk.optimizer.SR(diag_shift=eta_sr, holomorphic=True)\n",
    "\n",
    "\n",
    "\n",
    "  gs = nk.VMC(\n",
    "      hamiltonian=Target,\n",
    "      optimizer=op,\n",
    "      preconditioner=sr,\n",
    "      variational_state=vs)\n",
    "\n",
    "  # gs = nk.VMC(\n",
    "  #     hamiltonian=Target,\n",
    "  #     optimizer=op,\n",
    "  #     variational_state=vs)\n",
    "\n",
    "  start = time.time()\n",
    "  gs.run(n_steps, out='RBM')\n",
    "  end = time.time()\n",
    "  data=json.load(open(\"RBM.log\"))\n",
    "\n",
    "  energy = vs.expect(ha).mean.real\n",
    "  variance = vs.expect(ha@ha).mean.real-vs.expect(ha).mean.real**2\n",
    "  print([energy, variance])\n",
    "  return energy, variance;"
   ]
  },
  {
   "cell_type": "code",
   "execution_count": 13,
   "metadata": {
    "id": "CJ62sQPvCqBm"
   },
   "outputs": [],
   "source": [
    "def alpha_depen(samples, hilb, gra, Target, n_steps, alpha_, eta, eta_sr):\n",
    "\n",
    "\n",
    "\n",
    "  ma = nk.models.RBM(alpha=alpha_, param_dtype=complex)\n",
    "  sa = nk.sampler.MetropolisExchange(hilbert=hilb,graph=gra,d_max=1, n_chains=1)\n",
    "  # vs = nk.vqs.FullSumState(hi, ma)\n",
    "  vs = nk.vqs.MCState(sa, ma, n_samples=samples)\n",
    "  op = nk.optimizer.Sgd(learning_rate=eta)\n",
    "  sr = nk.optimizer.SR(diag_shift=eta_sr, holomorphic=True)\n",
    "\n",
    "\n",
    "\n",
    "  gs = nk.VMC(\n",
    "      hamiltonian=Target,\n",
    "      optimizer=op,\n",
    "      preconditioner=sr,\n",
    "      variational_state=vs)\n",
    "\n",
    "  # gs = nk.VMC(\n",
    "  #     hamiltonian=Target,\n",
    "  #     optimizer=op,\n",
    "  #     variational_state=vs)\n",
    "\n",
    "  start = time.time()\n",
    "  gs.run(n_steps, out='RBM')\n",
    "  end = time.time()\n",
    "  data=json.load(open(\"RBM.log\"))\n",
    "\n",
    "  energy = vs.expect(ha).mean.real\n",
    "  variance = vs.expect(ha@ha).mean.real-vs.expect(ha).mean.real**2\n",
    "  print([energy, variance])\n",
    "  return energy, variance"
   ]
  },
  {
   "cell_type": "code",
   "execution_count": 15,
   "metadata": {
    "colab": {
     "background_save": true,
     "base_uri": "https://localhost:8080/"
    },
    "id": "thUgcbyWKfrJ",
    "outputId": "0b559e74-b33a-4c13-fdbd-ec1d7a260ca1"
   },
   "outputs": [
    {
     "name": "stderr",
     "output_type": "stream",
     "text": [
      "100%|█| 200000/200000 [30:14<00:00, 110.23it/s, Energy=0.167+0.001j ± 0.011 [σ²=\n"
     ]
    },
    {
     "name": "stdout",
     "output_type": "stream",
     "text": [
      "[Array(5.03236229, dtype=float64), Array(0.10043125, dtype=float64)]\n"
     ]
    },
    {
     "data": {
      "text/plain": [
       "(Array(5.03236229, dtype=float64), Array(0.10043125, dtype=float64))"
      ]
     },
     "execution_count": 15,
     "metadata": {},
     "output_type": "execute_result"
    }
   ],
   "source": [
    "alpha_depen(40, hi, g, (ha-Et)@(ha-Et), 200000, 2, 0.001, 0.01)"
   ]
  },
  {
   "cell_type": "code",
   "execution_count": 16,
   "metadata": {},
   "outputs": [
    {
     "name": "stderr",
     "output_type": "stream",
     "text": [
      "100%|█| 20000/20000 [02:43<00:00, 121.99it/s, Energy=0.2111-0.0002j ± 0.0026 [σ²\n"
     ]
    },
    {
     "name": "stdout",
     "output_type": "stream",
     "text": [
      "[Array(5.01922217, dtype=float64), Array(0.12810119, dtype=float64)]\n"
     ]
    },
    {
     "name": "stderr",
     "output_type": "stream",
     "text": [
      "100%|█| 20000/20000 [03:47<00:00, 88.02it/s, Energy=0.187-0.055j ± 0.012 [σ²=0.0\n"
     ]
    },
    {
     "name": "stdout",
     "output_type": "stream",
     "text": [
      "[Array(5.17027843, dtype=float64), Array(0.1665215, dtype=float64)]\n"
     ]
    },
    {
     "name": "stderr",
     "output_type": "stream",
     "text": [
      "100%|█| 20000/20000 [04:22<00:00, 76.17it/s, Energy=0.1780-0.0161j ± 0.0068 [σ²=\n"
     ]
    },
    {
     "name": "stdout",
     "output_type": "stream",
     "text": [
      "[Array(5.12089288, dtype=float64), Array(0.16276476, dtype=float64)]\n"
     ]
    },
    {
     "name": "stderr",
     "output_type": "stream",
     "text": [
      "100%|█| 20000/20000 [04:45<00:00, 70.03it/s, Energy=0.155-0.045j ± 0.017 [σ²=0.0\n"
     ]
    },
    {
     "name": "stdout",
     "output_type": "stream",
     "text": [
      "[Array(5.09467438, dtype=float64), Array(0.16930206, dtype=float64)]\n"
     ]
    },
    {
     "name": "stderr",
     "output_type": "stream",
     "text": [
      "100%|█| 20000/20000 [05:16<00:00, 63.19it/s, Energy=0.1679+0.0112j ± 0.0096 [σ²=\n"
     ]
    },
    {
     "name": "stdout",
     "output_type": "stream",
     "text": [
      "[Array(5.17406419, dtype=float64), Array(0.15833372, dtype=float64)]\n"
     ]
    },
    {
     "name": "stderr",
     "output_type": "stream",
     "text": [
      "100%|█| 20000/20000 [05:58<00:00, 55.85it/s, Energy=0.1990+0.0285j ± 0.0042 [σ²=\n"
     ]
    },
    {
     "name": "stdout",
     "output_type": "stream",
     "text": [
      "[Array(5.04944137, dtype=float64), Array(0.11210466, dtype=float64)]\n"
     ]
    },
    {
     "data": {
      "text/plain": [
       "(Array(5.04944137, dtype=float64), Array(0.11210466, dtype=float64))"
      ]
     },
     "execution_count": 16,
     "metadata": {},
     "output_type": "execute_result"
    }
   ],
   "source": [
    "# alpha_depen(40, hi, g, (ha-Et)@(ha-Et), 20000, 1, 0.001, 0.01)\n",
    "alpha_depen(80, hi, g, (ha-Et)@(ha-Et), 20000, 1, 0.001, 0.01)\n",
    "alpha_depen(120, hi, g, (ha-Et)@(ha-Et), 20000, 1, 0.001, 0.01)\n",
    "alpha_depen(140, hi, g, (ha-Et)@(ha-Et), 20000, 1, 0.001, 0.01)\n",
    "alpha_depen(160, hi, g, (ha-Et)@(ha-Et), 20000, 1, 0.001, 0.01)\n",
    "alpha_depen(180, hi, g, (ha-Et)@(ha-Et), 20000, 1, 0.001, 0.01)\n",
    "alpha_depen(200, hi, g, (ha-Et)@(ha-Et), 20000, 1, 0.001, 0.01)"
   ]
  },
  {
   "cell_type": "code",
   "execution_count": null,
   "metadata": {},
   "outputs": [],
   "source": []
  },
  {
   "cell_type": "code",
   "execution_count": null,
   "metadata": {},
   "outputs": [],
   "source": []
  },
  {
   "cell_type": "code",
   "execution_count": null,
   "metadata": {
    "id": "-NWsT5N2Knta"
   },
   "outputs": [],
   "source": [
    "# alpha_depen(4096, hi, g, (ha-Et)@(ha-Et), 20000, 1, 0.001, 0.01)"
   ]
  },
  {
   "cell_type": "code",
   "execution_count": null,
   "metadata": {
    "id": "GJllKIRzKqcq"
   },
   "outputs": [],
   "source": [
    "# alpha_depen(2048, hi, g, (ha-Et)@(ha-Et), 20000, 1, 0.001, 0.01)"
   ]
  }
 ],
 "metadata": {
  "colab": {
   "authorship_tag": "ABX9TyOUxS2Ad4FemH1UtqY1Th0n",
   "provenance": []
  },
  "kernelspec": {
   "display_name": "Python 3",
   "language": "python",
   "name": "python3"
  },
  "language_info": {
   "codemirror_mode": {
    "name": "ipython",
    "version": 3
   },
   "file_extension": ".py",
   "mimetype": "text/x-python",
   "name": "python",
   "nbconvert_exporter": "python",
   "pygments_lexer": "ipython3",
   "version": "3.11.5"
  }
 },
 "nbformat": 4,
 "nbformat_minor": 1
}
