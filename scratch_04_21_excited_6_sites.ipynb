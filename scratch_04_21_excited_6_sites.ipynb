{
 "cells": [
  {
   "cell_type": "code",
   "execution_count": 1,
   "metadata": {},
   "outputs": [],
   "source": [
    "import netket as nk\n",
    "from numpy.lib.function_base import append\n",
    "from itertools import permutations, combinations\n",
    "from netket.vqs.mc import get_local_kernel_arguments, get_local_kernel\n",
    "import time\n",
    "import matplotlib.pyplot as plt\n",
    "import json\n",
    "import numpy as np\n",
    "from numpy.linalg import eig\n",
    "from flax.core.frozen_dict import FrozenDict\n",
    "import flax\n",
    "from netket.optimizer.qgt import QGTJacobianPyTree\n",
    "\n",
    "\n",
    "from typing import Callable, Tuple\n",
    "from functools import partial\n",
    "\n",
    "import jax\n",
    "from jax import numpy as jnp\n",
    "\n",
    "from netket.stats import statistics as mpi_statistics, mean as mpi_mean, Stats\n",
    "from netket.utils.types import PyTree\n",
    "from netket.operator.spin import sigmax, sigmay,sigmaz\n",
    "\n",
    "import matplotlib.pyplot as plt\n",
    "from tqdm import tqdm\n",
    "################################################################\n",
    "from scipy.sparse.linalg import eigsh\n",
    "################################################################\n",
    "import os\n",
    "import pandas as pd\n",
    "\n"
   ]
  },
  {
   "cell_type": "code",
   "execution_count": 36,
   "metadata": {
    "tags": []
   },
   "outputs": [],
   "source": [
    "# We always shorten netket as nk\n",
    "import netket as nk\n",
    "\n",
    "# Define a 1d chain\n",
    "L = 6\n",
    "g = nk.graph.Hypercube(length=L, n_dim=1, pbc=True)\n",
    "hi = nk.hilbert.Spin(s=1/2, N=g.n_nodes)\n",
    "# ha = nk.operator.Heisenberg(hilbert=hi, graph=g)\n",
    "dis=1\n",
    "b=dis\n",
    "a=-dis\n",
    "Gamma = (b-a) * np.random.random_sample(L) + a\n",
    "\n",
    "ha = sum([ sigmax(hi,i)*sigmax(hi,(i+1)%L)\n",
    "         + sigmay(hi,i)*sigmay(hi,(i+1)%L)\n",
    "         + sigmaz(hi,i)*sigmaz(hi,(i+1)%L)\n",
    "           for i in range(L)])\n",
    "################################################################################\n",
    "################################################################################\n",
    "################################################################################\n",
    "ha = ha + sum([Gamma[i]*sigmaz(hi,i) for i in range(L)])"
   ]
  },
  {
   "cell_type": "code",
   "execution_count": 37,
   "metadata": {
    "tags": []
   },
   "outputs": [
    {
     "data": {
      "text/plain": [
       "5"
      ]
     },
     "execution_count": 37,
     "metadata": {},
     "output_type": "execute_result"
    }
   ],
   "source": [
    "Et = np.random.randint(low=0, high=L, size=None)\n",
    "# Et = np.random.randint(0,L, size=1)\n",
    "# Et = 9\n",
    "Et\n"
   ]
  },
  {
   "cell_type": "code",
   "execution_count": 38,
   "metadata": {},
   "outputs": [
    {
     "data": {
      "text/plain": [
       "[<matplotlib.lines.Line2D at 0x782c28169d90>]"
      ]
     },
     "execution_count": 38,
     "metadata": {},
     "output_type": "execute_result"
    },
    {
     "data": {
      "image/png": "[encoded data removed]",
      "text/plain": [
       "<Figure size 640x480 with 1 Axes>"
      ]
     },
     "metadata": {},
     "output_type": "display_data"
    }
   ],
   "source": [
    "E, vec = np.linalg.eigh(ha.to_dense())\n",
    "plt.scatter(np.arange(len(E)),E,s=20)\n",
    "plt.ylabel('E',fontsize=18)\n",
    "plt.plot([0,len(E)],[Et,Et],'r')"
   ]
  },
  {
   "cell_type": "code",
   "execution_count": 39,
   "metadata": {},
   "outputs": [
    {
     "data": {
      "text/plain": [
       "array([-12.25615103,  -9.62086098,  -8.42451608,  -8.01870043,\n",
       "        -7.02994265,  -6.85614197,  -6.0598654 ,  -5.61336676,\n",
       "        -5.44541044,  -5.10315823,  -4.91548   ,  -4.47530649,\n",
       "        -4.35888374,  -4.17071628,  -3.82288418,  -3.61937711,\n",
       "        -3.44902814,  -2.96910088,  -2.52462448,  -2.14419697,\n",
       "        -2.03562727,  -1.73157082,  -1.62660483,  -1.24262178,\n",
       "        -1.21209329,  -0.71369565,  -0.69014296,  -0.49561338,\n",
       "        -0.17702203,  -0.07616116,   0.10377475,   0.22785931,\n",
       "         0.54595262,   0.58440343,   0.58476022,   0.99705906,\n",
       "         1.17976353,   1.29164431,   1.92653629,   2.22060036,\n",
       "         2.27269925,   2.53475501,   2.64179704,   2.70835569,\n",
       "         2.86309031,   3.44485296,   3.45404738,   3.58597909,\n",
       "         3.59897651,   4.11641202,   4.36133681,   4.5266669 ,\n",
       "         4.62095624,   4.68314812,   4.71369565,   5.1669187 ,\n",
       "         5.24262178,   5.62660483,   5.85627903,   6.02159557,\n",
       "         6.6867944 ,   7.23088796,   7.61937711,   7.63866319])"
      ]
     },
     "execution_count": 39,
     "metadata": {},
     "output_type": "execute_result"
    }
   ],
   "source": [
    "E"
   ]
  },
  {
   "cell_type": "code",
   "execution_count": 40,
   "metadata": {},
   "outputs": [],
   "source": [
    "# and like before, we can jit-compile it!\n",
    "# compute_energy_jit = jax.jit(compute_energy, static_argnames=\"model\")\n",
    "\n",
    "# and we precompute the sparse-hamiltonian to avoid the overhead of re-computing them all the time\n",
    "# hamiltonian_jax = ha.to_pauli_strings().to_jax_operator()\n",
    "# hamiltonian_sparse = hamiltonian.to_sparse()\n",
    "# hamiltonian_jax_sparse = hamiltonian_jax.to_sparse()\n",
    "\n",
    "hamil_Et_jax = (ha-Et).to_pauli_strings().to_jax_operator()\n",
    "hamil_Et_jax_sparse = hamil_Et_jax.to_sparse()\n",
    "\n",
    "hamil_Et_sq_jax = ((ha-Et)@(ha-Et)).to_pauli_strings().to_jax_operator()\n",
    "hamil_Et_sq_jax_sparse = hamil_Et_sq_jax.to_sparse()"
   ]
  },
  {
   "cell_type": "markdown",
   "metadata": {},
   "source": [
    "The model itself is only a set of instructions on how to initialise the parameters and how to compute the result. \n",
    "\n",
    "To initialise the parameters we do the following:"
   ]
  },
  {
   "cell_type": "code",
   "execution_count": 41,
   "metadata": {
    "tags": []
   },
   "outputs": [],
   "source": [
    "def to_array(model, parameters):\n",
    "    # begin by generating all configurations in the hilbert space.\n",
    "    # all_States returns a batch of configurations that is (hi.n_states, N) large.\n",
    "    all_configurations = hi.all_states()\n",
    "\n",
    "    # now evaluate the model, and convert to a normalised wavefunction.\n",
    "    logpsi = model.apply(parameters, all_configurations)\n",
    "    psi = jnp.exp(logpsi)\n",
    "    psi = psi / jnp.linalg.norm(psi)\n",
    "    return psi"
   ]
  },
  {
   "cell_type": "markdown",
   "metadata": {},
   "source": [
    "### 3.3 Energy\n",
    "Now, using that function, let's build another one that computes the energy of the mean field state for the given parameters! \n",
    "To do that, you can for example convert the hamiltonian to a sparse format and compute the energy"
   ]
  },
  {
   "cell_type": "code",
   "execution_count": 42,
   "metadata": {
    "tags": []
   },
   "outputs": [],
   "source": [
    "def compute_energy(model, parameters, hamil):\n",
    "    psi_gs = to_array(model, parameters)\n",
    "    return psi_gs.conj().T@(hamil@psi_gs)\n",
    "\n",
    "def loss_fun(model, pre_psi, parameters, ha_Et, ha_Et_sq):\n",
    "    psi_gs = to_array(model, parameters)\n",
    "    return psi_gs.conj().T@(ha_Et_sq@psi_gs)/(psi_gs.conj()@psi_gs) - 2*pre_psi.conj().T@(ha_Et@psi_gs)/(psi_gs.conj()@psi_gs)\n",
    "\n",
    "def compute_variance(model, parameters, hamil):\n",
    "    psi_gs = to_array(model, parameters)\n",
    "    variance = psi_gs.conj().T@(hamil@hamil@psi_gs) - (psi_gs.conj().T@(hamil@psi_gs))**2 \n",
    "    return variance"
   ]
  },
  {
   "cell_type": "code",
   "execution_count": 43,
   "metadata": {
    "tags": []
   },
   "outputs": [],
   "source": [
    "from functools import partial\n",
    "\n",
    "# we use partial to directly jit this function. Jitting the top-most will jit everything inside it as well.\n",
    "@partial(jax.jit, static_argnames='model')\n",
    "def compute_and_gradient(model, pre_psi, parameters, ha_Et, ha_Et_sq):\n",
    "    # grad_fun = jax.value_and_grad(compute_energy, argnums=1)\n",
    "    grad_fun = jax.jacfwd(loss_fun, argnums=2,holomorphic=True)\n",
    "    return grad_fun(model, pre_psi, parameters, ha_Et, ha_Et_sq)"
   ]
  },
  {
   "cell_type": "code",
   "execution_count": null,
   "metadata": {
    "tags": []
   },
   "outputs": [
    {
     "name": "stderr",
     "output_type": "stream",
     "text": [
      "  4%|█▍                                     | 380/10000 [00:05<02:12, 72.62it/s]"
     ]
    }
   ],
   "source": [
    "model = nk.models.RBM(alpha=2, param_dtype=complex)\n",
    "\n",
    "parameters = model.init(jax.random.PRNGKey(0), np.ones((hi.size, )))\n",
    "\n",
    "# logging: you can (if you want) use netket loggers to avoid writing a lot of boilerplate...\n",
    "# they accumulate data you throw at them\n",
    "logger = nk.logging.RuntimeLog()\n",
    "energy = []\n",
    "from tqdm import tqdm\n",
    "for i in tqdm(range(10000)):\n",
    "    # compute energy and gradient\n",
    "    # energy, gradient = compute_energy_and_gradient(model, parameters, hamiltonian_jax_sparse)\n",
    "    pre_psi = to_array(model, parameters)\n",
    "    energy.append(compute_energy(model, parameters, ha))\n",
    "    gradient = compute_and_gradient(model, pre_psi, parameters, hamil_Et_jax_sparse, hamil_Et_sq_jax_sparse)\n",
    "    \n",
    "    # update parameters\n",
    "    parameters = jax.tree.map(lambda x,y:x-0.001*y, parameters, gradient)\n",
    "    \n",
    "    # log energy: the logger takes a step argument and a dictionary of variables to be logged\n",
    "    # logger(step=i, item={'Energy':energy})\n",
    "\n",
    "    \n",
    "compute_variance(model, parameters, ha)    "
   ]
  },
  {
   "cell_type": "code",
   "execution_count": 45,
   "metadata": {},
   "outputs": [
    {
     "data": {
      "text/plain": [
       "[<matplotlib.lines.Line2D at 0x782c2744cbd0>]"
      ]
     },
     "execution_count": 45,
     "metadata": {},
     "output_type": "execute_result"
    },
    {
     "data": {
      "image/png": "[encoded data removed]",
      "text/plain": [
       "<Figure size 640x480 with 1 Axes>"
      ]
     },
     "metadata": {},
     "output_type": "display_data"
    }
   ],
   "source": [
    "plt.plot(np.real(energy))"
   ]
  },
  {
   "cell_type": "code",
   "execution_count": null,
   "metadata": {},
   "outputs": [],
   "source": []
  }
 ],
 "metadata": {
  "kernelspec": {
   "display_name": "Python 3 (ipykernel)",
   "language": "python",
   "name": "python3"
  },
  "language_info": {
   "codemirror_mode": {
    "name": "ipython",
    "version": 3
   },
   "file_extension": ".py",
   "mimetype": "text/x-python",
   "name": "python",
   "nbconvert_exporter": "python",
   "pygments_lexer": "ipython3",
   "version": "3.11.7"
  }
 },
 "nbformat": 4,
 "nbformat_minor": 4
}
