{
 "cells": [
  {
   "cell_type": "code",
   "execution_count": 1,
   "id": "aa0e843b",
   "metadata": {},
   "outputs": [
    {
     "name": "stderr",
     "output_type": "stream",
     "text": [
      "An NVIDIA GPU may be present on this machine, but a CUDA-enabled jaxlib is not installed. Falling back to cpu.\n"
     ]
    }
   ],
   "source": [
    "import netket as nk\n",
    "from numpy.lib.function_base import append\n",
    "from itertools import permutations, combinations\n",
    "from netket.vqs.mc import get_local_kernel_arguments, get_local_kernel\n",
    "import time\n",
    "import matplotlib.pyplot as plt\n",
    "import json\n",
    "import numpy as np\n",
    "from numpy.linalg import eig\n",
    "from flax.core.frozen_dict import FrozenDict\n",
    "import flax\n",
    "from netket.optimizer.qgt import QGTJacobianPyTree\n",
    "\n",
    "\n",
    "from typing import Callable, Tuple\n",
    "from functools import partial\n",
    "\n",
    "import jax\n",
    "from jax import numpy as jnp\n",
    "\n",
    "from netket.stats import statistics as mpi_statistics, mean as mpi_mean, Stats\n",
    "from netket.utils.types import PyTree\n",
    "from netket.operator.spin import sigmax, sigmay,sigmaz\n",
    "\n",
    "import matplotlib.pyplot as plt\n",
    "from tqdm import tqdm\n",
    "################################################################\n",
    "from scipy.sparse.linalg import eigsh\n",
    "################################################################\n",
    "import os\n",
    "import pandas as pd\n",
    "\n"
   ]
  },
  {
   "cell_type": "code",
   "execution_count": 2,
   "id": "bc1e89e9",
   "metadata": {},
   "outputs": [],
   "source": [
    "import os\n",
    "os.environ[\"JAX_PLATFORM_NAME\"] = \"cpu\""
   ]
  },
  {
   "cell_type": "code",
   "execution_count": 65,
   "id": "b121e423",
   "metadata": {},
   "outputs": [],
   "source": [
    "from netket.graph import Chain\n",
    "from netket.models import GCNN\n",
    "\n",
    "# Define a 1d chain\n",
    "L = 8\n",
    "dis = 5\n",
    "g = nk.graph.Hypercube(length=L, n_dim=1, pbc=True)\n",
    "#g.translation_group\n",
    "#g.point_group\n",
    "#g.rotation_group\n",
    "#g.space_group\n",
    "\n",
    "hi = nk.hilbert.Spin(s=0.5, total_sz=0, N=g.n_nodes)\n",
    "# hi = nk.hilbert.Spin(s=0.5, N=g.n_nodes)\n",
    "\n",
    "# calling the Heisenberg Hamiltonian\n",
    "ha = nk.operator.Heisenberg(hilbert=hi, graph=g)\n",
    "b=dis\n",
    "a=-dis\n",
    "Gamma = (b-a) * np.random.random_sample(L) + a\n",
    "\n",
    "################################################################################\n",
    "################################################################################\n",
    "################################################################################\n",
    "#이렇게 정의하는게 더 빨랑\n",
    "ha = sum([ sigmax(hi,i)*sigmax(hi,(i+1)%L)\n",
    "         + sigmay(hi,i)*sigmay(hi,(i+1)%L)\n",
    "         + sigmaz(hi,i)*sigmaz(hi,(i+1)%L)\n",
    "           for i in range(L)])\n",
    "################################################################################\n",
    "################################################################################\n",
    "################################################################################\n",
    "ha = ha + sum([Gamma[i]*sigmaz(hi,i) for i in range(L)])\n",
    "# E, vec = eigsh((ha).to_dense(), k=2**L)\n",
    "E, vec = np.linalg.eigh(ha.to_dense())\n",
    "\n",
    "\n",
    "# plt.plot([0,2**L-1],[0,0],'r')\n",
    "# plt.plot([0,2**L-1],[6.46555,6.46555],'g')\n",
    "# plt.plot([0,2**L-1],[-1,-1],'r')"
   ]
  },
  {
   "cell_type": "code",
   "execution_count": 75,
   "id": "35b556f9",
   "metadata": {},
   "outputs": [
    {
     "data": {
      "text/plain": [
       "[<matplotlib.lines.Line2D at 0x7fdfd00d1190>]"
      ]
     },
     "execution_count": 75,
     "metadata": {},
     "output_type": "execute_result"
    },
    {
     "data": {
      "image/png": "[encoded data removed]",
      "text/plain": [
       "<Figure size 640x480 with 1 Axes>"
      ]
     },
     "metadata": {},
     "output_type": "display_data"
    }
   ],
   "source": [
    "Et = np.random.uniform(low=10, high=20, size=None)\n",
    "# Target = (ha - Et)@(ha - Et)\n",
    "\n",
    "# print(E)\n",
    "# print(np.sort(E_np))\n",
    "# plt.scatter(np.arange(len(E)),np.sort(E),s=20)\n",
    "plt.scatter(np.arange(len(E)),E,s=20)\n",
    "plt.ylabel('E',fontsize=18)\n",
    "plt.plot([0,len(E)],[Et,Et],'r')\n",
    "# plt.ylim([Et-0.5,Et+0.5])"
   ]
  },
  {
   "cell_type": "code",
   "execution_count": 62,
   "id": "55764be8",
   "metadata": {},
   "outputs": [],
   "source": [
    "def alpha_depen(Target, n_steps, alpha_):\n",
    "  learning_rate = 0.0001\n",
    "\n",
    "\n",
    "  ma = nk.models.RBM(alpha=alpha_, param_dtype=complex)\n",
    "\n",
    "\n",
    "  # Build the sampler\n",
    "#   sa = nk.sampler.MetropolisExchange(hilbert=hi,graph=g)\n",
    "\n",
    "  vs = nk.vqs.FullSumState(hi, ma)\n",
    "  # vs = nk.vqs.MCState(sa, ma, n_samples=1008)\n",
    "  # holo_check = nk.utils.is_probably_holomorphic(vs._apply_fun, vs.parameters, vs.samples, vs.model_state)\n",
    "  # print(holo_check)\n",
    "  # vs = vs.quantum_geometric_tensor(QGTJacobianPyTree(holomorphic=True))\n",
    "\n",
    "  # Optimizer\n",
    "  op = nk.optimizer.Sgd(learning_rate=learning_rate)\n",
    "\n",
    "  # Stochastic Reconfiguration\n",
    "  sr = nk.optimizer.SR(diag_shift=0.01, holomorphic=True)\n",
    "  # sr = nk.optimizer.SR(solver=nk.optimizer.solver.cholesky)\n",
    "  # qgt = nk.optimizer.qgt.QGTJacobianDense(holomorphic=True)\n",
    "  # holomorphic – boolean indicating if the ansatz is boolean or not.\n",
    "  # May speed up computations for models with complex-valued parameters.\n",
    "\n",
    " \n",
    "     \n",
    "  gs = nk.VMC(\n",
    "      hamiltonian=Target,\n",
    "      optimizer=op,\n",
    "      preconditioner=sr,\n",
    "      variational_state=vs)\n",
    "\n",
    "  start = time.time()\n",
    "  gs.run(n_steps, out='RBM')\n",
    "  end = time.time()\n",
    "\n",
    "  # import the data from log file\n",
    "  data=json.load(open(\"RBM.log\"))\n",
    "\n",
    "  # Extract the relevant information\n",
    "  # iters_RBM = data[\"Energy\"][\"iters\"]\n",
    "  # energy_RBM = data[\"Energy\"][\"Mean\"]\n",
    "  # plt.plot(energy_RBM[\"real\"])\n",
    "  # print(\"<V|V> =\",np.conj(vs.to_array())@vs.to_array())\n",
    "  # print(\"<H> =\",vs.expect(ha).mean.real)\n",
    "  # print(\"Variance =\",vs.expect(ha@ha).mean.real-vs.expect(ha).mean.real**2)\n",
    "  energy = vs.expect(ha).mean.real\n",
    "  variance = vs.expect(ha@ha).mean.real-vs.expect(ha).mean.real**2\n",
    "  print([energy, variance])\n",
    "  return energy, variance;"
   ]
  },
  {
   "cell_type": "code",
   "execution_count": 79,
   "id": "6f8f2adf",
   "metadata": {},
   "outputs": [
    {
     "name": "stderr",
     "output_type": "stream",
     "text": [
      "100%|█| 1000000/1000000 [5:23:02<00:00, 51.59it/s, Energy=5.974e-03-3.136e-15j ±\n"
     ]
    },
    {
     "name": "stdout",
     "output_type": "stream",
     "text": [
      "[Array(13.29049515, dtype=float64), Array(0.00594912, dtype=float64)]\n"
     ]
    }
   ],
   "source": [
    "n_steps = 1000000\n",
    "Target = (ha-Et)@(ha-Et)\n",
    "e2 , v2 = alpha_depen(Target, n_steps,4)"
   ]
  },
  {
   "cell_type": "code",
   "execution_count": 68,
   "id": "d29d9a2f",
   "metadata": {},
   "outputs": [
    {
     "data": {
      "text/plain": [
       "Array(0.03399713, dtype=float64)"
      ]
     },
     "execution_count": 68,
     "metadata": {},
     "output_type": "execute_result"
    }
   ],
   "source": [
    "v2"
   ]
  },
  {
   "cell_type": "code",
   "execution_count": null,
   "id": "3a69ea16",
   "metadata": {},
   "outputs": [],
   "source": []
  }
 ],
 "metadata": {
  "kernelspec": {
   "display_name": "Python 3",
   "language": "python",
   "name": "python3"
  },
  "language_info": {
   "codemirror_mode": {
    "name": "ipython",
    "version": 3
   },
   "file_extension": ".py",
   "mimetype": "text/x-python",
   "name": "python",
   "nbconvert_exporter": "python",
   "pygments_lexer": "ipython3",
   "version": "3.11.5"
  }
 },
 "nbformat": 4,
 "nbformat_minor": 5
}
