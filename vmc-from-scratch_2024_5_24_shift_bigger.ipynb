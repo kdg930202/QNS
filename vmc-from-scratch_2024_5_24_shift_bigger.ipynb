{
 "cells": [
  {
   "cell_type": "code",
   "execution_count": 2,
   "metadata": {
    "tags": []
   },
   "outputs": [],
   "source": [
    "import netket\n",
    "from flax.core.scope import CollectionFilter\n",
    "from netket.utils.types import PyTree\n",
    "from netket.operator import Squared\n",
    "from functools import partial, lru_cache\n",
    "from typing import Callable, Optional\n",
    "\n",
    "import jax\n",
    "from jax import numpy as jnp\n",
    "from flax.core.scope import CollectionFilter, DenyList  # noqa: F401\n",
    "\n",
    "import netket as nk\n",
    "from netket import jax as nkjax\n",
    "from netket.operator import DiscreteOperator, Squared\n",
    "from netket.stats import Stats\n",
    "from netket.utils.types import PyTree\n",
    "from netket.utils.dispatch import dispatch\n",
    "\n",
    "# from nektet.vqs import _ex\n",
    "from netket.vqs import expect_and_grad, expect_and_forces\n",
    "from netket.vqs.mc.common import force_to_grad, get_local_kernel, get_local_kernel_arguments\n",
    "from netket.stats import Stats\n",
    "import time\n",
    "import json\n",
    "import matplotlib.pyplot as plt\n",
    "import numpy as np\n",
    "from netket.operator.spin import sigmax, sigmay,sigmaz\n",
    "from netket.stats import Stats, statistics\n",
    "\n",
    "from functools import partial\n",
    "from typing import Callable, Optional\n",
    "\n",
    "import jax\n",
    "from jax import numpy as jnp\n",
    "from flax.core.scope import CollectionFilter, DenyList  # noqa: F401\n",
    "\n",
    "from netket import jax as nkjax\n",
    "from netket import config\n",
    "from netket.stats import Stats\n",
    "from netket.utils import mpi, dispatch\n",
    "from netket.utils.types import PyTree\n",
    "\n",
    "from netket.operator import (\n",
    "    AbstractOperator,\n",
    "    Squared,\n",
    ")\n",
    "\n",
    "from netket.vqs import expect_and_grad, expect_and_forces\n",
    "from netket.vqs import MCState"
   ]
  },
  {
   "cell_type": "code",
   "execution_count": 2,
   "metadata": {
    "tags": []
   },
   "outputs": [],
   "source": [
    "# Define the Hilbert space based on this graph\n",
    "# We impose to have a fixed total magnetization of zero\n",
    "# Define a 1d chain\n",
    "L = 8\n",
    "dis = 1\n",
    "g = nk.graph.Hypercube(length=L, n_dim=1, pbc=True)\n",
    "hi = nk.hilbert.Spin(s=0.5, total_sz=0, N=g.n_nodes)\n",
    "# calling the Heisenberg Hamiltonian\n",
    "ha = nk.operator.Heisenberg(hilbert=hi, graph=g)\n",
    "# ha = nk.operator.Heisenberg(hilbert=hi, graph=g)\n",
    "b=dis\n",
    "a=-dis\n",
    "Gamma = (b-a) * np.random.random_sample(L) + a\n",
    "\n",
    "################################################################################\n",
    "################################################################################\n",
    "################################################################################\n",
    "#이렇게 정의하는게 더 빨랑\n",
    "ha = sum([ sigmax(hi,i)*sigmax(hi,(i+1)%L)\n",
    "         + sigmay(hi,i)*sigmay(hi,(i+1)%L)\n",
    "         + sigmaz(hi,i)*sigmaz(hi,(i+1)%L)\n",
    "           for i in range(L)])\n",
    "################################################################################\n",
    "################################################################################\n",
    "################################################################################\n",
    "# ha = ha + sum([Gamma[i]*sigmaz(hi,i) for i in range(L)])"
   ]
  },
  {
   "cell_type": "code",
   "execution_count": 3,
   "metadata": {},
   "outputs": [
    {
     "name": "stdout",
     "output_type": "stream",
     "text": [
      "0.9644014935199081\n"
     ]
    }
   ],
   "source": [
    "Et = np.random.uniform(low=0, high=L-1, size=None)\n",
    "print(Et)\n",
    "ha_Et_squ = (ha-Et)@(ha-Et)\n",
    "ha_Et = ha-Et\n",
    "\n",
    "\n",
    "hamiltonian_jax = ha.to_pauli_strings().to_jax_operator()\n",
    "hamiltonian_sparse = ha.to_sparse()\n",
    "hamiltonian_jax_sparse = hamiltonian_jax.to_sparse()\n",
    "\n",
    "hamiltonian_Et_jax = ha_Et.to_pauli_strings().to_jax_operator()\n",
    "hamiltonian_Et_sparse = ha_Et.to_sparse()\n",
    "hamiltonian_Et_jax_sparse = hamiltonian_Et_jax.to_sparse()\n",
    "\n",
    "hamiltonian_Et_squ_jax = ha_Et_squ.to_pauli_strings().to_jax_operator()\n",
    "hamiltonian_Et_squ_sparse = ha_Et_squ.to_sparse()\n",
    "hamiltonian_Et_squ_jax_sparse = hamiltonian_Et_squ_jax.to_sparse()\n",
    "\n",
    "model = nk.models.RBM(alpha=2, param_dtype=complex)\n",
    "key = jax.random.key(0)\n",
    "\n",
    "parameters = model.init(key, np.random.rand(hi.size))"
   ]
  },
  {
   "cell_type": "code",
   "execution_count": 4,
   "metadata": {},
   "outputs": [
    {
     "data": {
      "text/plain": [
       "[<matplotlib.lines.Line2D at 0x7fb8a0cfa7d0>]"
      ]
     },
     "execution_count": 4,
     "metadata": {},
     "output_type": "execute_result"
    },
    {
     "data": {
      "image/png": "[encoded data removed]",
      "text/plain": [
       "<Figure size 640x480 with 1 Axes>"
      ]
     },
     "metadata": {},
     "output_type": "display_data"
    }
   ],
   "source": [
    "E, vec = np.linalg.eigh(ha.to_dense())\n",
    "plt.scatter(range(len(E)),E)\n",
    "plt.plot([0,len(E)],[Et,Et],'r')"
   ]
  },
  {
   "cell_type": "code",
   "execution_count": 5,
   "metadata": {},
   "outputs": [
    {
     "data": {
      "text/plain": [
       "array([-1.46043736e+01, -1.25136763e+01, -1.07985126e+01, -9.83495404e+00,\n",
       "       -9.83495404e+00, -8.58059350e+00, -8.58059350e+00, -7.41855072e+00,\n",
       "       -7.41855072e+00, -7.20775094e+00, -6.82842712e+00, -6.82842712e+00,\n",
       "       -6.47213595e+00, -6.47213595e+00, -5.06814039e+00, -5.06814039e+00,\n",
       "       -4.80655870e+00, -4.57649122e+00, -4.57649122e+00, -4.00000000e+00,\n",
       "       -3.43569420e+00, -3.43569420e+00, -3.04350689e+00, -2.90443778e+00,\n",
       "       -2.51351371e+00, -2.51351371e+00, -2.38787313e+00, -2.38787313e+00,\n",
       "       -2.05073281e+00, -2.05073281e+00, -1.78016747e+00, -1.74806410e+00,\n",
       "       -1.74806410e+00, -1.17157288e+00, -1.17157288e+00, -1.03460809e+00,\n",
       "       -1.03460809e+00, -6.40039970e-16, -6.07817502e-16, -5.75545700e-16,\n",
       "       -1.80828459e-16,  1.34000801e-15,  1.06181085e+00,  1.06181085e+00,\n",
       "        1.17157288e+00,  1.17157288e+00,  1.50881142e+00,  1.74806410e+00,\n",
       "        1.74806410e+00,  1.80642385e+00,  1.80642385e+00,  2.47213595e+00,\n",
       "        2.47213595e+00,  3.57077343e+00,  3.57077343e+00,  4.00000000e+00,\n",
       "        4.00000000e+00,  4.00000000e+00,  4.57649122e+00,  4.57649122e+00,\n",
       "        4.98791841e+00,  5.32023496e+00,  5.78290397e+00,  5.78290397e+00,\n",
       "        5.84201948e+00,  6.10274848e+00,  6.10274848e+00,  6.82842712e+00,\n",
       "        6.82842712e+00,  8.00000000e+00])"
      ]
     },
     "execution_count": 5,
     "metadata": {},
     "output_type": "execute_result"
    }
   ],
   "source": [
    "E"
   ]
  },
  {
   "cell_type": "code",
   "execution_count": 6,
   "metadata": {
    "tags": []
   },
   "outputs": [],
   "source": [
    "def to_array(ma, param):\n",
    "    # begin by generating all configurations in the hilbert space.\n",
    "    # all_States returns a batch of configurations that is (hi.n_states, N) large.\n",
    "    all_configurations = hi.all_states()\n",
    "\n",
    "    # now evaluate the model, and convert to a normalised wavefunction.\n",
    "    logpsi = ma.apply(param, all_configurations)\n",
    "    psi = jnp.exp(logpsi)\n",
    "    psi = psi / jnp.linalg.norm(psi)\n",
    "    return psi"
   ]
  },
  {
   "cell_type": "markdown",
   "metadata": {},
   "source": [
    "### 3.3 Energy\n",
    "Now, using that function, let's build another one that computes the energy of the mean field state for the given parameters! \n",
    "To do that, you can for example convert the hamiltonian to a sparse format and compute the energy"
   ]
  },
  {
   "cell_type": "code",
   "execution_count": 7,
   "metadata": {
    "tags": []
   },
   "outputs": [],
   "source": [
    "def compute_energy(ma, param, ham):\n",
    "    psi = to_array(ma, param)\n",
    "    return psi.conj().T@(ham@psi)"
   ]
  },
  {
   "cell_type": "code",
   "execution_count": 8,
   "metadata": {},
   "outputs": [],
   "source": [
    "def compute_variance(ma, param, ham):\n",
    "    psi = to_array(ma, param)\n",
    "    return psi.conj().T@(ham@ham@psi) - (psi.conj().T@(ham@psi))**2"
   ]
  },
  {
   "cell_type": "markdown",
   "metadata": {},
   "source": [
    "## 4. Monte Carlo complications "
   ]
  },
  {
   "cell_type": "markdown",
   "metadata": {},
   "source": [
    "Until now we did everything by summing over the whole hilbert space, but for larger problems that won't be possible. So let's look into MC sampling."
   ]
  },
  {
   "cell_type": "code",
   "execution_count": 9,
   "metadata": {},
   "outputs": [],
   "source": [
    "def compute_local_energies(ma, param, ham_jax, sigma):\n",
    "    eta, H_sigmaeta = ham_jax.get_conn_padded(sigma)\n",
    "    \n",
    "    logpsi_sigma = ma.apply(param, sigma)\n",
    "    logpsi_eta = ma.apply(param, eta)\n",
    "    logpsi_sigma = jnp.expand_dims(logpsi_sigma, -1) \n",
    "    \n",
    "    res = jnp.sum(H_sigmaeta * jnp.exp(logpsi_eta - logpsi_sigma), axis=-1)\n",
    "    \n",
    "    return res\n"
   ]
  },
  {
   "cell_type": "code",
   "execution_count": 1,
   "metadata": {},
   "outputs": [
    {
     "ename": "NameError",
     "evalue": "name 'hi' is not defined",
     "output_type": "error",
     "traceback": [
      "\u001b[0;31m---------------------------------------------------------------------------\u001b[0m",
      "\u001b[0;31mNameError\u001b[0m                                 Traceback (most recent call last)",
      "Cell \u001b[0;32mIn[1], line 1\u001b[0m\n\u001b[0;32m----> 1\u001b[0m sigma \u001b[38;5;241m=\u001b[39m hi\u001b[38;5;241m.\u001b[39mrandom_state(jax\u001b[38;5;241m.\u001b[39mrandom\u001b[38;5;241m.\u001b[39mkey(\u001b[38;5;241m1\u001b[39m))\n\u001b[1;32m      2\u001b[0m sigma\n",
      "\u001b[0;31mNameError\u001b[0m: name 'hi' is not defined"
     ]
    }
   ],
   "source": [
    "sigma = hi.random_state(jax.random.key(1))\n",
    "sigma"
   ]
  },
  {
   "cell_type": "markdown",
   "metadata": {
    "tags": []
   },
   "source": [
    "### 4.3 Sampling the energy\n",
    "\n",
    "So now write a function that computes the energy and estimates its error. I remind you that the error is given by \n",
    "\n",
    "$$\n",
    "    \\epsilon_E = \\sqrt{\\frac{\\mathbb{V}\\text{ar}(E_\\text{loc})}{N_\\text{samples}}}\n",
    "$$"
   ]
  },
  {
   "cell_type": "code",
   "execution_count": 10,
   "metadata": {
    "tags": []
   },
   "outputs": [],
   "source": [
    "@partial(jax.jit, static_argnames='ma')\n",
    "def estimate_energy(ma, parameters, ham_jax, sigma):\n",
    "    E_loc = compute_local_energies(ma, parameters, ham_jax, sigma)\n",
    "    \n",
    "    E_average = jnp.mean(E_loc)\n",
    "    E_variance = jnp.var(E_loc)\n",
    "    E_error = jnp.sqrt(E_variance / E_loc.size)\n",
    "    \n",
    "    # we return a netket Stats object that wraps all statistical information related to this mean value.\n",
    "    return nk.stats.Stats(mean=E_average, error_of_mean=E_error, variance=E_variance)\n"
   ]
  },
  {
   "cell_type": "markdown",
   "metadata": {
    "tags": []
   },
   "source": [
    "### 4.4 Sampling the gradient of the energy \n",
    "\n",
    "We have seen during the class that the gradient of the energy can be estimated according to the formula\n",
    "\n",
    "$$\n",
    "    \\nabla_k E = \\mathbb{E}_{\\sigma\\sim|\\psi(\\sigma)|^2} \\left[ (\\nabla_k \\log\\psi(\\sigma))^\\star \\left( E_\\text{loc}(\\sigma) - \\langle E \\rangle\\right)\\right] \\approx \\frac{1}{N_s}\\sum_i^{N_s} (\\nabla_k \\log\\psi(\\sigma_i))^\\star \\left( E_\\text{loc}(\\sigma_i) - \\langle E \\rangle\\right)\n",
    "$$\n",
    "\n",
    "Where $\\langle E \\rangle$ can be estimated as $\\langle E \\rangle \\approx \\frac{1}{N_s}\\sum_i E_\\text{loc}(\\sigma_i)$\n",
    "\n",
    "Now, for a second, think of $\\nabla_k \\log\\psi(\\sigma_i)$ as the _JACOBIAN_ of the function $\\log\\psi_\\sigma : \\mathbb{R}^{N_\\text{pars}} \\rightarrow \\mathbb{R}^{N_\\text{samples}}$, and think for a moment of $E_\\text{loc}(\\sigma_i)$ as a vector of size $\\mathbb{R}^{N_\\text{samples}}$"
   ]
  },
  {
   "cell_type": "markdown",
   "metadata": {},
   "source": [
    "Now implement a function that computes the jacobian-vector product in order to estimate the gradient of the energy. You can either do this vector-Jacobian-transpose product manually by using `jax.jacrev` and `jax.tree.map`, but you can also have a look at `jax.vjp` which does it automatically for you."
   ]
  },
  {
   "cell_type": "code",
   "execution_count": 11,
   "metadata": {},
   "outputs": [],
   "source": [
    "def add(x,y):\n",
    "    return x+y"
   ]
  },
  {
   "cell_type": "code",
   "execution_count": 58,
   "metadata": {},
   "outputs": [],
   "source": [
    "@partial(jax.jit, static_argnames='ma')\n",
    "def estimate_gradient(ma, param, sigma):\n",
    "    # reshape the samples to a vector of samples with no extra batch dimensions\n",
    "    sigma = sigma.reshape(-1, sigma.shape[-1])\n",
    "    \n",
    "    E_loc_ha_Et_squ = compute_local_energies(ma, param, hamiltonian_Et_squ_jax, sigma)\n",
    "    E_loc_ha_Et = compute_local_energies(ma, param, hamiltonian_Et_jax, sigma)\n",
    "    \n",
    "    # compute the energy as well\n",
    "    E_average = jnp.mean(E_loc_ha_Et_squ)\n",
    "    E_average_ha_Et = jnp.mean(E_loc_ha_Et)\n",
    "\n",
    "\n",
    "    # comptue the gradient ...\n",
    "    # first define the function to be differentiated\n",
    "    logpsi_sigma_fun = lambda pars : ma.apply(pars, sigma)\n",
    "\n",
    "    # use jacrev with jax.tree.map, or even better, jax.vjp\n",
    "    _, vjpfun = jax.vjp(logpsi_sigma_fun, param)\n",
    "    E_grad1 = vjpfun((E_loc_ha_Et_squ - E_average)/E_loc_ha_Et_squ.size)\n",
    "    # E_grad2 = vjpfun(-2*(E_loc_ha_Et - 2*E_average_ha_Et)/E_loc_ha_Et.size)\n",
    "\n",
    "    # E_grad = jax.tree.map(add, E_grad1, E_grad2)\n",
    "    E_grad = E_grad1\n",
    "\n",
    "    return E_grad[0]"
   ]
  },
  {
   "cell_type": "markdown",
   "metadata": {
    "tags": []
   },
   "source": [
    "### 4.5: Let's get down to business\n",
    "\n",
    "Now let's wrap everything up and let's use this code to compute the ground state with an SGD optimisation using the mean field and jastrow ansatz"
   ]
  },
  {
   "cell_type": "code",
   "execution_count": 59,
   "metadata": {
    "tags": []
   },
   "outputs": [
    {
     "name": "stderr",
     "output_type": "stream",
     "text": [
      "100%|███████████████████████████████████████| 1000/1000 [00:34<00:00, 29.35it/s]\n"
     ]
    }
   ],
   "source": [
    "from tqdm import tqdm\n",
    "import optax\n",
    "\n",
    "# settings \n",
    "# model = nk.models.RBM(alpha=2, param_dtype=complex)\n",
    "model = nk.models.RBM(alpha=2, param_dtype=complex)\n",
    "sampler = nk.sampler.MetropolisSampler(\n",
    "                        hi,                            # the hilbert space to be sampled\n",
    "                        nk.sampler.rules.ExchangeRule(graph=g),  # the transition rule\n",
    "                        # nk.sampler.rules.LocalRule(),\n",
    "                        n_chains = 8)\n",
    "n_iters = 1000\n",
    "chain_length = 512//sampler.n_chains\n",
    "\n",
    "# initialise\n",
    "parameters = model.init(jax.random.key(1), np.ones((hi.size, )))\n",
    "sampler_state = sampler.init_state(model, parameters, seed=0)\n",
    "\n",
    "optimizer = optax.adam(learning_rate=0.001)\n",
    "optimizer_state = optimizer.init(parameters)\n",
    "\n",
    "\n",
    "# logging: you can (if you want) use netket loggers to avoid writing a lot of boilerplate...\n",
    "# they accumulate data you throw at them\n",
    "logger = nk.logging.RuntimeLog()\n",
    "Eenergy = []\n",
    "for i in tqdm(range(n_iters)):\n",
    "    # sample\n",
    "    sampler_state = sampler.reset(model, parameters, state=sampler_state)\n",
    "    samples, sampler_state = sampler.sample(model, parameters, state=sampler_state, chain_length=chain_length)\n",
    "    \n",
    "    # compute energy and gradient\n",
    "    E_grad = estimate_gradient(model, parameters, samples)\n",
    "    updates, optimizer_state = optimizer.update(E_grad, optimizer_state, parameters)\n",
    "    parameters = optax.apply_updates(parameters, updates)\n"
   ]
  },
  {
   "cell_type": "code",
   "execution_count": 52,
   "metadata": {},
   "outputs": [],
   "source": [
    "# plt.plot(Eenergy)"
   ]
  },
  {
   "cell_type": "code",
   "execution_count": 53,
   "metadata": {},
   "outputs": [
    {
     "data": {
      "text/plain": [
       "Array([ 3.58618452e-03+8.91959061e-03j, -8.69586161e-03+1.35529151e-02j,\n",
       "        9.47337088e-03-1.13945419e-02j, -6.95195766e-05+2.61533406e-04j,\n",
       "        2.39186960e-04+3.15002942e-04j, -3.48185330e-04-1.33017063e-05j,\n",
       "       -7.35840128e-05-2.75110936e-03j, -9.62990232e-05-1.43142640e-04j,\n",
       "       -7.67131564e-05-7.37488488e-05j,  2.50420186e-04+7.10961533e-04j,\n",
       "        3.91266683e-07-3.33622439e-07j,  5.68303349e-04-9.57148966e-05j,\n",
       "       -8.51859411e-06-4.73226129e-05j, -3.94934575e-06-2.52755893e-04j,\n",
       "        1.27008583e-03-1.61163496e-03j,  7.39326567e-03+1.78193827e-02j,\n",
       "       -1.97980002e-01-1.63507791e-01j,  3.81877748e-04+7.24418190e-04j,\n",
       "       -1.21004547e-03-4.66502601e-04j, -1.47317057e-01-1.04206021e-01j,\n",
       "       -1.57807260e-05+2.72540649e-04j,  3.28612160e-05+2.99076537e-03j,\n",
       "        6.48950036e-04-8.55263171e-04j, -2.13679744e-03+9.55209215e-03j,\n",
       "       -4.32372079e-04+8.65835292e-04j,  3.44790505e-03-6.24501060e-03j,\n",
       "        4.22083831e-06-1.72703599e-05j, -4.94983611e-04+3.70928660e-04j,\n",
       "        8.61440278e-04-3.28305982e-04j,  6.72015010e-05+6.42031858e-05j,\n",
       "        6.44366288e-05-3.28556822e-03j, -1.17112965e-05+1.36863347e-05j,\n",
       "        4.67159140e-03+2.42675328e-03j, -7.15944898e-04+2.81737119e-03j,\n",
       "        4.15864324e-03+7.93840895e-04j,  4.96031956e-01+3.90066253e-01j,\n",
       "       -3.51657511e-01-3.19968392e-01j,  5.74208762e-02+3.38755220e-02j,\n",
       "        1.94825334e-04+5.33278202e-04j, -3.71018373e-01-2.22436922e-01j,\n",
       "       -4.09732458e-02-1.19011258e-02j,  9.24090709e-04+1.57541370e-03j,\n",
       "       -1.53513340e-03+7.16686838e-03j, -4.31689205e-05+6.16615480e-04j,\n",
       "       -1.37674325e-05+1.06899075e-03j, -1.10100350e-02-2.40983979e-02j,\n",
       "       -2.03247756e-03-2.66780054e-04j,  1.22577809e-04-2.17400155e-04j,\n",
       "        2.72689431e-03-9.26317181e-03j, -1.73475776e-06-4.69759891e-06j,\n",
       "       -2.54309892e-03+4.91635164e-04j, -1.62698159e-04-7.24423487e-05j,\n",
       "        3.23905884e-04-1.17614967e-04j,  3.35794821e-03+1.75291842e-03j,\n",
       "        3.88806377e-04-2.23511788e-04j,  2.09283234e-01+1.94558817e-01j,\n",
       "       -7.54257776e-04-4.55991884e-03j,  1.02396875e-04+4.67756176e-04j,\n",
       "       -2.91047197e-03+1.04665804e-02j, -3.32495157e-04+1.41149170e-05j,\n",
       "        3.94681034e-04+8.81420696e-06j, -2.75879622e-03+9.73078069e-04j,\n",
       "        1.84372581e-03-4.71577304e-04j,  1.64906809e-04+4.20755954e-06j,\n",
       "        1.65766959e-04+7.02795523e-05j, -4.17272076e-04-3.90997845e-05j,\n",
       "        1.10584214e-05+2.30711725e-05j,  7.75187279e-05-3.48755153e-04j,\n",
       "       -1.59427508e-05-4.43330402e-05j,  1.84257808e-04-1.60604905e-04j],      dtype=complex128)"
      ]
     },
     "execution_count": 53,
     "metadata": {},
     "output_type": "execute_result"
    }
   ],
   "source": [
    "to_array(model, parameters)"
   ]
  },
  {
   "cell_type": "code",
   "execution_count": 55,
   "metadata": {},
   "outputs": [
    {
     "name": "stdout",
     "output_type": "stream",
     "text": [
      "Energy :  2.0782575679656907\n",
      "Variance :  5.750491800270916\n"
     ]
    }
   ],
   "source": [
    "# to plot the data, access it!logger.data['Energy']['Mean'].real\n",
    "# plt.plot(logger.data['Energy']['iters'], logger.data['Energy']['Mean'].real)\n",
    "print('Energy : ',compute_energy(model, parameters, ha).real)\n",
    "print('Variance : ',compute_variance(model, parameters, ha).real)"
   ]
  },
  {
   "cell_type": "markdown",
   "metadata": {},
   "source": [
    "### 5.2: Try better optimisers\n",
    "\n",
    "There is a library, [optax](https://optax.readthedocs.io/en/latest/), that implements several optimisers. \n",
    "Try to use adam or other optimisers.\n",
    "The way you use them is as follows:"
   ]
  },
  {
   "cell_type": "code",
   "execution_count": null,
   "metadata": {
    "tags": []
   },
   "outputs": [],
   "source": [
    "import optax\n",
    "\n",
    "# define\n",
    "optimizer = optax.adam(learning_rate=0.01)\n",
    "\n",
    "# initialise\n",
    "parameters = model.init(...)\n",
    "optimizer_state = optimizer.init(parameters)\n",
    "\n",
    "for i in range(n_iters):\n",
    "    E, E_grad = estimate_energy_and_grad(..., parameters, ...)\n",
    "    \n",
    "    updates, optimizer_state = optimizer.update(E_grad, optimizer_state, parameters)\n",
    "    parameters = optax.apply_updates(parameters, updates)\n"
   ]
  },
  {
   "cell_type": "code",
   "execution_count": null,
   "metadata": {},
   "outputs": [],
   "source": []
  }
 ],
 "metadata": {
  "kernelspec": {
   "display_name": "Python 3 (ipykernel)",
   "language": "python",
   "name": "python3"
  },
  "language_info": {
   "codemirror_mode": {
    "name": "ipython",
    "version": 3
   },
   "file_extension": ".py",
   "mimetype": "text/x-python",
   "name": "python",
   "nbconvert_exporter": "python",
   "pygments_lexer": "ipython3",
   "version": "3.11.7"
  }
 },
 "nbformat": 4,
 "nbformat_minor": 4
}
