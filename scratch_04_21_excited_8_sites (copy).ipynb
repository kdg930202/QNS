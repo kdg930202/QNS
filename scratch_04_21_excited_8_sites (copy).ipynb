{
 "cells": [
  {
   "cell_type": "code",
   "execution_count": 1,
   "metadata": {},
   "outputs": [],
   "source": [
    "import netket as nk\n",
    "from numpy.lib.function_base import append\n",
    "from itertools import permutations, combinations\n",
    "from netket.vqs.mc import get_local_kernel_arguments, get_local_kernel\n",
    "import time\n",
    "import matplotlib.pyplot as plt\n",
    "import json\n",
    "import numpy as np\n",
    "from numpy.linalg import eig\n",
    "from flax.core.frozen_dict import FrozenDict\n",
    "import flax\n",
    "from netket.optimizer.qgt import QGTJacobianPyTree\n",
    "\n",
    "\n",
    "from typing import Callable, Tuple\n",
    "from functools import partial\n",
    "\n",
    "import jax\n",
    "from jax import numpy as jnp\n",
    "\n",
    "from netket.stats import statistics as mpi_statistics, mean as mpi_mean, Stats\n",
    "from netket.utils.types import PyTree\n",
    "from netket.operator.spin import sigmax, sigmay,sigmaz\n",
    "\n",
    "import matplotlib.pyplot as plt\n",
    "from tqdm import tqdm\n",
    "################################################################\n",
    "from scipy.sparse.linalg import eigsh\n",
    "################################################################\n",
    "import os\n",
    "import pandas as pd\n",
    "\n"
   ]
  },
  {
   "cell_type": "code",
   "execution_count": 2,
   "metadata": {
    "tags": []
   },
   "outputs": [],
   "source": [
    "# We always shorten netket as nk\n",
    "import netket as nk\n",
    "\n",
    "# Define a 1d chain\n",
    "L = 8\n",
    "g = nk.graph.Hypercube(length=L, n_dim=1, pbc=True)\n",
    "hi = nk.hilbert.Spin(s=1/2, N=g.n_nodes)\n",
    "# ha = nk.operator.Heisenberg(hilbert=hi, graph=g)\n",
    "dis=1\n",
    "b=dis\n",
    "a=-dis\n",
    "Gamma = (b-a) * np.random.random_sample(L) + a\n",
    "\n",
    "ha = sum([ sigmax(hi,i)*sigmax(hi,(i+1)%L)\n",
    "         + sigmay(hi,i)*sigmay(hi,(i+1)%L)\n",
    "         + sigmaz(hi,i)*sigmaz(hi,(i+1)%L)\n",
    "           for i in range(L)])\n",
    "################################################################################\n",
    "################################################################################\n",
    "################################################################################\n",
    "ha = ha + sum([Gamma[i]*sigmaz(hi,i) for i in range(L)])"
   ]
  },
  {
   "cell_type": "code",
   "execution_count": 3,
   "metadata": {
    "tags": []
   },
   "outputs": [
    {
     "data": {
      "text/plain": [
       "3"
      ]
     },
     "execution_count": 3,
     "metadata": {},
     "output_type": "execute_result"
    }
   ],
   "source": [
    "Et = np.random.randint(low=0, high=L, size=None)\n",
    "# Et = np.random.randint(0,L, size=1)\n",
    "# Et = 9\n",
    "Et\n"
   ]
  },
  {
   "cell_type": "code",
   "execution_count": 4,
   "metadata": {},
   "outputs": [
    {
     "data": {
      "text/plain": [
       "[<matplotlib.lines.Line2D at 0x7a91bb83b410>]"
      ]
     },
     "execution_count": 4,
     "metadata": {},
     "output_type": "execute_result"
    },
    {
     "data": {
      "image/png": "[encoded data removed]",
      "text/plain": [
       "<Figure size 640x480 with 1 Axes>"
      ]
     },
     "metadata": {},
     "output_type": "display_data"
    }
   ],
   "source": [
    "E, vec = np.linalg.eigh(ha.to_dense())\n",
    "plt.scatter(np.arange(len(E)),E,s=20)\n",
    "plt.ylabel('E',fontsize=18)\n",
    "plt.plot([0,len(E)],[Et,Et],'r')"
   ]
  },
  {
   "cell_type": "code",
   "execution_count": 5,
   "metadata": {},
   "outputs": [
    {
     "data": {
      "text/plain": [
       "array([-1.50234462e+01, -1.38732590e+01, -1.27166819e+01, -1.27024381e+01,\n",
       "       -1.22122612e+01, -1.08558503e+01, -1.07631831e+01, -1.03290665e+01,\n",
       "       -9.84255903e+00, -9.47360167e+00, -9.42746602e+00, -9.39755392e+00,\n",
       "       -9.38732237e+00, -9.38314182e+00, -9.09752075e+00, -9.08116063e+00,\n",
       "       -8.74366974e+00, -8.41117201e+00, -8.35229085e+00, -8.18362120e+00,\n",
       "       -8.18299868e+00, -8.09314920e+00, -7.60030464e+00, -7.24545974e+00,\n",
       "       -7.20701408e+00, -6.97854514e+00, -6.97498191e+00, -6.84378980e+00,\n",
       "       -6.81006601e+00, -6.65747445e+00, -6.57102620e+00, -6.47195912e+00,\n",
       "       -6.45761574e+00, -6.35207961e+00, -6.22497681e+00, -6.05900978e+00,\n",
       "       -5.89561589e+00, -5.55274109e+00, -5.54740380e+00, -5.42819927e+00,\n",
       "       -5.38973544e+00, -5.26569152e+00, -5.25228790e+00, -5.22851597e+00,\n",
       "       -5.13654103e+00, -4.99915427e+00, -4.70766814e+00, -4.70748365e+00,\n",
       "       -4.67603446e+00, -4.64516899e+00, -4.59457961e+00, -4.57856040e+00,\n",
       "       -4.30720174e+00, -4.20937789e+00, -4.15924323e+00, -4.01561711e+00,\n",
       "       -4.01098049e+00, -3.98563279e+00, -3.81148237e+00, -3.80907354e+00,\n",
       "       -3.80248302e+00, -3.65982572e+00, -3.57851787e+00, -3.47160448e+00,\n",
       "       -3.39522706e+00, -3.38281148e+00, -3.31386328e+00, -3.31170256e+00,\n",
       "       -3.26634258e+00, -3.15888568e+00, -3.11483423e+00, -3.06709822e+00,\n",
       "       -2.95970344e+00, -2.92649509e+00, -2.88599415e+00, -2.73442218e+00,\n",
       "       -2.70060426e+00, -2.64045118e+00, -2.47007221e+00, -2.41199123e+00,\n",
       "       -2.31077369e+00, -2.23548495e+00, -2.19042500e+00, -2.16090529e+00,\n",
       "       -2.11040338e+00, -2.03501361e+00, -1.99551172e+00, -1.91752769e+00,\n",
       "       -1.88993191e+00, -1.84070558e+00, -1.78475929e+00, -1.71362403e+00,\n",
       "       -1.66721376e+00, -1.62165093e+00, -1.55620697e+00, -1.53619623e+00,\n",
       "       -1.50975259e+00, -1.47416594e+00, -1.44169089e+00, -1.33896235e+00,\n",
       "       -1.32634450e+00, -1.27494191e+00, -1.22030953e+00, -1.12786085e+00,\n",
       "       -1.12753426e+00, -1.11180424e+00, -9.42835086e-01, -8.53234636e-01,\n",
       "       -8.01125021e-01, -7.29575327e-01, -6.49976640e-01, -6.08910204e-01,\n",
       "       -5.42803254e-01, -5.31088698e-01, -4.62544961e-01, -4.21652844e-01,\n",
       "       -4.10585988e-01, -3.62908920e-01, -2.29517270e-01, -2.24047323e-01,\n",
       "       -1.77191469e-01, -1.06824499e-01,  1.35986372e-02,  2.21718543e-02,\n",
       "        4.16365698e-02,  1.20681895e-01,  1.73595514e-01,  2.11017092e-01,\n",
       "        3.25582447e-01,  3.57249665e-01,  4.39594861e-01,  4.62789351e-01,\n",
       "        5.37499106e-01,  6.01227141e-01,  6.33589791e-01,  6.67114217e-01,\n",
       "        6.71841129e-01,  7.54218103e-01,  7.68737586e-01,  8.83621657e-01,\n",
       "        9.00538953e-01,  1.01675039e+00,  1.02456327e+00,  1.03328388e+00,\n",
       "        1.07724290e+00,  1.09204272e+00,  1.34346942e+00,  1.37222360e+00,\n",
       "        1.45646352e+00,  1.47668109e+00,  1.49179981e+00,  1.55653500e+00,\n",
       "        1.66291562e+00,  1.69612055e+00,  1.74124130e+00,  1.88721398e+00,\n",
       "        1.98658414e+00,  1.99692243e+00,  2.00436254e+00,  2.09805105e+00,\n",
       "        2.11090745e+00,  2.13506507e+00,  2.19241189e+00,  2.24227998e+00,\n",
       "        2.30659869e+00,  2.31447225e+00,  2.45614673e+00,  2.46447018e+00,\n",
       "        2.47081670e+00,  2.50471679e+00,  2.58340059e+00,  2.65081204e+00,\n",
       "        2.66158646e+00,  2.81575097e+00,  2.85516534e+00,  2.90757199e+00,\n",
       "        2.97265493e+00,  3.00217675e+00,  3.26685223e+00,  3.27076410e+00,\n",
       "        3.27373940e+00,  3.39624454e+00,  3.43812427e+00,  3.48957675e+00,\n",
       "        3.54432773e+00,  3.62108504e+00,  3.76000530e+00,  3.93040233e+00,\n",
       "        4.00245245e+00,  4.11441688e+00,  4.14018876e+00,  4.17398112e+00,\n",
       "        4.31396899e+00,  4.31687839e+00,  4.41389415e+00,  4.46491444e+00,\n",
       "        4.52592419e+00,  4.69336809e+00,  4.76034348e+00,  4.80729637e+00,\n",
       "        4.92565742e+00,  4.94206084e+00,  4.99782325e+00,  5.00998485e+00,\n",
       "        5.05080983e+00,  5.09396322e+00,  5.10588363e+00,  5.19576326e+00,\n",
       "        5.21876828e+00,  5.27140873e+00,  5.32440178e+00,  5.32924665e+00,\n",
       "        5.52918330e+00,  5.61857122e+00,  5.67797010e+00,  5.69340131e+00,\n",
       "        5.70261525e+00,  5.74582881e+00,  5.75772002e+00,  5.75868382e+00,\n",
       "        5.81874222e+00,  5.90872809e+00,  5.91197444e+00,  6.02968592e+00,\n",
       "        6.08359750e+00,  6.32648786e+00,  6.38178804e+00,  6.40777862e+00,\n",
       "        6.46943887e+00,  6.49236546e+00,  6.62777640e+00,  6.71933654e+00,\n",
       "        6.73947453e+00,  6.74594608e+00,  6.81826738e+00,  6.86751327e+00,\n",
       "        7.13020393e+00,  7.13248668e+00,  7.32701490e+00,  7.37263952e+00,\n",
       "        7.41810468e+00,  7.62071252e+00,  7.65024616e+00,  7.69934439e+00,\n",
       "        7.96609870e+00,  7.97782815e+00,  8.05763818e+00,  8.12588124e+00,\n",
       "        8.29275015e+00,  8.66732784e+00,  8.67809923e+00,  9.22283976e+00,\n",
       "        9.27494191e+00,  9.67306005e+00,  9.99551172e+00,  1.01812578e+01])"
      ]
     },
     "execution_count": 5,
     "metadata": {},
     "output_type": "execute_result"
    }
   ],
   "source": [
    "E"
   ]
  },
  {
   "cell_type": "code",
   "execution_count": 6,
   "metadata": {},
   "outputs": [],
   "source": [
    "# and like before, we can jit-compile it!\n",
    "# compute_energy_jit = jax.jit(compute_energy, static_argnames=\"model\")\n",
    "\n",
    "# and we precompute the sparse-hamiltonian to avoid the overhead of re-computing them all the time\n",
    "# hamiltonian_jax = ha.to_pauli_strings().to_jax_operator()\n",
    "# hamiltonian_sparse = hamiltonian.to_sparse()\n",
    "# hamiltonian_jax_sparse = hamiltonian_jax.to_sparse()\n",
    "\n",
    "hamil_Et_jax = (ha-Et).to_pauli_strings().to_jax_operator()\n",
    "hamil_Et_jax_sparse = hamil_Et_jax.to_sparse()\n",
    "\n",
    "hamil_Et_sq_jax = ((ha-Et)@(ha-Et)).to_pauli_strings().to_jax_operator()\n",
    "hamil_Et_sq_jax_sparse = hamil_Et_sq_jax.to_sparse()"
   ]
  },
  {
   "cell_type": "markdown",
   "metadata": {},
   "source": [
    "The model itself is only a set of instructions on how to initialise the parameters and how to compute the result. \n",
    "\n",
    "To initialise the parameters we do the following:"
   ]
  },
  {
   "cell_type": "code",
   "execution_count": 7,
   "metadata": {
    "tags": []
   },
   "outputs": [],
   "source": [
    "def to_array(model, parameters):\n",
    "    # begin by generating all configurations in the hilbert space.\n",
    "    # all_States returns a batch of configurations that is (hi.n_states, N) large.\n",
    "    all_configurations = hi.all_states()\n",
    "\n",
    "    # now evaluate the model, and convert to a normalised wavefunction.\n",
    "    logpsi = model.apply(parameters, all_configurations)\n",
    "    psi = jnp.exp(logpsi)\n",
    "    psi = psi / jnp.linalg.norm(psi)\n",
    "    return psi"
   ]
  },
  {
   "cell_type": "markdown",
   "metadata": {},
   "source": [
    "### 3.3 Energy\n",
    "Now, using that function, let's build another one that computes the energy of the mean field state for the given parameters! \n",
    "To do that, you can for example convert the hamiltonian to a sparse format and compute the energy"
   ]
  },
  {
   "cell_type": "code",
   "execution_count": 8,
   "metadata": {
    "tags": []
   },
   "outputs": [],
   "source": [
    "def compute_energy(model, parameters, hamil):\n",
    "    psi_gs = to_array(model, parameters)\n",
    "    return psi_gs.conj().T@(hamil@psi_gs)\n",
    "\n",
    "def loss_fun(model, pre_psi, parameters, ha_Et, ha_Et_sq):\n",
    "    psi_gs = to_array(model, parameters)\n",
    "    return psi_gs.conj().T@(ha_Et_sq@psi_gs) - 2*pre_psi.conj().T@(ha_Et@psi_gs)\n",
    "    # return psi_gs.conj().T@(ha_Et_sq@psi_gs)/(psi_gs.conj()@psi_gs) - 2*pre_psi.conj().T@(ha_Et@psi_gs)/(pre_psi.conj()@psi_gs)\n",
    "    # return psi_gs.conj().T@(ha_Et_sq@psi_gs)\n",
    "    \n",
    "def compute_variance(model, parameters, hamil):\n",
    "    psi_gs = to_array(model, parameters)\n",
    "    variance = psi_gs.conj().T@(hamil@hamil@psi_gs) - (psi_gs.conj().T@(hamil@psi_gs))**2 \n",
    "    return variance"
   ]
  },
  {
   "cell_type": "code",
   "execution_count": 9,
   "metadata": {
    "tags": []
   },
   "outputs": [],
   "source": [
    "from functools import partial\n",
    "\n",
    "# we use partial to directly jit this function. Jitting the top-most will jit everything inside it as well.\n",
    "@partial(jax.jit, static_argnames='model')\n",
    "def compute_and_gradient(model, pre_psi, parameters, ha_Et, ha_Et_sq):\n",
    "    # grad_fun = jax.value_and_grad(compute_energy, argnums=1)\n",
    "    grad_fun = jax.jacfwd(loss_fun, argnums=2,holomorphic=True)\n",
    "    # grad_fun = jax.jacrev(loss_fun, argnums=2,holomorphic=True)\n",
    "    return grad_fun(model, pre_psi, parameters, ha_Et, ha_Et_sq)"
   ]
  },
  {
   "cell_type": "code",
   "execution_count": 10,
   "metadata": {
    "tags": []
   },
   "outputs": [
    {
     "name": "stderr",
     "output_type": "stream",
     "text": [
      " 45%|█████████████████▎                    | 4547/10000 [04:28<05:22, 16.90it/s]\n"
     ]
    },
    {
     "ename": "KeyboardInterrupt",
     "evalue": "",
     "output_type": "error",
     "traceback": [
      "\u001b[0;31m---------------------------------------------------------------------------\u001b[0m",
      "\u001b[0;31mKeyboardInterrupt\u001b[0m                         Traceback (most recent call last)",
      "Cell \u001b[0;32mIn[10], line 30\u001b[0m\n\u001b[1;32m     28\u001b[0m pre_psi \u001b[38;5;241m=\u001b[39m to_array(model, parameters)\n\u001b[1;32m     29\u001b[0m energy\u001b[38;5;241m.\u001b[39mappend(compute_energy(model, parameters, ha))\n\u001b[0;32m---> 30\u001b[0m gradient \u001b[38;5;241m=\u001b[39m compute_and_gradient(model, pre_psi, parameters, hamil_Et_jax_sparse, hamil_Et_sq_jax_sparse)\n\u001b[1;32m     31\u001b[0m updates, optimizer_state \u001b[38;5;241m=\u001b[39m optimizer\u001b[38;5;241m.\u001b[39mupdate(gradient, optimizer_state, parameters)\n\u001b[1;32m     32\u001b[0m \u001b[38;5;66;03m# update parameters\u001b[39;00m\n\u001b[1;32m     33\u001b[0m \u001b[38;5;66;03m# parameters = jax.tree.map(lambda x,y:x-0.01*y, parameters, gradient)\u001b[39;00m\n",
      "\u001b[0;31mKeyboardInterrupt\u001b[0m: "
     ]
    }
   ],
   "source": [
    "model = nk.models.RBM(alpha=2, param_dtype=complex)\n",
    "\n",
    "parameters = model.init(jax.random.PRNGKey(0), np.ones((hi.size, )))\n",
    "\n",
    "# logging: you can (if you want) use netket loggers to avoid writing a lot of boilerplate...\n",
    "# they accumulate data you throw at them\n",
    "logger = nk.logging.RuntimeLog()\n",
    "energy = []\n",
    "from tqdm import tqdm\n",
    "import optax\n",
    "\n",
    "# define\n",
    "optimizer = optax.adam(learning_rate=0.001)\n",
    "\n",
    "# initialise\n",
    "optimizer_state = optimizer.init(parameters)\n",
    "\n",
    "# for i in range(n_iters):\n",
    "#     E, E_grad = estimate_energy_and_grad(..., parameters, ...)\n",
    "    \n",
    "#     updates, optimizer_state = optimizer.update(E_grad, optimizer_state, parameters)\n",
    "#     parameters = optax.apply_updates(parameters, updates)\n",
    "\n",
    "\n",
    "for i in tqdm(range(10000)):\n",
    "    # compute energy and gradient\n",
    "    # energy, gradient = compute_energy_and_gradient(model, parameters, hamiltonian_jax_sparse)\n",
    "    pre_psi = to_array(model, parameters)\n",
    "    energy.append(compute_energy(model, parameters, ha))\n",
    "    gradient = compute_and_gradient(model, pre_psi, parameters, hamil_Et_jax_sparse, hamil_Et_sq_jax_sparse)\n",
    "    updates, optimizer_state = optimizer.update(gradient, optimizer_state, parameters)\n",
    "    # update parameters\n",
    "    # parameters = jax.tree.map(lambda x,y:x-0.01*y, parameters, gradient)\n",
    "    parameters = optax.apply_updates(parameters, updates)\n",
    "    \n",
    "    # log energy: the logger takes a step argument and a dictionary of variables to be logged\n",
    "    # logger(step=i, item={'Energy':energy})\n",
    "\n",
    "    \n",
    "compute_variance(model, parameters, ha)    "
   ]
  },
  {
   "cell_type": "code",
   "execution_count": null,
   "metadata": {
    "scrolled": true
   },
   "outputs": [],
   "source": [
    "psi_ = to_array(model, parameters)\n",
    "psi_.conj().T@(ha@ha@psi_) - (psi_.conj().T@(ha@psi_))**2 "
   ]
  },
  {
   "cell_type": "code",
   "execution_count": null,
   "metadata": {},
   "outputs": [],
   "source": [
    "plt.plot(np.real(energy))\n",
    "# plt.xlim([2500,2510])"
   ]
  },
  {
   "cell_type": "code",
   "execution_count": null,
   "metadata": {},
   "outputs": [],
   "source": [
    "energy[-1]"
   ]
  },
  {
   "cell_type": "code",
   "execution_count": null,
   "metadata": {},
   "outputs": [],
   "source": []
  }
 ],
 "metadata": {
  "kernelspec": {
   "display_name": "Python 3 (ipykernel)",
   "language": "python",
   "name": "python3"
  },
  "language_info": {
   "codemirror_mode": {
    "name": "ipython",
    "version": 3
   },
   "file_extension": ".py",
   "mimetype": "text/x-python",
   "name": "python",
   "nbconvert_exporter": "python",
   "pygments_lexer": "ipython3",
   "version": "3.11.7"
  }
 },
 "nbformat": 4,
 "nbformat_minor": 4
}
