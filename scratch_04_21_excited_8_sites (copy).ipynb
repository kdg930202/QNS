{
 "cells": [
  {
   "cell_type": "code",
   "execution_count": 5,
   "metadata": {},
   "outputs": [],
   "source": [
    "import netket as nk\n",
    "from numpy.lib.function_base import append\n",
    "from itertools import permutations, combinations\n",
    "from netket.vqs.mc import get_local_kernel_arguments, get_local_kernel\n",
    "import time\n",
    "import matplotlib.pyplot as plt\n",
    "import json\n",
    "import numpy as np\n",
    "from numpy.linalg import eig\n",
    "from flax.core.frozen_dict import FrozenDict\n",
    "import flax\n",
    "from netket.optimizer.qgt import QGTJacobianPyTree\n",
    "\n",
    "\n",
    "from typing import Callable, Tuple\n",
    "from functools import partial\n",
    "\n",
    "import jax\n",
    "from jax import numpy as jnp\n",
    "\n",
    "from netket.stats import statistics as mpi_statistics, mean as mpi_mean, Stats\n",
    "from netket.utils.types import PyTree\n",
    "from netket.operator.spin import sigmax, sigmay,sigmaz\n",
    "\n",
    "import matplotlib.pyplot as plt\n",
    "from tqdm import tqdm\n",
    "################################################################\n",
    "from scipy.sparse.linalg import eigsh\n",
    "################################################################\n",
    "import os\n",
    "import pandas as pd\n",
    "\n"
   ]
  },
  {
   "cell_type": "code",
   "execution_count": 6,
   "metadata": {
    "tags": []
   },
   "outputs": [],
   "source": [
    "# We always shorten netket as nk\n",
    "import netket as nk\n",
    "\n",
    "# Define a 1d chain\n",
    "L = 8\n",
    "g = nk.graph.Hypercube(length=L, n_dim=1, pbc=True)\n",
    "hi = nk.hilbert.Spin(s=1/2, N=g.n_nodes)\n",
    "# ha = nk.operator.Heisenberg(hilbert=hi, graph=g)\n",
    "dis=1\n",
    "b=dis\n",
    "a=-dis\n",
    "Gamma = (b-a) * np.random.random_sample(L) + a\n",
    "\n",
    "ha = sum([ sigmax(hi,i)*sigmax(hi,(i+1)%L)\n",
    "         + sigmay(hi,i)*sigmay(hi,(i+1)%L)\n",
    "         + sigmaz(hi,i)*sigmaz(hi,(i+1)%L)\n",
    "           for i in range(L)])\n",
    "################################################################################\n",
    "################################################################################\n",
    "################################################################################\n",
    "ha = ha + sum([Gamma[i]*sigmaz(hi,i) for i in range(L)])"
   ]
  },
  {
   "cell_type": "code",
   "execution_count": 7,
   "metadata": {
    "tags": []
   },
   "outputs": [
    {
     "data": {
      "text/plain": [
       "3"
      ]
     },
     "execution_count": 7,
     "metadata": {},
     "output_type": "execute_result"
    }
   ],
   "source": [
    "Et = np.random.randint(low=0, high=L, size=None)\n",
    "# Et = np.random.randint(0,L, size=1)\n",
    "# Et = 9\n",
    "Et\n"
   ]
  },
  {
   "cell_type": "code",
   "execution_count": 8,
   "metadata": {},
   "outputs": [
    {
     "data": {
      "text/plain": [
       "[<matplotlib.lines.Line2D at 0x7c8c72135e10>]"
      ]
     },
     "execution_count": 8,
     "metadata": {},
     "output_type": "execute_result"
    },
    {
     "data": {
      "image/png": "[encoded data removed]",
      "text/plain": [
       "<Figure size 640x480 with 1 Axes>"
      ]
     },
     "metadata": {},
     "output_type": "display_data"
    }
   ],
   "source": [
    "E, vec = np.linalg.eigh(ha.to_dense())\n",
    "plt.scatter(np.arange(len(E)),E,s=20)\n",
    "plt.ylabel('E',fontsize=18)\n",
    "plt.plot([0,len(E)],[Et,Et],'r')"
   ]
  },
  {
   "cell_type": "code",
   "execution_count": 9,
   "metadata": {},
   "outputs": [
    {
     "data": {
      "text/plain": [
       "array([-1.59608000e+01, -1.42739011e+01, -1.24911463e+01, -1.21985358e+01,\n",
       "       -1.20150667e+01, -1.17143286e+01, -1.11450893e+01, -1.03692291e+01,\n",
       "       -1.00258925e+01, -9.83526131e+00, -9.80463750e+00, -9.56488997e+00,\n",
       "       -9.55721173e+00, -9.38267516e+00, -9.29424118e+00, -9.06429706e+00,\n",
       "       -8.83477262e+00, -8.45999563e+00, -8.30962836e+00, -8.04001690e+00,\n",
       "       -8.01444316e+00, -7.88516332e+00, -7.84156504e+00, -7.75767861e+00,\n",
       "       -7.66942398e+00, -7.38805489e+00, -7.12853165e+00, -7.08945844e+00,\n",
       "       -6.72838987e+00, -6.46979603e+00, -6.45637968e+00, -6.45310640e+00,\n",
       "       -6.42838126e+00, -6.28775426e+00, -6.10747314e+00, -6.07817869e+00,\n",
       "       -6.04599526e+00, -5.90874357e+00, -5.62293937e+00, -5.61327634e+00,\n",
       "       -5.42726706e+00, -5.29052399e+00, -5.20495619e+00, -5.07090585e+00,\n",
       "       -5.00324768e+00, -4.77484402e+00, -4.75546717e+00, -4.54951896e+00,\n",
       "       -4.52846349e+00, -4.48963773e+00, -4.39734640e+00, -4.26037306e+00,\n",
       "       -4.21438736e+00, -4.19661364e+00, -4.19616868e+00, -4.05624562e+00,\n",
       "       -3.99083734e+00, -3.94604147e+00, -3.94475543e+00, -3.77931072e+00,\n",
       "       -3.73450919e+00, -3.72374740e+00, -3.46513818e+00, -3.45175322e+00,\n",
       "       -3.40498325e+00, -3.39401005e+00, -3.35084937e+00, -3.26892388e+00,\n",
       "       -3.24795368e+00, -3.14888830e+00, -3.04629275e+00, -3.04021055e+00,\n",
       "       -3.02312088e+00, -3.01860367e+00, -2.90581282e+00, -2.82624567e+00,\n",
       "       -2.81212186e+00, -2.74185255e+00, -2.58544244e+00, -2.51838580e+00,\n",
       "       -2.45595970e+00, -2.35975055e+00, -2.32409425e+00, -2.24408742e+00,\n",
       "       -2.24398313e+00, -2.14094652e+00, -2.05348880e+00, -2.00286573e+00,\n",
       "       -1.98724526e+00, -1.93247270e+00, -1.80685364e+00, -1.68283208e+00,\n",
       "       -1.66246163e+00, -1.62902224e+00, -1.61083734e+00, -1.58132910e+00,\n",
       "       -1.51014358e+00, -1.46542235e+00, -1.41833849e+00, -1.37793960e+00,\n",
       "       -1.32830052e+00, -1.20515175e+00, -1.18854951e+00, -1.09744065e+00,\n",
       "       -1.05583751e+00, -1.05241198e+00, -9.81991539e-01, -9.51112448e-01,\n",
       "       -8.15241404e-01, -8.02543032e-01, -7.63942880e-01, -7.00416456e-01,\n",
       "       -6.53807854e-01, -5.57689049e-01, -5.03445559e-01, -4.92542468e-01,\n",
       "       -4.87299477e-01, -4.18499032e-01, -3.67595026e-01, -2.83170319e-01,\n",
       "       -1.88869227e-01, -1.28679333e-01, -1.27605402e-01, -8.98154827e-02,\n",
       "       -1.50125429e-02,  1.35366175e-01,  1.89438698e-01,  2.82252074e-01,\n",
       "        2.93987324e-01,  3.75959036e-01,  4.03362838e-01,  4.48392985e-01,\n",
       "        4.54350010e-01,  5.73824034e-01,  6.84855365e-01,  7.35163710e-01,\n",
       "        7.71508509e-01,  8.21808578e-01,  9.23449953e-01,  9.64499674e-01,\n",
       "        9.91248300e-01,  1.01863494e+00,  1.03691446e+00,  1.20021829e+00,\n",
       "        1.20675956e+00,  1.33078042e+00,  1.34516282e+00,  1.39103542e+00,\n",
       "        1.46709653e+00,  1.50481585e+00,  1.53978945e+00,  1.65000542e+00,\n",
       "        1.69203375e+00,  1.69952668e+00,  1.77684206e+00,  1.79591064e+00,\n",
       "        1.79697330e+00,  1.84469449e+00,  2.00801143e+00,  2.00947288e+00,\n",
       "        2.15308267e+00,  2.23317115e+00,  2.26150588e+00,  2.35845855e+00,\n",
       "        2.45365695e+00,  2.45958216e+00,  2.49820556e+00,  2.50334209e+00,\n",
       "        2.60067938e+00,  2.60072356e+00,  2.75419405e+00,  2.76363415e+00,\n",
       "        2.81011157e+00,  2.91849150e+00,  3.04441974e+00,  3.12559424e+00,\n",
       "        3.23493133e+00,  3.23679654e+00,  3.30703229e+00,  3.34986237e+00,\n",
       "        3.36078690e+00,  3.44086963e+00,  3.44981766e+00,  3.50357233e+00,\n",
       "        3.63099634e+00,  3.66007945e+00,  3.68612511e+00,  3.77024159e+00,\n",
       "        3.79603058e+00,  3.90922330e+00,  4.16040033e+00,  4.19749174e+00,\n",
       "        4.26231250e+00,  4.28406291e+00,  4.35997345e+00,  4.49816358e+00,\n",
       "        4.51724951e+00,  4.59150560e+00,  4.63921310e+00,  4.65453578e+00,\n",
       "        4.73885973e+00,  4.76506867e+00,  4.82968665e+00,  4.85575706e+00,\n",
       "        4.88959931e+00,  4.90050123e+00,  4.90841406e+00,  4.95764810e+00,\n",
       "        5.12659447e+00,  5.13885906e+00,  5.17207115e+00,  5.21233098e+00,\n",
       "        5.22244916e+00,  5.28699090e+00,  5.50203694e+00,  5.54634305e+00,\n",
       "        5.57117681e+00,  5.71793597e+00,  5.75492907e+00,  5.79671439e+00,\n",
       "        5.83702564e+00,  5.86368858e+00,  5.96014562e+00,  5.99198857e+00,\n",
       "        6.01106134e+00,  6.20168050e+00,  6.24615078e+00,  6.36729919e+00,\n",
       "        6.49859346e+00,  6.59928730e+00,  6.70315597e+00,  6.73123682e+00,\n",
       "        6.78573650e+00,  6.78741796e+00,  6.79978171e+00,  6.86076672e+00,\n",
       "        6.98928270e+00,  7.14570643e+00,  7.26422383e+00,  7.50573247e+00,\n",
       "        7.72535899e+00,  7.81828449e+00,  7.84929353e+00,  7.94034870e+00,\n",
       "        8.04189835e+00,  8.26154841e+00,  8.64385265e+00,  8.70301690e+00,\n",
       "        8.83006758e+00,  8.98199154e+00,  9.29959481e+00,  9.51014358e+00,\n",
       "        9.63183992e+00,  1.03092369e+01,  1.08121219e+01,  1.10423519e+01])"
      ]
     },
     "execution_count": 9,
     "metadata": {},
     "output_type": "execute_result"
    }
   ],
   "source": [
    "E"
   ]
  },
  {
   "cell_type": "code",
   "execution_count": 10,
   "metadata": {},
   "outputs": [],
   "source": [
    "# and like before, we can jit-compile it!\n",
    "# compute_energy_jit = jax.jit(compute_energy, static_argnames=\"model\")\n",
    "\n",
    "# and we precompute the sparse-hamiltonian to avoid the overhead of re-computing them all the time\n",
    "# hamiltonian_jax = ha.to_pauli_strings().to_jax_operator()\n",
    "# hamiltonian_sparse = hamiltonian.to_sparse()\n",
    "# hamiltonian_jax_sparse = hamiltonian_jax.to_sparse()\n",
    "\n",
    "hamil_Et_jax = (ha-Et).to_pauli_strings().to_jax_operator()\n",
    "hamil_Et_jax_sparse = hamil_Et_jax.to_sparse()\n",
    "\n",
    "hamil_Et_sq_jax = ((ha-Et)@(ha-Et)).to_pauli_strings().to_jax_operator()\n",
    "hamil_Et_sq_jax_sparse = hamil_Et_sq_jax.to_sparse()"
   ]
  },
  {
   "cell_type": "markdown",
   "metadata": {},
   "source": [
    "The model itself is only a set of instructions on how to initialise the parameters and how to compute the result. \n",
    "\n",
    "To initialise the parameters we do the following:"
   ]
  },
  {
   "cell_type": "code",
   "execution_count": 11,
   "metadata": {
    "tags": []
   },
   "outputs": [],
   "source": [
    "def to_array(model, parameters):\n",
    "    # begin by generating all configurations in the hilbert space.\n",
    "    # all_States returns a batch of configurations that is (hi.n_states, N) large.\n",
    "    all_configurations = hi.all_states()\n",
    "\n",
    "    # now evaluate the model, and convert to a normalised wavefunction.\n",
    "    logpsi = model.apply(parameters, all_configurations)\n",
    "    psi = jnp.exp(logpsi)\n",
    "    psi = psi / jnp.linalg.norm(psi)\n",
    "    return psi"
   ]
  },
  {
   "cell_type": "markdown",
   "metadata": {},
   "source": [
    "### 3.3 Energy\n",
    "Now, using that function, let's build another one that computes the energy of the mean field state for the given parameters! \n",
    "To do that, you can for example convert the hamiltonian to a sparse format and compute the energy"
   ]
  },
  {
   "cell_type": "code",
   "execution_count": 20,
   "metadata": {
    "tags": []
   },
   "outputs": [],
   "source": [
    "def compute_energy(model, parameters, hamil):\n",
    "    psi_gs = to_array(model, parameters)\n",
    "    return psi_gs.conj().T@(hamil@psi_gs)\n",
    "\n",
    "def loss_fun(model, pre_psi, parameters, ha_Et, ha_Et_sq):\n",
    "    psi_gs = to_array(model, parameters)\n",
    "    # return psi_gs.conj().T@(ha_Et_sq@psi_gs) - 2*pre_psi.conj().T@(ha_Et@psi_gs)\n",
    "    # return psi_gs.conj().T@(ha_Et_sq@psi_gs)/(psi_gs.conj()@psi_gs) - 2*pre_psi.conj().T@(ha_Et@psi_gs)/(pre_psi.conj()@psi_gs)\n",
    "    return psi_gs.conj().T@(ha_Et_sq@psi_gs)\n",
    "    \n",
    "def compute_variance(model, parameters, hamil):\n",
    "    psi_gs = to_array(model, parameters)\n",
    "    variance = psi_gs.conj().T@(hamil@hamil@psi_gs) - (psi_gs.conj().T@(hamil@psi_gs))**2 \n",
    "    return variance"
   ]
  },
  {
   "cell_type": "code",
   "execution_count": 21,
   "metadata": {
    "tags": []
   },
   "outputs": [],
   "source": [
    "from functools import partial\n",
    "\n",
    "# we use partial to directly jit this function. Jitting the top-most will jit everything inside it as well.\n",
    "@partial(jax.jit, static_argnames='model')\n",
    "def compute_and_gradient(model, pre_psi, parameters, ha_Et, ha_Et_sq):\n",
    "    # grad_fun = jax.value_and_grad(compute_energy, argnums=1)\n",
    "    grad_fun = jax.jacfwd(loss_fun, argnums=2,holomorphic=True)\n",
    "    # grad_fun = jax.jacrev(loss_fun, argnums=2,holomorphic=True)\n",
    "    return grad_fun(model, pre_psi, parameters, ha_Et, ha_Et_sq)"
   ]
  },
  {
   "cell_type": "code",
   "execution_count": 34,
   "metadata": {
    "tags": []
   },
   "outputs": [
    {
     "name": "stderr",
     "output_type": "stream",
     "text": [
      "100%|███████████████████████████████████████| 1000/1000 [00:53<00:00, 18.59it/s]\n"
     ]
    },
    {
     "data": {
      "text/plain": [
       "Array(6.22848211e-05+3.28383891e-16j, dtype=complex128)"
      ]
     },
     "execution_count": 34,
     "metadata": {},
     "output_type": "execute_result"
    }
   ],
   "source": [
    "model = nk.models.RBM(alpha=2, param_dtype=complex)\n",
    "\n",
    "parameters = model.init(jax.random.PRNGKey(0), np.ones((hi.size, )))\n",
    "\n",
    "# logging: you can (if you want) use netket loggers to avoid writing a lot of boilerplate...\n",
    "# they accumulate data you throw at them\n",
    "logger = nk.logging.RuntimeLog()\n",
    "energy = []\n",
    "from tqdm import tqdm\n",
    "import optax\n",
    "\n",
    "# define\n",
    "optimizer = optax.adam(learning_rate=0.001)\n",
    "\n",
    "# initialise\n",
    "optimizer_state = optimizer.init(parameters)\n",
    "\n",
    "# for i in range(n_iters):\n",
    "#     E, E_grad = estimate_energy_and_grad(..., parameters, ...)\n",
    "    \n",
    "#     updates, optimizer_state = optimizer.update(E_grad, optimizer_state, parameters)\n",
    "#     parameters = optax.apply_updates(parameters, updates)\n",
    "\n",
    "\n",
    "for i in tqdm(range(1000)):\n",
    "    # compute energy and gradient\n",
    "    # energy, gradient = compute_energy_and_gradient(model, parameters, hamiltonian_jax_sparse)\n",
    "    pre_psi = to_array(model, parameters)\n",
    "    energy.append(compute_energy(model, parameters, ha))\n",
    "    gradient = compute_and_gradient(model, pre_psi, parameters, hamil_Et_jax_sparse, hamil_Et_sq_jax_sparse)\n",
    "    updates, optimizer_state = optimizer.update(gradient, optimizer_state, parameters)\n",
    "    # update parameters\n",
    "    # parameters = jax.tree.map(lambda x,y:x-0.01*y, parameters, gradient)\n",
    "    parameters = optax.apply_updates(parameters, updates)\n",
    "    \n",
    "    # log energy: the logger takes a step argument and a dictionary of variables to be logged\n",
    "    # logger(step=i, item={'Energy':energy})\n",
    "\n",
    "    \n",
    "compute_variance(model, parameters, ha)    "
   ]
  },
  {
   "cell_type": "code",
   "execution_count": 35,
   "metadata": {
    "scrolled": true
   },
   "outputs": [
    {
     "data": {
      "text/plain": [
       "Array(6.22848211e-05+3.28383891e-16j, dtype=complex128)"
      ]
     },
     "execution_count": 35,
     "metadata": {},
     "output_type": "execute_result"
    }
   ],
   "source": [
    "psi_ = to_array(model, parameters)\n",
    "psi_.conj().T@(ha@ha@psi_) - (psi_.conj().T@(ha@psi_))**2 "
   ]
  },
  {
   "cell_type": "code",
   "execution_count": 36,
   "metadata": {},
   "outputs": [
    {
     "data": {
      "text/plain": [
       "[<matplotlib.lines.Line2D at 0x7c8c6f3c3fd0>]"
      ]
     },
     "execution_count": 36,
     "metadata": {},
     "output_type": "execute_result"
    },
    {
     "data": {
      "image/png": "[encoded data removed]",
      "text/plain": [
       "<Figure size 640x480 with 1 Axes>"
      ]
     },
     "metadata": {},
     "output_type": "display_data"
    }
   ],
   "source": [
    "plt.plot(np.real(energy))\n",
    "# plt.xlim([2500,2510])"
   ]
  },
  {
   "cell_type": "code",
   "execution_count": 29,
   "metadata": {},
   "outputs": [
    {
     "data": {
      "text/plain": [
       "Array(4.95767037+4.55890416e-23j, dtype=complex128)"
      ]
     },
     "execution_count": 29,
     "metadata": {},
     "output_type": "execute_result"
    }
   ],
   "source": [
    "energy[-1]"
   ]
  },
  {
   "cell_type": "code",
   "execution_count": null,
   "metadata": {},
   "outputs": [],
   "source": []
  }
 ],
 "metadata": {
  "kernelspec": {
   "display_name": "Python 3 (ipykernel)",
   "language": "python",
   "name": "python3"
  },
  "language_info": {
   "codemirror_mode": {
    "name": "ipython",
    "version": 3
   },
   "file_extension": ".py",
   "mimetype": "text/x-python",
   "name": "python",
   "nbconvert_exporter": "python",
   "pygments_lexer": "ipython3",
   "version": "3.11.7"
  }
 },
 "nbformat": 4,
 "nbformat_minor": 4
}
