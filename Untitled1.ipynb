{
 "cells": [
  {
   "cell_type": "code",
   "execution_count": 8,
   "id": "eee5da13",
   "metadata": {},
   "outputs": [],
   "source": [
    "# %pip install --quiet netket\n",
    "import netket as nk\n",
    "from numpy.lib.function_base import append\n",
    "from itertools import permutations, combinations\n",
    "from netket.vqs.mc import get_local_kernel_arguments, get_local_kernel\n",
    "import time\n",
    "import matplotlib.pyplot as plt\n",
    "import json\n",
    "import numpy as np\n",
    "from numpy.linalg import eig\n",
    "from flax.core.frozen_dict import FrozenDict\n",
    "import flax\n",
    "from netket.optimizer.qgt import QGTJacobianPyTree\n",
    "\n",
    "\n",
    "from typing import Callable, Tuple\n",
    "from functools import partial\n",
    "\n",
    "import jax\n",
    "from jax import numpy as jnp\n",
    "\n",
    "from netket.stats import statistics as mpi_statistics, mean as mpi_mean, Stats\n",
    "from netket.utils.types import PyTree\n",
    "from netket.operator.spin import sigmax, sigmay,sigmaz\n",
    "\n",
    "import matplotlib.pyplot as plt\n",
    "from tqdm import tqdm\n",
    "################################################################\n",
    "from scipy.sparse.linalg import eigsh\n",
    "################################################################\n",
    "import os\n",
    "import pandas as pd\n",
    "\n"
   ]
  },
  {
   "cell_type": "code",
   "execution_count": 9,
   "id": "d638b66e",
   "metadata": {},
   "outputs": [],
   "source": [
    "from netket.graph import Chain\n",
    "from netket.models import GCNN\n",
    "\n",
    "# Define a 1d chain\n",
    "L = 12\n",
    "dis = 1\n",
    "g = nk.graph.Hypercube(length=L, n_dim=1, pbc=True)\n",
    "#g.translation_group\n",
    "#g.point_group\n",
    "#g.rotation_group\n",
    "#g.space_group\n",
    "\n",
    "hi = nk.hilbert.Spin(s=0.5, total_sz=0, N=g.n_nodes)\n",
    "# hi = nk.hilbert.Spin(s=0.5, N=g.n_nodes)\n",
    "\n",
    "# calling the Heisenberg Hamiltonian\n",
    "ha = nk.operator.Heisenberg(hilbert=hi, graph=g)\n",
    "b=dis\n",
    "a=-dis\n",
    "Gamma = (b-a) * np.random.random_sample(L) + a\n",
    "\n",
    "################################################################################\n",
    "################################################################################\n",
    "################################################################################\n",
    "#이렇게 정의하는게 더 빨랑\n",
    "ha = sum([ sigmax(hi,i)*sigmax(hi,(i+1)%L)\n",
    "         + sigmay(hi,i)*sigmay(hi,(i+1)%L)\n",
    "         + sigmaz(hi,i)*sigmaz(hi,(i+1)%L)\n",
    "           for i in range(L)])\n",
    "################################################################################\n",
    "################################################################################\n",
    "################################################################################\n",
    "ha = ha + sum([Gamma[i]*sigmaz(hi,i) for i in range(L)])\n",
    "# E, vec = eigsh((ha).to_dense(), k=2**L)\n",
    "E, vec = np.linalg.eigh(ha.to_dense())\n",
    "\n",
    "\n",
    "# plt.plot([0,2**L-1],[0,0],'r')\n",
    "# plt.plot([0,2**L-1],[6.46555,6.46555],'g')\n",
    "# plt.plot([0,2**L-1],[-1,-1],'r')"
   ]
  },
  {
   "cell_type": "code",
   "execution_count": 10,
   "id": "7a65a356",
   "metadata": {},
   "outputs": [
    {
     "data": {
      "text/plain": [
       "[<matplotlib.lines.Line2D at 0x7ff4772fb390>]"
      ]
     },
     "execution_count": 10,
     "metadata": {},
     "output_type": "execute_result"
    },
    {
     "data": {
      "image/png": "[encoded data removed]",
      "text/plain": [
       "<Figure size 640x480 with 1 Axes>"
      ]
     },
     "metadata": {},
     "output_type": "display_data"
    }
   ],
   "source": [
    "Et = L*np.random.uniform(low=0, high=1, size=None)\n",
    "\n",
    "# print(E)\n",
    "# print(np.sort(E_np))\n",
    "# plt.scatter(np.arange(len(E)),np.sort(E),s=20)\n",
    "plt.scatter(np.arange(len(E)),E,s=20)\n",
    "plt.ylabel('E',fontsize=18)\n",
    "plt.plot([0,len(E)],[Et,Et],'r')"
   ]
  },
  {
   "cell_type": "code",
   "execution_count": 11,
   "id": "fffd2f92",
   "metadata": {},
   "outputs": [
    {
     "data": {
      "text/plain": [
       "0.0019457661609913108"
      ]
     },
     "execution_count": 11,
     "metadata": {},
     "output_type": "execute_result"
    }
   ],
   "source": [
    "E_sq, vec_sq = np.linalg.eigh(((ha-Et)@(ha-Et)).to_dense())\n",
    "min(E_sq)"
   ]
  },
  {
   "cell_type": "code",
   "execution_count": 12,
   "id": "d76d8c4b",
   "metadata": {},
   "outputs": [
    {
     "data": {
      "text/plain": [
       "11.010362266476713"
      ]
     },
     "execution_count": 12,
     "metadata": {},
     "output_type": "execute_result"
    }
   ],
   "source": [
    "Et"
   ]
  },
  {
   "cell_type": "code",
   "execution_count": 13,
   "id": "ab9b5932",
   "metadata": {},
   "outputs": [],
   "source": [
    "def alpha_depen(samples, hilb, gra, Target, n_steps, alpha_, eta, eta_sr):\n",
    "\n",
    "\n",
    "\n",
    "  ma = nk.models.RBM(alpha=alpha_, param_dtype=complex)\n",
    "  sa = nk.sampler.MetropolisExchange(hilbert=hilb,graph=gra,d_max=1, n_chains=16)\n",
    "  # vs = nk.vqs.FullSumState(hi, ma)\n",
    "  vs = nk.vqs.MCState(sa, ma, n_samples=samples)\n",
    "  op = nk.optimizer.Sgd(learning_rate=eta)\n",
    "  sr = nk.optimizer.SR(diag_shift=eta_sr, holomorphic=True)\n",
    "\n",
    "\n",
    "\n",
    "  gs = nk.VMC(\n",
    "      hamiltonian=Target,\n",
    "      optimizer=op,\n",
    "      preconditioner=sr,\n",
    "      variational_state=vs)\n",
    "\n",
    "  # gs = nk.VMC(\n",
    "  #     hamiltonian=Target,\n",
    "  #     optimizer=op,\n",
    "  #     variational_state=vs)\n",
    "\n",
    "  start = time.time()\n",
    "  gs.run(n_steps, out='RBM')\n",
    "  end = time.time()\n",
    "  data=json.load(open(\"RBM.log\"))\n",
    "\n",
    "  energy = vs.expect(ha).mean.real\n",
    "  variance = vs.expect(ha@ha).mean.real-vs.expect(ha).mean.real**2\n",
    "  print([energy, variance])\n",
    "  return energy, variance;"
   ]
  },
  {
   "cell_type": "code",
   "execution_count": 14,
   "id": "0931e446",
   "metadata": {},
   "outputs": [
    {
     "name": "stderr",
     "output_type": "stream",
     "text": [
      "100%|█| 20000/20000 [3:50:50<00:00,  1.44it/s, Energy=0.138+0.024j ± 0.023 [σ²=1\n"
     ]
    },
    {
     "name": "stdout",
     "output_type": "stream",
     "text": [
      "[Array(10.9800269, dtype=float64), Array(0.12498897, dtype=float64)]\n"
     ]
    },
    {
     "data": {
      "text/plain": [
       "(Array(10.9800269, dtype=float64), Array(0.12498897, dtype=float64))"
      ]
     },
     "execution_count": 14,
     "metadata": {},
     "output_type": "execute_result"
    }
   ],
   "source": [
    "alpha_depen(2048, hi, g, (ha-Et)@(ha-Et), 20000, 2, 0.001, 0.01)"
   ]
  },
  {
   "cell_type": "code",
   "execution_count": null,
   "id": "17ce4f70",
   "metadata": {},
   "outputs": [],
   "source": []
  },
  {
   "cell_type": "code",
   "execution_count": null,
   "id": "53b34c16",
   "metadata": {},
   "outputs": [],
   "source": []
  }
 ],
 "metadata": {
  "kernelspec": {
   "display_name": "Python 3",
   "language": "python",
   "name": "python3"
  },
  "language_info": {
   "codemirror_mode": {
    "name": "ipython",
    "version": 3
   },
   "file_extension": ".py",
   "mimetype": "text/x-python",
   "name": "python",
   "nbconvert_exporter": "python",
   "pygments_lexer": "ipython3",
   "version": "3.11.5"
  }
 },
 "nbformat": 4,
 "nbformat_minor": 5
}
