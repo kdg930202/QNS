{
 "cells": [
  {
   "cell_type": "code",
   "execution_count": 1,
   "metadata": {},
   "outputs": [],
   "source": [
    "import netket as nk\n",
    "from numpy.lib.function_base import append\n",
    "from itertools import permutations, combinations\n",
    "from netket.vqs.mc import get_local_kernel_arguments, get_local_kernel\n",
    "import time\n",
    "import matplotlib.pyplot as plt\n",
    "import json\n",
    "import numpy as np\n",
    "from numpy.linalg import eig\n",
    "from flax.core.frozen_dict import FrozenDict\n",
    "import flax\n",
    "from netket.optimizer.qgt import QGTJacobianPyTree\n",
    "\n",
    "\n",
    "from typing import Callable, Tuple\n",
    "from functools import partial\n",
    "\n",
    "import jax\n",
    "from jax import numpy as jnp\n",
    "\n",
    "from netket.stats import statistics as mpi_statistics, mean as mpi_mean, Stats\n",
    "from netket.utils.types import PyTree\n",
    "from netket.operator.spin import sigmax, sigmay,sigmaz\n",
    "\n",
    "import matplotlib.pyplot as plt\n",
    "from tqdm import tqdm\n",
    "################################################################\n",
    "from scipy.sparse.linalg import eigsh\n",
    "################################################################\n",
    "import os\n",
    "import pandas as pd\n",
    "\n"
   ]
  },
  {
   "cell_type": "code",
   "execution_count": 2,
   "metadata": {
    "tags": []
   },
   "outputs": [],
   "source": [
    "# We always shorten netket as nk\n",
    "import netket as nk\n",
    "\n",
    "# Define a 1d chain\n",
    "L = 6\n",
    "g = nk.graph.Hypercube(length=L, n_dim=1, pbc=True)\n",
    "hi = nk.hilbert.Spin(s=1/2, N=g.n_nodes)\n",
    "# ha = nk.operator.Heisenberg(hilbert=hi, graph=g)\n",
    "dis=5\n",
    "b=dis\n",
    "a=-dis\n",
    "Gamma = (b-a) * np.random.random_sample(L) + a\n",
    "\n",
    "ha = sum([ sigmax(hi,i)*sigmax(hi,(i+1)%L)\n",
    "         + sigmay(hi,i)*sigmay(hi,(i+1)%L)\n",
    "         + sigmaz(hi,i)*sigmaz(hi,(i+1)%L)\n",
    "           for i in range(L)])\n",
    "################################################################################\n",
    "################################################################################\n",
    "################################################################################\n",
    "ha = ha + sum([Gamma[i]*sigmaz(hi,i) for i in range(L)])"
   ]
  },
  {
   "cell_type": "code",
   "execution_count": 3,
   "metadata": {
    "tags": []
   },
   "outputs": [
    {
     "data": {
      "text/plain": [
       "3.7279388944686067"
      ]
     },
     "execution_count": 3,
     "metadata": {},
     "output_type": "execute_result"
    }
   ],
   "source": [
    "Et = np.random.uniform(low=0, high=L, size=None)\n",
    "# Et = np.random.randint(0,L, size=1)\n",
    "# Et = 9\n",
    "Et\n"
   ]
  },
  {
   "cell_type": "code",
   "execution_count": null,
   "metadata": {},
   "outputs": [],
   "source": [
    "E, vec = np.linalg.eigh(ha.to_dense())\n",
    "plt.scatter(np.arange(len(E)),E,s=20)\n",
    "plt.ylabel('E',fontsize=18)\n",
    "plt.plot([0,len(E)],[Et,Et],'r')"
   ]
  },
  {
   "cell_type": "code",
   "execution_count": 37,
   "metadata": {},
   "outputs": [
    {
     "data": {
      "text/plain": [
       "array([-14.76548848, -14.6228794 , -12.70567986, -12.1094269 ,\n",
       "       -11.59315374, -10.69346998,  -9.97115142,  -9.52932544,\n",
       "        -8.46819275,  -8.03909155,  -7.57263481,  -7.00011147,\n",
       "        -6.87246157,  -6.1801361 ,  -5.6421618 ,  -5.55513096,\n",
       "        -4.77341447,  -4.48427292,  -4.3081206 ,  -4.26943293,\n",
       "        -4.23946804,  -3.71975021,  -2.41093668,  -2.34739335,\n",
       "        -2.33781236,  -1.92842623,  -1.58602524,  -1.35121289,\n",
       "        -1.3438576 ,  -0.80610992,  -0.72343429,  -0.66606371,\n",
       "         0.35489378,   0.53223975,   0.66612697,   0.85381843,\n",
       "         1.24007134,   1.50248764,   1.86136102,   2.75992866,\n",
       "         2.83261212,   3.14618157,   3.17424   ,   3.76077472,\n",
       "         3.82057189,   4.09068707,   4.3129701 ,   4.91994965,\n",
       "         4.99762261,   5.58602524,   5.72260524,   5.80580558,\n",
       "         6.89921789,   7.64015687,   7.74411453,   8.26943293,\n",
       "         9.10684084,  10.3361816 ,  10.61473346,  11.00011147,\n",
       "        12.26335913,  14.33781236,  16.1094269 ,  16.35386634])"
      ]
     },
     "execution_count": 37,
     "metadata": {},
     "output_type": "execute_result"
    }
   ],
   "source": [
    "E"
   ]
  },
  {
   "cell_type": "code",
   "execution_count": 38,
   "metadata": {},
   "outputs": [],
   "source": [
    "# and like before, we can jit-compile it!\n",
    "# compute_energy_jit = jax.jit(compute_energy, static_argnames=\"model\")\n",
    "\n",
    "# and we precompute the sparse-hamiltonian to avoid the overhead of re-computing them all the time\n",
    "# hamiltonian_jax = ha.to_pauli_strings().to_jax_operator()\n",
    "# hamiltonian_sparse = hamiltonian.to_sparse()\n",
    "# hamiltonian_jax_sparse = hamiltonian_jax.to_sparse()\n",
    "\n",
    "hamil_Et_jax = (ha-Et).to_pauli_strings().to_jax_operator()\n",
    "hamil_Et_jax_sparse = hamil_Et_jax.to_sparse()\n",
    "\n",
    "hamil_Et_sq_jax = ((ha-Et)@(ha-Et)).to_pauli_strings().to_jax_operator()\n",
    "hamil_Et_sq_jax_sparse = hamil_Et_sq_jax.to_sparse()"
   ]
  },
  {
   "cell_type": "markdown",
   "metadata": {},
   "source": [
    "The model itself is only a set of instructions on how to initialise the parameters and how to compute the result. \n",
    "\n",
    "To initialise the parameters we do the following:"
   ]
  },
  {
   "cell_type": "code",
   "execution_count": 39,
   "metadata": {
    "tags": []
   },
   "outputs": [],
   "source": [
    "def to_array(model, parameters):\n",
    "    # begin by generating all configurations in the hilbert space.\n",
    "    # all_States returns a batch of configurations that is (hi.n_states, N) large.\n",
    "    all_configurations = hi.all_states()\n",
    "\n",
    "    # now evaluate the model, and convert to a normalised wavefunction.\n",
    "    logpsi = model.apply(parameters, all_configurations)\n",
    "    psi = jnp.exp(logpsi)\n",
    "    psi = psi / jnp.linalg.norm(psi)\n",
    "    return psi"
   ]
  },
  {
   "cell_type": "markdown",
   "metadata": {},
   "source": [
    "### 3.3 Energy\n",
    "Now, using that function, let's build another one that computes the energy of the mean field state for the given parameters! \n",
    "To do that, you can for example convert the hamiltonian to a sparse format and compute the energy"
   ]
  },
  {
   "cell_type": "code",
   "execution_count": 40,
   "metadata": {
    "tags": []
   },
   "outputs": [],
   "source": [
    "def compute_energy(model, parameters, hamil):\n",
    "    psi_gs = to_array(model, parameters)\n",
    "    return psi_gs.conj().T@(hamil@psi_gs)\n",
    "\n",
    "def loss_fun(model, pre_psi, parameters, ha_Et, ha_Et_sq):\n",
    "    psi_gs = to_array(model, parameters)\n",
    "    return psi_gs.conj().T@(ha_Et_sq@psi_gs) - 2*pre_psi.conj().T@(ha_Et@psi_gs)\n",
    "\n",
    "def compute_variance(model, parameters, hamiltonian_sparse):\n",
    "    psi_gs = to_array(model, parameters)\n",
    "    variance = psi_gs.conj().T@(hamiltonian_sparse@hamiltonian_sparse@psi_gs) - (psi_gs.conj().T@(hamiltonian_sparse@psi_gs))**2 \n",
    "    return variance"
   ]
  },
  {
   "cell_type": "code",
   "execution_count": 41,
   "metadata": {
    "tags": []
   },
   "outputs": [],
   "source": [
    "from functools import partial\n",
    "\n",
    "# we use partial to directly jit this function. Jitting the top-most will jit everything inside it as well.\n",
    "@partial(jax.jit, static_argnames='model')\n",
    "def compute_and_gradient(model, pre_psi, parameters, ha_Et, ha_Et_sq):\n",
    "    # grad_fun = jax.value_and_grad(compute_energy, argnums=1)\n",
    "    grad_fun = jax.jacfwd(loss_fun, argnums=2,holomorphic=True)\n",
    "    return grad_fun(model, pre_psi, parameters, ha_Et, ha_Et_sq)"
   ]
  },
  {
   "cell_type": "code",
   "execution_count": 44,
   "metadata": {
    "tags": []
   },
   "outputs": [
    {
     "name": "stderr",
     "output_type": "stream",
     "text": [
      "100%|█████████████████████████████████████| 40000/40000 [07:09<00:00, 93.10it/s]\n"
     ]
    },
    {
     "data": {
      "text/plain": [
       "Array(8.00011374-2.25337683e-16j, dtype=complex128)"
      ]
     },
     "execution_count": 44,
     "metadata": {},
     "output_type": "execute_result"
    }
   ],
   "source": [
    "model = nk.models.RBM(alpha=1, param_dtype=complex)\n",
    "\n",
    "parameters = model.init(jax.random.PRNGKey(0), np.ones((hi.size, )))\n",
    "\n",
    "# logging: you can (if you want) use netket loggers to avoid writing a lot of boilerplate...\n",
    "# they accumulate data you throw at them\n",
    "logger = nk.logging.RuntimeLog()\n",
    "energy = []\n",
    "from tqdm import tqdm\n",
    "for i in tqdm(range(40000)):\n",
    "    # compute energy and gradient\n",
    "    # energy, gradient = compute_energy_and_gradient(model, parameters, hamiltonian_jax_sparse)\n",
    "    pre_psi = to_array(model, parameters)\n",
    "    energy.append(compute_energy(model, parameters, ha))\n",
    "    gradient = compute_and_gradient(model, pre_psi, parameters, hamil_Et_jax_sparse, hamil_Et_sq_jax_sparse)\n",
    "    \n",
    "    # update parameters\n",
    "    parameters = jax.tree.map(lambda x,y:x-0.01*y, parameters, gradient)\n",
    "    \n",
    "    # log energy: the logger takes a step argument and a dictionary of variables to be logged\n",
    "    # logger(step=i, item={'Energy':energy})\n",
    "\n",
    "    \n",
    "compute_variance(model, parameters, ha)    "
   ]
  },
  {
   "cell_type": "code",
   "execution_count": 45,
   "metadata": {},
   "outputs": [
    {
     "data": {
      "text/plain": [
       "Array(5.30192581+8.45875695e-18j, dtype=complex128)"
      ]
     },
     "execution_count": 45,
     "metadata": {},
     "output_type": "execute_result"
    }
   ],
   "source": [
    "energy[-1]"
   ]
  },
  {
   "cell_type": "code",
   "execution_count": null,
   "metadata": {},
   "outputs": [],
   "source": []
  }
 ],
 "metadata": {
  "kernelspec": {
   "display_name": "Python 3 (ipykernel)",
   "language": "python",
   "name": "python3"
  },
  "language_info": {
   "codemirror_mode": {
    "name": "ipython",
    "version": 3
   },
   "file_extension": ".py",
   "mimetype": "text/x-python",
   "name": "python",
   "nbconvert_exporter": "python",
   "pygments_lexer": "ipython3",
   "version": "3.11.7"
  }
 },
 "nbformat": 4,
 "nbformat_minor": 4
}
