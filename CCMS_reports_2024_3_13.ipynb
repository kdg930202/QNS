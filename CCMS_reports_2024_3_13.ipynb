{
 "cells": [
  {
   "cell_type": "code",
   "execution_count": 1,
   "metadata": {
    "tags": []
   },
   "outputs": [
    {
     "name": "stderr",
     "output_type": "stream",
     "text": [
      "An NVIDIA GPU may be present on this machine, but a CUDA-enabled jaxlib is not installed. Falling back to cpu.\n"
     ]
    }
   ],
   "source": [
    "import platform\n",
    "import netket as nk\n",
    "import jax\n",
    "import jax.numpy as jnp\n",
    "import flax\n",
    "import flax.linen as nn\n",
    "import netket as nk\n",
    "import json\n",
    "import numpy as np\n",
    "import matplotlib.pyplot as plt\n",
    "import time\n",
    "import jax\n",
    "import jax.numpy"
   ]
  },
  {
   "cell_type": "code",
   "execution_count": 95,
   "metadata": {
    "tags": []
   },
   "outputs": [],
   "source": [
    "# We always shorten netket as nk\n",
    "import netket as nk\n",
    "\n",
    "# Define a 1d chain\n",
    "L = 4\n",
    "g = nk.graph.Hypercube(length=L, n_dim=1, pbc=True)"
   ]
  },
  {
   "cell_type": "code",
   "execution_count": 96,
   "metadata": {
    "tags": []
   },
   "outputs": [],
   "source": [
    "# Define the Hilbert space based on this graph\n",
    "# We impose to have a fixed total magnetization of zero \n",
    "hi = nk.hilbert.Spin(s=1/2, N=g.n_nodes)"
   ]
  },
  {
   "cell_type": "code",
   "execution_count": 97,
   "metadata": {},
   "outputs": [],
   "source": [
    "hamiltonian = nk.operator.Heisenberg(hilbert=hi, graph=g)"
   ]
  },
  {
   "cell_type": "code",
   "execution_count": 98,
   "metadata": {},
   "outputs": [
    {
     "data": {
      "text/plain": [
       "-8.000000000000002"
      ]
     },
     "execution_count": 98,
     "metadata": {},
     "output_type": "execute_result"
    }
   ],
   "source": [
    "E, vec = np.linalg.eigh(hamiltonian.to_dense())\n",
    "min(E)"
   ]
  },
  {
   "cell_type": "code",
   "execution_count": 99,
   "metadata": {},
   "outputs": [],
   "source": [
    "# from scipy.sparse.linalg import eigsh\n",
    "# ha = hamiltonian.to_sparse()\n",
    "# e_gs, psi_gs = eigsh(ha, k=10)\n",
    "# e_gs = e_gs[0]\n",
    "# psi_gs = psi_gs.reshape(-1)\n",
    "# e_gs"
   ]
  },
  {
   "cell_type": "code",
   "execution_count": 144,
   "metadata": {},
   "outputs": [
    {
     "data": {
      "text/plain": [
       "2.990693387619497"
      ]
     },
     "execution_count": 144,
     "metadata": {},
     "output_type": "execute_result"
    }
   ],
   "source": [
    "Et = np.random.uniform(low=0, high=L, size=None)\n",
    "Et"
   ]
  },
  {
   "cell_type": "code",
   "execution_count": 146,
   "metadata": {},
   "outputs": [
    {
     "data": {
      "text/plain": [
       "LocalOperator(dim=4, acting_on=[(0, 1), (1, 2), (0, 3), (2, 3)], constant=0.0, dtype=float64)"
      ]
     },
     "execution_count": 146,
     "metadata": {},
     "output_type": "execute_result"
    }
   ],
   "source": [
    "hamiltonian - 0"
   ]
  },
  {
   "cell_type": "code",
   "execution_count": 165,
   "metadata": {},
   "outputs": [
    {
     "data": {
      "text/plain": [
       "(0.0, 16.0)"
      ]
     },
     "execution_count": 165,
     "metadata": {},
     "output_type": "execute_result"
    },
    {
     "data": {
      "image/png": "[encoded data removed]",
      "text/plain": [
       "<Figure size 640x480 with 3 Axes>"
      ]
     },
     "metadata": {},
     "output_type": "display_data"
    }
   ],
   "source": [
    "xlim = 16\n",
    "Et = 1\n",
    "\n",
    "plt.subplot(3,1,1)\n",
    "plt.scatter(range(len(E)),E)\n",
    "plt.plot([0,len(E)],[Et,Et],'r')\n",
    "plt.xlim([0,xlim])\n",
    "plt.ylabel(\"H\")\n",
    "\n",
    "plt.subplot(3,1,2)\n",
    "inv_ha = np.linalg.inv(  (hamiltonian - Et).to_dense()  )\n",
    "e_gs, psi_gs = np.linalg.eigh(inv_ha)\n",
    "plt.scatter(range(len(e_gs)), e_gs)\n",
    "plt.xlim([0,xlim])\n",
    "plt.ylabel(\"inv(H-Et)\")\n",
    "\n",
    "plt.subplot(3,1,3)\n",
    "ha = (hamiltonian - Et)@(hamiltonian - Et)\n",
    "ha = ha.to_dense()\n",
    "e_gs, psi_gs = np.linalg.eigh(ha)\n",
    "plt.scatter(range(len(e_gs)), e_gs)\n",
    "plt.xlim([0,xlim])"
   ]
  },
  {
   "cell_type": "code",
   "execution_count": 149,
   "metadata": {
    "tags": []
   },
   "outputs": [],
   "source": [
    "def to_array(model, parameters):\n",
    "    # begin by generating all configurations in the hilbert space.\n",
    "    # all_States returns a batch of configurations that is (hi.n_states, N) large.\n",
    "    all_configurations = hi.all_states()\n",
    "\n",
    "    # now evaluate the model, and convert to a normalised wavefunction.\n",
    "    logpsi = model.apply(parameters, all_configurations)\n",
    "    psi = jnp.exp(logpsi)\n",
    "    psi = psi / jnp.linalg.norm(psi)\n",
    "    return psi\n"
   ]
  },
  {
   "cell_type": "code",
   "execution_count": 150,
   "metadata": {},
   "outputs": [
    {
     "name": "stderr",
     "output_type": "stream",
     "text": [
      "/home/kodo/anaconda3/lib/python3.11/site-packages/jax/_src/api_util.py:231: SyntaxWarning: Jitted function has invalid argnames {'model'} in static_argnames. Function does not take these args.This warning will be replaced by an error after 2022-08-20 at the earliest.\n",
      "  warnings.warn(f\"Jitted function has invalid argnames {invalid_argnames} \"\n"
     ]
    }
   ],
   "source": [
    "# and like before, we can jit-compile it!\n",
    "compute_energy_jit = jax.jit(compute_energy, static_argnames=\"model\")\n",
    "\n",
    "# and we precompute the sparse-hamiltonian to avoid the overhead of re-computing them all the time\n",
    "hamiltonian_sparse = hamiltonian.to_sparse()\n",
    "hamiltonian_jax = hamiltonian.to_pauli_strings().to_jax_operator()\n",
    "hamiltonian_jax_sparse = hamiltonian_jax.to_sparse()\n",
    "\n",
    "hamiltonian_Et = hamiltonian-Et\n",
    "hamiltonian_Et_jax = hamiltonian_Et.to_pauli_strings().to_jax_operator()\n",
    "hamiltonian_Et_jax_sparse = hamiltonian_Et_jax.to_sparse()\n",
    "\n",
    "hamiltonian_Et_squared = (hamiltonian-Et)@(hamiltonian-Et)\n",
    "hamiltonian_Et_squared_jax = hamiltonian_Et_squared.to_pauli_strings().to_jax_operator()\n",
    "hamiltonian_Et_squared_jax_sparse = hamiltonian_Et_squared_jax.to_sparse()"
   ]
  },
  {
   "cell_type": "code",
   "execution_count": 151,
   "metadata": {
    "tags": []
   },
   "outputs": [],
   "source": [
    "# from jax import jit\n",
    "# @jit\n",
    "def compute_energy(ma, parameters, ha_jax_sparse):\n",
    "    psi_gs = to_array(ma, parameters)\n",
    "    return psi_gs.conj().T@(ha_jax_sparse@psi_gs)\n",
    "\n",
    "def new_loss(ma, parameters, psi_pre):\n",
    "    psi_gs = to_array(ma, parameters) \n",
    "    return psi_gs.conj().T@(hamiltonian_Et_squared_jax_sparse@psi_gs) - 2*psi_pre.conj().T@(hamiltonian_Et_jax_sparse@psi_gs)\n",
    "#     return psi_gs.conj().T@(hamiltonian_jax_sparse@psi_gs)\n",
    "\n",
    "\n",
    "def compute_energy_variance(ma, parameters, ha_jax_sparse):\n",
    "    psi_gs = to_array(ma, parameters)\n",
    "    energy = psi_gs.conj().T@(ha_jax_sparse@psi_gs)\n",
    "    vari = psi_gs.conj().T@(hamiltonian_jax_sparse@hamiltonian_jax_sparse@psi_gs) - (psi_gs.conj().T@(hamiltonian_jax_sparse@psi_gs))**2\n",
    "    return energy, vari\n"
   ]
  },
  {
   "cell_type": "markdown",
   "metadata": {
    "tags": []
   },
   "source": [
    "### 3.4 Gradient of the energy\n",
    "\n",
    "As we used jax so far, we can easily compute the gradient of the energy by simply calling one function: `jax.grad(compute_energy, argnum=1)`, where argnum signals wrt which argument we want to compute the gradient (the 0 is the model, which is not actually an array so we cannot differentiate, the second is the parameters, so that's the one"
   ]
  },
  {
   "cell_type": "code",
   "execution_count": 152,
   "metadata": {
    "tags": []
   },
   "outputs": [],
   "source": [
    "from functools import partial\n",
    "\n",
    "# we use partial to directly jit this function. Jitting the top-most will jit everything inside it as well.\n",
    "# @partial(jax.jit, static_argnames='model')\n",
    "def compute_gradient(model, parameters, hamiltonian_sparse):\n",
    "    grad_fun = jax.jacfwd(compute_energy, holomorphic=True, argnums=1)(model, parameters, hamiltonian_sparse)\n",
    "    return grad_fun\n",
    "\n",
    "def new_gradient(model, parameters, psi_pre):\n",
    "    grad_fun = jax.jacfwd(new_loss, holomorphic=True, argnums=1)(model, parameters, psi_pre)\n",
    "    return grad_fun"
   ]
  },
  {
   "cell_type": "code",
   "execution_count": 182,
   "metadata": {
    "tags": []
   },
   "outputs": [
    {
     "name": "stderr",
     "output_type": "stream",
     "text": [
      "100%|███████████████████████████████████████| 2000/2000 [01:01<00:00, 32.77it/s]\n"
     ]
    }
   ],
   "source": [
    "# initialise \n",
    "from tqdm import tqdm\n",
    "# model = MF()\n",
    "model = nk.models.RBM(alpha=1,  param_dtype=complex)\n",
    "parameters = model.init(jax.random.PRNGKey(0), np.ones((hi.size, )))\n",
    "\n",
    "logger = nk.logging.RuntimeLog()\n",
    "epoch = 2000\n",
    "l_rate = 0.001\n",
    "en_inv = []\n",
    "en = []\n",
    "\n",
    "for i in tqdm(range(epoch)):\n",
    "    # compute energy and gradient\n",
    "    psi_pre = hamiltonian_Et_jax_sparse@to_array(model, parameters) #Psi_n\n",
    "    psi_pre = psi_pre / jnp.linalg.norm(psi_pre) #normalize Psi_n\n",
    "    gradient = new_gradient(model, parameters, psi_pre)\n",
    "#     gradient = compute_energy(model, parameters, hamiltonian_jax_sparse)\n",
    "    \n",
    "    # update parameters\n",
    "    parameters = jax.tree_map(lambda x,y:x-l_rate*y, parameters, gradient)\n",
    "    en.append(compute_energy(model, parameters, hamiltonian_jax_sparse))\n",
    "    en_inv.append(compute_energy(model, parameters, inv_ha))\n",
    "    \n",
    "    \n",
    "# compute_energy_variance(model, parameters, hamiltonian_jax_sparse)"
   ]
  },
  {
   "cell_type": "code",
   "execution_count": 186,
   "metadata": {},
   "outputs": [
    {
     "data": {
      "text/plain": [
       "Text(0, 0.5, 'H')"
      ]
     },
     "execution_count": 186,
     "metadata": {},
     "output_type": "execute_result"
    },
    {
     "data": {
      "image/png": "[encoded data removed]",
      "text/plain": [
       "<Figure size 640x480 with 1 Axes>"
      ]
     },
     "metadata": {},
     "output_type": "display_data"
    }
   ],
   "source": [
    "plt.scatter(range(len(en)),np.real(en),s=1)\n",
    "plt.ylabel(\"H\")"
   ]
  },
  {
   "cell_type": "code",
   "execution_count": 187,
   "metadata": {},
   "outputs": [
    {
     "data": {
      "text/plain": [
       "Text(0, 0.5, 'inv(H-Et)')"
      ]
     },
     "execution_count": 187,
     "metadata": {},
     "output_type": "execute_result"
    },
    {
     "data": {
      "image/png": "[encoded data removed]",
      "text/plain": [
       "<Figure size 640x480 with 1 Axes>"
      ]
     },
     "metadata": {},
     "output_type": "display_data"
    }
   ],
   "source": [
    "plt.scatter(range(len(en_inv)),np.real(en_inv),s=1)\n",
    "plt.ylabel(\"inv(H-Et)\")"
   ]
  },
  {
   "cell_type": "code",
   "execution_count": 179,
   "metadata": {},
   "outputs": [
    {
     "data": {
      "text/plain": [
       "Array(-0.94237649-2.69370794e-18j, dtype=complex128)"
      ]
     },
     "execution_count": 179,
     "metadata": {},
     "output_type": "execute_result"
    }
   ],
   "source": [
    "en[-1]"
   ]
  },
  {
   "cell_type": "code",
   "execution_count": 180,
   "metadata": {},
   "outputs": [
    {
     "data": {
      "text/plain": [
       "Array(-0.08168869+2.75539183e-19j, dtype=complex128)"
      ]
     },
     "execution_count": 180,
     "metadata": {},
     "output_type": "execute_result"
    }
   ],
   "source": [
    "en[0]"
   ]
  },
  {
   "cell_type": "code",
   "execution_count": null,
   "metadata": {},
   "outputs": [],
   "source": []
  }
 ],
 "metadata": {
  "kernelspec": {
   "display_name": "Python 2",
   "language": "python",
   "name": "python2"
  },
  "language_info": {
   "codemirror_mode": {
    "name": "ipython",
    "version": 3
   },
   "file_extension": ".py",
   "mimetype": "text/x-python",
   "name": "python",
   "nbconvert_exporter": "python",
   "pygments_lexer": "ipython3",
   "version": "3.11.5"
  }
 },
 "nbformat": 4,
 "nbformat_minor": 4
}
