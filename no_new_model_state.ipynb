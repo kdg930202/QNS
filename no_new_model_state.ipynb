{
 "cells": [
  {
   "cell_type": "code",
   "execution_count": 1,
   "metadata": {
    "executionInfo": {
     "elapsed": 8474,
     "status": "ok",
     "timestamp": 1712140226136,
     "user": {
      "displayName": "dogyen ko (Kodo)",
      "userId": "17400671760216123133"
     },
     "user_tz": -540
    },
    "id": "0O_f46j8Pmmm"
   },
   "outputs": [],
   "source": [
    "# %pip install --quiet netket"
   ]
  },
  {
   "cell_type": "code",
   "execution_count": 2,
   "metadata": {
    "executionInfo": {
     "elapsed": 4,
     "status": "ok",
     "timestamp": 1712140226136,
     "user": {
      "displayName": "dogyen ko (Kodo)",
      "userId": "17400671760216123133"
     },
     "user_tz": -540
    },
    "id": "xnxfYtRGPk6a"
   },
   "outputs": [],
   "source": [
    "import netket\n",
    "from flax.core.scope import CollectionFilter\n",
    "from netket.utils.types import PyTree\n",
    "from netket.operator import Squared\n",
    "from functools import partial, lru_cache\n",
    "from typing import Callable, Optional\n",
    "\n",
    "import jax\n",
    "from jax import numpy as jnp\n",
    "from flax.core.scope import CollectionFilter, DenyList  # noqa: F401\n",
    "\n",
    "import netket as nk\n",
    "from netket import jax as nkjax\n",
    "from netket.operator import DiscreteOperator, Squared\n",
    "from netket.stats import Stats\n",
    "from netket.utils.types import PyTree\n",
    "from netket.utils.dispatch import dispatch\n",
    "\n",
    "# from nektet.vqs import _ex\n",
    "from netket.vqs import expect_and_grad, expect_and_forces\n",
    "from netket.vqs.mc.common import force_to_grad\n",
    "from netket.stats import Stats\n",
    "import time\n",
    "import json\n",
    "import matplotlib.pyplot as plt\n",
    "import numpy as np\n",
    "from netket.operator.spin import sigmax, sigmay,sigmaz"
   ]
  },
  {
   "cell_type": "code",
   "execution_count": 3,
   "metadata": {
    "executionInfo": {
     "elapsed": 5,
     "status": "ok",
     "timestamp": 1712140214674,
     "user": {
      "displayName": "dogyen ko (Kodo)",
      "userId": "17400671760216123133"
     },
     "user_tz": -540
    },
    "id": "RVBewVKlPk6e"
   },
   "outputs": [],
   "source": [
    "# Define the Hilbert space based on this graph\n",
    "# We impose to have a fixed total magnetization of zero\n",
    "# Define a 1d chain\n",
    "L = 10\n",
    "dis = 1\n",
    "g = nk.graph.Hypercube(length=L, n_dim=1, pbc=True)\n",
    "hi = nk.hilbert.Spin(s=0.5, total_sz=0, N=g.n_nodes)\n",
    "# calling the Heisenberg Hamiltonian\n",
    "ha = nk.operator.Heisenberg(hilbert=hi, graph=g)\n",
    "# ha = nk.operator.Heisenberg(hilbert=hi, graph=g)\n",
    "b=dis\n",
    "a=-dis\n",
    "Gamma = (b-a) * np.random.random_sample(L) + a\n",
    "\n",
    "################################################################################\n",
    "################################################################################\n",
    "################################################################################\n",
    "#이렇게 정의하는게 더 빨랑\n",
    "ha = sum([ sigmax(hi,i)*sigmax(hi,(i+1)%L)\n",
    "         + sigmay(hi,i)*sigmay(hi,(i+1)%L)\n",
    "         + sigmaz(hi,i)*sigmaz(hi,(i+1)%L)\n",
    "for i in range(L)])\n",
    "################################################################################\n",
    "################################################################################\n",
    "################################################################################\n",
    "ha = ha + sum([Gamma[i]*sigmaz(hi,i) for i in range(L)])"
   ]
  },
  {
   "cell_type": "code",
   "execution_count": 4,
   "metadata": {
    "executionInfo": {
     "elapsed": 492,
     "status": "ok",
     "timestamp": 1712140395790,
     "user": {
      "displayName": "dogyen ko (Kodo)",
      "userId": "17400671760216123133"
     },
     "user_tz": -540
    },
    "id": "PBM7F1Q4Pk6g"
   },
   "outputs": [],
   "source": [
    "# Et = np.random.uniform(low=0, high=L, size=None)\n",
    "# Et = np.random.randint(0,L, size=1)\n",
    "Et = 5\n",
    "# Et\n"
   ]
  },
  {
   "cell_type": "code",
   "execution_count": 5,
   "metadata": {
    "colab": {
     "base_uri": "https://localhost:8080/",
     "height": 448
    },
    "executionInfo": {
     "elapsed": 568,
     "status": "ok",
     "timestamp": 1712140400441,
     "user": {
      "displayName": "dogyen ko (Kodo)",
      "userId": "17400671760216123133"
     },
     "user_tz": -540
    },
    "id": "ZDt190GEPk6i",
    "outputId": "39a85e9d-3f05-4b7b-9c34-623843067ef1"
   },
   "outputs": [
    {
     "data": {
      "text/plain": [
       "[<matplotlib.lines.Line2D at 0x78161dab6c10>]"
      ]
     },
     "execution_count": 5,
     "metadata": {},
     "output_type": "execute_result"
    },
    {
     "data": {
      "image/png": "[encoded data removed]",
      "text/plain": [
       "<Figure size 640x480 with 1 Axes>"
      ]
     },
     "metadata": {},
     "output_type": "display_data"
    }
   ],
   "source": [
    "E, vec = np.linalg.eigh(ha.to_dense())\n",
    "plt.scatter(range(len(E)),E)\n",
    "plt.plot([0,len(E)],[Et,Et],'r')"
   ]
  },
  {
   "cell_type": "code",
   "execution_count": 6,
   "metadata": {
    "colab": {
     "base_uri": "https://localhost:8080/"
    },
    "executionInfo": {
     "elapsed": 4,
     "status": "ok",
     "timestamp": 1712140402876,
     "user": {
      "displayName": "dogyen ko (Kodo)",
      "userId": "17400671760216123133"
     },
     "user_tz": -540
    },
    "id": "E3sKVkISPk6i",
    "outputId": "774ee7a6-950a-4a4b-f7f3-bbfeab8fafec"
   },
   "outputs": [
    {
     "data": {
      "text/plain": [
       "array([-1.84459199e+01, -1.64836714e+01, -1.59707823e+01, -1.45224806e+01,\n",
       "       -1.40632146e+01, -1.35358891e+01, -1.31755433e+01, -1.26817695e+01,\n",
       "       -1.23807107e+01, -1.18631170e+01, -1.18233901e+01, -1.16377532e+01,\n",
       "       -1.14815970e+01, -1.12621252e+01, -1.10783320e+01, -1.09623072e+01,\n",
       "       -1.04070163e+01, -1.01368030e+01, -1.01087918e+01, -1.00698588e+01,\n",
       "       -9.89812811e+00, -9.74424848e+00, -9.41829199e+00, -9.26727326e+00,\n",
       "       -9.13968428e+00, -8.94101673e+00, -8.67907892e+00, -8.64387618e+00,\n",
       "       -8.61675530e+00, -8.51140438e+00, -8.27016051e+00, -8.23265648e+00,\n",
       "       -8.18869555e+00, -7.94732266e+00, -7.84927125e+00, -7.62286522e+00,\n",
       "       -7.55672890e+00, -7.43923380e+00, -7.42539862e+00, -7.29958453e+00,\n",
       "       -7.23246677e+00, -7.12428218e+00, -6.98901149e+00, -6.97763638e+00,\n",
       "       -6.69251855e+00, -6.63359859e+00, -6.57558486e+00, -6.47548605e+00,\n",
       "       -6.39771972e+00, -6.20008146e+00, -6.19695051e+00, -6.09812914e+00,\n",
       "       -6.01785197e+00, -6.01386298e+00, -5.86482452e+00, -5.74255974e+00,\n",
       "       -5.72990384e+00, -5.58291644e+00, -5.51100137e+00, -5.44599735e+00,\n",
       "       -5.39746224e+00, -5.30637130e+00, -5.19902729e+00, -5.11963487e+00,\n",
       "       -5.03222145e+00, -5.01908292e+00, -4.89138223e+00, -4.80317631e+00,\n",
       "       -4.71410645e+00, -4.68846100e+00, -4.55934405e+00, -4.43799254e+00,\n",
       "       -4.40621807e+00, -4.36008467e+00, -4.26071072e+00, -4.13334604e+00,\n",
       "       -4.09417529e+00, -4.02344914e+00, -3.88811552e+00, -3.87611647e+00,\n",
       "       -3.80163527e+00, -3.74859813e+00, -3.64001954e+00, -3.58097505e+00,\n",
       "       -3.49079878e+00, -3.43549530e+00, -3.41810120e+00, -3.40290669e+00,\n",
       "       -3.29225365e+00, -3.19936954e+00, -3.18340340e+00, -3.13579493e+00,\n",
       "       -3.03118120e+00, -2.91384207e+00, -2.75169713e+00, -2.73516891e+00,\n",
       "       -2.67502044e+00, -2.62299684e+00, -2.58044436e+00, -2.52961748e+00,\n",
       "       -2.45461971e+00, -2.36775050e+00, -2.24168200e+00, -2.19270622e+00,\n",
       "       -2.12210093e+00, -2.06086643e+00, -1.99449298e+00, -1.97702683e+00,\n",
       "       -1.88593127e+00, -1.78900892e+00, -1.70022104e+00, -1.68342113e+00,\n",
       "       -1.61177762e+00, -1.54434518e+00, -1.48303512e+00, -1.45696736e+00,\n",
       "       -1.37978685e+00, -1.35071372e+00, -1.31233031e+00, -1.21183456e+00,\n",
       "       -1.18988360e+00, -1.12144367e+00, -1.09012831e+00, -1.08175452e+00,\n",
       "       -9.97921140e-01, -9.74679933e-01, -8.28159488e-01, -7.97919730e-01,\n",
       "       -7.25537499e-01, -6.03198232e-01, -5.32399560e-01, -4.32440953e-01,\n",
       "       -3.74462463e-01, -3.70827461e-01, -3.52920918e-01, -3.18590807e-01,\n",
       "       -2.82156991e-01, -1.93230353e-01, -1.42811220e-01, -6.81239927e-02,\n",
       "       -3.34074872e-03,  1.17296447e-02,  1.20297900e-01,  1.92653211e-01,\n",
       "        2.44414752e-01,  2.97953601e-01,  3.50827639e-01,  4.43668370e-01,\n",
       "        5.09427583e-01,  6.05361477e-01,  6.98328294e-01,  7.76978122e-01,\n",
       "        7.87157681e-01,  8.85418484e-01,  9.18447095e-01,  9.94883723e-01,\n",
       "        1.00637075e+00,  1.03778986e+00,  1.11440730e+00,  1.23282016e+00,\n",
       "        1.27540759e+00,  1.37171706e+00,  1.38657820e+00,  1.47824067e+00,\n",
       "        1.55073964e+00,  1.60091021e+00,  1.63679003e+00,  1.76080221e+00,\n",
       "        1.79883610e+00,  1.95190433e+00,  2.00114555e+00,  2.06159444e+00,\n",
       "        2.09506920e+00,  2.16091235e+00,  2.17280120e+00,  2.30543003e+00,\n",
       "        2.36495996e+00,  2.42092316e+00,  2.43775054e+00,  2.55503467e+00,\n",
       "        2.60418917e+00,  2.75650359e+00,  2.79436024e+00,  2.86808962e+00,\n",
       "        2.90141967e+00,  2.97515479e+00,  3.08367516e+00,  3.12086918e+00,\n",
       "        3.16359250e+00,  3.20565139e+00,  3.30451499e+00,  3.52225509e+00,\n",
       "        3.52438129e+00,  3.60108541e+00,  3.68864182e+00,  3.73895203e+00,\n",
       "        3.80543243e+00,  3.87882347e+00,  3.90835818e+00,  3.97409114e+00,\n",
       "        4.02849502e+00,  4.06340533e+00,  4.25904882e+00,  4.27107540e+00,\n",
       "        4.41428766e+00,  4.47213910e+00,  4.51852123e+00,  4.58970589e+00,\n",
       "        4.65541876e+00,  4.83990635e+00,  4.86297741e+00,  5.02678790e+00,\n",
       "        5.15377295e+00,  5.25997529e+00,  5.28239500e+00,  5.40270236e+00,\n",
       "        5.48439029e+00,  5.50268402e+00,  5.58616518e+00,  5.75889196e+00,\n",
       "        5.79778190e+00,  5.98758466e+00,  6.06058612e+00,  6.31339196e+00,\n",
       "        6.36143798e+00,  6.40935529e+00,  6.47575049e+00,  6.59132819e+00,\n",
       "        6.73055665e+00,  6.78990177e+00,  6.87455350e+00,  6.91528792e+00,\n",
       "        7.03805937e+00,  7.14987833e+00,  7.33543737e+00,  7.47956563e+00,\n",
       "        7.66913319e+00,  7.80786737e+00,  7.96275747e+00,  8.23715158e+00,\n",
       "        8.38512675e+00,  8.71696863e+00,  8.73359299e+00,  8.94202828e+00,\n",
       "        8.99364623e+00,  9.40088673e+00,  9.75208679e+00,  1.00681004e+01,\n",
       "        1.03432868e+01,  1.08568247e+01,  1.13440386e+01,  1.19742572e+01])"
      ]
     },
     "execution_count": 6,
     "metadata": {},
     "output_type": "execute_result"
    }
   ],
   "source": [
    "E"
   ]
  },
  {
   "cell_type": "code",
   "execution_count": 7,
   "metadata": {
    "executionInfo": {
     "elapsed": 2,
     "status": "ok",
     "timestamp": 1712140405023,
     "user": {
      "displayName": "dogyen ko (Kodo)",
      "userId": "17400671760216123133"
     },
     "user_tz": -540
    },
    "id": "sWnjphO3Pk6k"
   },
   "outputs": [],
   "source": [
    "ha_Et_inv  = np.linalg.inv((ha-Et).to_dense())\n",
    "E_inv, vec_inv = np.linalg.eigh(ha_Et_inv)"
   ]
  },
  {
   "cell_type": "code",
   "execution_count": 8,
   "metadata": {
    "colab": {
     "base_uri": "https://localhost:8080/",
     "height": 448
    },
    "executionInfo": {
     "elapsed": 450,
     "status": "ok",
     "timestamp": 1712140406932,
     "user": {
      "displayName": "dogyen ko (Kodo)",
      "userId": "17400671760216123133"
     },
     "user_tz": -540
    },
    "id": "f7IpYIMqPk6k",
    "outputId": "ba94e50b-17a2-43b4-af4c-6b17648e4095"
   },
   "outputs": [
    {
     "data": {
      "text/plain": [
       "<matplotlib.collections.PathCollection at 0x78161dce2bd0>"
      ]
     },
     "execution_count": 8,
     "metadata": {},
     "output_type": "execute_result"
    },
    {
     "data": {
      "image/png": "[encoded data removed]",
      "text/plain": [
       "<Figure size 640x480 with 1 Axes>"
      ]
     },
     "metadata": {},
     "output_type": "display_data"
    }
   ],
   "source": [
    "plt.scatter(range(len(E_inv)),E_inv)"
   ]
  },
  {
   "cell_type": "code",
   "execution_count": 9,
   "metadata": {
    "colab": {
     "base_uri": "https://localhost:8080/"
    },
    "executionInfo": {
     "elapsed": 414,
     "status": "ok",
     "timestamp": 1712140410556,
     "user": {
      "displayName": "dogyen ko (Kodo)",
      "userId": "17400671760216123133"
     },
     "user_tz": -540
    },
    "id": "Hq9gxwC7Pk6l",
    "outputId": "ab8e4c94-f298-4e54-ad99-d7067d71c7cb"
   },
   "outputs": [
    {
     "data": {
      "text/plain": [
       "array([-7.29806662, -6.24634405, -2.90207329, -2.43727604, -2.07693478,\n",
       "       -1.89443848, -1.70732275, -1.37188401, -1.34961659, -1.06769772,\n",
       "       -1.0293308 , -0.97474546, -0.91605138, -0.89192021, -0.83712301,\n",
       "       -0.79299124, -0.76256817, -0.71483993, -0.67768184, -0.67670678,\n",
       "       -0.58980174, -0.55730531, -0.54454145, -0.53216093, -0.5218322 ,\n",
       "       -0.49386491, -0.47651261, -0.46906287, -0.45338319, -0.44573283,\n",
       "       -0.41739522, -0.40900375, -0.39028206, -0.38773564, -0.37950087,\n",
       "       -0.37111673, -0.353707  , -0.35222583, -0.34424228, -0.34032062,\n",
       "       -0.33346066, -0.32807369, -0.31238638, -0.30871841, -0.29733499,\n",
       "       -0.29419641, -0.28991723, -0.28394899, -0.27674599, -0.27561246,\n",
       "       -0.26848575, -0.26545056, -0.25736099, -0.25238439, -0.25039881,\n",
       "       -0.24968064, -0.24500479, -0.24303808, -0.23736943, -0.23679726,\n",
       "       -0.23246776, -0.22755   , -0.22268876, -0.21947481, -0.21509205,\n",
       "       -0.21267336, -0.21027906, -0.20801495, -0.20493054, -0.20047029,\n",
       "       -0.19986646, -0.19731167, -0.19444618, -0.19255838, -0.1893166 ,\n",
       "       -0.18801973, -0.18681389, -0.18619105, -0.18606512, -0.18407931,\n",
       "       -0.18075339, -0.1784695 , -0.17465609, -0.17247565, -0.17158075,\n",
       "       -0.16737298, -0.16672443, -0.16442624, -0.16420015, -0.16336016,\n",
       "       -0.16155393, -0.16098304, -0.1584201 , -0.15746262, -0.15674505,\n",
       "       -0.15487147, -0.15424874, -0.15280368, -0.15124526, -0.14962397,\n",
       "       -0.14924881, -0.1472969 , -0.14522364, -0.14332753, -0.14296962,\n",
       "       -0.14162568, -0.14040801, -0.13902973, -0.13808947, -0.13572664,\n",
       "       -0.13414501, -0.13280887, -0.13191839, -0.131182  , -0.13029281,\n",
       "       -0.12927966, -0.12900401, -0.12636087, -0.12451469, -0.12291362,\n",
       "       -0.12219855, -0.1219606 , -0.12059448, -0.11900644, -0.11879163,\n",
       "       -0.11854668, -0.11777455, -0.11653687, -0.11574048, -0.11430403,\n",
       "       -0.11361525, -0.11266188, -0.11250979, -0.11082237, -0.10996049,\n",
       "       -0.1094889 , -0.10798307, -0.10683664, -0.10631265, -0.10595474,\n",
       "       -0.10460969, -0.10321557, -0.10294308, -0.10200775, -0.10109811,\n",
       "       -0.09980953, -0.09967882, -0.09881779, -0.09804857, -0.09702736,\n",
       "       -0.09617731, -0.09573045, -0.09513841, -0.09449191, -0.09319748,\n",
       "       -0.09308768, -0.09204014, -0.09079467, -0.09076179, -0.09010528,\n",
       "       -0.08931003, -0.08928506, -0.08773685, -0.08714228, -0.08638872,\n",
       "       -0.08595793, -0.08552477, -0.08348893, -0.08340971, -0.08247911,\n",
       "       -0.08174966, -0.08130356, -0.08048032, -0.0803908 , -0.07963858,\n",
       "       -0.07922132, -0.07782543, -0.07723605, -0.07582251, -0.07557062,\n",
       "       -0.07535704, -0.07401155, -0.07343893, -0.07329295, -0.07310434,\n",
       "       -0.07173078, -0.07072294, -0.07009048, -0.06935634, -0.06782306,\n",
       "       -0.06712253, -0.06635762, -0.06618663, -0.06606415, -0.06490549,\n",
       "       -0.06264759, -0.06219551, -0.06149258, -0.06067373, -0.06010427,\n",
       "       -0.05944105, -0.05930102, -0.05753505, -0.05655543, -0.05501899,\n",
       "       -0.05394939, -0.05245705, -0.051223  , -0.04768539, -0.04654698,\n",
       "       -0.04265134,  0.14338445,  0.1576283 ,  0.17074098,  0.18715073,\n",
       "        0.19731259,  0.21043387,  0.22722693,  0.25039774,  0.25367652,\n",
       "        0.26783851,  0.26903644,  0.29540991,  0.30891355,  0.33752341,\n",
       "        0.35614218,  0.37465347,  0.40329644,  0.42818532,  0.4651426 ,\n",
       "        0.49066284,  0.52211471,  0.53346037,  0.55868988,  0.57784875,\n",
       "        0.62840588,  0.67762132,  0.70954429,  0.73451748,  0.76138733,\n",
       "        0.94287487,  1.01257142,  1.25347542,  1.31771063,  1.70600377,\n",
       "        1.98932123,  2.06445095,  2.48322361,  3.54113916,  3.84651948,\n",
       "        6.50309424, 37.33028736])"
      ]
     },
     "execution_count": 9,
     "metadata": {},
     "output_type": "execute_result"
    }
   ],
   "source": [
    "E_inv\n",
    "# -4.135835"
   ]
  },
  {
   "cell_type": "code",
   "execution_count": 10,
   "metadata": {
    "executionInfo": {
     "elapsed": 2,
     "status": "ok",
     "timestamp": 1712140411973,
     "user": {
      "displayName": "dogyen ko (Kodo)",
      "userId": "17400671760216123133"
     },
     "user_tz": -540
    },
    "id": "NcIeASsLPk6s"
   },
   "outputs": [],
   "source": [
    "def add(x,y):\n",
    "    return x+y\n"
   ]
  },
  {
   "cell_type": "code",
   "execution_count": 11,
   "metadata": {
    "executionInfo": {
     "elapsed": 2,
     "status": "ok",
     "timestamp": 1712140413601,
     "user": {
      "displayName": "dogyen ko (Kodo)",
      "userId": "17400671760216123133"
     },
     "user_tz": -540
    },
    "id": "FldNJjkKPk6t"
   },
   "outputs": [],
   "source": [
    "@nk.vqs.expect.dispatch\n",
    "def expect_try(vstate: nk.vqs.FullSumState, Ô: nk.operator.DiscreteOperator) -> Stats:  # noqa: F811\n",
    "#     _check_hilbert(vstate, Ô)\n",
    "\n",
    "#     O = sparsify(Ô)\n",
    "    O = Ô.to_sparse()\n",
    "    Ψ = vstate.to_array()\n",
    "\n",
    "    # TODO: This performs the full computation on all MPI ranks.\n",
    "    # It would be great if we could split the computation among ranks.\n",
    "\n",
    "    OΨ = O @ Ψ\n",
    "    expval_O = (Ψ.conj() * OΨ).sum()\n",
    "\n",
    "    variance = jnp.sum(jnp.abs(OΨ - expval_O * Ψ) ** 2)\n",
    "    return Stats(mean=expval_O, error_of_mean=0.0, variance=variance)"
   ]
  },
  {
   "cell_type": "code",
   "execution_count": 12,
   "metadata": {
    "executionInfo": {
     "elapsed": 773,
     "status": "ok",
     "timestamp": 1712140414373,
     "user": {
      "displayName": "dogyen ko (Kodo)",
      "userId": "17400671760216123133"
     },
     "user_tz": -540
    },
    "id": "-z23LjQiPk6t"
   },
   "outputs": [],
   "source": [
    "O_sparse = ha.to_sparse()\n",
    "H_Et_sparse = (ha-Et).to_sparse()\n",
    "H_Et_squ_sparse = ((ha-Et)@(ha-Et)).to_sparse()"
   ]
  },
  {
   "cell_type": "code",
   "execution_count": 13,
   "metadata": {
    "executionInfo": {
     "elapsed": 13,
     "status": "ok",
     "timestamp": 1712140414374,
     "user": {
      "displayName": "dogyen ko (Kodo)",
      "userId": "17400671760216123133"
     },
     "user_tz": -540
    },
    "id": "39w50T4VPk6t"
   },
   "outputs": [],
   "source": [
    "@expect_and_grad.dispatch\n",
    "def expect_and_grad_fullsum(\n",
    "    vstate: nk.vqs.FullSumState,\n",
    "    Ô: nk.operator.DiscreteOperator,\n",
    "    *args,\n",
    "    mutable: CollectionFilter = False,\n",
    "    use_covariance: Optional[bool] = None,\n",
    "    **kwargs,\n",
    ") -> tuple[Stats, PyTree]:\n",
    "    if use_covariance is None:\n",
    "        use_covariance = Ô.is_hermitian\n",
    "\n",
    "    if use_covariance:\n",
    "        # Implementation of expect_and_grad for `use_covariance == True` (due to the Literal[True]\n",
    "        # type in the signature).` This case is equivalent to the composition of the\n",
    "        # `expect_and_forces` and `force_to_grad` functions.\n",
    "        # return expect_and_grad_from_covariance(vstate, Ô, *args, mutable=mutable)\n",
    "        Ō, Ō_grad = expect_and_forces(vstate, Ô, *args, mutable=mutable, **kwargs)\n",
    "        Ō_grad = force_to_grad(Ō_grad, vstate.parameters)\n",
    "        return Ō, Ō_grad\n",
    "    else:\n",
    "        raise NotImplementedError(\n",
    "            \"The gradient of non hermitian operators with \"\n",
    "            \"FullSumState is not yet implemented\"\n",
    "        )\n",
    "\n",
    "@nk.vqs.expect_and_forces.dispatch\n",
    "def expect_and_forces_fullsum(\n",
    "    vstate: nk.vqs.FullSumState,\n",
    "    Ô: nk.operator.DiscreteOperator,\n",
    "    *,\n",
    "    mutable: CollectionFilter = False,\n",
    ") -> tuple[Stats, PyTree]:\n",
    "    if isinstance(Ô, Squared):\n",
    "        raise NotImplementedError(\"expect_and_forces not yet implemented for `Squared`\")\n",
    "\n",
    "#     _check_hilbert(vstate, Ô)\n",
    "\n",
    "\n",
    "    O = O_sparse\n",
    "    H_Et = H_Et_sparse\n",
    "    H_Et_squ = H_Et_squ_sparse\n",
    "\n",
    "    Ψ = vstate.to_array()\n",
    "    OΨ = O @ Ψ\n",
    "    H_EtΨ = H_Et@Ψ\n",
    "    H_Et_squΨ = H_Et_squ @ Ψ\n",
    "    Ψ_pre = H_Et @ Ψ\n",
    "    Ψ_pre = Ψ_pre / jnp.linalg.norm(Ψ_pre)\n",
    "    H_EtΨ_pre = H_Et @ Ψ_pre\n",
    "    invOΨ = ha_Et_inv @ Ψ\n",
    "    Ψ_pre_conjO = Ψ_pre.conj() @ H_Et\n",
    "\n",
    "    expval_O, Ō_grad = _exp_forces(\n",
    "        vstate._apply_fun,\n",
    "        mutable,\n",
    "        vstate.parameters,\n",
    "        vstate.model_state,\n",
    "        vstate._all_states,\n",
    "        OΨ,\n",
    "        Ψ,\n",
    "        Ψ_pre,\n",
    "        H_Et_squΨ,\n",
    "        H_EtΨ,\n",
    "        H_EtΨ_pre,\n",
    "        invOΨ,\n",
    "        Ψ_pre_conjO,\n",
    "    )\n",
    "\n",
    "    # if mutable is not False:\n",
    "    #     vstate.model_state = new_model_state\n",
    "\n",
    "    return expval_O, Ō_grad\n",
    "\n",
    "\n",
    "@partial(jax.jit, static_argnums=(0, 1))\n",
    "def _exp_forces(\n",
    "    model_apply_fun: Callable,\n",
    "    mutable: CollectionFilter,\n",
    "    parameters: PyTree,\n",
    "    model_state: PyTree,\n",
    "    σ: jnp.ndarray,\n",
    "    OΨ: jnp.ndarray,\n",
    "    Ψ: jnp.ndarray,\n",
    "    Ψ_pre: jnp.ndarray,\n",
    "    H_Et_squΨ: jnp.ndarray,\n",
    "    H_EtΨ: jnp.ndarray,\n",
    "    H_EtΨ_pre: jnp.ndarray,\n",
    "    invOΨ: jnp.ndarray,\n",
    "    Ψ_pre_conjO: jnp.ndarray,\n",
    ") -> tuple[PyTree, PyTree]:\n",
    "    is_mutable = mutable is not False\n",
    "\n",
    "    expval_O = (Ψ.conj() * invOΨ).sum()\n",
    "#     expval_O = (Ψ.conj() * OΨ).sum()\n",
    "    # variance = jnp.sum(jnp.abs(OΨ - expval_O * Ψ) ** 2)\n",
    "    # ΔOΨ = (OΨ - expval_O * Ψ).conj() * Ψ\n",
    "\n",
    "    expval_H_Et_squ = (Ψ.conj() * H_Et_squΨ).sum()\n",
    "    ΔOΨ_squ = (H_Et_squΨ - expval_H_Et_squ * Ψ).conj() * Ψ\n",
    "\n",
    "    denom = Ψ_pre.conj()@Ψ\n",
    "    # denom = Ψ.conj()@Ψ\n",
    "    expval_H_Et = (Ψ_pre.conj() * H_EtΨ).sum()/denom\n",
    "    ΔOΨ_non = (Ψ_pre_conjO - expval_H_Et * Ψ_pre.conj())/denom * Ψ\n",
    "#     ΔOΨ_non = (Ψ_pre_conjO - expval_H_Et * Ψ_pre.conj()) * Ψ\n",
    "#     ΔOΨ_non = (H_EtΨ_pre - expval_H_Et * Ψ_pre).conj() * Ψ\n",
    "\n",
    "\n",
    "\n",
    "    _, vjp_fun, *new_model_state = nkjax.vjp(\n",
    "        lambda w: model_apply_fun({\"params\": w, **model_state}, σ, mutable=mutable),\n",
    "        parameters,\n",
    "        conjugate=True,\n",
    "        has_aux=is_mutable,\n",
    "    )\n",
    "\n",
    "#     Ō_grad = vjp_fun(ΔOΨ)[0]\n",
    "    Ō_grad_first = vjp_fun(ΔOΨ_squ)[0]\n",
    "    Ō_grad_second = vjp_fun(-2*ΔOΨ_non)[0]\n",
    "\n",
    "    #Let it reaches to the maximum state of inv(H-Et)\n",
    "    # Ō_grad_first = vjp_fun(-ΔOΨ_squ)[0]\n",
    "    # Ō_grad_second = vjp_fun(2*ΔOΨ_non)[0]\n",
    "#     Ō_grad_second = vjp_fun(ΔOΨ_non)[0]\n",
    "\n",
    "    Ō_grad = jax.tree.map(add, Ō_grad_first, Ō_grad_second)\n",
    "    #######################################################\n",
    "    #######################################################\n",
    "    Ō_grad = Ō_grad_first\n",
    "    #######################################################\n",
    "    #######################################################\n",
    "\n",
    "    # new_model_state = new_model_state[0] if is_mutable else None\n",
    "\n",
    "    return (\n",
    "        Stats(mean=expval_O, error_of_mean=0.0, variance=1.0),\n",
    "        Ō_grad,\n",
    "        # new_model_state,\n",
    "    )"
   ]
  },
  {
   "cell_type": "code",
   "execution_count": 14,
   "metadata": {
    "executionInfo": {
     "elapsed": 2,
     "status": "ok",
     "timestamp": 1712140415861,
     "user": {
      "displayName": "dogyen ko (Kodo)",
      "userId": "17400671760216123133"
     },
     "user_tz": -540
    },
    "id": "Ow4IIT6UPk6u"
   },
   "outputs": [],
   "source": [
    "def variance(vsta, hamil):\n",
    "    return vsta.to_array().conj()@(hamil@hamil).to_sparse()@vsta.to_array() - (vsta.to_array().conj()@(hamil).to_sparse()@vsta.to_array())**2"
   ]
  },
  {
   "cell_type": "code",
   "execution_count": 17,
   "metadata": {
    "colab": {
     "base_uri": "https://localhost:8080/",
     "height": 501
    },
    "executionInfo": {
     "elapsed": 1080326,
     "status": "ok",
     "timestamp": 1712141515976,
     "user": {
      "displayName": "dogyen ko (Kodo)",
      "userId": "17400671760216123133"
     },
     "user_tz": -540
    },
    "id": "5HRjDPiLPk6u",
    "outputId": "b7822e9e-077a-4b83-9da6-b4094493cc76"
   },
   "outputs": [
    {
     "name": "stderr",
     "output_type": "stream",
     "text": [
      "100%|█| 10000/10000 [13:21<00:00, 12.48it/s, Energy=3.733e+01-1.418e-16j ± 0.000\n"
     ]
    },
    {
     "name": "stdout",
     "output_type": "stream",
     "text": [
      "Vaiance :  0.000686329601641944\n",
      "Variational result :  37.3296988252285\n",
      "Real result :  -7.298066615618534\n"
     ]
    },
    {
     "data": {
      "image/png": "[encoded data removed]",
      "text/plain": [
       "<Figure size 640x480 with 1 Axes>"
      ]
     },
     "metadata": {},
     "output_type": "display_data"
    }
   ],
   "source": [
    "# Build the sampler\n",
    "# sa = nk.sampler.MetropolisExchange(hilbert=hi,graph=g)\n",
    "epochs = 10000\n",
    "\n",
    "ma = nk.models.MPSPeriodic(hilbert=hi, graph=g, bond_dim=10, param_dtype=complex)\n",
    "# ma = nk.models.RBM(alpha=2, param_dtype=complex)\n",
    "vs = nk.vqs.FullSumState(hi, ma)\n",
    "\n",
    "# Optimizer\n",
    "# op = nk.optimizer.Sgd(learning_rate=0.001)\n",
    "op = nk.optimizer.Adam(learning_rate=0.01)\n",
    "\n",
    "# Stochastic Reconfiguration\n",
    "sr = nk.optimizer.SR(diag_shift=0.1, holomorphic=True)\n",
    "\n",
    "\n",
    "# The ground-state optimization loop\n",
    "Target_ha = ha\n",
    "gs = nk.VMC(\n",
    "    hamiltonian=ha,\n",
    "    optimizer=op,\n",
    "    preconditioner=sr,\n",
    "    variational_state=vs)\n",
    "\n",
    "start = time.time()\n",
    "gs.run(epochs, out='RBM')\n",
    "end = time.time()\n",
    "\n",
    "data=json.load(open(\"RBM.log\"))\n",
    "plt.plot(data['Energy']['Mean']['real'])\n",
    "print(\"Vaiance : \",variance(vs, ha).real)\n",
    "print(\"Variational result : \",data['Energy']['Mean']['real'][-1])\n",
    "print(\"Real result : \",E_inv[0])\n",
    "# plt.plot(np.log10(data['Energy']['Variance']))"
   ]
  },
  {
   "cell_type": "code",
   "execution_count": null,
   "metadata": {},
   "outputs": [],
   "source": [
    "psi = vs.to_array()\n",
    "psi.conj()@ha.to_dense()@ha.to_dense()@psi - (psi.conj()@ha.to_dense()@psi)**2"
   ]
  },
  {
   "cell_type": "code",
   "execution_count": null,
   "metadata": {},
   "outputs": [],
   "source": [
    "psi.conj()@(hamil@hamil).to_sparse()@psi - psi.conj()@(hamil).to_sparse()@psi)**2"
   ]
  },
  {
   "cell_type": "code",
   "execution_count": null,
   "metadata": {
    "id": "ENNAgUcNPk6u"
   },
   "outputs": [],
   "source": [
    "#Austria"
   ]
  }
 ],
 "metadata": {
  "colab": {
   "provenance": []
  },
  "kernelspec": {
   "display_name": "Python 3 (ipykernel)",
   "language": "python",
   "name": "python3"
  },
  "language_info": {
   "codemirror_mode": {
    "name": "ipython",
    "version": 3
   },
   "file_extension": ".py",
   "mimetype": "text/x-python",
   "name": "python",
   "nbconvert_exporter": "python",
   "pygments_lexer": "ipython3",
   "version": "3.11.7"
  }
 },
 "nbformat": 4,
 "nbformat_minor": 4
}
