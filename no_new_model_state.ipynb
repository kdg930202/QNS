{
 "cells": [
  {
   "cell_type": "code",
   "execution_count": 1,
   "metadata": {
    "executionInfo": {
     "elapsed": 8474,
     "status": "ok",
     "timestamp": 1712140226136,
     "user": {
      "displayName": "dogyen ko (Kodo)",
      "userId": "17400671760216123133"
     },
     "user_tz": -540
    },
    "id": "0O_f46j8Pmmm"
   },
   "outputs": [],
   "source": [
    "# %pip install --quiet netket"
   ]
  },
  {
   "cell_type": "code",
   "execution_count": 2,
   "metadata": {
    "executionInfo": {
     "elapsed": 4,
     "status": "ok",
     "timestamp": 1712140226136,
     "user": {
      "displayName": "dogyen ko (Kodo)",
      "userId": "17400671760216123133"
     },
     "user_tz": -540
    },
    "id": "xnxfYtRGPk6a"
   },
   "outputs": [],
   "source": [
    "import netket\n",
    "from flax.core.scope import CollectionFilter\n",
    "from netket.utils.types import PyTree\n",
    "from netket.operator import Squared\n",
    "from functools import partial, lru_cache\n",
    "from typing import Callable, Optional\n",
    "\n",
    "import jax\n",
    "from jax import numpy as jnp\n",
    "from flax.core.scope import CollectionFilter, DenyList  # noqa: F401\n",
    "\n",
    "import netket as nk\n",
    "from netket import jax as nkjax\n",
    "from netket.operator import DiscreteOperator, Squared\n",
    "from netket.stats import Stats\n",
    "from netket.utils.types import PyTree\n",
    "from netket.utils.dispatch import dispatch\n",
    "\n",
    "# from nektet.vqs import _ex\n",
    "from netket.vqs import expect_and_grad, expect_and_forces\n",
    "from netket.vqs.mc.common import force_to_grad\n",
    "from netket.stats import Stats\n",
    "import time\n",
    "import json\n",
    "import matplotlib.pyplot as plt\n",
    "import numpy as np\n",
    "from netket.operator.spin import sigmax, sigmay,sigmaz"
   ]
  },
  {
   "cell_type": "code",
   "execution_count": 40,
   "metadata": {
    "executionInfo": {
     "elapsed": 5,
     "status": "ok",
     "timestamp": 1712140214674,
     "user": {
      "displayName": "dogyen ko (Kodo)",
      "userId": "17400671760216123133"
     },
     "user_tz": -540
    },
    "id": "RVBewVKlPk6e"
   },
   "outputs": [],
   "source": [
    "# Define the Hilbert space based on this graph\n",
    "# We impose to have a fixed total magnetization of zero\n",
    "# Define a 1d chain\n",
    "L = 10\n",
    "dis = 1\n",
    "g = nk.graph.Hypercube(length=L, n_dim=1, pbc=True)\n",
    "hi = nk.hilbert.Spin(s=0.5, total_sz=0, N=g.n_nodes)\n",
    "# calling the Heisenberg Hamiltonian\n",
    "ha = nk.operator.Heisenberg(hilbert=hi, graph=g)\n",
    "# ha = nk.operator.Heisenberg(hilbert=hi, graph=g)\n",
    "b=dis\n",
    "a=-dis\n",
    "Gamma = (b-a) * np.random.random_sample(L) + a\n",
    "\n",
    "################################################################################\n",
    "################################################################################\n",
    "################################################################################\n",
    "#이렇게 정의하는게 더 빨랑\n",
    "ha = sum([ sigmax(hi,i)*sigmax(hi,(i+1)%L)\n",
    "         + sigmay(hi,i)*sigmay(hi,(i+1)%L)\n",
    "         + sigmaz(hi,i)*sigmaz(hi,(i+1)%L)\n",
    "for i in range(L)])\n",
    "################################################################################\n",
    "################################################################################\n",
    "################################################################################\n",
    "ha = ha + sum([Gamma[i]*sigmaz(hi,i) for i in range(L)])"
   ]
  },
  {
   "cell_type": "code",
   "execution_count": 41,
   "metadata": {
    "executionInfo": {
     "elapsed": 492,
     "status": "ok",
     "timestamp": 1712140395790,
     "user": {
      "displayName": "dogyen ko (Kodo)",
      "userId": "17400671760216123133"
     },
     "user_tz": -540
    },
    "id": "PBM7F1Q4Pk6g"
   },
   "outputs": [],
   "source": [
    "# Et = np.random.uniform(low=0, high=L, size=None)\n",
    "# Et = np.random.randint(0,L, size=1)\n",
    "Et = 5\n",
    "# Et\n"
   ]
  },
  {
   "cell_type": "code",
   "execution_count": 42,
   "metadata": {
    "colab": {
     "base_uri": "https://localhost:8080/",
     "height": 448
    },
    "executionInfo": {
     "elapsed": 568,
     "status": "ok",
     "timestamp": 1712140400441,
     "user": {
      "displayName": "dogyen ko (Kodo)",
      "userId": "17400671760216123133"
     },
     "user_tz": -540
    },
    "id": "ZDt190GEPk6i",
    "outputId": "39a85e9d-3f05-4b7b-9c34-623843067ef1"
   },
   "outputs": [
    {
     "data": {
      "text/plain": [
       "[<matplotlib.lines.Line2D at 0x7816256bfb50>]"
      ]
     },
     "execution_count": 42,
     "metadata": {},
     "output_type": "execute_result"
    },
    {
     "data": {
      "image/png": "[encoded data removed]",
      "text/plain": [
       "<Figure size 640x480 with 1 Axes>"
      ]
     },
     "metadata": {},
     "output_type": "display_data"
    }
   ],
   "source": [
    "E, vec = np.linalg.eigh(ha.to_dense())\n",
    "plt.scatter(range(len(E)),E)\n",
    "plt.plot([0,len(E)],[Et,Et],'r')"
   ]
  },
  {
   "cell_type": "code",
   "execution_count": 43,
   "metadata": {
    "colab": {
     "base_uri": "https://localhost:8080/"
    },
    "executionInfo": {
     "elapsed": 4,
     "status": "ok",
     "timestamp": 1712140402876,
     "user": {
      "displayName": "dogyen ko (Kodo)",
      "userId": "17400671760216123133"
     },
     "user_tz": -540
    },
    "id": "E3sKVkISPk6i",
    "outputId": "774ee7a6-950a-4a4b-f7f3-bbfeab8fafec"
   },
   "outputs": [
    {
     "data": {
      "text/plain": [
       "array([-1.83052235e+01, -1.65255424e+01, -1.56673663e+01, -1.45277952e+01,\n",
       "       -1.44037212e+01, -1.32996746e+01, -1.32275553e+01, -1.23626948e+01,\n",
       "       -1.23063108e+01, -1.20343518e+01, -1.19238726e+01, -1.15944006e+01,\n",
       "       -1.14277555e+01, -1.12974793e+01, -1.11248106e+01, -1.09936236e+01,\n",
       "       -1.04529104e+01, -1.03047737e+01, -1.01375692e+01, -1.00963169e+01,\n",
       "       -9.85068095e+00, -9.70387293e+00, -9.57050908e+00, -9.38274122e+00,\n",
       "       -9.15831344e+00, -8.92395250e+00, -8.81247191e+00, -8.76447232e+00,\n",
       "       -8.64200554e+00, -8.46434303e+00, -8.41757525e+00, -8.39068399e+00,\n",
       "       -8.13746732e+00, -7.99801650e+00, -7.83432553e+00, -7.67842822e+00,\n",
       "       -7.64418226e+00, -7.46268138e+00, -7.35623937e+00, -7.30108061e+00,\n",
       "       -7.15029615e+00, -7.06385032e+00, -6.92812809e+00, -6.83624484e+00,\n",
       "       -6.79979168e+00, -6.72191861e+00, -6.59171693e+00, -6.49713084e+00,\n",
       "       -6.45259347e+00, -6.28632811e+00, -6.24431729e+00, -6.18424063e+00,\n",
       "       -6.04544466e+00, -5.98657858e+00, -5.90463707e+00, -5.86683645e+00,\n",
       "       -5.79531226e+00, -5.66475420e+00, -5.50936685e+00, -5.46074490e+00,\n",
       "       -5.41202643e+00, -5.37980586e+00, -5.30271313e+00, -5.23399658e+00,\n",
       "       -5.17332882e+00, -5.00356905e+00, -4.88165648e+00, -4.81121156e+00,\n",
       "       -4.75218776e+00, -4.74042365e+00, -4.65700067e+00, -4.52403882e+00,\n",
       "       -4.41079359e+00, -4.32556843e+00, -4.26964016e+00, -4.24641367e+00,\n",
       "       -4.10917651e+00, -4.05726870e+00, -3.92671736e+00, -3.90401451e+00,\n",
       "       -3.78012804e+00, -3.76716526e+00, -3.70399985e+00, -3.62467053e+00,\n",
       "       -3.52769069e+00, -3.49371360e+00, -3.46986388e+00, -3.39509000e+00,\n",
       "       -3.28930634e+00, -3.27503062e+00, -3.20777901e+00, -3.08733539e+00,\n",
       "       -3.00711414e+00, -2.96128412e+00, -2.83388132e+00, -2.82035110e+00,\n",
       "       -2.73873678e+00, -2.64414789e+00, -2.58316108e+00, -2.55512937e+00,\n",
       "       -2.44494298e+00, -2.35412515e+00, -2.30398929e+00, -2.20335138e+00,\n",
       "       -2.15700516e+00, -2.03504425e+00, -2.01498469e+00, -2.00062312e+00,\n",
       "       -1.92313261e+00, -1.85510788e+00, -1.78520102e+00, -1.74068394e+00,\n",
       "       -1.65148645e+00, -1.60164067e+00, -1.51747422e+00, -1.48345221e+00,\n",
       "       -1.40587161e+00, -1.38486587e+00, -1.32715069e+00, -1.26327285e+00,\n",
       "       -1.20841343e+00, -1.11470556e+00, -1.08042480e+00, -9.96100159e-01,\n",
       "       -9.64531862e-01, -9.38408629e-01, -8.29404696e-01, -7.05505698e-01,\n",
       "       -6.31912810e-01, -6.21437657e-01, -5.49017974e-01, -4.95411684e-01,\n",
       "       -4.53622086e-01, -4.17922557e-01, -3.00378759e-01, -2.82970733e-01,\n",
       "       -2.22536628e-01, -1.64667268e-01, -8.91440321e-02, -4.89774900e-02,\n",
       "       -3.78388537e-03,  5.16988044e-02,  9.33440517e-02,  1.88568697e-01,\n",
       "        2.72155176e-01,  3.03404234e-01,  3.73816295e-01,  4.25022600e-01,\n",
       "        4.91084289e-01,  5.44483273e-01,  6.59662970e-01,  6.98709816e-01,\n",
       "        7.63751849e-01,  8.12536564e-01,  9.32341053e-01,  1.01429524e+00,\n",
       "        1.03045119e+00,  1.11236296e+00,  1.22433098e+00,  1.26619455e+00,\n",
       "        1.31174969e+00,  1.37480847e+00,  1.47069538e+00,  1.49791614e+00,\n",
       "        1.52380596e+00,  1.60987133e+00,  1.64512605e+00,  1.66169896e+00,\n",
       "        1.76229013e+00,  1.78856863e+00,  1.95501124e+00,  2.06710853e+00,\n",
       "        2.12640193e+00,  2.16155763e+00,  2.21873690e+00,  2.23585250e+00,\n",
       "        2.30184814e+00,  2.36439694e+00,  2.41098279e+00,  2.54436566e+00,\n",
       "        2.68924511e+00,  2.74651770e+00,  2.80158541e+00,  2.89014501e+00,\n",
       "        2.93939904e+00,  2.96074570e+00,  3.04748509e+00,  3.11570328e+00,\n",
       "        3.17993035e+00,  3.21316232e+00,  3.34228037e+00,  3.48517784e+00,\n",
       "        3.51798696e+00,  3.56551875e+00,  3.66155978e+00,  3.76263505e+00,\n",
       "        3.81661528e+00,  3.90781903e+00,  3.93853645e+00,  3.98627486e+00,\n",
       "        4.05405044e+00,  4.10326154e+00,  4.19307264e+00,  4.34227227e+00,\n",
       "        4.38131297e+00,  4.43534067e+00,  4.49639041e+00,  4.58901628e+00,\n",
       "        4.69149343e+00,  4.83043493e+00,  5.00088817e+00,  5.11388214e+00,\n",
       "        5.16258446e+00,  5.22841941e+00,  5.34872511e+00,  5.50779513e+00,\n",
       "        5.55964597e+00,  5.65668254e+00,  5.71090266e+00,  5.89151682e+00,\n",
       "        5.97627205e+00,  6.08775647e+00,  6.12683413e+00,  6.23891403e+00,\n",
       "        6.29533111e+00,  6.36720760e+00,  6.46524752e+00,  6.71101338e+00,\n",
       "        6.79629160e+00,  6.86936106e+00,  6.92611744e+00,  7.11793737e+00,\n",
       "        7.26393361e+00,  7.38215963e+00,  7.50599677e+00,  7.57549035e+00,\n",
       "        7.76850334e+00,  7.93975558e+00,  8.02201786e+00,  8.27783259e+00,\n",
       "        8.48698022e+00,  8.57719943e+00,  8.75819705e+00,  8.97271518e+00,\n",
       "        9.06728987e+00,  9.29532695e+00,  9.69868378e+00,  1.04000753e+01,\n",
       "        1.05685381e+01,  1.08514641e+01,  1.14595768e+01,  1.19507996e+01])"
      ]
     },
     "execution_count": 43,
     "metadata": {},
     "output_type": "execute_result"
    }
   ],
   "source": [
    "E"
   ]
  },
  {
   "cell_type": "code",
   "execution_count": 44,
   "metadata": {
    "executionInfo": {
     "elapsed": 2,
     "status": "ok",
     "timestamp": 1712140405023,
     "user": {
      "displayName": "dogyen ko (Kodo)",
      "userId": "17400671760216123133"
     },
     "user_tz": -540
    },
    "id": "sWnjphO3Pk6k"
   },
   "outputs": [],
   "source": [
    "ha_Et_inv  = np.linalg.inv((ha-Et).to_dense())\n",
    "E_inv, vec_inv = np.linalg.eigh(ha_Et_inv)"
   ]
  },
  {
   "cell_type": "code",
   "execution_count": 45,
   "metadata": {
    "colab": {
     "base_uri": "https://localhost:8080/",
     "height": 448
    },
    "executionInfo": {
     "elapsed": 450,
     "status": "ok",
     "timestamp": 1712140406932,
     "user": {
      "displayName": "dogyen ko (Kodo)",
      "userId": "17400671760216123133"
     },
     "user_tz": -540
    },
    "id": "f7IpYIMqPk6k",
    "outputId": "ba94e50b-17a2-43b4-af4c-6b17648e4095"
   },
   "outputs": [
    {
     "data": {
      "text/plain": [
       "<matplotlib.collections.PathCollection at 0x7815ed501110>"
      ]
     },
     "execution_count": 45,
     "metadata": {},
     "output_type": "execute_result"
    },
    {
     "data": {
      "image/png": "[encoded data removed]",
      "text/plain": [
       "<Figure size 640x480 with 1 Axes>"
      ]
     },
     "metadata": {},
     "output_type": "display_data"
    }
   ],
   "source": [
    "plt.scatter(range(len(E_inv)),E_inv)"
   ]
  },
  {
   "cell_type": "code",
   "execution_count": 46,
   "metadata": {
    "colab": {
     "base_uri": "https://localhost:8080/"
    },
    "executionInfo": {
     "elapsed": 414,
     "status": "ok",
     "timestamp": 1712140410556,
     "user": {
      "displayName": "dogyen ko (Kodo)",
      "userId": "17400671760216123133"
     },
     "user_tz": -540
    },
    "id": "Hq9gxwC7Pk6l",
    "outputId": "ab8e4c94-f298-4e54-ad99-d7067d71c7cb"
   },
   "outputs": [
    {
     "data": {
      "text/plain": [
       "array([-5.89744107e+00, -3.24142206e+00, -2.43318641e+00, -1.98566512e+00,\n",
       "       -1.77097934e+00, -1.61632611e+00, -1.52038595e+00, -1.23926891e+00,\n",
       "       -1.11515235e+00, -1.05713882e+00, -9.86460685e-01, -9.42095466e-01,\n",
       "       -9.15599183e-01, -8.45033724e-01, -8.08169002e-01, -7.47138336e-01,\n",
       "       -6.97116116e-01, -6.74757896e-01, -6.60143499e-01, -6.03238316e-01,\n",
       "       -5.59647926e-01, -5.49429522e-01, -5.30701981e-01, -5.12159982e-01,\n",
       "       -4.90375329e-01, -4.85295318e-01, -4.73966222e-01, -4.54873256e-01,\n",
       "       -4.43757646e-01, -4.32759011e-01, -4.07226754e-01, -3.86246950e-01,\n",
       "       -3.79419805e-01, -3.70624062e-01, -3.61775195e-01, -3.59548869e-01,\n",
       "       -3.52305902e-01, -3.47995780e-01, -3.40960452e-01, -3.28408437e-01,\n",
       "       -3.11387629e-01, -3.08860287e-01, -2.99553572e-01, -2.98073792e-01,\n",
       "       -2.94974055e-01, -2.87670938e-01, -2.85544276e-01, -2.83341935e-01,\n",
       "       -2.75847494e-01, -2.71131272e-01, -2.67823274e-01, -2.64853724e-01,\n",
       "       -2.57225659e-01, -2.51917799e-01, -2.50896657e-01, -2.45841653e-01,\n",
       "       -2.38808055e-01, -2.36057937e-01, -2.32488383e-01, -2.30396855e-01,\n",
       "       -2.24440859e-01, -2.21782811e-01, -2.18580315e-01, -2.16160893e-01,\n",
       "       -2.12920177e-01, -2.11512864e-01, -2.07838362e-01, -2.03804793e-01,\n",
       "       -2.02089558e-01, -1.99848759e-01, -1.98059905e-01, -1.96496698e-01,\n",
       "       -1.93623316e-01, -1.91477834e-01, -1.89287439e-01, -1.88665762e-01,\n",
       "       -1.84572590e-01, -1.83364374e-01, -1.81969988e-01, -1.80212067e-01,\n",
       "       -1.77890437e-01, -1.77559567e-01, -1.75269302e-01, -1.71544103e-01,\n",
       "       -1.68395283e-01, -1.67657751e-01, -1.66775066e-01, -1.64462194e-01,\n",
       "       -1.63540172e-01, -1.61071747e-01, -1.59660935e-01, -1.58049025e-01,\n",
       "       -1.56620361e-01, -1.56106782e-01, -1.54238817e-01, -1.53433672e-01,\n",
       "       -1.51477496e-01, -1.50342334e-01, -1.48352898e-01, -1.47379569e-01,\n",
       "       -1.45876625e-01, -1.44443283e-01, -1.42844427e-01, -1.42551986e-01,\n",
       "       -1.42145517e-01, -1.39723247e-01, -1.38824270e-01, -1.36911482e-01,\n",
       "       -1.35978105e-01, -1.34319363e-01, -1.32360407e-01, -1.31871127e-01,\n",
       "       -1.30819028e-01, -1.29220056e-01, -1.27871497e-01, -1.27650645e-01,\n",
       "       -1.25607877e-01, -1.24888940e-01, -1.23650121e-01, -1.21835639e-01,\n",
       "       -1.20845474e-01, -1.20637356e-01, -1.19117246e-01, -1.18065652e-01,\n",
       "       -1.17734132e-01, -1.17265041e-01, -1.15946458e-01, -1.14889708e-01,\n",
       "       -1.14061954e-01, -1.13893556e-01, -1.12308892e-01, -1.12023262e-01,\n",
       "       -1.10408561e-01, -1.09779407e-01, -1.08150039e-01, -1.07879053e-01,\n",
       "       -1.07232069e-01, -1.06260964e-01, -1.04997472e-01, -1.03551820e-01,\n",
       "       -1.02664939e-01, -1.02541094e-01, -1.01924211e-01, -1.01197608e-01,\n",
       "       -9.99643222e-02, -9.82962429e-02, -9.77135367e-02, -9.70618115e-02,\n",
       "       -9.63409155e-02, -9.60427835e-02, -9.55954867e-02, -9.51532109e-02,\n",
       "       -9.37668118e-02, -9.26327999e-02, -9.20231021e-02, -9.17041066e-02,\n",
       "       -9.10201472e-02, -9.05350605e-02, -8.94115240e-02, -8.89338120e-02,\n",
       "       -8.86027759e-02, -8.73164670e-02, -8.69782221e-02, -8.62684972e-02,\n",
       "       -8.53102665e-02, -8.47472589e-02, -8.44862550e-02, -8.38354512e-02,\n",
       "       -8.28922752e-02, -8.23025207e-02, -8.12936710e-02, -8.09307727e-02,\n",
       "       -8.02395544e-02, -7.90877559e-02, -7.88741304e-02, -7.79160539e-02,\n",
       "       -7.69348154e-02, -7.61181722e-02, -7.46787842e-02, -7.45291143e-02,\n",
       "       -7.42702409e-02, -7.33030050e-02, -7.26508054e-02, -7.23983373e-02,\n",
       "       -7.18186880e-02, -7.06298815e-02, -6.95277753e-02, -6.86317818e-02,\n",
       "       -6.80092928e-02, -6.73369796e-02, -6.62413229e-02, -6.60608046e-02,\n",
       "       -6.53390909e-02, -6.47127290e-02, -6.25249177e-02, -6.20162321e-02,\n",
       "       -6.13591820e-02, -6.08725886e-02, -6.02612907e-02, -5.90881309e-02,\n",
       "       -5.87049047e-02, -5.77823900e-02, -5.75947463e-02, -5.48619922e-02,\n",
       "       -5.46457805e-02, -5.15365063e-02, -5.12090582e-02, -4.83854587e-02,\n",
       "       -4.64564369e-02, -4.29088354e-02,  1.43868340e-01,  1.54808904e-01,\n",
       "        1.70897400e-01,  1.79580347e-01,  1.85182604e-01,  2.12825558e-01,\n",
       "        2.32811148e-01,  2.45863962e-01,  2.51717013e-01,  2.66085037e-01,\n",
       "        2.79548295e-01,  2.86781094e-01,  3.05079644e-01,  3.30904728e-01,\n",
       "        3.40164335e-01,  3.61205993e-01,  3.88275576e-01,  3.99042813e-01,\n",
       "        4.19787149e-01,  4.41709065e-01,  4.72157494e-01,  5.19179141e-01,\n",
       "        5.34942137e-01,  5.56702488e-01,  5.84448967e-01,  6.82478548e-01,\n",
       "        7.31417816e-01,  7.72003381e-01,  8.07158510e-01,  8.87442055e-01,\n",
       "        9.19323424e-01,  1.02430465e+00,  1.12168383e+00,  1.40666234e+00,\n",
       "        1.52280582e+00,  1.78684391e+00,  1.96929814e+00,  2.86758820e+00,\n",
       "        4.37791159e+00,  6.15064942e+00,  8.78100823e+00,  1.12591019e+03])"
      ]
     },
     "execution_count": 46,
     "metadata": {},
     "output_type": "execute_result"
    }
   ],
   "source": [
    "E_inv\n",
    "# -4.135835"
   ]
  },
  {
   "cell_type": "code",
   "execution_count": 47,
   "metadata": {
    "executionInfo": {
     "elapsed": 2,
     "status": "ok",
     "timestamp": 1712140411973,
     "user": {
      "displayName": "dogyen ko (Kodo)",
      "userId": "17400671760216123133"
     },
     "user_tz": -540
    },
    "id": "NcIeASsLPk6s"
   },
   "outputs": [],
   "source": [
    "\n",
    "def add(x,y):\n",
    "    return x+y\n"
   ]
  },
  {
   "cell_type": "code",
   "execution_count": 48,
   "metadata": {
    "executionInfo": {
     "elapsed": 2,
     "status": "ok",
     "timestamp": 1712140413601,
     "user": {
      "displayName": "dogyen ko (Kodo)",
      "userId": "17400671760216123133"
     },
     "user_tz": -540
    },
    "id": "FldNJjkKPk6t"
   },
   "outputs": [],
   "source": [
    "@nk.vqs.expect.dispatch\n",
    "def expect_try(vstate: nk.vqs.FullSumState, Ô: nk.operator.DiscreteOperator) -> Stats:  # noqa: F811\n",
    "#     _check_hilbert(vstate, Ô)\n",
    "\n",
    "#     O = sparsify(Ô)\n",
    "    O = Ô.to_sparse()\n",
    "    Ψ = vstate.to_array()\n",
    "\n",
    "    # TODO: This performs the full computation on all MPI ranks.\n",
    "    # It would be great if we could split the computation among ranks.\n",
    "\n",
    "    OΨ = O @ Ψ\n",
    "    expval_O = (Ψ.conj() * OΨ).sum()\n",
    "\n",
    "    variance = jnp.sum(jnp.abs(OΨ - expval_O * Ψ) ** 2)\n",
    "    return Stats(mean=expval_O, error_of_mean=0.0, variance=variance)"
   ]
  },
  {
   "cell_type": "code",
   "execution_count": 49,
   "metadata": {
    "executionInfo": {
     "elapsed": 773,
     "status": "ok",
     "timestamp": 1712140414373,
     "user": {
      "displayName": "dogyen ko (Kodo)",
      "userId": "17400671760216123133"
     },
     "user_tz": -540
    },
    "id": "-z23LjQiPk6t"
   },
   "outputs": [],
   "source": [
    "O_sparse = ha.to_sparse()\n",
    "H_Et_sparse = (ha-Et).to_sparse()\n",
    "H_Et_squ_sparse = ((ha-Et)@(ha-Et)).to_sparse()"
   ]
  },
  {
   "cell_type": "code",
   "execution_count": 50,
   "metadata": {
    "executionInfo": {
     "elapsed": 13,
     "status": "ok",
     "timestamp": 1712140414374,
     "user": {
      "displayName": "dogyen ko (Kodo)",
      "userId": "17400671760216123133"
     },
     "user_tz": -540
    },
    "id": "39w50T4VPk6t"
   },
   "outputs": [],
   "source": [
    "@expect_and_grad.dispatch\n",
    "def expect_and_grad_fullsum(\n",
    "    vstate: nk.vqs.FullSumState,\n",
    "    Ô: nk.operator.DiscreteOperator,\n",
    "    *args,\n",
    "    mutable: CollectionFilter = False,\n",
    "    use_covariance: Optional[bool] = None,\n",
    "    **kwargs,\n",
    ") -> tuple[Stats, PyTree]:\n",
    "    if use_covariance is None:\n",
    "        use_covariance = Ô.is_hermitian\n",
    "\n",
    "    if use_covariance:\n",
    "        # Implementation of expect_and_grad for `use_covariance == True` (due to the Literal[True]\n",
    "        # type in the signature).` This case is equivalent to the composition of the\n",
    "        # `expect_and_forces` and `force_to_grad` functions.\n",
    "        # return expect_and_grad_from_covariance(vstate, Ô, *args, mutable=mutable)\n",
    "        Ō, Ō_grad = expect_and_forces(vstate, Ô, *args, mutable=mutable, **kwargs)\n",
    "        Ō_grad = force_to_grad(Ō_grad, vstate.parameters)\n",
    "        return Ō, Ō_grad\n",
    "    else:\n",
    "        raise NotImplementedError(\n",
    "            \"The gradient of non hermitian operators with \"\n",
    "            \"FullSumState is not yet implemented\"\n",
    "        )\n",
    "\n",
    "@nk.vqs.expect_and_forces.dispatch\n",
    "def expect_and_forces_fullsum(\n",
    "    vstate: nk.vqs.FullSumState,\n",
    "    Ô: nk.operator.DiscreteOperator,\n",
    "    *,\n",
    "    mutable: CollectionFilter = False,\n",
    ") -> tuple[Stats, PyTree]:\n",
    "    if isinstance(Ô, Squared):\n",
    "        raise NotImplementedError(\"expect_and_forces not yet implemented for `Squared`\")\n",
    "\n",
    "#     _check_hilbert(vstate, Ô)\n",
    "\n",
    "\n",
    "    O = O_sparse\n",
    "    H_Et = H_Et_sparse\n",
    "    H_Et_squ = H_Et_squ_sparse\n",
    "\n",
    "    Ψ = vstate.to_array()\n",
    "    OΨ = O @ Ψ\n",
    "    H_EtΨ = H_Et@Ψ\n",
    "    H_Et_squΨ = H_Et_squ @ Ψ\n",
    "    Ψ_pre = H_Et @ Ψ\n",
    "    Ψ_pre = Ψ_pre / jnp.linalg.norm(Ψ_pre)\n",
    "    H_EtΨ_pre = H_Et @ Ψ_pre\n",
    "    invOΨ = ha_Et_inv @ Ψ\n",
    "    Ψ_pre_conjO = Ψ_pre.conj() @ H_Et\n",
    "\n",
    "    expval_O, Ō_grad = _exp_forces(\n",
    "        vstate._apply_fun,\n",
    "        mutable,\n",
    "        vstate.parameters,\n",
    "        vstate.model_state,\n",
    "        vstate._all_states,\n",
    "        OΨ,\n",
    "        Ψ,\n",
    "        Ψ_pre,\n",
    "        H_Et_squΨ,\n",
    "        H_EtΨ,\n",
    "        H_EtΨ_pre,\n",
    "        invOΨ,\n",
    "        Ψ_pre_conjO,\n",
    "    )\n",
    "\n",
    "    # if mutable is not False:\n",
    "    #     vstate.model_state = new_model_state\n",
    "\n",
    "    return expval_O, Ō_grad\n",
    "\n",
    "\n",
    "@partial(jax.jit, static_argnums=(0, 1))\n",
    "def _exp_forces(\n",
    "    model_apply_fun: Callable,\n",
    "    mutable: CollectionFilter,\n",
    "    parameters: PyTree,\n",
    "    model_state: PyTree,\n",
    "    σ: jnp.ndarray,\n",
    "    OΨ: jnp.ndarray,\n",
    "    Ψ: jnp.ndarray,\n",
    "    Ψ_pre: jnp.ndarray,\n",
    "    H_Et_squΨ: jnp.ndarray,\n",
    "    H_EtΨ: jnp.ndarray,\n",
    "    H_EtΨ_pre: jnp.ndarray,\n",
    "    invOΨ: jnp.ndarray,\n",
    "    Ψ_pre_conjO: jnp.ndarray,\n",
    ") -> tuple[PyTree, PyTree]:\n",
    "    is_mutable = mutable is not False\n",
    "\n",
    "    expval_O = (Ψ.conj() * invOΨ).sum()\n",
    "#     expval_O = (Ψ.conj() * OΨ).sum()\n",
    "    # variance = jnp.sum(jnp.abs(OΨ - expval_O * Ψ) ** 2)\n",
    "    # ΔOΨ = (OΨ - expval_O * Ψ).conj() * Ψ\n",
    "\n",
    "    expval_H_Et_squ = (Ψ.conj() * H_Et_squΨ).sum()\n",
    "    ΔOΨ_squ = (H_Et_squΨ - expval_H_Et_squ * Ψ).conj() * Ψ\n",
    "\n",
    "    denom = Ψ_pre.conj()@Ψ\n",
    "    # denom = Ψ.conj()@Ψ\n",
    "    expval_H_Et = (Ψ_pre.conj() * H_EtΨ).sum()/denom\n",
    "    ΔOΨ_non = (Ψ_pre_conjO - expval_H_Et * Ψ_pre.conj())/denom * Ψ\n",
    "#     ΔOΨ_non = (Ψ_pre_conjO - expval_H_Et * Ψ_pre.conj()) * Ψ\n",
    "#     ΔOΨ_non = (H_EtΨ_pre - expval_H_Et * Ψ_pre).conj() * Ψ\n",
    "\n",
    "\n",
    "\n",
    "    _, vjp_fun, *new_model_state = nkjax.vjp(\n",
    "        lambda w: model_apply_fun({\"params\": w, **model_state}, σ, mutable=mutable),\n",
    "        parameters,\n",
    "        conjugate=True,\n",
    "        has_aux=is_mutable,\n",
    "    )\n",
    "\n",
    "#     Ō_grad = vjp_fun(ΔOΨ)[0]\n",
    "    Ō_grad_first = vjp_fun(ΔOΨ_squ)[0]\n",
    "    Ō_grad_second = vjp_fun(-2*ΔOΨ_non)[0]\n",
    "\n",
    "    #Let it reaches to the maximum state of inv(H-Et)\n",
    "    # Ō_grad_first = vjp_fun(-ΔOΨ_squ)[0]\n",
    "    # Ō_grad_second = vjp_fun(2*ΔOΨ_non)[0]\n",
    "#     Ō_grad_second = vjp_fun(ΔOΨ_non)[0]\n",
    "\n",
    "    Ō_grad = jax.tree.map(add, Ō_grad_first, Ō_grad_second)\n",
    "    #######################################################\n",
    "    #######################################################\n",
    "    # Ō_grad = Ō_grad_first\n",
    "    #######################################################\n",
    "    #######################################################\n",
    "\n",
    "    # new_model_state = new_model_state[0] if is_mutable else None\n",
    "\n",
    "    return (\n",
    "        Stats(mean=expval_O, error_of_mean=0.0, variance=1.0),\n",
    "        Ō_grad,\n",
    "        # new_model_state,\n",
    "    )"
   ]
  },
  {
   "cell_type": "code",
   "execution_count": 51,
   "metadata": {
    "executionInfo": {
     "elapsed": 2,
     "status": "ok",
     "timestamp": 1712140415861,
     "user": {
      "displayName": "dogyen ko (Kodo)",
      "userId": "17400671760216123133"
     },
     "user_tz": -540
    },
    "id": "Ow4IIT6UPk6u"
   },
   "outputs": [],
   "source": [
    "def variance(vsta, hamil):\n",
    "    return vsta.to_array().conj()@(hamil@hamil).to_sparse()@vsta.to_array() - (vsta.to_array().conj()@(hamil).to_sparse()@vsta.to_array())**2"
   ]
  },
  {
   "cell_type": "code",
   "execution_count": 52,
   "metadata": {
    "colab": {
     "base_uri": "https://localhost:8080/",
     "height": 501
    },
    "executionInfo": {
     "elapsed": 1080326,
     "status": "ok",
     "timestamp": 1712141515976,
     "user": {
      "displayName": "dogyen ko (Kodo)",
      "userId": "17400671760216123133"
     },
     "user_tz": -540
    },
    "id": "5HRjDPiLPk6u",
    "outputId": "b7822e9e-077a-4b83-9da6-b4094493cc76"
   },
   "outputs": [
    {
     "name": "stderr",
     "output_type": "stream",
     "text": [
      "100%|███| 10000/10000 [16:12<00:00, 10.28it/s, Energy=5.266e+01-1.688e-14j ± 0.000e+00 [σ²=1.000e+00]]\n"
     ]
    },
    {
     "name": "stdout",
     "output_type": "stream",
     "text": [
      "Vaiance :  0.0014260861930459612\n",
      "Variational result :  52.65581366751247\n",
      "Real result :  -5.8974410712448115\n"
     ]
    },
    {
     "data": {
      "image/png": "[encoded data removed]",
      "text/plain": [
       "<Figure size 640x480 with 1 Axes>"
      ]
     },
     "metadata": {},
     "output_type": "display_data"
    }
   ],
   "source": [
    "# Build the sampler\n",
    "# sa = nk.sampler.MetropolisExchange(hilbert=hi,graph=g)\n",
    "epochs = 10000\n",
    "\n",
    "ma = nk.models.MPSPeriodic(hilbert=hi, graph=g, bond_dim=10, param_dtype=complex)\n",
    "# ma = nk.models.RBM(alpha=2, param_dtype=complex)\n",
    "vs = nk.vqs.FullSumState(hi, ma)\n",
    "\n",
    "# Optimizer\n",
    "# op = nk.optimizer.Sgd(learning_rate=0.001)\n",
    "op = nk.optimizer.Adam(learning_rate=0.01)\n",
    "\n",
    "# Stochastic Reconfiguration\n",
    "sr = nk.optimizer.SR(diag_shift=0.1, holomorphic=True)\n",
    "\n",
    "\n",
    "# The ground-state optimization loop\n",
    "Target_ha = ha\n",
    "gs = nk.VMC(\n",
    "    hamiltonian=ha,\n",
    "    optimizer=op,\n",
    "    preconditioner=sr,\n",
    "    variational_state=vs)\n",
    "\n",
    "start = time.time()\n",
    "gs.run(epochs, out='RBM')\n",
    "end = time.time()\n",
    "\n",
    "data=json.load(open(\"RBM.log\"))\n",
    "plt.plot(data['Energy']['Mean']['real'])\n",
    "print(\"Vaiance : \",variance(vs, ha).real)\n",
    "print(\"Variational result : \",data['Energy']['Mean']['real'][-1])\n",
    "print(\"Real result : \",E_inv[0])\n",
    "# plt.plot(np.log10(data['Energy']['Variance']))"
   ]
  },
  {
   "cell_type": "code",
   "execution_count": null,
   "metadata": {},
   "outputs": [],
   "source": [
    "psi = vs.to_array()\n",
    "psi.conj()@ha.to_dense()@ha.to_dense()@psi - (psi.conj()@ha.to_dense()@psi)**2"
   ]
  },
  {
   "cell_type": "code",
   "execution_count": null,
   "metadata": {},
   "outputs": [],
   "source": [
    "psi.conj()@(hamil@hamil).to_sparse()@psi - psi.conj()@(hamil).to_sparse()@psi)**2"
   ]
  },
  {
   "cell_type": "code",
   "execution_count": null,
   "metadata": {
    "id": "ENNAgUcNPk6u"
   },
   "outputs": [],
   "source": [
    "#Austria"
   ]
  }
 ],
 "metadata": {
  "colab": {
   "provenance": []
  },
  "kernelspec": {
   "display_name": "Python 3 (ipykernel)",
   "language": "python",
   "name": "python3"
  },
  "language_info": {
   "codemirror_mode": {
    "name": "ipython",
    "version": 3
   },
   "file_extension": ".py",
   "mimetype": "text/x-python",
   "name": "python",
   "nbconvert_exporter": "python",
   "pygments_lexer": "ipython3",
   "version": "3.11.7"
  }
 },
 "nbformat": 4,
 "nbformat_minor": 4
}
