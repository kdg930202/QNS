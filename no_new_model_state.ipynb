{
 "cells": [
  {
   "cell_type": "code",
   "execution_count": 1,
   "metadata": {
    "executionInfo": {
     "elapsed": 8474,
     "status": "ok",
     "timestamp": 1712140226136,
     "user": {
      "displayName": "dogyen ko (Kodo)",
      "userId": "17400671760216123133"
     },
     "user_tz": -540
    },
    "id": "0O_f46j8Pmmm"
   },
   "outputs": [],
   "source": [
    "# %pip install --quiet netket"
   ]
  },
  {
   "cell_type": "code",
   "execution_count": 2,
   "metadata": {
    "executionInfo": {
     "elapsed": 4,
     "status": "ok",
     "timestamp": 1712140226136,
     "user": {
      "displayName": "dogyen ko (Kodo)",
      "userId": "17400671760216123133"
     },
     "user_tz": -540
    },
    "id": "xnxfYtRGPk6a"
   },
   "outputs": [],
   "source": [
    "import netket\n",
    "from flax.core.scope import CollectionFilter\n",
    "from netket.utils.types import PyTree\n",
    "from netket.operator import Squared\n",
    "from functools import partial, lru_cache\n",
    "from typing import Callable, Optional\n",
    "\n",
    "import jax\n",
    "from jax import numpy as jnp\n",
    "from flax.core.scope import CollectionFilter, DenyList  # noqa: F401\n",
    "\n",
    "import netket as nk\n",
    "from netket import jax as nkjax\n",
    "from netket.operator import DiscreteOperator, Squared\n",
    "from netket.stats import Stats\n",
    "from netket.utils.types import PyTree\n",
    "from netket.utils.dispatch import dispatch\n",
    "\n",
    "# from nektet.vqs import _ex\n",
    "from netket.vqs import expect_and_grad, expect_and_forces\n",
    "from netket.vqs.mc.common import force_to_grad\n",
    "from netket.stats import Stats\n",
    "import time\n",
    "import json\n",
    "import matplotlib.pyplot as plt\n",
    "import numpy as np\n",
    "from netket.operator.spin import sigmax, sigmay,sigmaz"
   ]
  },
  {
   "cell_type": "code",
   "execution_count": 53,
   "metadata": {
    "executionInfo": {
     "elapsed": 5,
     "status": "ok",
     "timestamp": 1712140214674,
     "user": {
      "displayName": "dogyen ko (Kodo)",
      "userId": "17400671760216123133"
     },
     "user_tz": -540
    },
    "id": "RVBewVKlPk6e"
   },
   "outputs": [],
   "source": [
    "# Define the Hilbert space based on this graph\n",
    "# We impose to have a fixed total magnetization of zero\n",
    "# Define a 1d chain\n",
    "L = 10\n",
    "dis = 1\n",
    "g = nk.graph.Hypercube(length=L, n_dim=1, pbc=True)\n",
    "hi = nk.hilbert.Spin(s=0.5, total_sz=0, N=g.n_nodes)\n",
    "# calling the Heisenberg Hamiltonian\n",
    "ha = nk.operator.Heisenberg(hilbert=hi, graph=g)\n",
    "# ha = nk.operator.Heisenberg(hilbert=hi, graph=g)\n",
    "b=dis\n",
    "a=-dis\n",
    "Gamma = (b-a) * np.random.random_sample(L) + a\n",
    "\n",
    "################################################################################\n",
    "################################################################################\n",
    "################################################################################\n",
    "#이렇게 정의하는게 더 빨랑\n",
    "ha = sum([ sigmax(hi,i)*sigmax(hi,(i+1)%L)\n",
    "         + sigmay(hi,i)*sigmay(hi,(i+1)%L)\n",
    "         + sigmaz(hi,i)*sigmaz(hi,(i+1)%L)\n",
    "for i in range(L)])\n",
    "################################################################################\n",
    "################################################################################\n",
    "################################################################################\n",
    "ha = ha + sum([Gamma[i]*sigmaz(hi,i) for i in range(L)])"
   ]
  },
  {
   "cell_type": "code",
   "execution_count": 54,
   "metadata": {
    "executionInfo": {
     "elapsed": 492,
     "status": "ok",
     "timestamp": 1712140395790,
     "user": {
      "displayName": "dogyen ko (Kodo)",
      "userId": "17400671760216123133"
     },
     "user_tz": -540
    },
    "id": "PBM7F1Q4Pk6g"
   },
   "outputs": [],
   "source": [
    "# Et = np.random.uniform(low=0, high=L, size=None)\n",
    "# Et = np.random.randint(0,L, size=1)\n",
    "Et = 5\n",
    "# Et\n"
   ]
  },
  {
   "cell_type": "code",
   "execution_count": 55,
   "metadata": {
    "colab": {
     "base_uri": "https://localhost:8080/",
     "height": 448
    },
    "executionInfo": {
     "elapsed": 568,
     "status": "ok",
     "timestamp": 1712140400441,
     "user": {
      "displayName": "dogyen ko (Kodo)",
      "userId": "17400671760216123133"
     },
     "user_tz": -540
    },
    "id": "ZDt190GEPk6i",
    "outputId": "39a85e9d-3f05-4b7b-9c34-623843067ef1"
   },
   "outputs": [
    {
     "data": {
      "text/plain": [
       "[<matplotlib.lines.Line2D at 0x78161fe6d510>]"
      ]
     },
     "execution_count": 55,
     "metadata": {},
     "output_type": "execute_result"
    },
    {
     "data": {
      "image/png": "[encoded data removed]",
      "text/plain": [
       "<Figure size 640x480 with 1 Axes>"
      ]
     },
     "metadata": {},
     "output_type": "display_data"
    }
   ],
   "source": [
    "E, vec = np.linalg.eigh(ha.to_dense())\n",
    "plt.scatter(range(len(E)),E)\n",
    "plt.plot([0,len(E)],[Et,Et],'r')"
   ]
  },
  {
   "cell_type": "code",
   "execution_count": 56,
   "metadata": {
    "colab": {
     "base_uri": "https://localhost:8080/"
    },
    "executionInfo": {
     "elapsed": 4,
     "status": "ok",
     "timestamp": 1712140402876,
     "user": {
      "displayName": "dogyen ko (Kodo)",
      "userId": "17400671760216123133"
     },
     "user_tz": -540
    },
    "id": "E3sKVkISPk6i",
    "outputId": "774ee7a6-950a-4a4b-f7f3-bbfeab8fafec"
   },
   "outputs": [
    {
     "data": {
      "text/plain": [
       "array([-18.62326479, -16.38183191, -15.73709831, -14.58348518,\n",
       "       -14.4212687 , -13.46265073, -13.21084096, -12.55160965,\n",
       "       -12.21535594, -12.08829371, -11.90562865, -11.73688378,\n",
       "       -11.57834465, -11.40549161, -11.12775442, -10.87914245,\n",
       "       -10.57827634, -10.52039543, -10.13322484, -10.05588141,\n",
       "        -9.93246121,  -9.55583338,  -9.47395129,  -9.38972516,\n",
       "        -9.16519015,  -8.96065646,  -8.75968127,  -8.68580424,\n",
       "        -8.59232108,  -8.35544467,  -8.31492452,  -8.23405892,\n",
       "        -8.11416328,  -8.07080741,  -7.89819651,  -7.67730592,\n",
       "        -7.55674615,  -7.37303203,  -7.2623252 ,  -7.21245764,\n",
       "        -7.0538439 ,  -6.97176467,  -6.93657845,  -6.86319628,\n",
       "        -6.75099555,  -6.58076678,  -6.53399692,  -6.45861565,\n",
       "        -6.41463879,  -6.40545536,  -6.31239815,  -6.22903317,\n",
       "        -6.0826939 ,  -5.98883113,  -5.94980209,  -5.84034074,\n",
       "        -5.76680105,  -5.71423672,  -5.57980598,  -5.49904699,\n",
       "        -5.44764135,  -5.29606   ,  -5.22983597,  -5.12096453,\n",
       "        -5.02414016,  -4.95880183,  -4.95003121,  -4.84643097,\n",
       "        -4.73479877,  -4.6236978 ,  -4.51058991,  -4.43081209,\n",
       "        -4.40497285,  -4.29570848,  -4.24293194,  -4.12550006,\n",
       "        -4.07970926,  -4.04297418,  -3.93633741,  -3.87292707,\n",
       "        -3.83039499,  -3.74695556,  -3.67452921,  -3.59290827,\n",
       "        -3.56919581,  -3.5132916 ,  -3.42423887,  -3.40280612,\n",
       "        -3.26999597,  -3.21238917,  -3.13766569,  -3.07389526,\n",
       "        -3.01484015,  -2.94989477,  -2.90510344,  -2.76901519,\n",
       "        -2.75193635,  -2.56930077,  -2.50525516,  -2.44170333,\n",
       "        -2.28624184,  -2.20323889,  -2.18346946,  -2.11772032,\n",
       "        -2.09700012,  -1.99925425,  -1.93280088,  -1.88138031,\n",
       "        -1.72442887,  -1.68822884,  -1.63048957,  -1.58314456,\n",
       "        -1.57548049,  -1.50581573,  -1.3956499 ,  -1.33667447,\n",
       "        -1.29071635,  -1.26235978,  -1.21466075,  -1.16350041,\n",
       "        -1.07603646,  -1.01726635,  -0.99487181,  -0.91799423,\n",
       "        -0.87254968,  -0.76930383,  -0.75419336,  -0.68475179,\n",
       "        -0.65154036,  -0.57554818,  -0.48670122,  -0.44200802,\n",
       "        -0.42632666,  -0.3573689 ,  -0.24476559,  -0.17646363,\n",
       "        -0.14233349,  -0.09854846,  -0.04101861,  -0.03118101,\n",
       "         0.03434399,   0.07528652,   0.17201346,   0.20558159,\n",
       "         0.3702023 ,   0.40889857,   0.43889288,   0.46443546,\n",
       "         0.51530115,   0.57114565,   0.60523677,   0.68061111,\n",
       "         0.80160867,   0.91109847,   0.94946156,   0.97130328,\n",
       "         1.08456522,   1.11483898,   1.15534383,   1.21910929,\n",
       "         1.34351766,   1.35873567,   1.42772355,   1.5061234 ,\n",
       "         1.61924812,   1.64305767,   1.72408539,   1.74293269,\n",
       "         1.80386833,   1.87080075,   1.90537117,   1.9544305 ,\n",
       "         2.08378362,   2.13797384,   2.22732843,   2.25437766,\n",
       "         2.33520514,   2.44533093,   2.47370803,   2.54739413,\n",
       "         2.57191432,   2.73026708,   2.79489698,   2.88740703,\n",
       "         2.95016387,   3.02070939,   3.10023355,   3.16751836,\n",
       "         3.17634717,   3.19914039,   3.29405499,   3.43874577,\n",
       "         3.46382261,   3.57072978,   3.60869184,   3.71029315,\n",
       "         3.74220495,   3.87270204,   3.94314472,   3.99819224,\n",
       "         4.06571041,   4.14434289,   4.19230545,   4.23687761,\n",
       "         4.37291168,   4.50270677,   4.6712411 ,   4.73962424,\n",
       "         4.78612215,   4.93783659,   4.99186622,   5.01851245,\n",
       "         5.19602114,   5.26507755,   5.31926698,   5.40163557,\n",
       "         5.45959336,   5.63392319,   5.75067105,   5.8352791 ,\n",
       "         5.89278586,   5.91579031,   6.16169283,   6.34158393,\n",
       "         6.37282914,   6.47152563,   6.61951776,   6.75885374,\n",
       "         6.80046191,   6.85612038,   6.96081342,   7.11572953,\n",
       "         7.15362566,   7.35066423,   7.44992566,   7.54274767,\n",
       "         7.66821296,   7.76709013,   7.95195957,   8.12642539,\n",
       "         8.20605343,   8.4870613 ,   8.54915088,   8.66814274,\n",
       "         8.81185647,   9.12221222,   9.48186238,   9.63286409,\n",
       "         9.86679862,  10.30946083,  10.52370066,  11.22336066])"
      ]
     },
     "execution_count": 56,
     "metadata": {},
     "output_type": "execute_result"
    }
   ],
   "source": [
    "E"
   ]
  },
  {
   "cell_type": "code",
   "execution_count": 57,
   "metadata": {
    "executionInfo": {
     "elapsed": 2,
     "status": "ok",
     "timestamp": 1712140405023,
     "user": {
      "displayName": "dogyen ko (Kodo)",
      "userId": "17400671760216123133"
     },
     "user_tz": -540
    },
    "id": "sWnjphO3Pk6k"
   },
   "outputs": [],
   "source": [
    "ha_Et_inv  = np.linalg.inv((ha-Et).to_dense())\n",
    "E_inv, vec_inv = np.linalg.eigh(ha_Et_inv)"
   ]
  },
  {
   "cell_type": "code",
   "execution_count": 58,
   "metadata": {
    "colab": {
     "base_uri": "https://localhost:8080/",
     "height": 448
    },
    "executionInfo": {
     "elapsed": 450,
     "status": "ok",
     "timestamp": 1712140406932,
     "user": {
      "displayName": "dogyen ko (Kodo)",
      "userId": "17400671760216123133"
     },
     "user_tz": -540
    },
    "id": "f7IpYIMqPk6k",
    "outputId": "ba94e50b-17a2-43b4-af4c-6b17648e4095"
   },
   "outputs": [
    {
     "data": {
      "text/plain": [
       "<matplotlib.collections.PathCollection at 0x78162547a190>"
      ]
     },
     "execution_count": 58,
     "metadata": {},
     "output_type": "execute_result"
    },
    {
     "data": {
      "image/png": "[encoded data removed]",
      "text/plain": [
       "<Figure size 640x480 with 1 Axes>"
      ]
     },
     "metadata": {},
     "output_type": "display_data"
    }
   ],
   "source": [
    "plt.scatter(range(len(E_inv)),E_inv)"
   ]
  },
  {
   "cell_type": "code",
   "execution_count": 59,
   "metadata": {
    "colab": {
     "base_uri": "https://localhost:8080/"
    },
    "executionInfo": {
     "elapsed": 414,
     "status": "ok",
     "timestamp": 1712140410556,
     "user": {
      "displayName": "dogyen ko (Kodo)",
      "userId": "17400671760216123133"
     },
     "user_tz": -540
    },
    "id": "Hq9gxwC7Pk6l",
    "outputId": "ab8e4c94-f298-4e54-ad99-d7067d71c7cb"
   },
   "outputs": [
    {
     "data": {
      "text/plain": [
       "array([-1.22944134e+02, -1.60866333e+01, -4.67556607e+00, -3.84060327e+00,\n",
       "       -3.04174279e+00, -2.01088599e+00, -1.59467170e+00, -1.31040580e+00,\n",
       "       -1.23809181e+00, -1.16869244e+00, -1.07033195e+00, -9.98195505e-01,\n",
       "       -9.46203348e-01, -8.87076921e-01, -7.95042083e-01, -7.75370001e-01,\n",
       "       -7.18748029e-01, -6.99657760e-01, -6.50966487e-01, -6.40510673e-01,\n",
       "       -5.86185366e-01, -5.55290369e-01, -5.48349983e-01, -5.45708059e-01,\n",
       "       -5.26380494e-01, -5.05231519e-01, -4.87843875e-01, -4.73351949e-01,\n",
       "       -4.53493552e-01, -4.40580471e-01, -4.11847081e-01, -4.07729596e-01,\n",
       "       -3.95837066e-01, -3.91440133e-01, -3.75263407e-01, -3.64216151e-01,\n",
       "       -3.60662984e-01, -3.49402816e-01, -3.42910082e-01, -3.28345815e-01,\n",
       "       -3.23140530e-01, -3.19570574e-01, -3.12878224e-01, -3.07024665e-01,\n",
       "       -3.05258262e-01, -2.97890134e-01, -2.95792189e-01, -2.86215031e-01,\n",
       "       -2.79933542e-01, -2.74629884e-01, -2.73486895e-01, -2.64487941e-01,\n",
       "       -2.60101282e-01, -2.57389590e-01, -2.55399478e-01, -2.48219231e-01,\n",
       "       -2.46880758e-01, -2.44564461e-01, -2.38186467e-01, -2.31514232e-01,\n",
       "       -2.27543544e-01, -2.25792027e-01, -2.22980412e-01, -2.20479720e-01,\n",
       "       -2.19245015e-01, -2.17812657e-01, -2.15992159e-01, -2.08575872e-01,\n",
       "       -2.07125681e-01, -2.03057498e-01, -2.01383261e-01, -1.98760489e-01,\n",
       "       -1.98372606e-01, -1.96134254e-01, -1.94464245e-01, -1.93182078e-01,\n",
       "       -1.90666291e-01, -1.86658791e-01, -1.84286731e-01, -1.83755701e-01,\n",
       "       -1.82258876e-01, -1.79354562e-01, -1.76942910e-01, -1.75909175e-01,\n",
       "       -1.73786305e-01, -1.73331138e-01, -1.70283787e-01, -1.68976170e-01,\n",
       "       -1.66809238e-01, -1.66188422e-01, -1.64580974e-01, -1.62245467e-01,\n",
       "       -1.60909829e-01, -1.59684214e-01, -1.58964408e-01, -1.57811484e-01,\n",
       "       -1.56356276e-01, -1.53708626e-01, -1.52080141e-01, -1.51903090e-01,\n",
       "       -1.50818426e-01, -1.49516415e-01, -1.48711514e-01, -1.45319682e-01,\n",
       "       -1.44241846e-01, -1.42872364e-01, -1.40904605e-01, -1.40494422e-01,\n",
       "       -1.39208499e-01, -1.38826438e-01, -1.37244964e-01, -1.34377837e-01,\n",
       "       -1.33239974e-01, -1.32112599e-01, -1.29000027e-01, -1.28716443e-01,\n",
       "       -1.26500558e-01, -1.25787828e-01, -1.24768552e-01, -1.23855954e-01,\n",
       "       -1.22885363e-01, -1.21767244e-01, -1.20919043e-01, -1.19007863e-01,\n",
       "       -1.18705086e-01, -1.17463379e-01, -1.16697065e-01, -1.16375035e-01,\n",
       "       -1.15280031e-01, -1.14325492e-01, -1.13245217e-01, -1.12702380e-01,\n",
       "       -1.11902668e-01, -1.10583087e-01, -1.10135685e-01, -1.09583036e-01,\n",
       "       -1.08190778e-01, -1.07576523e-01, -1.06326729e-01, -1.06035407e-01,\n",
       "       -1.05145949e-01, -1.03910162e-01, -1.02724260e-01, -1.01559642e-01,\n",
       "       -1.00502197e-01, -1.00413686e-01, -9.97591797e-02, -9.88048123e-02,\n",
       "       -9.77532780e-02, -9.71245311e-02, -9.57153836e-02, -9.52467401e-02,\n",
       "       -9.45196918e-02, -9.33337601e-02, -9.28780977e-02, -9.22480228e-02,\n",
       "       -9.13258515e-02, -9.10014894e-02, -9.02307696e-02, -8.90548621e-02,\n",
       "       -8.83985860e-02, -8.76773411e-02, -8.76068020e-02, -8.72705771e-02,\n",
       "       -8.67002139e-02, -8.63500681e-02, -8.50991727e-02, -8.42943146e-02,\n",
       "       -8.37761008e-02, -8.35298745e-02, -8.29610876e-02, -8.18836003e-02,\n",
       "       -8.15506018e-02, -8.08209336e-02, -7.96384659e-02, -7.88811129e-02,\n",
       "       -7.75302190e-02, -7.65063679e-02, -7.62534352e-02, -7.55626075e-02,\n",
       "       -7.51036927e-02, -7.48758296e-02, -7.35709519e-02, -7.30684133e-02,\n",
       "       -7.26761020e-02, -7.16298695e-02, -7.05955931e-02, -6.94940305e-02,\n",
       "       -6.90896342e-02, -6.87009788e-02, -6.69681967e-02, -6.64192267e-02,\n",
       "       -6.60797689e-02, -6.44313480e-02, -6.41919541e-02, -6.29756930e-02,\n",
       "       -6.20049124e-02, -6.09551987e-02, -6.03196532e-02, -5.97482789e-02,\n",
       "       -5.91518967e-02, -5.85195934e-02, -5.80876750e-02, -5.69748314e-02,\n",
       "       -5.49123460e-02, -5.41634034e-02, -5.14899421e-02, -5.10634339e-02,\n",
       "       -4.82227545e-02, -4.67686774e-02, -4.23311515e-02,  1.60684886e-01,\n",
       "        1.81038051e-01,  1.88343041e-01,  2.05473881e-01,  2.15849199e-01,\n",
       "        2.23121532e-01,  2.42588189e-01,  2.62339363e-01,  2.72617526e-01,\n",
       "        2.81757534e-01,  2.86774425e-01,  3.11909961e-01,  3.19854106e-01,\n",
       "        3.38758027e-01,  3.61390470e-01,  3.74782678e-01,  3.93275358e-01,\n",
       "        4.08175650e-01,  4.25411671e-01,  4.64333249e-01,  4.72650207e-01,\n",
       "        5.09992431e-01,  5.38758160e-01,  5.55413027e-01,  5.68552107e-01,\n",
       "        6.17467758e-01,  6.79566826e-01,  7.28422769e-01,  7.45387578e-01,\n",
       "        8.60812748e-01,  1.09195302e+00,  1.12008942e+00,  1.19720462e+00,\n",
       "        1.33214143e+00,  1.57747819e+00,  2.17583648e+00,  2.48981932e+00,\n",
       "        3.13217484e+00,  3.77248095e+00,  5.10149046e+00,  5.40177120e+01])"
      ]
     },
     "execution_count": 59,
     "metadata": {},
     "output_type": "execute_result"
    }
   ],
   "source": [
    "E_inv\n",
    "# -4.135835"
   ]
  },
  {
   "cell_type": "code",
   "execution_count": 60,
   "metadata": {
    "executionInfo": {
     "elapsed": 2,
     "status": "ok",
     "timestamp": 1712140411973,
     "user": {
      "displayName": "dogyen ko (Kodo)",
      "userId": "17400671760216123133"
     },
     "user_tz": -540
    },
    "id": "NcIeASsLPk6s"
   },
   "outputs": [],
   "source": [
    "\n",
    "def add(x,y):\n",
    "    return x+y\n"
   ]
  },
  {
   "cell_type": "code",
   "execution_count": 61,
   "metadata": {
    "executionInfo": {
     "elapsed": 2,
     "status": "ok",
     "timestamp": 1712140413601,
     "user": {
      "displayName": "dogyen ko (Kodo)",
      "userId": "17400671760216123133"
     },
     "user_tz": -540
    },
    "id": "FldNJjkKPk6t"
   },
   "outputs": [],
   "source": [
    "@nk.vqs.expect.dispatch\n",
    "def expect_try(vstate: nk.vqs.FullSumState, Ô: nk.operator.DiscreteOperator) -> Stats:  # noqa: F811\n",
    "#     _check_hilbert(vstate, Ô)\n",
    "\n",
    "#     O = sparsify(Ô)\n",
    "    O = Ô.to_sparse()\n",
    "    Ψ = vstate.to_array()\n",
    "\n",
    "    # TODO: This performs the full computation on all MPI ranks.\n",
    "    # It would be great if we could split the computation among ranks.\n",
    "\n",
    "    OΨ = O @ Ψ\n",
    "    expval_O = (Ψ.conj() * OΨ).sum()\n",
    "\n",
    "    variance = jnp.sum(jnp.abs(OΨ - expval_O * Ψ) ** 2)\n",
    "    return Stats(mean=expval_O, error_of_mean=0.0, variance=variance)"
   ]
  },
  {
   "cell_type": "code",
   "execution_count": 62,
   "metadata": {
    "executionInfo": {
     "elapsed": 773,
     "status": "ok",
     "timestamp": 1712140414373,
     "user": {
      "displayName": "dogyen ko (Kodo)",
      "userId": "17400671760216123133"
     },
     "user_tz": -540
    },
    "id": "-z23LjQiPk6t"
   },
   "outputs": [],
   "source": [
    "O_sparse = ha.to_sparse()\n",
    "H_Et_sparse = (ha-Et).to_sparse()\n",
    "H_Et_squ_sparse = ((ha-Et)@(ha-Et)).to_sparse()"
   ]
  },
  {
   "cell_type": "code",
   "execution_count": 63,
   "metadata": {
    "executionInfo": {
     "elapsed": 13,
     "status": "ok",
     "timestamp": 1712140414374,
     "user": {
      "displayName": "dogyen ko (Kodo)",
      "userId": "17400671760216123133"
     },
     "user_tz": -540
    },
    "id": "39w50T4VPk6t"
   },
   "outputs": [],
   "source": [
    "@expect_and_grad.dispatch\n",
    "def expect_and_grad_fullsum(\n",
    "    vstate: nk.vqs.FullSumState,\n",
    "    Ô: nk.operator.DiscreteOperator,\n",
    "    *args,\n",
    "    mutable: CollectionFilter = False,\n",
    "    use_covariance: Optional[bool] = None,\n",
    "    **kwargs,\n",
    ") -> tuple[Stats, PyTree]:\n",
    "    if use_covariance is None:\n",
    "        use_covariance = Ô.is_hermitian\n",
    "\n",
    "    if use_covariance:\n",
    "        # Implementation of expect_and_grad for `use_covariance == True` (due to the Literal[True]\n",
    "        # type in the signature).` This case is equivalent to the composition of the\n",
    "        # `expect_and_forces` and `force_to_grad` functions.\n",
    "        # return expect_and_grad_from_covariance(vstate, Ô, *args, mutable=mutable)\n",
    "        Ō, Ō_grad = expect_and_forces(vstate, Ô, *args, mutable=mutable, **kwargs)\n",
    "        Ō_grad = force_to_grad(Ō_grad, vstate.parameters)\n",
    "        return Ō, Ō_grad\n",
    "    else:\n",
    "        raise NotImplementedError(\n",
    "            \"The gradient of non hermitian operators with \"\n",
    "            \"FullSumState is not yet implemented\"\n",
    "        )\n",
    "\n",
    "@nk.vqs.expect_and_forces.dispatch\n",
    "def expect_and_forces_fullsum(\n",
    "    vstate: nk.vqs.FullSumState,\n",
    "    Ô: nk.operator.DiscreteOperator,\n",
    "    *,\n",
    "    mutable: CollectionFilter = False,\n",
    ") -> tuple[Stats, PyTree]:\n",
    "    if isinstance(Ô, Squared):\n",
    "        raise NotImplementedError(\"expect_and_forces not yet implemented for `Squared`\")\n",
    "\n",
    "#     _check_hilbert(vstate, Ô)\n",
    "\n",
    "\n",
    "    O = O_sparse\n",
    "    H_Et = H_Et_sparse\n",
    "    H_Et_squ = H_Et_squ_sparse\n",
    "\n",
    "    Ψ = vstate.to_array()\n",
    "    OΨ = O @ Ψ\n",
    "    H_EtΨ = H_Et@Ψ\n",
    "    H_Et_squΨ = H_Et_squ @ Ψ\n",
    "    Ψ_pre = H_Et @ Ψ\n",
    "    Ψ_pre = Ψ_pre / jnp.linalg.norm(Ψ_pre)\n",
    "    H_EtΨ_pre = H_Et @ Ψ_pre\n",
    "    invOΨ = ha_Et_inv @ Ψ\n",
    "    Ψ_pre_conjO = Ψ_pre.conj() @ H_Et\n",
    "\n",
    "    expval_O, Ō_grad = _exp_forces(\n",
    "        vstate._apply_fun,\n",
    "        mutable,\n",
    "        vstate.parameters,\n",
    "        vstate.model_state,\n",
    "        vstate._all_states,\n",
    "        OΨ,\n",
    "        Ψ,\n",
    "        Ψ_pre,\n",
    "        H_Et_squΨ,\n",
    "        H_EtΨ,\n",
    "        H_EtΨ_pre,\n",
    "        invOΨ,\n",
    "        Ψ_pre_conjO,\n",
    "    )\n",
    "\n",
    "    # if mutable is not False:\n",
    "    #     vstate.model_state = new_model_state\n",
    "\n",
    "    return expval_O, Ō_grad\n",
    "\n",
    "\n",
    "@partial(jax.jit, static_argnums=(0, 1))\n",
    "def _exp_forces(\n",
    "    model_apply_fun: Callable,\n",
    "    mutable: CollectionFilter,\n",
    "    parameters: PyTree,\n",
    "    model_state: PyTree,\n",
    "    σ: jnp.ndarray,\n",
    "    OΨ: jnp.ndarray,\n",
    "    Ψ: jnp.ndarray,\n",
    "    Ψ_pre: jnp.ndarray,\n",
    "    H_Et_squΨ: jnp.ndarray,\n",
    "    H_EtΨ: jnp.ndarray,\n",
    "    H_EtΨ_pre: jnp.ndarray,\n",
    "    invOΨ: jnp.ndarray,\n",
    "    Ψ_pre_conjO: jnp.ndarray,\n",
    ") -> tuple[PyTree, PyTree]:\n",
    "    is_mutable = mutable is not False\n",
    "\n",
    "    expval_O = (Ψ.conj() * invOΨ).sum()\n",
    "#     expval_O = (Ψ.conj() * OΨ).sum()\n",
    "    # variance = jnp.sum(jnp.abs(OΨ - expval_O * Ψ) ** 2)\n",
    "    # ΔOΨ = (OΨ - expval_O * Ψ).conj() * Ψ\n",
    "\n",
    "    expval_H_Et_squ = (Ψ.conj() * H_Et_squΨ).sum()\n",
    "    ΔOΨ_squ = (H_Et_squΨ - expval_H_Et_squ * Ψ).conj() * Ψ\n",
    "\n",
    "    denom = Ψ_pre.conj()@Ψ\n",
    "    # denom = Ψ.conj()@Ψ\n",
    "    expval_H_Et = (Ψ_pre.conj() * H_EtΨ).sum()/denom\n",
    "    ΔOΨ_non = (Ψ_pre_conjO - expval_H_Et * Ψ_pre.conj())/denom * Ψ\n",
    "#     ΔOΨ_non = (Ψ_pre_conjO - expval_H_Et * Ψ_pre.conj()) * Ψ\n",
    "#     ΔOΨ_non = (H_EtΨ_pre - expval_H_Et * Ψ_pre).conj() * Ψ\n",
    "\n",
    "\n",
    "\n",
    "    _, vjp_fun, *new_model_state = nkjax.vjp(\n",
    "        lambda w: model_apply_fun({\"params\": w, **model_state}, σ, mutable=mutable),\n",
    "        parameters,\n",
    "        conjugate=True,\n",
    "        has_aux=is_mutable,\n",
    "    )\n",
    "\n",
    "#     Ō_grad = vjp_fun(ΔOΨ)[0]\n",
    "    Ō_grad_first = vjp_fun(ΔOΨ_squ)[0]\n",
    "    Ō_grad_second = vjp_fun(-2*ΔOΨ_non)[0]\n",
    "\n",
    "    #Let it reaches to the maximum state of inv(H-Et)\n",
    "    # Ō_grad_first = vjp_fun(-ΔOΨ_squ)[0]\n",
    "    # Ō_grad_second = vjp_fun(2*ΔOΨ_non)[0]\n",
    "#     Ō_grad_second = vjp_fun(ΔOΨ_non)[0]\n",
    "\n",
    "    Ō_grad = jax.tree.map(add, Ō_grad_first, Ō_grad_second)\n",
    "    #######################################################\n",
    "    #######################################################\n",
    "    # Ō_grad = Ō_grad_first\n",
    "    #######################################################\n",
    "    #######################################################\n",
    "\n",
    "    # new_model_state = new_model_state[0] if is_mutable else None\n",
    "\n",
    "    return (\n",
    "        Stats(mean=expval_O, error_of_mean=0.0, variance=1.0),\n",
    "        Ō_grad,\n",
    "        # new_model_state,\n",
    "    )"
   ]
  },
  {
   "cell_type": "code",
   "execution_count": 64,
   "metadata": {
    "executionInfo": {
     "elapsed": 2,
     "status": "ok",
     "timestamp": 1712140415861,
     "user": {
      "displayName": "dogyen ko (Kodo)",
      "userId": "17400671760216123133"
     },
     "user_tz": -540
    },
    "id": "Ow4IIT6UPk6u"
   },
   "outputs": [],
   "source": [
    "def variance(vsta, hamil):\n",
    "    return vsta.to_array().conj()@(hamil@hamil).to_sparse()@vsta.to_array() - (vsta.to_array().conj()@(hamil).to_sparse()@vsta.to_array())**2"
   ]
  },
  {
   "cell_type": "code",
   "execution_count": 66,
   "metadata": {
    "colab": {
     "base_uri": "https://localhost:8080/",
     "height": 501
    },
    "executionInfo": {
     "elapsed": 1080326,
     "status": "ok",
     "timestamp": 1712141515976,
     "user": {
      "displayName": "dogyen ko (Kodo)",
      "userId": "17400671760216123133"
     },
     "user_tz": -540
    },
    "id": "5HRjDPiLPk6u",
    "outputId": "b7822e9e-077a-4b83-9da6-b4094493cc76"
   },
   "outputs": [
    {
     "name": "stderr",
     "output_type": "stream",
     "text": [
      "100%|█| 100000/100000 [1:55:59<00:00, 14.37it/s, Energy=-7.595e+01+1.348e-13j ± 0.000e+00 [σ²=1.000e+0\n"
     ]
    },
    {
     "name": "stdout",
     "output_type": "stream",
     "text": [
      "Vaiance :  0.0008118141687525338\n",
      "Variational result :  -75.94934029205601\n",
      "Real result :  -122.94413434956122\n"
     ]
    },
    {
     "data": {
      "image/png": "[encoded data removed]",
      "text/plain": [
       "<Figure size 640x480 with 1 Axes>"
      ]
     },
     "metadata": {},
     "output_type": "display_data"
    }
   ],
   "source": [
    "# Build the sampler\n",
    "# sa = nk.sampler.MetropolisExchange(hilbert=hi,graph=g)\n",
    "epochs = 100000\n",
    "\n",
    "ma = nk.models.MPSPeriodic(hilbert=hi, graph=g, bond_dim=10, param_dtype=complex)\n",
    "# ma = nk.models.RBM(alpha=2, param_dtype=complex)\n",
    "vs = nk.vqs.FullSumState(hi, ma)\n",
    "\n",
    "# Optimizer\n",
    "# op = nk.optimizer.Sgd(learning_rate=0.001)\n",
    "op = nk.optimizer.Adam(learning_rate=0.01)\n",
    "\n",
    "# Stochastic Reconfiguration\n",
    "sr = nk.optimizer.SR(diag_shift=0.1, holomorphic=True)\n",
    "\n",
    "\n",
    "# The ground-state optimization loop\n",
    "Target_ha = ha\n",
    "gs = nk.VMC(\n",
    "    hamiltonian=ha,\n",
    "    optimizer=op,\n",
    "    preconditioner=sr,\n",
    "    variational_state=vs)\n",
    "\n",
    "start = time.time()\n",
    "gs.run(epochs, out='RBM')\n",
    "end = time.time()\n",
    "\n",
    "data=json.load(open(\"RBM.log\"))\n",
    "plt.plot(data['Energy']['Mean']['real'])\n",
    "print(\"Vaiance : \",variance(vs, ha).real)\n",
    "print(\"Variational result : \",data['Energy']['Mean']['real'][-1])\n",
    "print(\"Real result : \",E_inv[0])\n",
    "# plt.plot(np.log10(data['Energy']['Variance']))"
   ]
  },
  {
   "cell_type": "code",
   "execution_count": null,
   "metadata": {},
   "outputs": [],
   "source": [
    "psi = vs.to_array()\n",
    "psi.conj()@ha.to_dense()@ha.to_dense()@psi - (psi.conj()@ha.to_dense()@psi)**2"
   ]
  },
  {
   "cell_type": "code",
   "execution_count": null,
   "metadata": {},
   "outputs": [],
   "source": [
    "psi.conj()@(hamil@hamil).to_sparse()@psi - psi.conj()@(hamil).to_sparse()@psi)**2"
   ]
  },
  {
   "cell_type": "code",
   "execution_count": null,
   "metadata": {
    "id": "ENNAgUcNPk6u"
   },
   "outputs": [],
   "source": [
    "#Austria"
   ]
  }
 ],
 "metadata": {
  "colab": {
   "provenance": []
  },
  "kernelspec": {
   "display_name": "Python 3 (ipykernel)",
   "language": "python",
   "name": "python3"
  },
  "language_info": {
   "codemirror_mode": {
    "name": "ipython",
    "version": 3
   },
   "file_extension": ".py",
   "mimetype": "text/x-python",
   "name": "python",
   "nbconvert_exporter": "python",
   "pygments_lexer": "ipython3",
   "version": "3.11.7"
  }
 },
 "nbformat": 4,
 "nbformat_minor": 4
}
