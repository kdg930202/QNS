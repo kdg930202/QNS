{
 "cells": [
  {
   "cell_type": "code",
   "execution_count": 1,
   "metadata": {},
   "outputs": [],
   "source": [
    "import netket\n",
    "from flax.core.scope import CollectionFilter\n",
    "from netket.utils.types import PyTree\n",
    "from netket.operator import Squared\n",
    "from functools import partial, lru_cache\n",
    "from typing import Callable, Optional\n",
    "##\n",
    "import jax\n",
    "from jax import numpy as jnp\n",
    "from flax.core.scope import CollectionFilter, DenyList  # noqa: F401\n",
    "\n",
    "import netket as nk\n",
    "from netket import jax as nkjax\n",
    "from netket.operator import DiscreteOperator, Squared\n",
    "from netket.stats import Stats\n",
    "from netket.utils.types import PyTree\n",
    "from netket.utils.dispatch import dispatch\n",
    "\n",
    "# from nektet.vqs import _ex\n",
    "from netket.vqs import expect_and_grad, expect_and_forces\n",
    "from netket.vqs.mc.common import force_to_grad\n",
    "from netket.stats import Stats\n",
    "import time\n",
    "import json\n",
    "import matplotlib.pyplot as plt\n",
    "import numpy as np\n",
    "from netket.operator.spin import sigmax, sigmay,sigmaz"
   ]
  },
  {
   "cell_type": "code",
   "execution_count": 3,
   "metadata": {},
   "outputs": [],
   "source": [
    "# Define the Hilbert space based on this graph\n",
    "# We impose to have a fixed total magnetization of zero \n",
    "# Define a 1d chain\n",
    "L = 4\n",
    "dis = 1\n",
    "g = nk.graph.Hypercube(length=L, n_dim=1, pbc=True)\n",
    "hi = nk.hilbert.Spin(s=0.5, total_sz=0, N=g.n_nodes)\n",
    "# calling the Heisenberg Hamiltonian\n",
    "ha = nk.operator.Heisenberg(hilbert=hi, graph=g)\n",
    "# ha = nk.operator.Heisenberg(hilbert=hi, graph=g)\n",
    "b=dis\n",
    "a=-dis\n",
    "Gamma = (b-a) * np.random.random_sample(L) + a\n",
    "\n",
    "################################################################################\n",
    "################################################################################\n",
    "################################################################################\n",
    "#이렇게 정의하는게 더 빨랑\n",
    "ha = sum([ sigmax(hi,i)*sigmax(hi,(i+1)%L)\n",
    "         + sigmay(hi,i)*sigmay(hi,(i+1)%L)\n",
    "         + sigmaz(hi,i)*sigmaz(hi,(i+1)%L)\n",
    "           for i in range(L)])\n",
    "################################################################################\n",
    "################################################################################\n",
    "################################################################################\n",
    "ha = ha + sum([Gamma[i]*sigmaz(hi,i) for i in range(L)])"
   ]
  },
  {
   "cell_type": "code",
   "execution_count": 4,
   "metadata": {},
   "outputs": [
    {
     "data": {
      "text/plain": [
       "2.996426219506861"
      ]
     },
     "execution_count": 4,
     "metadata": {},
     "output_type": "execute_result"
    }
   ],
   "source": [
    "Et = np.random.uniform(low=0, high=L, size=None)\n",
    "Et"
   ]
  },
  {
   "cell_type": "code",
   "execution_count": 5,
   "metadata": {},
   "outputs": [
    {
     "data": {
      "text/plain": [
       "[<matplotlib.lines.Line2D at 0x134e7d690>]"
      ]
     },
     "execution_count": 5,
     "metadata": {},
     "output_type": "execute_result"
    },
    {
     "data": {
      "image/png": "[encoded data removed]",
      "text/plain": [
       "<Figure size 640x480 with 1 Axes>"
      ]
     },
     "metadata": {},
     "output_type": "display_data"
    }
   ],
   "source": [
    "E, vec = np.linalg.eigh(ha.to_dense())\n",
    "plt.scatter(range(len(E)),E)\n",
    "plt.plot([0,len(E)],[Et,Et],'r')"
   ]
  },
  {
   "cell_type": "code",
   "execution_count": 6,
   "metadata": {},
   "outputs": [
    {
     "data": {
      "text/plain": [
       "array([-8.19030134, -3.88782302, -0.90066678, -0.07971255,  0.8888575 ,\n",
       "        4.16964619])"
      ]
     },
     "execution_count": 6,
     "metadata": {},
     "output_type": "execute_result"
    }
   ],
   "source": [
    "E"
   ]
  },
  {
   "cell_type": "code",
   "execution_count": 7,
   "metadata": {},
   "outputs": [],
   "source": [
    "ha_Et_inv  = np.linalg.inv((ha-Et).to_dense())\n",
    "E_inv, vec_inv = np.linalg.eigh(ha_Et_inv)"
   ]
  },
  {
   "cell_type": "code",
   "execution_count": 8,
   "metadata": {},
   "outputs": [
    {
     "data": {
      "text/plain": [
       "<matplotlib.collections.PathCollection at 0x134e1b090>"
      ]
     },
     "execution_count": 8,
     "metadata": {},
     "output_type": "execute_result"
    },
    {
     "data": {
      "image/png": "[encoded data removed]",
      "text/plain": [
       "<Figure size 640x480 with 1 Axes>"
      ]
     },
     "metadata": {},
     "output_type": "display_data"
    }
   ],
   "source": [
    "plt.scatter(range(len(E_inv)),E_inv)"
   ]
  },
  {
   "cell_type": "code",
   "execution_count": 97,
   "metadata": {},
   "outputs": [
    {
     "data": {
      "text/plain": [
       "array([-5.47347905, -3.93696883, -1.60319515, -1.45120597, -0.99340303,\n",
       "       -0.83801642, -0.73172481, -0.68539421, -0.54227716, -0.51492118,\n",
       "       -0.44639857, -0.41849175, -0.4029607 , -0.38094775, -0.30338203,\n",
       "       -0.29987219, -0.27979025, -0.27410867, -0.25581434, -0.25058533,\n",
       "       -0.24813256, -0.23502829, -0.22569264, -0.21676221, -0.19346707,\n",
       "       -0.18565508, -0.18231569, -0.17880933, -0.17120588, -0.1681469 ,\n",
       "       -0.16379992, -0.15816302, -0.143205  , -0.14249073, -0.13780707,\n",
       "       -0.13267026, -0.12738017, -0.11341057, -0.11109425, -0.10868111,\n",
       "       -0.10643321, -0.10404844, -0.10025839, -0.09696792, -0.08944062,\n",
       "       -0.0887004 , -0.08170605, -0.08035389, -0.07270966, -0.06703696,\n",
       "       -0.05785724,  0.16574424,  0.20362904,  0.20823723,  0.23791401,\n",
       "        0.24864294,  0.25595635,  0.30075264,  0.30662658,  0.32083034,\n",
       "        0.35544946,  0.42889952,  0.43807377,  0.47892316,  0.53216934,\n",
       "        0.77581784,  0.82668911,  0.97534508,  2.10177667,  3.87715668])"
      ]
     },
     "execution_count": 97,
     "metadata": {},
     "output_type": "execute_result"
    }
   ],
   "source": [
    "E_inv\n",
    "# -4.135835"
   ]
  },
  {
   "cell_type": "code",
   "execution_count": 98,
   "metadata": {},
   "outputs": [],
   "source": [
    "def add(x,y):\n",
    "    return x+y\n"
   ]
  },
  {
   "cell_type": "code",
   "execution_count": 99,
   "metadata": {},
   "outputs": [],
   "source": [
    "@nk.vqs.expect.dispatch\n",
    "def expect_try(vstate: nk.vqs.FullSumState, Ô: nk.operator.DiscreteOperator) -> Stats:  # noqa: F811\n",
    "#     _check_hilbert(vstate, Ô)\n",
    "\n",
    "#     O = sparsify(Ô)\n",
    "    O = Ô.to_sparse()\n",
    "    Ψ = vstate.to_array()\n",
    "\n",
    "    # TODO: This performs the full computation on all MPI ranks.\n",
    "    # It would be great if we could split the computation among ranks.\n",
    "\n",
    "    OΨ = O @ Ψ\n",
    "    expval_O = (Ψ.conj() * OΨ).sum() \n",
    "\n",
    "    variance = jnp.sum(jnp.abs(OΨ - expval_O * Ψ) ** 2)\n",
    "    return Stats(mean=expval_O, error_of_mean=0.0, variance=variance)"
   ]
  },
  {
   "cell_type": "code",
   "execution_count": 100,
   "metadata": {},
   "outputs": [],
   "source": [
    "O_sparse = ha.to_sparse()\n",
    "H_Et_sparse = (ha-Et).to_sparse()\n",
    "H_Et_squ_sparse = ((ha-Et)@(ha-Et)).to_sparse()"
   ]
  },
  {
   "cell_type": "code",
   "execution_count": 101,
   "metadata": {},
   "outputs": [],
   "source": [
    "@expect_and_grad.dispatch\n",
    "def expect_and_grad_fullsum(\n",
    "    vstate: nk.vqs.FullSumState,\n",
    "    Ô: nk.operator.DiscreteOperator,\n",
    "    *args,\n",
    "    mutable: CollectionFilter = False,\n",
    "    use_covariance: Optional[bool] = None,\n",
    "    **kwargs,\n",
    ") -> tuple[Stats, PyTree]:\n",
    "    if use_covariance is None:\n",
    "        use_covariance = Ô.is_hermitian\n",
    "\n",
    "    if use_covariance:\n",
    "        # Implementation of expect_and_grad for `use_covariance == True` (due to the Literal[True]\n",
    "        # type in the signature).` This case is equivalent to the composition of the\n",
    "        # `expect_and_forces` and `force_to_grad` functions.\n",
    "        # return expect_and_grad_from_covariance(vstate, Ô, *args, mutable=mutable)\n",
    "        Ō, Ō_grad = expect_and_forces(vstate, Ô, *args, mutable=mutable, **kwargs)\n",
    "        Ō_grad = force_to_grad(Ō_grad, vstate.parameters)\n",
    "        return Ō, Ō_grad\n",
    "    else:\n",
    "        raise NotImplementedError(\n",
    "            \"The gradient of non hermitian operators with \"\n",
    "            \"FullSumState is not yet implemented\"\n",
    "        )\n",
    "\n",
    "@nk.vqs.expect_and_forces.dispatch\n",
    "def expect_and_forces_fullsum(\n",
    "    vstate: nk.vqs.FullSumState,\n",
    "    Ô: nk.operator.DiscreteOperator,\n",
    "    *,\n",
    "    mutable: CollectionFilter = False,\n",
    ") -> tuple[Stats, PyTree]:\n",
    "    if isinstance(Ô, Squared):\n",
    "        raise NotImplementedError(\"expect_and_forces not yet implemented for `Squared`\")\n",
    "\n",
    "#     _check_hilbert(vstate, Ô)\n",
    "    \n",
    "\n",
    "    O = O_sparse\n",
    "    H_Et = H_Et_sparse\n",
    "    H_Et_squ = H_Et_squ_sparse\n",
    "\n",
    "    Ψ = vstate.to_array()\n",
    "    OΨ = O @ Ψ\n",
    "    H_EtΨ = H_Et@Ψ\n",
    "    H_Et_squΨ = H_Et_squ @ Ψ\n",
    "    Ψ_pre = H_Et @ Ψ\n",
    "    Ψ_pre = Ψ_pre / jnp.linalg.norm(Ψ_pre)\n",
    "    H_EtΨ_pre = H_Et @ Ψ_pre\n",
    "    invOΨ = ha_Et_inv @ Ψ\n",
    "    Ψ_pre_conjO = Ψ_pre.conj() @ H_Et\n",
    "\n",
    "    expval_O, Ō_grad, new_model_state = _exp_forces(\n",
    "        vstate._apply_fun,\n",
    "        mutable,\n",
    "        vstate.parameters,\n",
    "        vstate.model_state,\n",
    "        vstate._all_states,\n",
    "        OΨ,\n",
    "        Ψ,\n",
    "        Ψ_pre,\n",
    "        H_Et_squΨ,\n",
    "        H_EtΨ,\n",
    "        H_EtΨ_pre,\n",
    "        invOΨ,\n",
    "        Ψ_pre_conjO,\n",
    "    )\n",
    "\n",
    "    if mutable is not False:\n",
    "        vstate.model_state = new_model_state\n",
    "\n",
    "    return expval_O, Ō_grad\n",
    "\n",
    "\n",
    "@partial(jax.jit, static_argnums=(0, 1))\n",
    "def _exp_forces(\n",
    "    model_apply_fun: Callable,\n",
    "    mutable: CollectionFilter,\n",
    "    parameters: PyTree,\n",
    "    model_state: PyTree,\n",
    "    σ: jnp.ndarray,\n",
    "    OΨ: jnp.ndarray,\n",
    "    Ψ: jnp.ndarray,\n",
    "    Ψ_pre: jnp.ndarray,\n",
    "    H_Et_squΨ: jnp.ndarray,\n",
    "    H_EtΨ: jnp.ndarray,\n",
    "    H_EtΨ_pre: jnp.ndarray,\n",
    "    invOΨ: jnp.ndarray,\n",
    "    Ψ_pre_conjO: jnp.ndarray,\n",
    ") -> tuple[PyTree, PyTree]:\n",
    "    is_mutable = mutable is not False\n",
    "\n",
    "    expval_O = (Ψ.conj() * invOΨ).sum()\n",
    "#     expval_O = (Ψ.conj() * OΨ).sum()\n",
    "    variance = jnp.sum(jnp.abs(OΨ - expval_O * Ψ) ** 2)\n",
    "    ΔOΨ = (OΨ - expval_O * Ψ).conj() * Ψ\n",
    "    \n",
    "    expval_H_Et_squ = (Ψ.conj() * H_Et_squΨ).sum()\n",
    "    ΔOΨ_squ = (H_Et_squΨ - expval_H_Et_squ * Ψ).conj() * Ψ\n",
    "    \n",
    "    denom = Ψ_pre.conj()@Ψ\n",
    "    expval_H_Et = (Ψ_pre.conj() * H_EtΨ).sum()/denom\n",
    "    ΔOΨ_non = (Ψ_pre_conjO - expval_H_Et * Ψ_pre.conj())/denom * Ψ\n",
    "#     ΔOΨ_non = (Ψ_pre_conjO - expval_H_Et * Ψ_pre.conj()) * Ψ\n",
    "#     ΔOΨ_non = (H_EtΨ_pre - expval_H_Et * Ψ_pre).conj() * Ψ\n",
    "    \n",
    "\n",
    "    \n",
    "    _, vjp_fun, *new_model_state = nkjax.vjp(\n",
    "        lambda w: model_apply_fun({\"params\": w, **model_state}, σ, mutable=mutable),\n",
    "        parameters,\n",
    "        conjugate=True,\n",
    "        has_aux=is_mutable,\n",
    "    )\n",
    "\n",
    "#     Ō_grad = vjp_fun(ΔOΨ)[0]\n",
    "    Ō_grad_first = vjp_fun(ΔOΨ_squ)[0]\n",
    "    Ō_grad_second = vjp_fun(-2*ΔOΨ_non)[0]\n",
    "#     Ō_grad_second = vjp_fun(ΔOΨ_non)[0]\n",
    "    \n",
    "    Ō_grad = jax.tree_map(add, Ō_grad_first, Ō_grad_second)\n",
    "#     Ō_grad = Ō_grad_first\n",
    "\n",
    "    new_model_state = new_model_state[0] if is_mutable else None\n",
    "\n",
    "    return (\n",
    "        Stats(mean=expval_O, error_of_mean=0.0, variance=variance),\n",
    "        Ō_grad,\n",
    "        new_model_state,\n",
    "    )"
   ]
  },
  {
   "cell_type": "code",
   "execution_count": 102,
   "metadata": {},
   "outputs": [],
   "source": [
    "def variance(vsta, hamiltonian):\n",
    "    return vsta.to_array().conj()@(hamiltonian@hamiltonian).to_sparse()@vsta.to_array() - (vsta.to_array().conj()@(hamiltonian).to_sparse()@vsta.to_array())**2"
   ]
  },
  {
   "cell_type": "code",
   "execution_count": 107,
   "metadata": {},
   "outputs": [
    {
     "name": "stderr",
     "output_type": "stream",
     "text": [
      "100%|█| 50000/50000 [03:15<00:00, 256.37it/s, Energy=-5.473e+00+2.168e-18j ± 0.0\n"
     ]
    },
    {
     "name": "stdout",
     "output_type": "stream",
     "text": [
      "Vaiance :  3.3646641031559454e-05\n",
      "Variational result :  -5.473288493829318\n",
      "Real result :  -5.473479050469636\n"
     ]
    },
    {
     "data": {
      "image/png": "[encoded data removed]",
      "text/plain": [
       "<Figure size 640x480 with 1 Axes>"
      ]
     },
     "metadata": {},
     "output_type": "display_data"
    }
   ],
   "source": [
    "# Build the sampler\n",
    "# sa = nk.sampler.MetropolisExchange(hilbert=hi,graph=g)\n",
    "epochs = 50000\n",
    "\n",
    "\n",
    "ma = nk.models.RBM(alpha=2, param_dtype=complex)\n",
    "vs = nk.vqs.FullSumState(hi, ma)\n",
    "\n",
    "# Optimizer\n",
    "op = nk.optimizer.Sgd(learning_rate=0.001)\n",
    "\n",
    "# Stochastic Reconfiguration\n",
    "sr = nk.optimizer.SR(diag_shift=0.1, holomorphic=True)\n",
    "\n",
    "\n",
    "# The ground-state optimization loop\n",
    "Target_ha = ha\n",
    "gs = nk.VMC(\n",
    "    hamiltonian=ha,\n",
    "    optimizer=op,\n",
    "    preconditioner=sr,\n",
    "    variational_state=vs)\n",
    "\n",
    "start = time.time()\n",
    "gs.run(epochs, out='RBM')\n",
    "end = time.time()\n",
    "\n",
    "data=json.load(open(\"RBM.log\"))\n",
    "plt.plot(data['Energy']['Mean']['real'])\n",
    "print(\"Vaiance : \",variance(vs, ha).real)\n",
    "print(\"Variational result : \",data['Energy']['Mean']['real'][-1])\n",
    "print(\"Real result : \",E_inv[0])\n",
    "# plt.plot(np.log10(data['Energy']['Variance']))"
   ]
  },
  {
   "cell_type": "code",
   "execution_count": null,
   "metadata": {},
   "outputs": [],
   "source": [
    "#"
   ]
  }
 ],
 "metadata": {
  "kernelspec": {
   "display_name": "Python 3 (ipykernel)",
   "language": "python",
   "name": "python3"
  },
  "language_info": {
   "codemirror_mode": {
    "name": "ipython",
    "version": 3
   },
   "file_extension": ".py",
   "mimetype": "text/x-python",
   "name": "python",
   "nbconvert_exporter": "python",
   "pygments_lexer": "ipython3",
   "version": "3.11.7"
  }
 },
 "nbformat": 4,
 "nbformat_minor": 4
}
