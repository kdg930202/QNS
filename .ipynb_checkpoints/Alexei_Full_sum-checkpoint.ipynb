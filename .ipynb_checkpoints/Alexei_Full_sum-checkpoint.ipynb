{
 "cells": [
  {
   "cell_type": "code",
   "execution_count": 1,
   "id": "ca0c30e5",
   "metadata": {},
   "outputs": [
    {
     "name": "stderr",
     "output_type": "stream",
     "text": [
      "An NVIDIA GPU may be present on this machine, but a CUDA-enabled jaxlib is not installed. Falling back to cpu.\n"
     ]
    }
   ],
   "source": [
    "import netket as nk\n",
    "from numpy.lib.function_base import append\n",
    "from itertools import permutations, combinations\n",
    "from netket.vqs.mc import get_local_kernel_arguments, get_local_kernel\n",
    "import time\n",
    "import matplotlib.pyplot as plt\n",
    "import json\n",
    "import numpy as np\n",
    "from numpy.linalg import eig\n",
    "from flax.core.frozen_dict import FrozenDict\n",
    "import flax\n",
    "from netket.optimizer.qgt import QGTJacobianPyTree\n",
    "\n",
    "\n",
    "from typing import Callable, Tuple\n",
    "from functools import partial\n",
    "\n",
    "import jax\n",
    "from jax import numpy as jnp\n",
    "\n",
    "from netket.stats import statistics as mpi_statistics, mean as mpi_mean, Stats\n",
    "from netket.utils.types import PyTree\n",
    "from netket.operator.spin import sigmax, sigmay,sigmaz\n",
    "\n",
    "import matplotlib.pyplot as plt\n",
    "from tqdm import tqdm\n",
    "################################################################\n",
    "from scipy.sparse.linalg import eigsh\n",
    "################################################################\n",
    "import os\n",
    "import pandas as pd\n",
    "\n"
   ]
  },
  {
   "cell_type": "code",
   "execution_count": 2,
   "id": "d579a142",
   "metadata": {},
   "outputs": [],
   "source": [
    "import os\n",
    "os.environ[\"JAX_PLATFORM_NAME\"] = \"cpu\""
   ]
  },
  {
   "cell_type": "code",
   "execution_count": 3,
   "id": "b43fd9b4",
   "metadata": {},
   "outputs": [],
   "source": [
    "from netket.graph import Chain\n",
    "from netket.models import GCNN\n",
    "\n",
    "# Define a 1d chain\n",
    "L = 6\n",
    "dis = 1\n",
    "g = nk.graph.Hypercube(length=L, n_dim=1, pbc=True)\n",
    "# hi = nk.hilbert.Spin(s=0.5, total_sz=0, N=g.n_nodes)\n",
    "hi = nk.hilbert.Spin(s=0.5, N=g.n_nodes)\n",
    "\n",
    "\n",
    "# calling the Heisenberg Hamiltonian\n",
    "ha = nk.operator.Heisenberg(hilbert=hi, graph=g)\n",
    "b=dis\n",
    "a=-dis\n",
    "Gamma = (b-a) * np.random.random_sample(L) + a\n",
    "\n",
    "################################################################################\n",
    "################################################################################\n",
    "################################################################################\n",
    "#이렇게 정의하는게 더 빨랑\n",
    "# ha = sum([ sigmax(hi,i)*sigmax(hi,(i+1)%L)\n",
    "#          + sigmay(hi,i)*sigmay(hi,(i+1)%L)\n",
    "#          + sigmaz(hi,i)*sigmaz(hi,(i+1)%L)\n",
    "#            for i in range(L)])\n",
    "################################################################################\n",
    "################################################################################\n",
    "################################################################################\n",
    "# ha = ha + sum([Gamma[i]*sigmaz(hi,i) for i in range(L)])\n",
    "E, vec = np.linalg.eigh(ha.to_dense())\n"
   ]
  },
  {
   "cell_type": "code",
   "execution_count": 4,
   "id": "9ac9a56b",
   "metadata": {},
   "outputs": [
    {
     "data": {
      "text/plain": [
       "array([[ 6.,  0.,  0., ...,  0.,  0.,  0.],\n",
       "       [ 0.,  2., -2., ...,  0.,  0.,  0.],\n",
       "       [ 0., -2.,  2., ...,  0.,  0.,  0.],\n",
       "       ...,\n",
       "       [ 0.,  0.,  0., ...,  2., -2.,  0.],\n",
       "       [ 0.,  0.,  0., ..., -2.,  2.,  0.],\n",
       "       [ 0.,  0.,  0., ...,  0.,  0.,  6.]])"
      ]
     },
     "execution_count": 4,
     "metadata": {},
     "output_type": "execute_result"
    }
   ],
   "source": [
    "ha.to_dense()"
   ]
  },
  {
   "cell_type": "code",
   "execution_count": 35,
   "id": "f4c8a5ea",
   "metadata": {},
   "outputs": [
    {
     "data": {
      "text/plain": [
       "4.906334798896417"
      ]
     },
     "execution_count": 35,
     "metadata": {},
     "output_type": "execute_result"
    }
   ],
   "source": [
    "Et = np.random.uniform(low=0, high=L, size=None)\n",
    "Et"
   ]
  },
  {
   "cell_type": "code",
   "execution_count": 36,
   "id": "df631916",
   "metadata": {},
   "outputs": [
    {
     "data": {
      "text/plain": [
       "[<matplotlib.lines.Line2D at 0x7fdea06d1cd0>]"
      ]
     },
     "execution_count": 36,
     "metadata": {},
     "output_type": "execute_result"
    },
    {
     "data": {
      "image/png": "[encoded data removed]",
      "text/plain": [
       "<Figure size 640x480 with 1 Axes>"
      ]
     },
     "metadata": {},
     "output_type": "display_data"
    }
   ],
   "source": [
    "plt.scatter(np.arange(len(E)),E,s=20)\n",
    "plt.ylabel('E',fontsize=18)\n",
    "plt.plot([0,len(E)],[Et,Et],'r')"
   ]
  },
  {
   "cell_type": "code",
   "execution_count": 37,
   "id": "4d2e6785",
   "metadata": {},
   "outputs": [
    {
     "data": {
      "text/plain": [
       "0.8214427676906012"
      ]
     },
     "execution_count": 37,
     "metadata": {},
     "output_type": "execute_result"
    }
   ],
   "source": [
    "ha_squared = (ha-Et)@(ha-Et)\n",
    "E_sq, vec_sq = np.linalg.eigh(ha_squared.to_dense())\n",
    "# E_sq, vec_sq = nk.exact.lanczos_ed((ha-Et)@(ha-Et), k=2)\n",
    "min(E_sq)"
   ]
  },
  {
   "cell_type": "code",
   "execution_count": 50,
   "id": "08892e74",
   "metadata": {},
   "outputs": [],
   "source": [
    "\n",
    "\n",
    "# ha_Et_jax = (ha-Et).to_pauli_strings().to_jax_operator()\n",
    "ha_Et_jax = (ha).to_pauli_strings().to_jax_operator()\n",
    "ha_jax_sparse = ha_Et_jax.to_sparse()\n",
    "ha_squared_jax = ha_squared.to_pauli_strings().to_jax_operator()\n",
    "ha_squared_jax_sparse = ha_squared_jax.to_sparse()\n",
    "ma = nk.models.RBM(alpha=1, param_dtype=complex)\n",
    "# ma = nk.models.RBM(alpha=1)\n",
    "# sa = nk.sampler.MetropolisExchange(hilbert=hi,graph=g,d_max=1, n_chains=1)\n",
    "# vs = nk.vqs.MCState(sa, ma, n_samples=1)\n"
   ]
  },
  {
   "cell_type": "code",
   "execution_count": 46,
   "id": "771ed355",
   "metadata": {},
   "outputs": [],
   "source": [
    "def to_array(model, parameters):\n",
    "    # begin by generating all configurations in the hilbert space.\n",
    "    # all_States returns a batch of configurations that is (hi.n_states, N) large.\n",
    "    all_configurations = hi.all_states()\n",
    "\n",
    "    # now evaluate the model, and convert to a normalised wavefunction.\n",
    "    logpsi = model.apply(parameters, all_configurations)\n",
    "    psi = jnp.exp(logpsi)\n",
    "    psi = psi / jnp.linalg.norm(psi)\n",
    "    return psi\n"
   ]
  },
  {
   "cell_type": "code",
   "execution_count": 47,
   "id": "8bfac330",
   "metadata": {},
   "outputs": [],
   "source": [
    "# from jax import jit\n",
    "# @jit\n",
    "def compute_energy(ma, parameters, ha_jax_sparse):\n",
    "    psi_gs = to_array(ma, parameters)\n",
    "    return psi_gs.conj().T@(ha_jax_sparse@psi_gs)"
   ]
  },
  {
   "cell_type": "code",
   "execution_count": 48,
   "id": "415e8192",
   "metadata": {},
   "outputs": [],
   "source": [
    "from functools import partial\n",
    "\n",
    "@partial(jax.jit, static_argnames='model')\n",
    "def compute_energy_and_gradient(model, parameters, hamiltonian_sparse):\n",
    "    grad_fun = jax.value_and_grad(compute_energy, argnums=1, holomorphic=True)\n",
    "#     grad_fun = jax.value_and_grad(compute_energy, argnums=1)\n",
    "#     grad_fun = jax.vjp(compute_energy, parameters)\n",
    "    return grad_fun(model, parameters, hamiltonian_sparse)"
   ]
  },
  {
   "cell_type": "code",
   "execution_count": 52,
   "id": "53e49d77",
   "metadata": {},
   "outputs": [
    {
     "name": "stderr",
     "output_type": "stream",
     "text": [
      "100%|███████████████████████████████████| 10000/10000 [00:01<00:00, 5940.02it/s]\n"
     ]
    },
    {
     "data": {
      "text/plain": [
       "[<matplotlib.lines.Line2D at 0x7fde6ea73ad0>]"
      ]
     },
     "execution_count": 52,
     "metadata": {},
     "output_type": "execute_result"
    },
    {
     "data": {
      "image/png": "[encoded data removed]",
      "text/plain": [
       "<Figure size 640x480 with 1 Axes>"
      ]
     },
     "metadata": {},
     "output_type": "display_data"
    }
   ],
   "source": [
    "logger = nk.logging.RuntimeLog()\n",
    "\n",
    "parameters = ma.init(jax.random.PRNGKey(0), np.ones((hi.size, )))\n",
    "for i in tqdm(range(10000)):\n",
    "    # compute energy and gradient\n",
    "    energy, gradient = compute_energy_and_gradient(ma, parameters, ha_jax_sparse)\n",
    "    \n",
    "    # update parameters\n",
    "    parameters = jax.tree_map(lambda x,y:x-0.001*y, parameters, gradient)\n",
    "    \n",
    "    # log energy: the logger takes a step argument and a dictionary of variables to be logged\n",
    "    logger(step=i, item={'Energy':energy})\n",
    "    \n",
    "plt.plot(logger.data['Energy']['iters'], logger.data['Energy']['value'])"
   ]
  }
 ],
 "metadata": {
  "kernelspec": {
   "display_name": "Python 3",
   "language": "python",
   "name": "python3"
  },
  "language_info": {
   "codemirror_mode": {
    "name": "ipython",
    "version": 3
   },
   "file_extension": ".py",
   "mimetype": "text/x-python",
   "name": "python",
   "nbconvert_exporter": "python",
   "pygments_lexer": "ipython3",
   "version": "3.11.5"
  }
 },
 "nbformat": 4,
 "nbformat_minor": 5
}
