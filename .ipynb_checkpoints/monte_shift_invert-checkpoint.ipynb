{
 "cells": [
  {
   "cell_type": "code",
   "execution_count": 21,
   "id": "3c327f60-1ffd-41cd-8cfa-92aacc087169",
   "metadata": {},
   "outputs": [],
   "source": [
    "import netket\n",
    "from flax.core.scope import CollectionFilter\n",
    "from netket.utils.types import PyTree\n",
    "from netket.operator import Squared\n",
    "from functools import partial, lru_cache\n",
    "from typing import Callable, Optional\n",
    "\n",
    "import jax\n",
    "from jax import numpy as jnp\n",
    "from flax.core.scope import CollectionFilter, DenyList  # noqa: F401\n",
    "\n",
    "import netket as nk\n",
    "from netket import jax as nkjax\n",
    "from netket.operator import DiscreteOperator, Squared\n",
    "from netket.stats import Stats\n",
    "from netket.utils.types import PyTree\n",
    "from netket.utils.dispatch import dispatch\n",
    "\n",
    "# from nektet.vqs import _ex\n",
    "from netket.vqs import expect_and_grad, expect_and_forces\n",
    "from netket.vqs.mc.common import force_to_grad, get_local_kernel, get_local_kernel_arguments\n",
    "from netket.stats import Stats\n",
    "import time\n",
    "import json\n",
    "import matplotlib.pyplot as plt\n",
    "import numpy as np\n",
    "from netket.operator.spin import sigmax, sigmay,sigmaz\n",
    "from netket.stats import Stats, statistics"
   ]
  },
  {
   "cell_type": "code",
   "execution_count": 2,
   "id": "c9fa8edd-2bbe-4a72-bbfc-1dec28d76b98",
   "metadata": {},
   "outputs": [],
   "source": [
    "# Define the Hilbert space based on this graph\n",
    "# We impose to have a fixed total magnetization of zero\n",
    "# Define a 1d chain\n",
    "L = 8\n",
    "dis = 1\n",
    "g = nk.graph.Hypercube(length=L, n_dim=1, pbc=True)\n",
    "hi = nk.hilbert.Spin(s=0.5, total_sz=0, N=g.n_nodes)\n",
    "# calling the Heisenberg Hamiltonian\n",
    "ha = nk.operator.Heisenberg(hilbert=hi, graph=g)\n",
    "# ha = nk.operator.Heisenberg(hilbert=hi, graph=g)\n",
    "b=dis\n",
    "a=-dis\n",
    "Gamma = (b-a) * np.random.random_sample(L) + a\n",
    "\n",
    "################################################################################\n",
    "################################################################################\n",
    "################################################################################\n",
    "#이렇게 정의하는게 더 빨랑\n",
    "ha = sum([ sigmax(hi,i)*sigmax(hi,(i+1)%L)\n",
    "         + sigmay(hi,i)*sigmay(hi,(i+1)%L)\n",
    "         + sigmaz(hi,i)*sigmaz(hi,(i+1)%L)\n",
    "           for i in range(L)])\n",
    "################################################################################\n",
    "################################################################################\n",
    "################################################################################\n",
    "ha = ha + sum([Gamma[i]*sigmaz(hi,i) for i in range(L)])"
   ]
  },
  {
   "cell_type": "code",
   "execution_count": 3,
   "id": "b123bdd9-78e5-4b2c-8129-20f2dcc2a706",
   "metadata": {},
   "outputs": [
    {
     "data": {
      "text/plain": [
       "7.757176574482941"
      ]
     },
     "execution_count": 3,
     "metadata": {},
     "output_type": "execute_result"
    }
   ],
   "source": [
    "Et = np.random.uniform(low=0, high=L, size=None)\n",
    "Et"
   ]
  },
  {
   "cell_type": "code",
   "execution_count": 4,
   "id": "614a9dc6-ee54-4e80-b01a-d5921085fa1a",
   "metadata": {},
   "outputs": [
    {
     "data": {
      "text/plain": [
       "[<matplotlib.lines.Line2D at 0x7fb6888a7b90>]"
      ]
     },
     "execution_count": 4,
     "metadata": {},
     "output_type": "execute_result"
    },
    {
     "data": {
      "image/png": "[encoded data removed]",
      "text/plain": [
       "<Figure size 640x480 with 1 Axes>"
      ]
     },
     "metadata": {},
     "output_type": "display_data"
    }
   ],
   "source": [
    "E, vec = np.linalg.eigh(ha.to_dense())\n",
    "plt.scatter(range(len(E)),E)\n",
    "plt.plot([0,len(E)],[Et,Et],'r')"
   ]
  },
  {
   "cell_type": "code",
   "execution_count": 5,
   "id": "0d2e4d78-cda3-4534-8891-693ab11f971a",
   "metadata": {},
   "outputs": [
    {
     "data": {
      "text/plain": [
       "array([-15.79244851, -12.419158  , -12.28024501, -10.35509878,\n",
       "        -9.66440794,  -9.46180628,  -9.31226857,  -8.34808853,\n",
       "        -8.33769617,  -7.14679447,  -7.03472511,  -6.7927617 ,\n",
       "        -6.56656432,  -6.3793101 ,  -5.5254472 ,  -5.40040286,\n",
       "        -4.97658223,  -4.6947977 ,  -4.52754221,  -4.10020014,\n",
       "        -3.91818488,  -3.79279998,  -3.58639907,  -3.28823428,\n",
       "        -3.14142784,  -3.05549522,  -2.76952999,  -2.29347921,\n",
       "        -2.06552907,  -1.97524258,  -1.76405527,  -1.55866271,\n",
       "        -1.3960115 ,  -1.16854574,  -1.01819231,  -0.79816062,\n",
       "        -0.48489892,  -0.24570655,  -0.12784769,  -0.02601293,\n",
       "         0.2856915 ,   0.64389952,   0.75490666,   0.83257247,\n",
       "         0.96075829,   1.22850206,   1.68087904,   1.79989018,\n",
       "         2.00231583,   2.40285898,   2.43056657,   2.59174969,\n",
       "         3.14531854,   3.49209913,   3.70085125,   3.96930704,\n",
       "         4.14191502,   4.73788437,   4.8928381 ,   5.066656  ,\n",
       "         5.25738423,   5.50479314,   5.88252679,   6.39805609,\n",
       "         6.53169468,   6.58026997,   6.99841804,   7.4163898 ,\n",
       "         7.57915541,   8.68061381])"
      ]
     },
     "execution_count": 5,
     "metadata": {},
     "output_type": "execute_result"
    }
   ],
   "source": [
    "E"
   ]
  },
  {
   "cell_type": "code",
   "execution_count": 9,
   "id": "3621e090-ba51-4cec-ab85-347f77bfddd1",
   "metadata": {},
   "outputs": [],
   "source": [
    "def add(x,y):\n",
    "    return x+y\n"
   ]
  },
  {
   "cell_type": "code",
   "execution_count": 10,
   "id": "5b9fe802-e3d9-4d75-b38b-0139a0e20c78",
   "metadata": {},
   "outputs": [],
   "source": [
    "O_sparse = ha.to_sparse()\n",
    "H_Et_sparse = (ha-Et).to_sparse()\n",
    "H_Et_squ_sparse = ((ha-Et)@(ha-Et)).to_sparse()"
   ]
  },
  {
   "cell_type": "code",
   "execution_count": 28,
   "id": "7dd257d5-2eba-48f2-9b09-5fdecedf548c",
   "metadata": {},
   "outputs": [],
   "source": [
    "from functools import partial\n",
    "from typing import Callable, Optional\n",
    "\n",
    "import jax\n",
    "from jax import numpy as jnp\n",
    "from flax.core.scope import CollectionFilter, DenyList  # noqa: F401\n",
    "\n",
    "from netket import jax as nkjax\n",
    "from netket import config\n",
    "from netket.stats import Stats\n",
    "from netket.utils import mpi, dispatch\n",
    "from netket.utils.types import PyTree\n",
    "\n",
    "from netket.operator import (\n",
    "    AbstractOperator,\n",
    "    Squared,\n",
    ")\n",
    "\n",
    "from netket.vqs import expect_and_grad, expect_and_forces\n",
    "\n",
    "# from ..common import force_to_grad, get_local_kernel_arguments, get_local_kernel\n",
    "\n",
    "from netket.vqs import MCState\n",
    "\n",
    "\n",
    "@expect_and_forces.dispatch\n",
    "def expect_and_forces_kodo(  # noqa: F811\n",
    "    vstate: MCState,\n",
    "    Ô: AbstractOperator,\n",
    "    chunk_size: None,\n",
    "    *,\n",
    "    mutable: CollectionFilter = False,\n",
    ") -> tuple[Stats, PyTree]:\n",
    "    σ, args = get_local_kernel_arguments(vstate, Ô)\n",
    "\n",
    "    local_estimator_fun = get_local_kernel(vstate, Ô)\n",
    "\n",
    "    Ō, Ō_grad, new_model_state = forces_expect_kodo(\n",
    "        local_estimator_fun,\n",
    "        vstate._apply_fun,\n",
    "        mutable,\n",
    "        vstate.parameters,\n",
    "        vstate.model_state,\n",
    "        σ,\n",
    "        args,\n",
    "    )\n",
    "\n",
    "    if mutable is not False:\n",
    "        vstate.model_state = new_model_state\n",
    "\n",
    "    return Ō, Ō_grad\n",
    "\n",
    "\n",
    "@partial(jax.jit, static_argnums=(0, 1, 2))\n",
    "def forces_expect_kodo(\n",
    "    local_value_kernel: Callable,\n",
    "    model_apply_fun: Callable,\n",
    "    mutable: CollectionFilter,\n",
    "    parameters: PyTree,\n",
    "    model_state: PyTree,\n",
    "    σ: jnp.ndarray,\n",
    "    local_value_args: PyTree,\n",
    ") -> tuple[PyTree, PyTree]:\n",
    "    n_chains = σ.shape[0]\n",
    "    if σ.ndim >= 3:\n",
    "        σ = jax.lax.collapse(σ, 0, 2)\n",
    "\n",
    "    n_samples = σ.shape[0] * mpi.n_nodes\n",
    "\n",
    "    O_loc = local_value_kernel(\n",
    "        model_apply_fun,\n",
    "        {\"params\": parameters, **model_state},\n",
    "        σ,\n",
    "        local_value_args,\n",
    "    )\n",
    "\n",
    "    Ō = statistics(O_loc.reshape((n_chains, -1)))\n",
    "\n",
    "    O_loc -= Ō.mean\n",
    "\n",
    "    # Then compute the vjp.\n",
    "    # Code is a bit more complex than a standard one because we support\n",
    "    # mutable state (if it's there)\n",
    "    is_mutable = mutable is not False\n",
    "    _, vjp_fun, *new_model_state = nkjax.vjp(\n",
    "        lambda w: model_apply_fun({\"params\": w, **model_state}, σ, mutable=mutable),\n",
    "        parameters,\n",
    "        conjugate=True,\n",
    "        has_aux=is_mutable,\n",
    "    )\n",
    "    Ō_grad = vjp_fun(jnp.conjugate(O_loc) / n_samples)[0]\n",
    "\n",
    "    new_model_state = new_model_state[0] if is_mutable else None\n",
    "\n",
    "    return (\n",
    "        Ō,\n",
    "        jax.tree_util.tree_map(lambda x: mpi.mpi_sum_jax(x)[0], Ō_grad),\n",
    "        new_model_state,\n",
    "    )"
   ]
  },
  {
   "cell_type": "code",
   "execution_count": 29,
   "id": "a0795d79-6e8b-4b4c-a0ef-57a7d6370476",
   "metadata": {},
   "outputs": [],
   "source": [
    "def variance(vsta, hamiltonian):\n",
    "    return vsta.to_array().conj()@(hamiltonian@hamiltonian).to_sparse()@vsta.to_array() - (vsta.to_array().conj()@(hamiltonian).to_sparse()@vsta.to_array())**2"
   ]
  },
  {
   "cell_type": "code",
   "execution_count": null,
   "id": "d82a7c76-87ee-4ca2-b668-e7f396d98c4c",
   "metadata": {},
   "outputs": [
    {
     "name": "stderr",
     "output_type": "stream",
     "text": [
      " 26%|▎| 2575/10000 [05:08<16:40,  7.42it/s, Energy=-15.626+0.001j ± 0.033 [σ²=1."
     ]
    }
   ],
   "source": [
    "# Build the sampler\n",
    "# sa = nk.sampler.MetropolisExchange(hilbert=hi,graph=g)\n",
    "epochs = 10000\n",
    "\n",
    "\n",
    "ma = nk.models.RBM(alpha=4, param_dtype=complex)\n",
    "sa = nk.sampler.MetropolisExchange(hilbert=hi, graph=g, d_max=1, n_chains=16)\n",
    "vs = nk.vqs.MCState(sa, ma, n_samples=1008)\n",
    "\n",
    "# Optimizer\n",
    "op = nk.optimizer.Sgd(learning_rate=0.001)\n",
    "\n",
    "# Stochastic Reconfiguration\n",
    "sr = nk.optimizer.SR(diag_shift=0.1, holomorphic=True)\n",
    "\n",
    "\n",
    "# The ground-state optimization loop\n",
    "Target_ha = ha\n",
    "gs = nk.VMC(\n",
    "    hamiltonian=ha,\n",
    "    optimizer=op,\n",
    "    preconditioner=sr,\n",
    "    variational_state=vs)\n",
    "\n",
    "start = time.time()\n",
    "gs.run(epochs, out='RBM')\n",
    "end = time.time()\n",
    "\n",
    "data=json.load(open(\"RBM.log\"))\n",
    "# variance(vs,ha)\n",
    "# plt.plot(np.log10(data['Energy']['Variance']))"
   ]
  },
  {
   "cell_type": "code",
   "execution_count": 23,
   "id": "ec3002e7-a33c-498f-91c4-e19ea32e6b2a",
   "metadata": {},
   "outputs": [
    {
     "data": {
      "text/plain": [
       "Array(27.54094971-3.38993426e-14j, dtype=complex128)"
      ]
     },
     "execution_count": 23,
     "metadata": {},
     "output_type": "execute_result"
    }
   ],
   "source": [
    "variance(vs,ha)"
   ]
  },
  {
   "cell_type": "code",
   "execution_count": null,
   "id": "a4832ac7-5010-45bf-a49a-220515c67005",
   "metadata": {},
   "outputs": [],
   "source": []
  }
 ],
 "metadata": {
  "kernelspec": {
   "display_name": "Python 3 (ipykernel)",
   "language": "python",
   "name": "python3"
  },
  "language_info": {
   "codemirror_mode": {
    "name": "ipython",
    "version": 3
   },
   "file_extension": ".py",
   "mimetype": "text/x-python",
   "name": "python",
   "nbconvert_exporter": "python",
   "pygments_lexer": "ipython3",
   "version": "3.11.7"
  }
 },
 "nbformat": 4,
 "nbformat_minor": 5
}
