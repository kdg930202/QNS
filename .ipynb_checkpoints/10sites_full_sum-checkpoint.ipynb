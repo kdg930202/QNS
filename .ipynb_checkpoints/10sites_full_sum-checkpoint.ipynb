{
 "cells": [
  {
   "cell_type": "code",
   "execution_count": 1,
   "id": "aa01c7cb-6bb6-4953-9b2b-939bca0a58de",
   "metadata": {},
   "outputs": [],
   "source": [
    "######"
   ]
  },
  {
   "cell_type": "code",
   "execution_count": 1,
   "id": "a6c1e0f5",
   "metadata": {},
   "outputs": [
    {
     "name": "stderr",
     "output_type": "stream",
     "text": [
      "An NVIDIA GPU may be present on this machine, but a CUDA-enabled jaxlib is not installed. Falling back to cpu.\n"
     ]
    }
   ],
   "source": [
    "import netket as nk\n",
    "from numpy.lib.function_base import append\n",
    "from itertools import permutations, combinations\n",
    "from netket.vqs.mc import get_local_kernel_arguments, get_local_kernel\n",
    "import time\n",
    "import matplotlib.pyplot as plt\n",
    "import json\n",
    "import numpy as np\n",
    "from numpy.linalg import eig\n",
    "from flax.core.frozen_dict import FrozenDict\n",
    "import flax\n",
    "from netket.optimizer.qgt import QGTJacobianPyTree\n",
    "\n",
    "\n",
    "from typing import Callable, Tuple\n",
    "from functools import partial\n",
    "\n",
    "import jax\n",
    "from jax import numpy as jnp\n",
    "\n",
    "from netket.stats import statistics as mpi_statistics, mean as mpi_mean, Stats\n",
    "from netket.utils.types import PyTree\n",
    "from netket.operator.spin import sigmax, sigmay,sigmaz\n",
    "\n",
    "import matplotlib.pyplot as plt\n",
    "from tqdm import tqdm\n",
    "################################################################\n",
    "from scipy.sparse.linalg import eigsh\n",
    "################################################################\n",
    "import os\n",
    "import pandas as pd\n",
    "\n"
   ]
  },
  {
   "cell_type": "code",
   "execution_count": 2,
   "id": "b9c4da27",
   "metadata": {},
   "outputs": [],
   "source": [
    "import os\n",
    "os.environ[\"JAX_PLATFORM_NAME\"] = \"cpu\""
   ]
  },
  {
   "cell_type": "code",
   "execution_count": 49,
   "id": "09feadd3",
   "metadata": {},
   "outputs": [],
   "source": [
    "from netket.graph import Chain\n",
    "from netket.models import GCNN\n",
    "\n",
    "# Define a 1d chain\n",
    "L = 10\n",
    "dis = 1\n",
    "g = nk.graph.Hypercube(length=L, n_dim=1, pbc=True)\n",
    "hi = nk.hilbert.Spin(s=0.5, total_sz=0, N=g.n_nodes)\n",
    "\n",
    "# calling the Heisenberg Hamiltonian\n",
    "ha = nk.operator.Heisenberg(hilbert=hi, graph=g)\n",
    "b=dis\n",
    "a=-dis\n",
    "Gamma = (b-a) * np.random.random_sample(L) + a\n",
    "\n",
    "################################################################################\n",
    "################################################################################\n",
    "################################################################################\n",
    "#이렇게 정의하는게 더 빨랑\n",
    "ha = sum([ sigmax(hi,i)*sigmax(hi,(i+1)%L)\n",
    "         + sigmay(hi,i)*sigmay(hi,(i+1)%L)\n",
    "         + sigmaz(hi,i)*sigmaz(hi,(i+1)%L)\n",
    "           for i in range(L)])\n",
    "################################################################################\n",
    "################################################################################\n",
    "################################################################################\n",
    "ha = ha + sum([Gamma[i]*sigmaz(hi,i) for i in range(L)])\n",
    "E, vec = np.linalg.eigh(ha.to_dense())\n"
   ]
  },
  {
   "cell_type": "code",
   "execution_count": 52,
   "id": "04d51a74",
   "metadata": {},
   "outputs": [
    {
     "data": {
      "text/plain": [
       "5.209990245210989"
      ]
     },
     "execution_count": 52,
     "metadata": {},
     "output_type": "execute_result"
    }
   ],
   "source": [
    "Et = np.random.uniform(low=5, high=10, size=None)\n",
    "Et"
   ]
  },
  {
   "cell_type": "code",
   "execution_count": 53,
   "id": "8eef52be",
   "metadata": {},
   "outputs": [
    {
     "data": {
      "text/plain": [
       "[<matplotlib.lines.Line2D at 0x7f674204bf10>]"
      ]
     },
     "execution_count": 53,
     "metadata": {},
     "output_type": "execute_result"
    },
    {
     "data": {
      "image/png": "[encoded data removed]",
      "text/plain": [
       "<Figure size 640x480 with 1 Axes>"
      ]
     },
     "metadata": {},
     "output_type": "display_data"
    }
   ],
   "source": [
    "plt.scatter(np.arange(len(E)),E,s=20)\n",
    "plt.ylabel('E',fontsize=18)\n",
    "plt.plot([0,len(E)],[Et,Et],'r')"
   ]
  },
  {
   "cell_type": "code",
   "execution_count": 55,
   "id": "ecf893f7",
   "metadata": {},
   "outputs": [
    {
     "data": {
      "text/plain": [
       "0.0024430170534616383"
      ]
     },
     "execution_count": 55,
     "metadata": {},
     "output_type": "execute_result"
    }
   ],
   "source": [
    "E_sq, vec_sq = np.linalg.eigh(((ha-Et)@(ha-Et)).to_dense())\n",
    "# E_sq, vec_sq = nk.exact.lanczos_ed((ha-Et)@(ha-Et), k=2)\n",
    "min(E_sq)"
   ]
  },
  {
   "cell_type": "code",
   "execution_count": 82,
   "id": "589ad8e2",
   "metadata": {},
   "outputs": [],
   "source": [
    "def alpha_depen_Target(hilbert, Target, n_steps, alpha_, eta, eta_sr):\n",
    "\n",
    "  ma = nk.models.RBM(alpha=alpha_, param_dtype=complex)\n",
    "  vs = nk.vqs.FullSumState(hilbert, ma)\n",
    "  op = nk.optimizer.Sgd(learning_rate=eta)\n",
    "  sr = nk.optimizer.SR(diag_shift=eta_sr, holomorphic=True)\n",
    "     \n",
    "  gs = nk.VMC(\n",
    "      hamiltonian=Target,\n",
    "      optimizer=op,\n",
    "      preconditioner=sr,\n",
    "      variational_state=vs)\n",
    "\n",
    "#   gs = nk.VMC(\n",
    "#       hamiltonian=Target,\n",
    "#       optimizer=op,\n",
    "#       variational_state=vs)  \n",
    "\n",
    "  start = time.time()\n",
    "  gs.run(n_steps, out='RBM')\n",
    "  end = time.time()\n",
    "\n",
    "  data=json.load(open(\"RBM.log\"))\n",
    "    \n",
    "  energy = vs.expect(ha).mean.real\n",
    "  variance = vs.expect(ha@ha).mean.real-vs.expect(ha).mean.real**2\n",
    "  print([energy, variance])\n",
    "  return energy, variance, vs\n",
    "\n",
    "def alpha_depen_big_eta(vs, hilbert, Target, n_steps, alpha_, eta, eta_sr):\n",
    "\n",
    "#   ma = nk.models.RBM(alpha=alpha_, param_dtype=complex)\n",
    "#   vs = nk.vqs.FullSumState(hilbert, ma)\n",
    "  op = nk.optimizer.Sgd(learning_rate=eta)\n",
    "  sr = nk.optimizer.SR(diag_shift=eta_sr, holomorphic=True)\n",
    "     \n",
    "  gs = nk.VMC(\n",
    "      hamiltonian=Target,\n",
    "      optimizer=op,\n",
    "      preconditioner=sr,\n",
    "      variational_state=vs)\n",
    "\n",
    "#   gs = nk.VMC(\n",
    "#       hamiltonian=Target,\n",
    "#       optimizer=op,\n",
    "#       variational_state=vs)  \n",
    "\n",
    "  start = time.time()\n",
    "  gs.run(n_steps, out='RBM')\n",
    "  end = time.time()\n",
    "\n",
    "#   data=json.load(open(\"RBM.log\"))\n",
    "    \n",
    "  energy = vs.expect(ha).mean.real\n",
    "  variance = vs.expect(ha@ha).mean.real-vs.expect(ha).mean.real**2\n",
    "  print([energy, variance])\n",
    "  return energy, variance"
   ]
  },
  {
   "cell_type": "code",
   "execution_count": 86,
   "id": "120a9a4e",
   "metadata": {},
   "outputs": [
    {
     "name": "stderr",
     "output_type": "stream",
     "text": [
      "100%|█| 1000/1000 [00:20<00:00, 49.09it/s, Energy=1.394e-01+1.110e-16j ± 0.000e+\n"
     ]
    },
    {
     "name": "stdout",
     "output_type": "stream",
     "text": [
      "[Array(5.26885127, dtype=float64), Array(0.13540157, dtype=float64)]\n"
     ]
    }
   ],
   "source": [
    "a,b,c = alpha_depen_Target(hi, Target, 1000, 2, 0.01, 0.01)"
   ]
  },
  {
   "cell_type": "code",
   "execution_count": 90,
   "id": "c58d8342",
   "metadata": {},
   "outputs": [
    {
     "name": "stderr",
     "output_type": "stream",
     "text": [
      "100%|█| 100000/100000 [50:20<00:00, 33.11it/s, Energy=5.779e-02+1.636e-16j ± 0.0\n"
     ]
    },
    {
     "name": "stdout",
     "output_type": "stream",
     "text": [
      "[Array(5.27440586, dtype=float64), Array(0.05363836, dtype=float64)]\n"
     ]
    },
    {
     "data": {
      "text/plain": [
       "(Array(5.27440586, dtype=float64), Array(0.05363836, dtype=float64))"
      ]
     },
     "execution_count": 90,
     "metadata": {},
     "output_type": "execute_result"
    }
   ],
   "source": [
    "alpha_depen_big_eta(c, hi, Target, 100000, 2, 0.00001, 0.01)"
   ]
  },
  {
   "cell_type": "code",
   "execution_count": 60,
   "id": "091e07f6",
   "metadata": {},
   "outputs": [
    {
     "name": "stderr",
     "output_type": "stream",
     "text": [
      "100%|█| 2000000/2000000 [13:33:31<00:00, 40.97it/s, Energy=4.413e-01+1.716e-15j \n"
     ]
    },
    {
     "name": "stdout",
     "output_type": "stream",
     "text": [
      "[Array(5.5784751, dtype=float64), Array(0.30552893, dtype=float64)]\n"
     ]
    }
   ],
   "source": [
    "Target = (ha-Et)@(ha-Et)\n",
    "e2 , v2 = alpha_depen_Target(hi, Target, 2000000, 1, 0.0001, 0.001)"
   ]
  },
  {
   "cell_type": "code",
   "execution_count": 63,
   "id": "fa72aaa8",
   "metadata": {},
   "outputs": [
    {
     "name": "stderr",
     "output_type": "stream",
     "text": [
      "100%|█| 100000/100000 [1:27:04<00:00, 19.14it/s, Energy=1.409e-01-2.927e-16j ± 0\n"
     ]
    },
    {
     "name": "stdout",
     "output_type": "stream",
     "text": [
      "[Array(5.25369535, dtype=float64), Array(0.13896455, dtype=float64)]\n"
     ]
    },
    {
     "data": {
      "text/plain": [
       "(Array(5.25369535, dtype=float64), Array(0.13896455, dtype=float64))"
      ]
     },
     "execution_count": 63,
     "metadata": {},
     "output_type": "execute_result"
    }
   ],
   "source": [
    "alpha_depen_Target(hi, Target, 100000, 1, 0.001, 0.001)"
   ]
  },
  {
   "cell_type": "code",
   "execution_count": 64,
   "id": "001db54c",
   "metadata": {},
   "outputs": [
    {
     "name": "stderr",
     "output_type": "stream",
     "text": [
      "100%|█| 100000/100000 [7:04:12<00:00,  3.93it/s, Energy=3.706e-02+1.593e-16j ± 0\n"
     ]
    },
    {
     "name": "stdout",
     "output_type": "stream",
     "text": [
      "[Array(5.18646473, dtype=float64), Array(0.03650552, dtype=float64)]\n"
     ]
    },
    {
     "data": {
      "text/plain": [
       "(Array(5.18646473, dtype=float64), Array(0.03650552, dtype=float64))"
      ]
     },
     "execution_count": 64,
     "metadata": {},
     "output_type": "execute_result"
    }
   ],
   "source": [
    "alpha_depen_Target(hi, Target, 100000, 2, 0.001, 0.001)"
   ]
  },
  {
   "cell_type": "code",
   "execution_count": 67,
   "id": "97edf216",
   "metadata": {},
   "outputs": [
    {
     "name": "stderr",
     "output_type": "stream",
     "text": [
      "100%|█| 100000/100000 [1:24:48<00:00, 19.65it/s, Energy=4.470e-02-6.505e-17j ± 0\n"
     ]
    },
    {
     "name": "stdout",
     "output_type": "stream",
     "text": [
      "[Array(5.25841177, dtype=float64), Array(0.04235196, dtype=float64)]\n"
     ]
    },
    {
     "data": {
      "text/plain": [
       "(Array(5.25841177, dtype=float64), Array(0.04235196, dtype=float64))"
      ]
     },
     "execution_count": 67,
     "metadata": {},
     "output_type": "execute_result"
    }
   ],
   "source": [
    "alpha_depen_Target(hi, Target, 100000, 2, 0.001, 0.01)"
   ]
  },
  {
   "cell_type": "code",
   "execution_count": null,
   "id": "c29aebef",
   "metadata": {},
   "outputs": [],
   "source": []
  }
 ],
 "metadata": {
  "kernelspec": {
   "display_name": "Python 3 (ipykernel)",
   "language": "python",
   "name": "python3"
  },
  "language_info": {
   "codemirror_mode": {
    "name": "ipython",
    "version": 3
   },
   "file_extension": ".py",
   "mimetype": "text/x-python",
   "name": "python",
   "nbconvert_exporter": "python",
   "pygments_lexer": "ipython3",
   "version": "3.11.7"
  }
 },
 "nbformat": 4,
 "nbformat_minor": 5
}
