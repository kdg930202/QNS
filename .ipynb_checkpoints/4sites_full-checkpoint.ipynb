{
 "cells": [
  {
   "cell_type": "code",
   "execution_count": 1,
   "id": "49723f9d",
   "metadata": {},
   "outputs": [
    {
     "name": "stderr",
     "output_type": "stream",
     "text": [
      "An NVIDIA GPU may be present on this machine, but a CUDA-enabled jaxlib is not installed. Falling back to cpu.\n"
     ]
    }
   ],
   "source": [
    "import netket as nk\n",
    "from numpy.lib.function_base import append\n",
    "from itertools import permutations, combinations\n",
    "from netket.vqs.mc import get_local_kernel_arguments, get_local_kernel\n",
    "import time\n",
    "import matplotlib.pyplot as plt\n",
    "import json\n",
    "import numpy as np\n",
    "from numpy.linalg import eig\n",
    "from flax.core.frozen_dict import FrozenDict\n",
    "import flax\n",
    "from netket.optimizer.qgt import QGTJacobianPyTree\n",
    "\n",
    "\n",
    "from typing import Callable, Tuple\n",
    "from functools import partial\n",
    "\n",
    "import jax\n",
    "from jax import numpy as jnp\n",
    "\n",
    "from netket.stats import statistics as mpi_statistics, mean as mpi_mean, Stats\n",
    "from netket.utils.types import PyTree\n",
    "from netket.operator.spin import sigmax, sigmay,sigmaz\n",
    "\n",
    "import matplotlib.pyplot as plt\n",
    "from tqdm import tqdm\n",
    "################################################################\n",
    "from scipy.sparse.linalg import eigsh\n",
    "################################################################\n",
    "import os\n",
    "import pandas as pd\n",
    "\n"
   ]
  },
  {
   "cell_type": "code",
   "execution_count": 2,
   "id": "c81f8b0e",
   "metadata": {},
   "outputs": [],
   "source": [
    "import os\n",
    "os.environ[\"JAX_PLATFORM_NAME\"] = \"cpu\""
   ]
  },
  {
   "cell_type": "code",
   "execution_count": 3,
   "id": "7f565ceb",
   "metadata": {},
   "outputs": [],
   "source": [
    "from netket.graph import Chain\n",
    "from netket.models import GCNN\n",
    "\n",
    "# Define a 1d chain\n",
    "L = 4\n",
    "dis = 5\n",
    "g = nk.graph.Hypercube(length=L, n_dim=1, pbc=True)\n",
    "hi = nk.hilbert.Spin(s=0.5, N=g.n_nodes)\n",
    "\n",
    "# calling the Heisenberg Hamiltonian\n",
    "ha = nk.operator.Heisenberg(hilbert=hi, graph=g)\n",
    "b=dis\n",
    "a=-dis\n",
    "Gamma = (b-a) * np.random.random_sample(L) + a\n",
    "\n",
    "################################################################################\n",
    "################################################################################\n",
    "################################################################################\n",
    "#이렇게 정의하는게 더 빨랑\n",
    "ha = sum([ sigmax(hi,i)*sigmax(hi,(i+1)%L)\n",
    "         + sigmay(hi,i)*sigmay(hi,(i+1)%L)\n",
    "         + sigmaz(hi,i)*sigmaz(hi,(i+1)%L)\n",
    "           for i in range(L)])\n",
    "################################################################################\n",
    "################################################################################\n",
    "################################################################################\n",
    "# ha = ha + sum([Gamma[i]*sigmaz(hi,i) for i in range(L)])\n",
    "E, vec = np.linalg.eigh(ha.to_dense())\n"
   ]
  },
  {
   "cell_type": "code",
   "execution_count": 8,
   "id": "ea34463a",
   "metadata": {},
   "outputs": [],
   "source": [
    "Et = np.random.uniform(low=0, high=4, size=None)"
   ]
  },
  {
   "cell_type": "code",
   "execution_count": 9,
   "id": "75146bd4",
   "metadata": {},
   "outputs": [
    {
     "data": {
      "text/plain": [
       "[<matplotlib.lines.Line2D at 0x7f80ba9e1050>]"
      ]
     },
     "execution_count": 9,
     "metadata": {},
     "output_type": "execute_result"
    },
    {
     "data": {
      "image/png": "[encoded data removed]",
      "text/plain": [
       "<Figure size 640x480 with 1 Axes>"
      ]
     },
     "metadata": {},
     "output_type": "display_data"
    }
   ],
   "source": [
    "plt.scatter(np.arange(len(E)),E,s=20)\n",
    "plt.ylabel('E',fontsize=18)\n",
    "plt.plot([0,len(E)],[Et,Et],'r')"
   ]
  },
  {
   "cell_type": "code",
   "execution_count": 12,
   "id": "1ed6a150",
   "metadata": {},
   "outputs": [],
   "source": [
    "def alpha_depen(Target, n_steps, alpha_):\n",
    "  learning_rate = 0.001\n",
    "\n",
    "\n",
    "  ma = nk.models.RBM(alpha=alpha_)\n",
    "  vs = nk.vqs.FullSumState(hi, ma)\n",
    "  op = nk.optimizer.Sgd(learning_rate=learning_rate)\n",
    "#   sr = nk.optimizer.SR(diag_shift=0.01, holomorphic=True)\n",
    " \n",
    "#   gs = nk.VMC(\n",
    "#       hamiltonian=Target,\n",
    "#       optimizer=op,\n",
    "#       preconditioner=sr,\n",
    "#       variational_state=vs)\n",
    "\n",
    "  gs = nk.VMC(\n",
    "      hamiltonian=Target,\n",
    "      optimizer=op,\n",
    "#       preconditioner=sr,\n",
    "      variational_state=vs)\n",
    "\n",
    "  start = time.time()\n",
    "  gs.run(n_steps, out='RBM')\n",
    "  end = time.time()\n",
    "\n",
    "  data=json.load(open(\"RBM.log\"))\n",
    "    \n",
    "  energy = vs.expect(ha).mean.real\n",
    "  variance = vs.expect(ha@ha).mean.real-vs.expect(ha).mean.real**2\n",
    "  print([energy, variance])\n",
    "  return energy, variance;"
   ]
  },
  {
   "cell_type": "code",
   "execution_count": null,
   "id": "0cc6e257",
   "metadata": {},
   "outputs": [
    {
     "name": "stderr",
     "output_type": "stream",
     "text": [
      " 15%|▏| 2970/20000 [00:02<00:17, 1001.60it/s, Energy=-3.972e+00+0.000e+00j ± 0.0IOPub message rate exceeded.\n",
      "The notebook server will temporarily stop sending output\n",
      "to the client in order to avoid crashing it.\n",
      "To change this limit, set the config variable\n",
      "`--NotebookApp.iopub_msg_rate_limit`.\n",
      "\n",
      "Current values:\n",
      "NotebookApp.iopub_msg_rate_limit=1000.0 (msgs/sec)\n",
      "NotebookApp.rate_limit_window=3.0 (secs)\n",
      "\n",
      " 22%|▏| 4465/20000 [00:04<00:15, 1022.43it/s, Energy=-3.984e+00+0.000e+00j ± 0.0"
     ]
    }
   ],
   "source": [
    "n_steps = 20000\n",
    "# Target = (ha-Et)@(ha-Et)\n",
    "Target = ha\n",
    "e2 , v2 = alpha_depen(Target, n_steps,1)"
   ]
  },
  {
   "cell_type": "code",
   "execution_count": null,
   "id": "25d1a9f9",
   "metadata": {},
   "outputs": [],
   "source": []
  }
 ],
 "metadata": {
  "kernelspec": {
   "display_name": "Python 3",
   "language": "python",
   "name": "python3"
  },
  "language_info": {
   "codemirror_mode": {
    "name": "ipython",
    "version": 3
   },
   "file_extension": ".py",
   "mimetype": "text/x-python",
   "name": "python",
   "nbconvert_exporter": "python",
   "pygments_lexer": "ipython3",
   "version": "3.11.5"
  }
 },
 "nbformat": 4,
 "nbformat_minor": 5
}
