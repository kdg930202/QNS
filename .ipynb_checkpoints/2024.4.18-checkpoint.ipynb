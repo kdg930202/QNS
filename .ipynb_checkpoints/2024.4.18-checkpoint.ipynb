{
 "cells": [
  {
   "cell_type": "code",
   "execution_count": null,
   "metadata": {
    "executionInfo": {
     "elapsed": 8474,
     "status": "ok",
     "timestamp": 1712140226136,
     "user": {
      "displayName": "dogyen ko (Kodo)",
      "userId": "17400671760216123133"
     },
     "user_tz": -540
    },
    "id": "0O_f46j8Pmmm"
   },
   "outputs": [],
   "source": [
    "# %pip install --quiet netket"
   ]
  },
  {
   "cell_type": "code",
   "execution_count": 1,
   "metadata": {
    "executionInfo": {
     "elapsed": 4,
     "status": "ok",
     "timestamp": 1712140226136,
     "user": {
      "displayName": "dogyen ko (Kodo)",
      "userId": "17400671760216123133"
     },
     "user_tz": -540
    },
    "id": "xnxfYtRGPk6a"
   },
   "outputs": [],
   "source": [
    "import netket\n",
    "from flax.core.scope import CollectionFilter\n",
    "from netket.utils.types import PyTree\n",
    "from netket.operator import Squared\n",
    "from functools import partial, lru_cache\n",
    "from typing import Callable, Optional\n",
    "\n",
    "import jax\n",
    "from jax import numpy as jnp\n",
    "from flax.core.scope import CollectionFilter, DenyList  # noqa: F401\n",
    "\n",
    "import netket as nk\n",
    "from netket import jax as nkjax\n",
    "from netket.operator import DiscreteOperator, Squared\n",
    "from netket.stats import Stats\n",
    "from netket.utils.types import PyTree\n",
    "from netket.utils.dispatch import dispatch\n",
    "\n",
    "# from nektet.vqs import _ex\n",
    "from netket.vqs import expect_and_grad, expect_and_forces\n",
    "from netket.vqs.mc.common import force_to_grad\n",
    "from netket.stats import Stats\n",
    "import time\n",
    "import json\n",
    "import matplotlib.pyplot as plt\n",
    "import numpy as np\n",
    "from netket.operator.spin import sigmax, sigmay,sigmaz"
   ]
  },
  {
   "cell_type": "code",
   "execution_count": 2,
   "metadata": {
    "executionInfo": {
     "elapsed": 5,
     "status": "ok",
     "timestamp": 1712140214674,
     "user": {
      "displayName": "dogyen ko (Kodo)",
      "userId": "17400671760216123133"
     },
     "user_tz": -540
    },
    "id": "RVBewVKlPk6e"
   },
   "outputs": [],
   "source": [
    "# Define the Hilbert space based on this graph\n",
    "# We impose to have a fixed total magnetization of zero\n",
    "# Define a 1d chain\n",
    "L = 4\n",
    "dis = 1\n",
    "g = nk.graph.Hypercube(length=L, n_dim=1, pbc=True)\n",
    "hi = nk.hilbert.Spin(s=0.5, total_sz=0, N=g.n_nodes)\n",
    "# calling the Heisenberg Hamiltonian\n",
    "ha = nk.operator.Heisenberg(hilbert=hi, graph=g)\n",
    "# ha = nk.operator.Heisenberg(hilbert=hi, graph=g)\n",
    "b=dis\n",
    "a=-dis\n",
    "Gamma = (b-a) * np.random.random_sample(L) + a\n",
    "\n",
    "################################################################################\n",
    "################################################################################\n",
    "################################################################################\n",
    "#이렇게 정의하는게 더 빨랑\n",
    "ha = sum([ sigmax(hi,i)*sigmax(hi,(i+1)%L)\n",
    "         + sigmay(hi,i)*sigmay(hi,(i+1)%L)\n",
    "         + sigmaz(hi,i)*sigmaz(hi,(i+1)%L)\n",
    "for i in range(L)])\n",
    "################################################################################\n",
    "################################################################################\n",
    "################################################################################\n",
    "ha = ha + sum([Gamma[i]*sigmaz(hi,i) for i in range(L)])"
   ]
  },
  {
   "cell_type": "code",
   "execution_count": 3,
   "metadata": {
    "executionInfo": {
     "elapsed": 492,
     "status": "ok",
     "timestamp": 1712140395790,
     "user": {
      "displayName": "dogyen ko (Kodo)",
      "userId": "17400671760216123133"
     },
     "user_tz": -540
    },
    "id": "PBM7F1Q4Pk6g"
   },
   "outputs": [
    {
     "data": {
      "text/plain": [
       "2.53377049727411"
      ]
     },
     "execution_count": 3,
     "metadata": {},
     "output_type": "execute_result"
    }
   ],
   "source": [
    "Et = np.random.uniform(low=0, high=L, size=None)\n",
    "# Et = np.random.randint(0,L, size=1)\n",
    "# Et = 9\n",
    "Et\n"
   ]
  },
  {
   "cell_type": "code",
   "execution_count": 4,
   "metadata": {
    "colab": {
     "base_uri": "https://localhost:8080/",
     "height": 448
    },
    "executionInfo": {
     "elapsed": 568,
     "status": "ok",
     "timestamp": 1712140400441,
     "user": {
      "displayName": "dogyen ko (Kodo)",
      "userId": "17400671760216123133"
     },
     "user_tz": -540
    },
    "id": "ZDt190GEPk6i",
    "outputId": "39a85e9d-3f05-4b7b-9c34-623843067ef1"
   },
   "outputs": [
    {
     "data": {
      "text/plain": [
       "[<matplotlib.lines.Line2D at 0x731338637b10>]"
      ]
     },
     "execution_count": 4,
     "metadata": {},
     "output_type": "execute_result"
    },
    {
     "data": {
      "image/png": "[encoded data removed]",
      "text/plain": [
       "<Figure size 640x480 with 1 Axes>"
      ]
     },
     "metadata": {},
     "output_type": "display_data"
    }
   ],
   "source": [
    "E, vec = np.linalg.eigh(ha.to_dense())\n",
    "plt.scatter(range(len(E)),E)\n",
    "plt.plot([0,len(E)],[Et,Et],'r')"
   ]
  },
  {
   "cell_type": "code",
   "execution_count": 5,
   "metadata": {
    "colab": {
     "base_uri": "https://localhost:8080/"
    },
    "executionInfo": {
     "elapsed": 4,
     "status": "ok",
     "timestamp": 1712140402876,
     "user": {
      "displayName": "dogyen ko (Kodo)",
      "userId": "17400671760216123133"
     },
     "user_tz": -540
    },
    "id": "E3sKVkISPk6i",
    "outputId": "774ee7a6-950a-4a4b-f7f3-bbfeab8fafec"
   },
   "outputs": [
    {
     "data": {
      "text/plain": [
       "array([-8.38909937, -3.77038442, -1.15155234, -0.11783013,  1.1343827 ,\n",
       "        4.29448357])"
      ]
     },
     "execution_count": 5,
     "metadata": {},
     "output_type": "execute_result"
    }
   ],
   "source": [
    "E"
   ]
  },
  {
   "cell_type": "code",
   "execution_count": 6,
   "metadata": {
    "executionInfo": {
     "elapsed": 2,
     "status": "ok",
     "timestamp": 1712140405023,
     "user": {
      "displayName": "dogyen ko (Kodo)",
      "userId": "17400671760216123133"
     },
     "user_tz": -540
    },
    "id": "sWnjphO3Pk6k"
   },
   "outputs": [],
   "source": [
    "ha_Et_inv  = np.linalg.inv((ha-Et).to_dense())\n",
    "E_inv, vec_inv = np.linalg.eigh(ha_Et_inv)"
   ]
  },
  {
   "cell_type": "code",
   "execution_count": 7,
   "metadata": {
    "colab": {
     "base_uri": "https://localhost:8080/",
     "height": 448
    },
    "executionInfo": {
     "elapsed": 450,
     "status": "ok",
     "timestamp": 1712140406932,
     "user": {
      "displayName": "dogyen ko (Kodo)",
      "userId": "17400671760216123133"
     },
     "user_tz": -540
    },
    "id": "f7IpYIMqPk6k",
    "outputId": "ba94e50b-17a2-43b4-af4c-6b17648e4095"
   },
   "outputs": [
    {
     "data": {
      "text/plain": [
       "<matplotlib.collections.PathCollection at 0x7313386717d0>"
      ]
     },
     "execution_count": 7,
     "metadata": {},
     "output_type": "execute_result"
    },
    {
     "data": {
      "image/png": "[encoded data removed]",
      "text/plain": [
       "<Figure size 640x480 with 1 Axes>"
      ]
     },
     "metadata": {},
     "output_type": "display_data"
    }
   ],
   "source": [
    "plt.scatter(range(len(E_inv)),E_inv)"
   ]
  },
  {
   "cell_type": "code",
   "execution_count": 8,
   "metadata": {
    "colab": {
     "base_uri": "https://localhost:8080/"
    },
    "executionInfo": {
     "elapsed": 414,
     "status": "ok",
     "timestamp": 1712140410556,
     "user": {
      "displayName": "dogyen ko (Kodo)",
      "userId": "17400671760216123133"
     },
     "user_tz": -540
    },
    "id": "Hq9gxwC7Pk6l",
    "outputId": "ab8e4c94-f298-4e54-ad99-d7067d71c7cb"
   },
   "outputs": [
    {
     "data": {
      "text/plain": [
       "array([-0.7145982 , -0.3771307 , -0.27134665, -0.15862554, -0.09155103,\n",
       "        0.56795171])"
      ]
     },
     "execution_count": 8,
     "metadata": {},
     "output_type": "execute_result"
    }
   ],
   "source": [
    "E_inv\n",
    "# -4.135835"
   ]
  },
  {
   "cell_type": "code",
   "execution_count": 9,
   "metadata": {
    "executionInfo": {
     "elapsed": 2,
     "status": "ok",
     "timestamp": 1712140411973,
     "user": {
      "displayName": "dogyen ko (Kodo)",
      "userId": "17400671760216123133"
     },
     "user_tz": -540
    },
    "id": "NcIeASsLPk6s"
   },
   "outputs": [],
   "source": [
    "def add(x,y):\n",
    "    return x+y\n"
   ]
  },
  {
   "cell_type": "code",
   "execution_count": 10,
   "metadata": {
    "executionInfo": {
     "elapsed": 2,
     "status": "ok",
     "timestamp": 1712140413601,
     "user": {
      "displayName": "dogyen ko (Kodo)",
      "userId": "17400671760216123133"
     },
     "user_tz": -540
    },
    "id": "FldNJjkKPk6t"
   },
   "outputs": [],
   "source": [
    "@nk.vqs.expect.dispatch\n",
    "def expect_try(vstate: nk.vqs.FullSumState, Ô: nk.operator.DiscreteOperator) -> Stats:  # noqa: F811\n",
    "#     _check_hilbert(vstate, Ô)\n",
    "\n",
    "#     O = sparsify(Ô)\n",
    "    O = Ô.to_sparse()\n",
    "    Ψ = vstate.to_array()\n",
    "\n",
    "    # TODO: This performs the full computation on all MPI ranks.\n",
    "    # It would be great if we could split the computation among ranks.\n",
    "\n",
    "    OΨ = O @ Ψ\n",
    "    expval_O = (Ψ.conj() * OΨ).sum()\n",
    "\n",
    "    variance = jnp.sum(jnp.abs(OΨ - expval_O * Ψ) ** 2)\n",
    "    return Stats(mean=expval_O, error_of_mean=0.0, variance=variance)"
   ]
  },
  {
   "cell_type": "code",
   "execution_count": 11,
   "metadata": {
    "executionInfo": {
     "elapsed": 773,
     "status": "ok",
     "timestamp": 1712140414373,
     "user": {
      "displayName": "dogyen ko (Kodo)",
      "userId": "17400671760216123133"
     },
     "user_tz": -540
    },
    "id": "-z23LjQiPk6t"
   },
   "outputs": [],
   "source": [
    "O_sparse = ha.to_sparse()\n",
    "H_Et_sparse = (ha-Et).to_sparse()\n",
    "H_Et_squ_sparse = ((ha-Et)@(ha-Et)).to_sparse()"
   ]
  },
  {
   "cell_type": "code",
   "execution_count": 12,
   "metadata": {
    "executionInfo": {
     "elapsed": 13,
     "status": "ok",
     "timestamp": 1712140414374,
     "user": {
      "displayName": "dogyen ko (Kodo)",
      "userId": "17400671760216123133"
     },
     "user_tz": -540
    },
    "id": "39w50T4VPk6t"
   },
   "outputs": [],
   "source": [
    "@expect_and_grad.dispatch\n",
    "def expect_and_grad_fullsum(\n",
    "    vstate: nk.vqs.FullSumState,\n",
    "    Ô: nk.operator.DiscreteOperator,\n",
    "    *args,\n",
    "    mutable: CollectionFilter = False,\n",
    "    use_covariance: Optional[bool] = None,\n",
    "    **kwargs,\n",
    ") -> tuple[Stats, PyTree]:\n",
    "    if use_covariance is None:\n",
    "        use_covariance = Ô.is_hermitian\n",
    "\n",
    "    if use_covariance:\n",
    "        # Implementation of expect_and_grad for `use_covariance == True` (due to the Literal[True]\n",
    "        # type in the signature).` This case is equivalent to the composition of the\n",
    "        # `expect_and_forces` and `force_to_grad` functions.\n",
    "        # return expect_and_grad_from_covariance(vstate, Ô, *args, mutable=mutable)\n",
    "        Ō, Ō_grad = expect_and_forces(vstate, Ô, *args, mutable=mutable, **kwargs)\n",
    "        Ō_grad = force_to_grad(Ō_grad, vstate.parameters)\n",
    "        return Ō, Ō_grad\n",
    "    else:\n",
    "        raise NotImplementedError(\n",
    "            \"The gradient of non hermitian operators with \"\n",
    "            \"FullSumState is not yet implemented\"\n",
    "        )\n",
    "\n",
    "@nk.vqs.expect_and_forces.dispatch\n",
    "def expect_and_forces_fullsum(\n",
    "    vstate: nk.vqs.FullSumState,\n",
    "    Ô: nk.operator.DiscreteOperator,\n",
    "    *,\n",
    "    mutable: CollectionFilter = False,\n",
    ") -> tuple[Stats, PyTree]:\n",
    "    if isinstance(Ô, Squared):\n",
    "        raise NotImplementedError(\"expect_and_forces not yet implemented for `Squared`\")\n",
    "\n",
    "#     _check_hilbert(vstate, Ô)\n",
    "\n",
    "\n",
    "    O = O_sparse\n",
    "    H_Et = H_Et_sparse\n",
    "    H_Et_squ = H_Et_squ_sparse\n",
    "\n",
    "    Ψ = vstate.to_array()\n",
    "    OΨ = O @ Ψ\n",
    "    H_EtΨ = H_Et@Ψ\n",
    "    H_Et_squΨ = H_Et_squ @ Ψ\n",
    "    Ψ_pre = H_Et @ Ψ\n",
    "    Ψ_pre = Ψ_pre / jnp.linalg.norm(Ψ_pre)\n",
    "    H_EtΨ_pre = H_Et @ Ψ_pre\n",
    "    invOΨ = ha_Et_inv @ Ψ\n",
    "    Ψ_pre_conjO = Ψ_pre.conj() @ H_Et\n",
    "\n",
    "    expval_O, Ō_grad = _exp_forces(\n",
    "        vstate._apply_fun,\n",
    "        mutable,\n",
    "        vstate.parameters,\n",
    "        vstate.model_state,\n",
    "        vstate._all_states,\n",
    "        OΨ,\n",
    "        Ψ,\n",
    "        Ψ_pre,\n",
    "        H_Et_squΨ,\n",
    "        H_EtΨ,\n",
    "        H_EtΨ_pre,\n",
    "        invOΨ,\n",
    "        Ψ_pre_conjO,\n",
    "    )\n",
    "\n",
    "    # if mutable is not False:\n",
    "    #     vstate.model_state = new_model_state\n",
    "\n",
    "    return expval_O, Ō_grad\n",
    "\n",
    "\n",
    "@partial(jax.jit, static_argnums=(0, 1))\n",
    "def _exp_forces(\n",
    "    model_apply_fun: Callable,\n",
    "    mutable: CollectionFilter,\n",
    "    parameters: PyTree,\n",
    "    model_state: PyTree,\n",
    "    σ: jnp.ndarray,\n",
    "    OΨ: jnp.ndarray,\n",
    "    Ψ: jnp.ndarray,\n",
    "    Ψ_pre: jnp.ndarray,\n",
    "    H_Et_squΨ: jnp.ndarray,\n",
    "    H_EtΨ: jnp.ndarray,\n",
    "    H_EtΨ_pre: jnp.ndarray,\n",
    "    invOΨ: jnp.ndarray,\n",
    "    Ψ_pre_conjO: jnp.ndarray,\n",
    ") -> tuple[PyTree, PyTree]:\n",
    "    is_mutable = mutable is not False\n",
    "\n",
    "    expval_O = (Ψ.conj() * invOΨ).sum()\n",
    "#     expval_O = (Ψ.conj() * OΨ).sum()\n",
    "    # variance = jnp.sum(jnp.abs(OΨ - expval_O * Ψ) ** 2)\n",
    "    # ΔOΨ = (OΨ - expval_O * Ψ).conj() * Ψ\n",
    "\n",
    "    expval_H_Et_squ = (Ψ.conj() * H_Et_squΨ).sum()\n",
    "    ΔOΨ_squ = (H_Et_squΨ - expval_H_Et_squ * Ψ).conj() * Ψ\n",
    "\n",
    "    denom = Ψ_pre.conj()@Ψ\n",
    "    # denom = Ψ.conj()@Ψ\n",
    "    expval_H_Et = (Ψ_pre.conj() * H_EtΨ).sum()/denom\n",
    "    ΔOΨ_non = (Ψ_pre_conjO - expval_H_Et * Ψ_pre.conj())/denom * Ψ\n",
    "#     ΔOΨ_non = (Ψ_pre_conjO - expval_H_Et * Ψ_pre.conj()) * Ψ\n",
    "#     ΔOΨ_non = (H_EtΨ_pre - expval_H_Et * Ψ_pre).conj() * Ψ\n",
    "\n",
    "\n",
    "\n",
    "    _, vjp_fun, *new_model_state = nkjax.vjp(\n",
    "        lambda w: model_apply_fun({\"params\": w, **model_state}, σ, mutable=mutable),\n",
    "        parameters,\n",
    "        conjugate=True,\n",
    "        has_aux=is_mutable,\n",
    "    )\n",
    "\n",
    "#     Ō_grad = vjp_fun(ΔOΨ)[0]\n",
    "    Ō_grad_first = vjp_fun(ΔOΨ_squ)[0]\n",
    "    Ō_grad_second = vjp_fun(-2*ΔOΨ_non)[0]\n",
    "#     Ō_grad_second = vjp_fun(ΔOΨ_non)[0]\n",
    "\n",
    "    Ō_grad = jax.tree.map(add, Ō_grad_first, Ō_grad_second)\n",
    "#     Ō_grad = Ō_grad_first\n",
    "\n",
    "    # new_model_state = new_model_state[0] if is_mutable else None\n",
    "\n",
    "    return (\n",
    "        Stats(mean=expval_O, error_of_mean=0.0, variance=1.0),\n",
    "        Ō_grad,\n",
    "        # new_model_state,\n",
    "    )"
   ]
  },
  {
   "cell_type": "code",
   "execution_count": 13,
   "metadata": {
    "executionInfo": {
     "elapsed": 2,
     "status": "ok",
     "timestamp": 1712140415861,
     "user": {
      "displayName": "dogyen ko (Kodo)",
      "userId": "17400671760216123133"
     },
     "user_tz": -540
    },
    "id": "Ow4IIT6UPk6u"
   },
   "outputs": [],
   "source": [
    "def variance(vsta, hamiltonian):\n",
    "    return vsta.to_array().conj()@(hamiltonian@hamiltonian).to_sparse()@vsta.to_array() - (vsta.to_array().conj()@(hamiltonian).to_sparse()@vsta.to_array())**2"
   ]
  },
  {
   "cell_type": "code",
   "execution_count": 14,
   "metadata": {
    "colab": {
     "base_uri": "https://localhost:8080/",
     "height": 501
    },
    "executionInfo": {
     "elapsed": 1080326,
     "status": "ok",
     "timestamp": 1712141515976,
     "user": {
      "displayName": "dogyen ko (Kodo)",
      "userId": "17400671760216123133"
     },
     "user_tz": -540
    },
    "id": "5HRjDPiLPk6u",
    "outputId": "b7822e9e-077a-4b83-9da6-b4094493cc76"
   },
   "outputs": [
    {
     "name": "stderr",
     "output_type": "stream",
     "text": [
      "100%|█| 50000/50000 [02:15<00:00, 368.65it/s, Energy=-7.146e-01-3.553e-17j ± 0.0\n"
     ]
    },
    {
     "name": "stdout",
     "output_type": "stream",
     "text": [
      "Vaiance :  8.900802028755095e-07\n",
      "Variational result :  -0.7145981762136691\n",
      "Real result :  -0.7145981971675172\n"
     ]
    },
    {
     "data": {
      "image/png": "[encoded data removed]",
      "text/plain": [
       "<Figure size 640x480 with 1 Axes>"
      ]
     },
     "metadata": {},
     "output_type": "display_data"
    }
   ],
   "source": [
    "# Build the sampler\n",
    "# sa = nk.sampler.MetropolisExchange(hilbert=hi,graph=g)\n",
    "epochs = 50000\n",
    "\n",
    "\n",
    "ma = nk.models.RBM(alpha=2, param_dtype=complex)\n",
    "vs = nk.vqs.FullSumState(hi, ma)\n",
    "\n",
    "# Optimizer\n",
    "# op = nk.optimizer.Sgd(learning_rate=0.001)\n",
    "op = nk.optimizer.Adam(learning_rate=0.001)\n",
    "\n",
    "# Stochastic Reconfiguration\n",
    "sr = nk.optimizer.SR(diag_shift=0.1, holomorphic=True)\n",
    "\n",
    "\n",
    "# The ground-state optimization loop\n",
    "Target_ha = ha\n",
    "gs = nk.VMC(\n",
    "    hamiltonian=ha,\n",
    "    optimizer=op,\n",
    "    preconditioner=sr,\n",
    "    variational_state=vs)\n",
    "\n",
    "start = time.time()\n",
    "gs.run(epochs, out='RBM')\n",
    "end = time.time()\n",
    "\n",
    "data=json.load(open(\"RBM.log\"))\n",
    "plt.plot(data['Energy']['Mean']['real'])\n",
    "print(\"Vaiance : \",variance(vs, ha).real)\n",
    "print(\"Variational result : \",data['Energy']['Mean']['real'][-1])\n",
    "print(\"Real result : \",E_inv[0])\n",
    "# plt.plot(np.log10(data['Energy']['Variance']))"
   ]
  },
  {
   "cell_type": "code",
   "execution_count": null,
   "metadata": {
    "id": "ENNAgUcNPk6u"
   },
   "outputs": [],
   "source": [
    "#"
   ]
  }
 ],
 "metadata": {
  "colab": {
   "provenance": []
  },
  "kernelspec": {
   "display_name": "Python 3 (ipykernel)",
   "language": "python",
   "name": "python3"
  },
  "language_info": {
   "codemirror_mode": {
    "name": "ipython",
    "version": 3
   },
   "file_extension": ".py",
   "mimetype": "text/x-python",
   "name": "python",
   "nbconvert_exporter": "python",
   "pygments_lexer": "ipython3",
   "version": "3.11.7"
  }
 },
 "nbformat": 4,
 "nbformat_minor": 4
}
