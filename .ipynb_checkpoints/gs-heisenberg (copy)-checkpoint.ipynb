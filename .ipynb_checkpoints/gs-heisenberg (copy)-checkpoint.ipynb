{
 "cells": [
  {
   "cell_type": "code",
   "execution_count": 134,
   "metadata": {},
   "outputs": [],
   "source": [
    "import netket\n",
    "from flax.core.scope import CollectionFilter\n",
    "from netket.utils.types import PyTree\n",
    "from netket.operator import Squared\n",
    "from functools import partial, lru_cache\n",
    "from typing import Callable, Optional\n",
    "\n",
    "import jax\n",
    "from jax import numpy as jnp\n",
    "from flax.core.scope import CollectionFilter, DenyList  # noqa: F401\n",
    "\n",
    "import netket as nk\n",
    "from netket import jax as nkjax\n",
    "from netket.operator import DiscreteOperator, Squared\n",
    "from netket.stats import Stats\n",
    "from netket.utils.types import PyTree\n",
    "from netket.utils.dispatch import dispatch\n",
    "\n",
    "# from nektet.vqs import _ex\n",
    "from netket.vqs import expect_and_grad, expect_and_forces\n",
    "from netket.vqs.mc.common import force_to_grad\n",
    "from netket.stats import Stats\n",
    "import time\n",
    "import json\n",
    "import matplotlib.pyplot as plt\n",
    "import numpy as np\n",
    "from netket.operator.spin import sigmax, sigmay,sigmaz"
   ]
  },
  {
   "cell_type": "code",
   "execution_count": 183,
   "metadata": {},
   "outputs": [],
   "source": [
    "# Define the Hilbert space based on this graph\n",
    "# We impose to have a fixed total magnetization of zero \n",
    "# Define a 1d chain\n",
    "L = 8\n",
    "dis = 1\n",
    "g = nk.graph.Hypercube(length=L, n_dim=1, pbc=True)\n",
    "hi = nk.hilbert.Spin(s=0.5, total_sz=0, N=g.n_nodes)\n",
    "# calling the Heisenberg Hamiltonian\n",
    "ha = nk.operator.Heisenberg(hilbert=hi, graph=g)\n",
    "# ha = nk.operator.Heisenberg(hilbert=hi, graph=g)\n",
    "b=dis\n",
    "a=-dis\n",
    "Gamma = (b-a) * np.random.random_sample(L) + a\n",
    "\n",
    "################################################################################\n",
    "################################################################################\n",
    "################################################################################\n",
    "#이렇게 정의하는게 더 빨랑\n",
    "ha = sum([ sigmax(hi,i)*sigmax(hi,(i+1)%L)\n",
    "         + sigmay(hi,i)*sigmay(hi,(i+1)%L)\n",
    "         + sigmaz(hi,i)*sigmaz(hi,(i+1)%L)\n",
    "           for i in range(L)])\n",
    "################################################################################\n",
    "################################################################################\n",
    "################################################################################\n",
    "ha = ha + sum([Gamma[i]*sigmaz(hi,i) for i in range(L)])"
   ]
  },
  {
   "cell_type": "code",
   "execution_count": 188,
   "metadata": {},
   "outputs": [
    {
     "data": {
      "text/plain": [
       "6.358413695160669"
      ]
     },
     "execution_count": 188,
     "metadata": {},
     "output_type": "execute_result"
    }
   ],
   "source": [
    "Et = np.random.uniform(low=0, high=L, size=None)\n",
    "Et"
   ]
  },
  {
   "cell_type": "code",
   "execution_count": 190,
   "metadata": {},
   "outputs": [
    {
     "data": {
      "text/plain": [
       "[<matplotlib.lines.Line2D at 0x7fc39ef7bdd0>]"
      ]
     },
     "execution_count": 190,
     "metadata": {},
     "output_type": "execute_result"
    },
    {
     "data": {
      "image/png": "[encoded data removed]",
      "text/plain": [
       "<Figure size 640x480 with 1 Axes>"
      ]
     },
     "metadata": {},
     "output_type": "display_data"
    }
   ],
   "source": [
    "E, vec = np.linalg.eigh(ha.to_dense())\n",
    "plt.scatter(range(len(E)),E)\n",
    "plt.plot([0,len(E)],[Et,Et],'r')"
   ]
  },
  {
   "cell_type": "code",
   "execution_count": 208,
   "metadata": {},
   "outputs": [],
   "source": [
    "ha_Et_inv  = np.linalg.inv((ha-Et).to_dense())\n",
    "E_inv, vec_inv = np.linalg.eigh(ss)"
   ]
  },
  {
   "cell_type": "code",
   "execution_count": 207,
   "metadata": {},
   "outputs": [
    {
     "data": {
      "text/plain": [
       "<matplotlib.collections.PathCollection at 0x7fc39de02390>"
      ]
     },
     "execution_count": 207,
     "metadata": {},
     "output_type": "execute_result"
    },
    {
     "data": {
      "image/png": "[encoded data removed]",
      "text/plain": [
       "<Figure size 640x480 with 1 Axes>"
      ]
     },
     "metadata": {},
     "output_type": "display_data"
    }
   ],
   "source": [
    "plt.scatter(range(len(E_inv)),E_inv)"
   ]
  },
  {
   "cell_type": "code",
   "execution_count": 217,
   "metadata": {},
   "outputs": [
    {
     "data": {
      "text/plain": [
       "array([-2.88549077, -1.6665171 , -1.10510557, -0.87190729, -0.76653152,\n",
       "       -0.73362898, -0.53961637, -0.48729442, -0.42609692, -0.4117978 ,\n",
       "       -0.37596396, -0.33827477, -0.27831207, -0.25034443, -0.23713174,\n",
       "       -0.22820133, -0.22164474, -0.21337244, -0.20066984, -0.19783379,\n",
       "       -0.19148837, -0.1863059 , -0.18272275, -0.1672525 , -0.16228419,\n",
       "       -0.15817485, -0.15536788, -0.15068734, -0.13944468, -0.1384644 ,\n",
       "       -0.13527215, -0.13245213, -0.12722881, -0.12678766, -0.12498038,\n",
       "       -0.11944001, -0.11616236, -0.11448854, -0.11330982, -0.11150722,\n",
       "       -0.10998483, -0.10464867, -0.10287923, -0.10168797, -0.0982067 ,\n",
       "       -0.09750322, -0.09192827, -0.09154869, -0.08748903, -0.0869182 ,\n",
       "       -0.08687379, -0.07846324, -0.07798303, -0.07756512, -0.07489905,\n",
       "       -0.07443073, -0.07045135, -0.06910502, -0.06557909, -0.06486024,\n",
       "       -0.06356697, -0.06075895, -0.05551175, -0.05334317, -0.04657436,\n",
       "        0.49140657,  0.95806834,  1.31356721,  2.35753028,  8.90948782])"
      ]
     },
     "execution_count": 217,
     "metadata": {},
     "output_type": "execute_result"
    }
   ],
   "source": [
    "E_inv"
   ]
  },
  {
   "cell_type": "code",
   "execution_count": 192,
   "metadata": {},
   "outputs": [],
   "source": [
    "def add(x,y):\n",
    "    return x+y\n"
   ]
  },
  {
   "cell_type": "code",
   "execution_count": 193,
   "metadata": {},
   "outputs": [],
   "source": [
    "@nk.vqs.expect.dispatch\n",
    "def expect_try(vstate: nk.vqs.FullSumState, Ô: nk.operator.DiscreteOperator) -> Stats:  # noqa: F811\n",
    "#     _check_hilbert(vstate, Ô)\n",
    "\n",
    "#     O = sparsify(Ô)\n",
    "    O = Ô.to_sparse()\n",
    "    Ψ = vstate.to_array()\n",
    "\n",
    "    # TODO: This performs the full computation on all MPI ranks.\n",
    "    # It would be great if we could split the computation among ranks.\n",
    "\n",
    "    OΨ = O @ Ψ\n",
    "    expval_O = (Ψ.conj() * OΨ).sum() \n",
    "\n",
    "    variance = jnp.sum(jnp.abs(OΨ - expval_O * Ψ) ** 2)\n",
    "    return Stats(mean=expval_O, error_of_mean=0.0, variance=variance)"
   ]
  },
  {
   "cell_type": "code",
   "execution_count": 194,
   "metadata": {},
   "outputs": [],
   "source": [
    "O_sparse = ha.to_sparse()\n",
    "H_Et_sparse = (ha-Et).to_sparse()\n",
    "H_Et_squ_sparse = ((ha-Et)@(ha-Et)).to_sparse()"
   ]
  },
  {
   "cell_type": "code",
   "execution_count": 215,
   "metadata": {},
   "outputs": [],
   "source": [
    "@expect_and_grad.dispatch\n",
    "def expect_and_grad_fullsum(\n",
    "    vstate: nk.vqs.FullSumState,\n",
    "    Ô: nk.operator.DiscreteOperator,\n",
    "    *args,\n",
    "    mutable: CollectionFilter = False,\n",
    "    use_covariance: Optional[bool] = None,\n",
    "    **kwargs,\n",
    ") -> tuple[Stats, PyTree]:\n",
    "    if use_covariance is None:\n",
    "        use_covariance = Ô.is_hermitian\n",
    "\n",
    "    if use_covariance:\n",
    "        # Implementation of expect_and_grad for `use_covariance == True` (due to the Literal[True]\n",
    "        # type in the signature).` This case is equivalent to the composition of the\n",
    "        # `expect_and_forces` and `force_to_grad` functions.\n",
    "        # return expect_and_grad_from_covariance(vstate, Ô, *args, mutable=mutable)\n",
    "        Ō, Ō_grad = expect_and_forces(vstate, Ô, *args, mutable=mutable, **kwargs)\n",
    "        Ō_grad = force_to_grad(Ō_grad, vstate.parameters)\n",
    "        return Ō, Ō_grad\n",
    "    else:\n",
    "        raise NotImplementedError(\n",
    "            \"The gradient of non hermitian operators with \"\n",
    "            \"FullSumState is not yet implemented\"\n",
    "        )\n",
    "\n",
    "@nk.vqs.expect_and_forces.dispatch\n",
    "def expect_and_forces_fullsum(\n",
    "    vstate: nk.vqs.FullSumState,\n",
    "    Ô: nk.operator.DiscreteOperator,\n",
    "    *,\n",
    "    mutable: CollectionFilter = False,\n",
    ") -> tuple[Stats, PyTree]:\n",
    "    if isinstance(Ô, Squared):\n",
    "        raise NotImplementedError(\"expect_and_forces not yet implemented for `Squared`\")\n",
    "\n",
    "#     _check_hilbert(vstate, Ô)\n",
    "    \n",
    "\n",
    "    O = O_sparse\n",
    "    H_Et = H_Et_sparse\n",
    "    H_Et_squ = H_Et_squ_sparse\n",
    "\n",
    "    Ψ = vstate.to_array()\n",
    "    OΨ = O @ Ψ\n",
    "    H_EtΨ = H_Et@Ψ\n",
    "    H_Et_squΨ = H_Et_squ @ Ψ\n",
    "    Ψ_pre = H_Et @ Ψ\n",
    "    Ψ_pre = Ψ_pre / jnp.linalg.norm(Ψ_pre)\n",
    "    H_EtΨ_pre = H_Et @ Ψ_pre\n",
    "    invOΨ = ha_Et_inv @ Ψ\n",
    "\n",
    "    expval_O, Ō_grad, new_model_state = _exp_forces(\n",
    "        vstate._apply_fun,\n",
    "        mutable,\n",
    "        vstate.parameters,\n",
    "        vstate.model_state,\n",
    "        vstate._all_states,\n",
    "        OΨ,\n",
    "        Ψ,\n",
    "        Ψ_pre,\n",
    "        H_Et_squΨ,\n",
    "        H_EtΨ,\n",
    "        H_EtΨ_pre,\n",
    "        invOΨ,\n",
    "    )\n",
    "\n",
    "    if mutable is not False:\n",
    "        vstate.model_state = new_model_state\n",
    "\n",
    "    return expval_O, Ō_grad\n",
    "\n",
    "\n",
    "@partial(jax.jit, static_argnums=(0, 1))\n",
    "def _exp_forces(\n",
    "    model_apply_fun: Callable,\n",
    "    mutable: CollectionFilter,\n",
    "    parameters: PyTree,\n",
    "    model_state: PyTree,\n",
    "    σ: jnp.ndarray,\n",
    "    OΨ: jnp.ndarray,\n",
    "    Ψ: jnp.ndarray,\n",
    "    Ψ_pre: jnp.ndarray,\n",
    "    H_Et_squΨ: jnp.ndarray,\n",
    "    H_EtΨ: jnp.ndarray,\n",
    "    H_EtΨ_pre: jnp.ndarray,\n",
    "    invOΨ: jnp.ndarray, \n",
    ") -> tuple[PyTree, PyTree]:\n",
    "    is_mutable = mutable is not False\n",
    "\n",
    "    expval_O = (Ψ.conj() * invOΨ).sum()\n",
    "#     expval_O = (Ψ.conj() * OΨ).sum()\n",
    "    variance = jnp.sum(jnp.abs(OΨ - expval_O * Ψ) ** 2)\n",
    "    ΔOΨ = (OΨ - expval_O * Ψ).conj() * Ψ\n",
    "    \n",
    "    expval_H_Et_squ = (Ψ.conj() * H_Et_squΨ).sum()\n",
    "    ΔOΨ_squ = (H_Et_squΨ - expval_H_Et_squ * Ψ).conj() * Ψ\n",
    "    \n",
    "    \n",
    "    expval_H_Et = (Ψ_pre.conj() * H_EtΨ).sum()\n",
    "#     ΔOΨ_non = (H_EtΨ - expval_H_Et * Ψ_pre).conj() * Ψ\n",
    "    ΔOΨ_non = (H_EtΨ_pre - expval_H_Et * Ψ_pre).conj() * Ψ\n",
    "    \n",
    "\n",
    "    \n",
    "    _, vjp_fun, *new_model_state = nkjax.vjp(\n",
    "        lambda w: model_apply_fun({\"params\": w, **model_state}, σ, mutable=mutable),\n",
    "        parameters,\n",
    "        conjugate=True,\n",
    "        has_aux=is_mutable,\n",
    "    )\n",
    "\n",
    "#     Ō_grad = vjp_fun(ΔOΨ)[0]\n",
    "    Ō_grad_first = vjp_fun(ΔOΨ_squ)[0]\n",
    "    Ō_grad_second = vjp_fun(-2*ΔOΨ_non)[0]\n",
    "    \n",
    "    Ō_grad = jax.tree_map(add, Ō_grad_first, Ō_grad_second)\n",
    "#     Ō_grad = Ō_grad_first\n",
    "\n",
    "    new_model_state = new_model_state[0] if is_mutable else None\n",
    "\n",
    "    return (\n",
    "        Stats(mean=expval_O, error_of_mean=0.0, variance=variance),\n",
    "        Ō_grad,\n",
    "        new_model_state,\n",
    "    )"
   ]
  },
  {
   "cell_type": "code",
   "execution_count": 216,
   "metadata": {},
   "outputs": [
    {
     "name": "stderr",
     "output_type": "stream",
     "text": [
      "100%|█| 10000/10000 [00:16<00:00, 613.87it/s, Energy=-2.281e-01+3.863e-19j ± 0.0\n"
     ]
    },
    {
     "data": {
      "text/plain": [
       "[<matplotlib.lines.Line2D at 0x7fc394056ad0>]"
      ]
     },
     "execution_count": 216,
     "metadata": {},
     "output_type": "execute_result"
    },
    {
     "data": {
      "image/png": "[encoded data removed]",
      "text/plain": [
       "<Figure size 640x480 with 1 Axes>"
      ]
     },
     "metadata": {},
     "output_type": "display_data"
    }
   ],
   "source": [
    "# Build the sampler\n",
    "# sa = nk.sampler.MetropolisExchange(hilbert=hi,graph=g)\n",
    "epochs = 10000\n",
    "\n",
    "\n",
    "ma = nk.models.RBM(alpha=1, param_dtype=complex)\n",
    "vs = nk.vqs.FullSumState(hi, ma)\n",
    "\n",
    "# Optimizer\n",
    "op = nk.optimizer.Sgd(learning_rate=0.001)\n",
    "\n",
    "# Stochastic Reconfiguration\n",
    "sr = nk.optimizer.SR(diag_shift=0.1, holomorphic=True)\n",
    "\n",
    "\n",
    "# The ground-state optimization loop\n",
    "Target_ha = ha\n",
    "gs = nk.VMC(\n",
    "    hamiltonian=ha,\n",
    "    optimizer=op,\n",
    "    preconditioner=sr,\n",
    "    variational_state=vs)\n",
    "\n",
    "start = time.time()\n",
    "gs.run(epochs, out='RBM')\n",
    "end = time.time()\n",
    "\n",
    "data=json.load(open(\"RBM.log\"))\n",
    "plt.plot(data['Energy']['Mean']['real'])\n",
    "# plt.plot(np.log10(data['Energy']['Variance'])"
   ]
  },
  {
   "cell_type": "code",
   "execution_count": null,
   "metadata": {},
   "outputs": [],
   "source": [
    " 6.0118522 ,   6.47065359,   6.7825864 "
   ]
  }
 ],
 "metadata": {
  "kernelspec": {
   "display_name": "Python 3",
   "language": "python",
   "name": "python3"
  },
  "language_info": {
   "codemirror_mode": {
    "name": "ipython",
    "version": 3
   },
   "file_extension": ".py",
   "mimetype": "text/x-python",
   "name": "python",
   "nbconvert_exporter": "python",
   "pygments_lexer": "ipython3",
   "version": "3.11.5"
  }
 },
 "nbformat": 4,
 "nbformat_minor": 4
}
