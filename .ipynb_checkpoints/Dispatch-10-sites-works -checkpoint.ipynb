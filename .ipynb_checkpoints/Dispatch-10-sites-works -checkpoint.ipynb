{
 "cells": [
  {
   "cell_type": "code",
   "execution_count": 3,
   "metadata": {},
   "outputs": [],
   "source": [
    "import netket\n",
    "from flax.core.scope import CollectionFilter\n",
    "from netket.utils.types import PyTree\n",
    "from netket.operator import Squared\n",
    "from functools import partial, lru_cache\n",
    "from typing import Callable, Optional\n",
    "####\n",
    "import jax\n",
    "from jax import numpy as jnp\n",
    "from flax.core.scope import CollectionFilter, DenyList  # noqa: F401\n",
    "\n",
    "import netket as nk\n",
    "from netket import jax as nkjax\n",
    "from netket.operator import DiscreteOperator, Squared\n",
    "from netket.stats import Stats\n",
    "from netket.utils.types import PyTree\n",
    "from netket.utils.dispatch import dispatch\n",
    "\n",
    "# from nektet.vqs import _ex\n",
    "from netket.vqs import expect_and_grad, expect_and_forces\n",
    "from netket.vqs.mc.common import force_to_grad\n",
    "from netket.stats import Stats\n",
    "import time\n",
    "import json\n",
    "import matplotlib.pyplot as plt\n",
    "import numpy as np\n",
    "from netket.operator.spin import sigmax, sigmay,sigmaz"
   ]
  },
  {
   "cell_type": "code",
   "execution_count": 4,
   "metadata": {},
   "outputs": [],
   "source": [
    "# Define the Hilbert space based on this graph\n",
    "# We impose to have a fixed total magnetization of zero \n",
    "# Define a 1d chain\n",
    "L = 4\n",
    "dis = 1\n",
    "g = nk.graph.Hypercube(length=L, n_dim=1, pbc=True)\n",
    "hi = nk.hilbert.Spin(s=0.5, total_sz=0, N=g.n_nodes)\n",
    "# calling the Heisenberg Hamiltonian\n",
    "ha = nk.operator.Heisenberg(hilbert=hi, graph=g)\n",
    "# ha = nk.operator.Heisenberg(hilbert=hi, graph=g)\n",
    "b=dis\n",
    "a=-dis\n",
    "Gamma = (b-a) * np.random.random_sample(L) + a\n",
    "\n",
    "################################################################################\n",
    "################################################################################\n",
    "################################################################################\n",
    "#이렇게 정의하는게 더 빨랑\n",
    "ha = sum([ sigmax(hi,i)*sigmax(hi,(i+1)%L)\n",
    "         + sigmay(hi,i)*sigmay(hi,(i+1)%L)\n",
    "         + sigmaz(hi,i)*sigmaz(hi,(i+1)%L)\n",
    "           for i in range(L)])\n",
    "################################################################################\n",
    "################################################################################\n",
    "################################################################################\n",
    "ha = ha + sum([Gamma[i]*sigmaz(hi,i) for i in range(L)])"
   ]
  },
  {
   "cell_type": "code",
   "execution_count": 49,
   "metadata": {},
   "outputs": [
    {
     "data": {
      "text/plain": [
       "6"
      ]
     },
     "execution_count": 49,
     "metadata": {},
     "output_type": "execute_result"
    }
   ],
   "source": []
  },
  {
   "cell_type": "code",
   "execution_count": 5,
   "metadata": {},
   "outputs": [
    {
     "data": {
      "text/plain": [
       "2.12239946234846"
      ]
     },
     "execution_count": 5,
     "metadata": {},
     "output_type": "execute_result"
    }
   ],
   "source": [
    "Et = np.random.uniform(low=0, high=L, size=None)\n",
    "Et"
   ]
  },
  {
   "cell_type": "code",
   "execution_count": 6,
   "metadata": {},
   "outputs": [
    {
     "data": {
      "text/plain": [
       "[<matplotlib.lines.Line2D at 0x136ae02d0>]"
      ]
     },
     "execution_count": 6,
     "metadata": {},
     "output_type": "execute_result"
    },
    {
     "data": {
      "image/png": "[encoded data removed]",
      "text/plain": [
       "<Figure size 640x480 with 1 Axes>"
      ]
     },
     "metadata": {},
     "output_type": "display_data"
    }
   ],
   "source": [
    "E, vec = np.linalg.eigh(ha.to_dense())\n",
    "plt.scatter(range(len(E)),E)\n",
    "plt.plot([0,len(E)],[Et,Et],'r')"
   ]
  },
  {
   "cell_type": "code",
   "execution_count": 7,
   "metadata": {},
   "outputs": [],
   "source": [
    "ha_Et_inv  = np.linalg.inv((ha-Et).to_dense())\n",
    "E_inv, vec_inv = np.linalg.eigh(ha_Et_inv)"
   ]
  },
  {
   "cell_type": "code",
   "execution_count": 8,
   "metadata": {},
   "outputs": [
    {
     "data": {
      "text/plain": [
       "<matplotlib.collections.PathCollection at 0x1377d4490>"
      ]
     },
     "execution_count": 8,
     "metadata": {},
     "output_type": "execute_result"
    },
    {
     "data": {
      "image/png": "[encoded data removed]",
      "text/plain": [
       "<Figure size 640x480 with 1 Axes>"
      ]
     },
     "metadata": {},
     "output_type": "display_data"
    }
   ],
   "source": [
    "plt.scatter(range(len(E_inv)),E_inv)"
   ]
  },
  {
   "cell_type": "code",
   "execution_count": 9,
   "metadata": {},
   "outputs": [
    {
     "data": {
      "text/plain": [
       "array([-1.18782672, -0.44227083, -0.28870991, -0.16565403, -0.09688512,\n",
       "        0.45653779])"
      ]
     },
     "execution_count": 9,
     "metadata": {},
     "output_type": "execute_result"
    }
   ],
   "source": [
    "E_inv\n",
    "# -4.135835"
   ]
  },
  {
   "cell_type": "code",
   "execution_count": 10,
   "metadata": {},
   "outputs": [],
   "source": [
    "def add(x,y):\n",
    "    return x+y"
   ]
  },
  {
   "cell_type": "code",
   "execution_count": null,
   "metadata": {},
   "outputs": [],
   "source": []
  },
  {
   "cell_type": "code",
   "execution_count": 40,
   "metadata": {},
   "outputs": [],
   "source": [
    "@nk.vqs.expect.dispatch\n",
    "def expect_try(vstate: nk.vqs.FullSumState, Ô: nk.operator.DiscreteOperator) -> Stats:  # noqa: F811\n",
    "#     _check_hilbert(vstate, Ô)\n",
    "\n",
    "#     O = sparsify(Ô)\n",
    "    O = Ô.to_sparse()\n",
    "    Ψ = vstate.to_array()\n",
    "\n",
    "    # TODO: This performs the full computation on all MPI ranks.\n",
    "    # It would be great if we could split the computation among ranks.\n",
    "\n",
    "    OΨ = O @ Ψ\n",
    "    expval_O = (Ψ.conj() * OΨ).sum() \n",
    "\n",
    "    variance = jnp.sum(jnp.abs(OΨ - expval_O * Ψ) ** 2)\n",
    "    return Stats(mean=expval_O, error_of_mean=0.0, variance=variance)"
   ]
  },
  {
   "cell_type": "code",
   "execution_count": 17,
   "metadata": {},
   "outputs": [],
   "source": [
    "O_sparse = ha.to_sparse()\n",
    "H_Et_sparse = (ha-Et).to_sparse()\n",
    "H_Et_squ_sparse = ((ha-Et)@(ha-Et)).to_sparse()"
   ]
  },
  {
   "cell_type": "code",
   "execution_count": 24,
   "metadata": {},
   "outputs": [
    {
     "data": {
      "text/plain": [
       "<hashable partial maybe_scalar_fun with args=(<hashable partial <lambda> with args=(RBM(\n",
       "    # attributes\n",
       "    param_dtype = complex\n",
       "    activation = log_cosh\n",
       "    alpha = 1\n",
       "    use_hidden_bias = True\n",
       "    use_visible_bias = True\n",
       "    precision = None\n",
       "    kernel_init = init\n",
       "    hidden_bias_init = init\n",
       "    visible_bias_init = init\n",
       "),) and kwargs={}, hash=9045880984014673858>,) and kwargs={}, hash=6193050589349233562>"
      ]
     },
     "execution_count": 24,
     "metadata": {},
     "output_type": "execute_result"
    }
   ],
   "source": [
    "vs._apply_fun"
   ]
  },
  {
   "cell_type": "code",
   "execution_count": 37,
   "metadata": {},
   "outputs": [],
   "source": [
    "inputs = hi.random_state(jax.random.PRNGKey(1), (6,))\n",
    "# key = jax.random.PRNGKey(0)\n",
    "# parameters = ma.init(key, np.random.rand(hi.size))\n",
    "log_psi = ma.apply({'params': vs.parameters}, inputs)"
   ]
  },
  {
   "cell_type": "code",
   "execution_count": 38,
   "metadata": {},
   "outputs": [
    {
     "data": {
      "text/plain": [
       "Array([[ 1.,  1., -1., -1.],\n",
       "       [ 1., -1., -1.,  1.],\n",
       "       [-1.,  1., -1.,  1.],\n",
       "       [-1.,  1., -1.,  1.],\n",
       "       [-1., -1.,  1.,  1.],\n",
       "       [-1.,  1.,  1., -1.]], dtype=float32)"
      ]
     },
     "execution_count": 38,
     "metadata": {},
     "output_type": "execute_result"
    }
   ],
   "source": [
    "inputs"
   ]
  },
  {
   "cell_type": "code",
   "execution_count": 13,
   "metadata": {},
   "outputs": [
    {
     "data": {
      "text/plain": [
       "{'Dense': {'bias': Array([-0.00202994-0.01458508j,  0.00485982+0.02130881j,\n",
       "         -0.00081864-0.00581809j,  0.00410636+0.00805352j],      dtype=complex128),\n",
       "  'kernel': Array([[-0.00809304-0.00151619j, -0.01292148+0.00452697j,\n",
       "          -0.00415919-0.01010385j,  0.01367217-0.00337493j],\n",
       "         [ 0.00397224-0.00248799j, -0.00185976+0.00262856j,\n",
       "          -0.00935168+0.00745229j, -0.0030523 -0.0148049j ],\n",
       "         [ 0.00397482+0.01196566j,  0.00026179-0.01032267j,\n",
       "           0.00127122-0.00459036j, -0.01143663-0.00425106j],\n",
       "         [ 0.0063899 -0.00175084j, -0.00970642-0.01103065j,\n",
       "           0.00366242-0.00387838j, -0.00643031+0.00455062j]],      dtype=complex128)},\n",
       " 'visible_bias': Array([-0.00464927-0.00616905j,  0.00164163-0.00586058j,\n",
       "        -0.00634971-0.01706492j,  0.00385693+0.00032167j],      dtype=complex128)}"
      ]
     },
     "execution_count": 13,
     "metadata": {},
     "output_type": "execute_result"
    }
   ],
   "source": [
    "ma = nk.models.RBM(alpha=1, param_dtype=complex)\n",
    "vs = nk.vqs.FullSumState(hi, ma)\n",
    "vs.parameters"
   ]
  },
  {
   "cell_type": "code",
   "execution_count": 39,
   "metadata": {},
   "outputs": [
    {
     "data": {
      "text/plain": [
       "Array([1., 1., 1., 1., 1., 1.], dtype=float64)"
      ]
     },
     "execution_count": 39,
     "metadata": {},
     "output_type": "execute_result"
    }
   ],
   "source": [
    "jnp.ones(6)"
   ]
  },
  {
   "cell_type": "code",
   "execution_count": 43,
   "metadata": {},
   "outputs": [
    {
     "data": {
      "text/plain": [
       "4"
      ]
     },
     "execution_count": 43,
     "metadata": {},
     "output_type": "execute_result"
    }
   ],
   "source": [
    "hi.size"
   ]
  },
  {
   "cell_type": "code",
   "execution_count": 40,
   "metadata": {},
   "outputs": [],
   "source": [
    "@expect_and_grad.dispatch\n",
    "def expect_and_grad_fullsum(\n",
    "    vstate: nk.vqs.FullSumState,\n",
    "    Ô: nk.operator.DiscreteOperator,\n",
    "    *args,\n",
    "    mutable: CollectionFilter = False,\n",
    "    use_covariance: Optional[bool] = None,\n",
    "    **kwargs,\n",
    ") -> tuple[Stats, PyTree]:\n",
    "    if use_covariance is None:\n",
    "        use_covariance = Ô.is_hermitian\n",
    "\n",
    "    if use_covariance:\n",
    "        # Implementation of expect_and_grad for `use_covariance == True` (due to the Literal[True]\n",
    "        # type in the signature).` This case is equivalent to the composition of the\n",
    "        # `expect_and_forces` and `force_to_grad` functions.\n",
    "        # return expect_and_grad_from_covariance(vstate, Ô, *args, mutable=mutable)\n",
    "        Ō, Ō_grad = expect_and_forces(vstate, Ô, *args, mutable=mutable, **kwargs)\n",
    "        Ō_grad = force_to_grad(Ō_grad, vstate.parameters)\n",
    "        return Ō, Ō_grad\n",
    "    else:\n",
    "        raise NotImplementedError(\n",
    "            \"The gradient of non hermitian operators with \"\n",
    "            \"FullSumState is not yet implemented\"\n",
    "        )\n",
    "\n",
    "@nk.vqs.expect_and_forces.dispatch\n",
    "def expect_and_forces_fullsum(\n",
    "    vstate: nk.vqs.FullSumState,\n",
    "    Ô: nk.operator.DiscreteOperator,\n",
    "    *,\n",
    "    mutable: CollectionFilter = False,\n",
    ") -> tuple[Stats, PyTree]:\n",
    "    if isinstance(Ô, Squared):\n",
    "        raise NotImplementedError(\"expect_and_forces not yet implemented for `Squared`\")\n",
    "\n",
    "#     _check_hilbert(vstate, Ô)\n",
    "    \n",
    "\n",
    "    O = O_sparse\n",
    "    H_Et = H_Et_sparse\n",
    "    H_Et_squ = H_Et_squ_sparse\n",
    "\n",
    "    Ψ_pre = vstate.to_array(normalize=False)\n",
    "    Ψ = Ψ_pre\n",
    "\n",
    "    \n",
    "#     OΨ = O @ Ψ\n",
    "    H_EtΨ = H_Et@Ψ\n",
    "    H_Et_squΨ = H_Et_squ @ Ψ\n",
    "    H_EtΨ_pre = H_Et @ Ψ_pre\n",
    "    invOΨ = ha_Et_inv @ Ψ\n",
    "    Ψ_pre_conjO = Ψ_pre.conj() @ H_Et\n",
    "\n",
    "    expval_O, Ō_grad, new_model_state = _exp_forces(\n",
    "        vstate._apply_fun,\n",
    "        mutable,\n",
    "        vstate.parameters,\n",
    "        vstate.model_state,\n",
    "        vstate._all_states,\n",
    "        Ψ,\n",
    "        Ψ_pre,\n",
    "        H_Et_squΨ,\n",
    "        H_EtΨ,\n",
    "\n",
    "    )\n",
    "\n",
    "    if mutable is not False:\n",
    "        vstate.model_state = new_model_state\n",
    "\n",
    "    return expval_O, Ō_grad\n",
    "\n",
    "5\n",
    "@partial(jax.jit, static_argnums=(0, 1))\n",
    "def _exp_forces(\n",
    "    model_apply_fun: Callable,\n",
    "    mutable: CollectionFilter,\n",
    "    parameters: PyTree,\n",
    "    model_state: PyTree,\n",
    "    σ: jnp.ndarray,\n",
    "#     OΨ: jnp.ndarray,\n",
    "    Ψ: jnp.ndarray,\n",
    "    Ψ_pre: jnp.ndarray,\n",
    "    H_Et_squΨ: jnp.ndarray,\n",
    "    H_EtΨ: jnp.ndarray,\n",
    ") -> tuple[PyTree, PyTree]:\n",
    "    is_mutable = mutable is not False\n",
    "\n",
    "#     expval_O = (Ψ.conj() * invOΨ).sum()\n",
    "#     expval_O = (Ψ.conj() * OΨ).sum()\n",
    "#     variance = jnp.sum(jnp.abs(OΨ - expval_O * Ψ) ** 2)\n",
    "#     ΔOΨ = (OΨ - expval_O * Ψ).conj() * Ψ\n",
    "    \n",
    "    expval_H_Et_squ = (Ψ.conj() * H_Et_squΨ).sum()\n",
    "    # ΔOΨ_squ = (H_Et_squΨ - expval_H_Et_squ * Ψ).conj() * Ψ\n",
    "    \n",
    "    # denom = Ψ_pre.conj()@Ψ\n",
    "    expval_H_Et = (Ψ_pre.conj() * H_EtΨ).sum()\n",
    "    # ΔOΨ_non = (Ψ_pre_conjO - expval_H_Et * Ψ_pre.conj())/denom * Ψ\n",
    "#     ΔOΨ_non = (Ψ_pre_conjO - expval_H_Et * Ψ_pre.conj()) * Ψ\n",
    "#     ΔOΨ_non = (H_EtΨ_pre - expval_H_Et * Ψ_pre).conj() * Ψ\n",
    "    \n",
    "\n",
    "    \n",
    "    _, vjp_fun, *new_model_state = nkjax.vjp(\n",
    "        lambda w: model_apply_fun({\"params\": w, **model_state}, σ, mutable=mutable),\n",
    "        parameters,\n",
    "        conjugate=True,\n",
    "        has_aux=is_mutable,\n",
    "    )\n",
    "\n",
    "#     Ō_grad = vjp_fun(ΔOΨ)[0]\n",
    "    Ō_grad_first = vjp_fun(expval_H_Et_squ*jnp.ones(np.shape(hi.all_states())[0]))[0]\n",
    "    Ō_grad_second = vjp_fun(expval_H_Et_squ*jnp.ones(np.shape(hi.all_states())[0]))[0]\n",
    "#     Ō_grad_second = vjp_fun(ΔOΨ_non)[0]\n",
    "    \n",
    "    Ō_grad = jax.tree_map(add, Ō_grad_first, Ō_grad_second)\n",
    "#     Ō_grad = Ō_grad_first\n",
    "\n",
    "    new_model_state = new_model_state[0] if is_mutable else None\n",
    "\n",
    "    return (\n",
    "        Stats(mean=1, error_of_mean=0.0, variance=0.0),\n",
    "        Ō_grad,\n",
    "        new_model_state,\n",
    "    )"
   ]
  },
  {
   "cell_type": "code",
   "execution_count": 41,
   "metadata": {},
   "outputs": [],
   "source": [
    "def variance(vsta, hamiltonian):\n",
    "    return vsta.to_array().conj()@(hamiltonian@hamiltonian).to_sparse()@vsta.to_array() - (vsta.to_array().conj()@(hamiltonian).to_sparse()@vsta.to_array())**2"
   ]
  },
  {
   "cell_type": "code",
   "execution_count": 42,
   "metadata": {},
   "outputs": [
    {
     "name": "stderr",
     "output_type": "stream",
     "text": [
      "100%|█| 10/10 [00:00<00:00, 127.43it/s, Energy=1.000e+00 ± 0.000e+00 [σ²=0.000e+\n"
     ]
    },
    {
     "name": "stdout",
     "output_type": "stream",
     "text": [
      "Energy :  (1.2296210053210908+1.2468324983583301e-18j)\n",
      "Et :  2.12239946234846\n",
      "Vaiance :  2.9001611464816994\n"
     ]
    }
   ],
   "source": [
    "# Build the sampler\n",
    "# sa = nk.sampler.MetropolisExchange(hilbert=hi,graph=g)\n",
    "epochs = 10\n",
    "\n",
    "\n",
    "ma = nk.models.RBM(alpha=1, param_dtype=complex)\n",
    "vs = nk.vqs.FullSumState(hi, ma)\n",
    "\n",
    "# Optimizer\n",
    "op = nk.optimizer.Sgd(learning_rate=0.001)\n",
    "\n",
    "# Stochastic Reconfiguration\n",
    "sr = nk.optimizer.SR(diag_shift=0.1, holomorphic=True)\n",
    "\n",
    "\n",
    "# The ground-state optimization loop\n",
    "Target_ha = ha\n",
    "gs = nk.VMC(\n",
    "    hamiltonian=ha,\n",
    "    optimizer=op,\n",
    "    preconditioner=sr,\n",
    "    variational_state=vs)\n",
    "\n",
    "start = time.time()\n",
    "gs.run(epochs, out='RBM')\n",
    "end = time.time()\n",
    "\n",
    "data=json.load(open(\"RBM.log\"))\n",
    "# plt.plot(data['Energy']['Mean']['real'])\n",
    "print(\"Energy : \", vs.to_array().conj().T@ha.to_sparse()@vs.to_array())\n",
    "print(\"Et : \", Et)\n",
    "print(\"Vaiance : \",variance(vs, ha).real)\n",
    "# print(\"Variational result : \",data['Energy']['Mean']['real'][-1])\n",
    "# print(\"Real result : \",E_inv[0])\n",
    "# plt.plot(np.log10(data['Energy']['Variance']))"
   ]
  },
  {
   "cell_type": "code",
   "execution_count": null,
   "metadata": {},
   "outputs": [],
   "source": []
  }
 ],
 "metadata": {
  "kernelspec": {
   "display_name": "Python 3 (ipykernel)",
   "language": "python",
   "name": "python3"
  },
  "language_info": {
   "codemirror_mode": {
    "name": "ipython",
    "version": 3
   },
   "file_extension": ".py",
   "mimetype": "text/x-python",
   "name": "python",
   "nbconvert_exporter": "python",
   "pygments_lexer": "ipython3",
   "version": "3.11.7"
  }
 },
 "nbformat": 4,
 "nbformat_minor": 4
}
