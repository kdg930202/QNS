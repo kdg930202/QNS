{
 "cells": [
  {
   "cell_type": "code",
   "execution_count": 1,
   "metadata": {
    "executionInfo": {
     "elapsed": 8474,
     "status": "ok",
     "timestamp": 1712140226136,
     "user": {
      "displayName": "dogyen ko (Kodo)",
      "userId": "17400671760216123133"
     },
     "user_tz": -540
    },
    "id": "0O_f46j8Pmmm"
   },
   "outputs": [],
   "source": [
    "# %pip install --quiet netket"
   ]
  },
  {
   "cell_type": "code",
   "execution_count": 2,
   "metadata": {
    "executionInfo": {
     "elapsed": 4,
     "status": "ok",
     "timestamp": 1712140226136,
     "user": {
      "displayName": "dogyen ko (Kodo)",
      "userId": "17400671760216123133"
     },
     "user_tz": -540
    },
    "id": "xnxfYtRGPk6a"
   },
   "outputs": [],
   "source": [
    "import netket\n",
    "from flax.core.scope import CollectionFilter\n",
    "from netket.utils.types import PyTree\n",
    "from netket.operator import Squared\n",
    "from functools import partial, lru_cache\n",
    "from typing import Callable, Optional\n",
    "\n",
    "import jax\n",
    "from jax import numpy as jnp\n",
    "from flax.core.scope import CollectionFilter, DenyList  # noqa: F401\n",
    "\n",
    "import netket as nk\n",
    "from netket import jax as nkjax\n",
    "from netket.operator import DiscreteOperator, Squared\n",
    "from netket.stats import Stats\n",
    "from netket.utils.types import PyTree\n",
    "from netket.utils.dispatch import dispatch\n",
    "\n",
    "# from nektet.vqs import _ex\n",
    "from netket.vqs import expect_and_grad, expect_and_forces\n",
    "from netket.vqs.mc.common import force_to_grad\n",
    "from netket.stats import Stats\n",
    "import time\n",
    "import json\n",
    "import matplotlib.pyplot as plt\n",
    "import numpy as np\n",
    "from netket.operator.spin import sigmax, sigmay,sigmaz"
   ]
  },
  {
   "cell_type": "code",
   "execution_count": 18,
   "metadata": {
    "executionInfo": {
     "elapsed": 5,
     "status": "ok",
     "timestamp": 1712140214674,
     "user": {
      "displayName": "dogyen ko (Kodo)",
      "userId": "17400671760216123133"
     },
     "user_tz": -540
    },
    "id": "RVBewVKlPk6e"
   },
   "outputs": [],
   "source": [
    "# Define the Hilbert space based on this graph\n",
    "# We impose to have a fixed total magnetization of zero\n",
    "# Define a 1d chain\n",
    "L = 12\n",
    "dis = 1\n",
    "g = nk.graph.Hypercube(length=L, n_dim=1, pbc=True)\n",
    "hi = nk.hilbert.Spin(s=0.5, total_sz=0, N=g.n_nodes)\n",
    "# calling the Heisenberg Hamiltonian\n",
    "ha = nk.operator.Heisenberg(hilbert=hi, graph=g)\n",
    "# ha = nk.operator.Heisenberg(hilbert=hi, graph=g)\n",
    "b=dis\n",
    "a=-dis\n",
    "Gamma = (b-a) * np.random.random_sample(L) + a\n",
    "\n",
    "################################################################################\n",
    "################################################################################\n",
    "################################################################################\n",
    "#이렇게 정의하는게 더 빨랑\n",
    "ha = sum([ sigmax(hi,i)*sigmax(hi,(i+1)%L)\n",
    "         + sigmay(hi,i)*sigmay(hi,(i+1)%L)\n",
    "         + sigmaz(hi,i)*sigmaz(hi,(i+1)%L)\n",
    "for i in range(L)])\n",
    "################################################################################\n",
    "################################################################################\n",
    "################################################################################\n",
    "ha = ha + sum([Gamma[i]*sigmaz(hi,i) for i in range(L)])"
   ]
  },
  {
   "cell_type": "code",
   "execution_count": 19,
   "metadata": {
    "executionInfo": {
     "elapsed": 492,
     "status": "ok",
     "timestamp": 1712140395790,
     "user": {
      "displayName": "dogyen ko (Kodo)",
      "userId": "17400671760216123133"
     },
     "user_tz": -540
    },
    "id": "PBM7F1Q4Pk6g"
   },
   "outputs": [],
   "source": [
    "# Et = np.random.uniform(low=0, high=L, size=None)\n",
    "# Et = np.random.randint(0,L, size=1)\n",
    "Et = 5\n",
    "# Et\n"
   ]
  },
  {
   "cell_type": "code",
   "execution_count": 20,
   "metadata": {
    "colab": {
     "base_uri": "https://localhost:8080/",
     "height": 448
    },
    "executionInfo": {
     "elapsed": 568,
     "status": "ok",
     "timestamp": 1712140400441,
     "user": {
      "displayName": "dogyen ko (Kodo)",
      "userId": "17400671760216123133"
     },
     "user_tz": -540
    },
    "id": "ZDt190GEPk6i",
    "outputId": "39a85e9d-3f05-4b7b-9c34-623843067ef1"
   },
   "outputs": [
    {
     "data": {
      "text/plain": [
       "[<matplotlib.lines.Line2D at 0x7816256dd4d0>]"
      ]
     },
     "execution_count": 20,
     "metadata": {},
     "output_type": "execute_result"
    },
    {
     "data": {
      "image/png": "[encoded data removed]",
      "text/plain": [
       "<Figure size 640x480 with 1 Axes>"
      ]
     },
     "metadata": {},
     "output_type": "display_data"
    }
   ],
   "source": [
    "E, vec = np.linalg.eigh(ha.to_dense())\n",
    "plt.scatter(range(len(E)),E)\n",
    "plt.plot([0,len(E)],[Et,Et],'r')"
   ]
  },
  {
   "cell_type": "code",
   "execution_count": 21,
   "metadata": {
    "colab": {
     "base_uri": "https://localhost:8080/"
    },
    "executionInfo": {
     "elapsed": 4,
     "status": "ok",
     "timestamp": 1712140402876,
     "user": {
      "displayName": "dogyen ko (Kodo)",
      "userId": "17400671760216123133"
     },
     "user_tz": -540
    },
    "id": "E3sKVkISPk6i",
    "outputId": "774ee7a6-950a-4a4b-f7f3-bbfeab8fafec"
   },
   "outputs": [
    {
     "data": {
      "text/plain": [
       "array([-2.24032808e+01, -2.02636493e+01, -1.98111202e+01, -1.90824178e+01,\n",
       "       -1.86793805e+01, -1.77595885e+01, -1.75922590e+01, -1.69761890e+01,\n",
       "       -1.67962581e+01, -1.65498078e+01, -1.64557697e+01, -1.63262059e+01,\n",
       "       -1.61424119e+01, -1.59866448e+01, -1.57180911e+01, -1.55292781e+01,\n",
       "       -1.54301063e+01, -1.53078668e+01, -1.51578263e+01, -1.49067893e+01,\n",
       "       -1.47900222e+01, -1.46968509e+01, -1.46595636e+01, -1.44163975e+01,\n",
       "       -1.43437528e+01, -1.42758227e+01, -1.41886981e+01, -1.41130193e+01,\n",
       "       -1.39412420e+01, -1.37618398e+01, -1.36739328e+01, -1.35594124e+01,\n",
       "       -1.34626072e+01, -1.33307967e+01, -1.32559244e+01, -1.30964445e+01,\n",
       "       -1.30410460e+01, -1.29703680e+01, -1.29081553e+01, -1.27720606e+01,\n",
       "       -1.27459902e+01, -1.25887981e+01, -1.24667308e+01, -1.24460865e+01,\n",
       "       -1.23073041e+01, -1.22917221e+01, -1.21735065e+01, -1.21581009e+01,\n",
       "       -1.20511053e+01, -1.19972874e+01, -1.19316705e+01, -1.18897778e+01,\n",
       "       -1.18660642e+01, -1.18265581e+01, -1.17655150e+01, -1.16865336e+01,\n",
       "       -1.15761557e+01, -1.15187586e+01, -1.14764171e+01, -1.14541256e+01,\n",
       "       -1.13869082e+01, -1.12497837e+01, -1.12320356e+01, -1.11863839e+01,\n",
       "       -1.10892205e+01, -1.10367535e+01, -1.09541047e+01, -1.09290649e+01,\n",
       "       -1.09043581e+01, -1.08566573e+01, -1.08317029e+01, -1.07424396e+01,\n",
       "       -1.07104234e+01, -1.06609958e+01, -1.06363691e+01, -1.06107749e+01,\n",
       "       -1.05179049e+01, -1.04892929e+01, -1.04405744e+01, -1.03965644e+01,\n",
       "       -1.03599561e+01, -1.02603743e+01, -1.02218662e+01, -1.01575224e+01,\n",
       "       -1.01070417e+01, -1.01010595e+01, -1.00478544e+01, -9.98299611e+00,\n",
       "       -9.95476138e+00, -9.87681977e+00, -9.84873906e+00, -9.80991928e+00,\n",
       "       -9.71340118e+00, -9.68061205e+00, -9.62847783e+00, -9.61780305e+00,\n",
       "       -9.56640202e+00, -9.53780038e+00, -9.49966106e+00, -9.43751755e+00,\n",
       "       -9.39156912e+00, -9.35950796e+00, -9.32989167e+00, -9.29106062e+00,\n",
       "       -9.26535885e+00, -9.23432093e+00, -9.22378782e+00, -9.12507701e+00,\n",
       "       -9.11670028e+00, -9.05979669e+00, -9.05511086e+00, -9.00091310e+00,\n",
       "       -8.97553595e+00, -8.96036161e+00, -8.93387633e+00, -8.89056896e+00,\n",
       "       -8.86387486e+00, -8.80926395e+00, -8.76434233e+00, -8.70462814e+00,\n",
       "       -8.67459084e+00, -8.65120203e+00, -8.58510484e+00, -8.56098359e+00,\n",
       "       -8.52711447e+00, -8.48246329e+00, -8.46839024e+00, -8.44590911e+00,\n",
       "       -8.41133961e+00, -8.33281100e+00, -8.32562698e+00, -8.28486021e+00,\n",
       "       -8.26557485e+00, -8.23320004e+00, -8.20364320e+00, -8.15764221e+00,\n",
       "       -8.13090306e+00, -8.09293036e+00, -8.05622235e+00, -8.03234286e+00,\n",
       "       -8.01993989e+00, -7.97391829e+00, -7.94048839e+00, -7.88288021e+00,\n",
       "       -7.84848536e+00, -7.79134919e+00, -7.73948889e+00, -7.70539680e+00,\n",
       "       -7.69945012e+00, -7.67224681e+00, -7.65701581e+00, -7.58398812e+00,\n",
       "       -7.56451052e+00, -7.49924016e+00, -7.49208548e+00, -7.42956257e+00,\n",
       "       -7.41356605e+00, -7.41142923e+00, -7.35307340e+00, -7.32789584e+00,\n",
       "       -7.28111137e+00, -7.25859951e+00, -7.23212822e+00, -7.21516654e+00,\n",
       "       -7.13924651e+00, -7.12082194e+00, -7.09597719e+00, -7.06250158e+00,\n",
       "       -7.03640231e+00, -7.02936470e+00, -6.98241832e+00, -6.97415022e+00,\n",
       "       -6.94370905e+00, -6.89082646e+00, -6.87159163e+00, -6.81391537e+00,\n",
       "       -6.80482405e+00, -6.74729215e+00, -6.73994850e+00, -6.71498441e+00,\n",
       "       -6.67803334e+00, -6.66399469e+00, -6.63956079e+00, -6.62986091e+00,\n",
       "       -6.60277709e+00, -6.59134810e+00, -6.57055511e+00, -6.55260174e+00,\n",
       "       -6.51436259e+00, -6.47516487e+00, -6.44863236e+00, -6.40699847e+00,\n",
       "       -6.36620410e+00, -6.33864789e+00, -6.32568551e+00, -6.31375651e+00,\n",
       "       -6.29067906e+00, -6.26010677e+00, -6.24231951e+00, -6.20850863e+00,\n",
       "       -6.18681008e+00, -6.15920419e+00, -6.12805743e+00, -6.12150148e+00,\n",
       "       -6.09654305e+00, -6.07020688e+00, -6.05358924e+00, -6.02550250e+00,\n",
       "       -5.99954294e+00, -5.99173304e+00, -5.94308586e+00, -5.93967053e+00,\n",
       "       -5.91666334e+00, -5.88220264e+00, -5.87101498e+00, -5.83356996e+00,\n",
       "       -5.80354440e+00, -5.77181446e+00, -5.74876058e+00, -5.74143007e+00,\n",
       "       -5.70111817e+00, -5.68726203e+00, -5.66743910e+00, -5.63992897e+00,\n",
       "       -5.60967090e+00, -5.60265738e+00, -5.57792599e+00, -5.56132694e+00,\n",
       "       -5.53361459e+00, -5.50595033e+00, -5.47766563e+00, -5.45454597e+00,\n",
       "       -5.42984730e+00, -5.39173625e+00, -5.38116278e+00, -5.33910825e+00,\n",
       "       -5.33001674e+00, -5.31894762e+00, -5.30024549e+00, -5.27053287e+00,\n",
       "       -5.25841134e+00, -5.24995806e+00, -5.22478340e+00, -5.20575518e+00,\n",
       "       -5.16156170e+00, -5.15227475e+00, -5.10685204e+00, -5.09831900e+00,\n",
       "       -5.05659035e+00, -5.03676629e+00, -5.01339546e+00, -4.98530922e+00,\n",
       "       -4.96051705e+00, -4.95299305e+00, -4.91326325e+00, -4.89990192e+00,\n",
       "       -4.88920538e+00, -4.87635175e+00, -4.84115306e+00, -4.82258508e+00,\n",
       "       -4.78145531e+00, -4.75121450e+00, -4.71593472e+00, -4.71370239e+00,\n",
       "       -4.68412251e+00, -4.65959387e+00, -4.65159273e+00, -4.62247381e+00,\n",
       "       -4.61066440e+00, -4.58615247e+00, -4.56287778e+00, -4.54207763e+00,\n",
       "       -4.50962524e+00, -4.48177818e+00, -4.47404008e+00, -4.45376451e+00,\n",
       "       -4.44091605e+00, -4.40306733e+00, -4.38009234e+00, -4.35287157e+00,\n",
       "       -4.34675040e+00, -4.32001562e+00, -4.31624179e+00, -4.28831442e+00,\n",
       "       -4.25930619e+00, -4.23916927e+00, -4.22031763e+00, -4.21242711e+00,\n",
       "       -4.16958249e+00, -4.16156319e+00, -4.13424127e+00, -4.11163303e+00,\n",
       "       -4.09265468e+00, -4.04340892e+00, -4.03832129e+00, -3.99494549e+00,\n",
       "       -3.98391196e+00, -3.96534442e+00, -3.95147107e+00, -3.92574905e+00,\n",
       "       -3.90446299e+00, -3.90217483e+00, -3.85788675e+00, -3.85313921e+00,\n",
       "       -3.82363800e+00, -3.80033529e+00, -3.79491645e+00, -3.75810166e+00,\n",
       "       -3.74478424e+00, -3.70701250e+00, -3.69186369e+00, -3.66409680e+00,\n",
       "       -3.66037097e+00, -3.64407197e+00, -3.64169676e+00, -3.59349492e+00,\n",
       "       -3.58893727e+00, -3.56878129e+00, -3.56069577e+00, -3.52501656e+00,\n",
       "       -3.50709702e+00, -3.48526953e+00, -3.47923396e+00, -3.44691927e+00,\n",
       "       -3.44209936e+00, -3.41163870e+00, -3.40249340e+00, -3.38598846e+00,\n",
       "       -3.35855761e+00, -3.33910375e+00, -3.31690197e+00, -3.30564478e+00,\n",
       "       -3.26804322e+00, -3.26118575e+00, -3.24409883e+00, -3.21957109e+00,\n",
       "       -3.19464413e+00, -3.17919486e+00, -3.14619733e+00, -3.09938541e+00,\n",
       "       -3.09685366e+00, -3.07418296e+00, -3.05862574e+00, -3.03617562e+00,\n",
       "       -3.01553974e+00, -2.99872532e+00, -2.98886001e+00, -2.96314455e+00,\n",
       "       -2.93476584e+00, -2.89427504e+00, -2.89136587e+00, -2.87918454e+00,\n",
       "       -2.85440307e+00, -2.83966567e+00, -2.81863978e+00, -2.80027598e+00,\n",
       "       -2.77088063e+00, -2.76680506e+00, -2.74274394e+00, -2.72234727e+00,\n",
       "       -2.70359179e+00, -2.69653682e+00, -2.67754747e+00, -2.65381685e+00,\n",
       "       -2.60869076e+00, -2.60179658e+00, -2.58819081e+00, -2.56170056e+00,\n",
       "       -2.54647833e+00, -2.51031632e+00, -2.49366637e+00, -2.48943460e+00,\n",
       "       -2.45991532e+00, -2.45224794e+00, -2.44212795e+00, -2.41887005e+00,\n",
       "       -2.41144263e+00, -2.36907780e+00, -2.33499180e+00, -2.31484091e+00,\n",
       "       -2.30729496e+00, -2.29496954e+00, -2.26557389e+00, -2.25658303e+00,\n",
       "       -2.23048317e+00, -2.21315320e+00, -2.20702636e+00, -2.18974372e+00,\n",
       "       -2.17593002e+00, -2.14778249e+00, -2.12471646e+00, -2.11346030e+00,\n",
       "       -2.10958537e+00, -2.06305252e+00, -2.04590958e+00, -2.04251534e+00,\n",
       "       -2.02490722e+00, -1.99392477e+00, -1.98094221e+00, -1.95801602e+00,\n",
       "       -1.93633594e+00, -1.89612140e+00, -1.88510470e+00, -1.85423808e+00,\n",
       "       -1.84624335e+00, -1.83417137e+00, -1.80322116e+00, -1.78298838e+00,\n",
       "       -1.78102903e+00, -1.76506824e+00, -1.74409021e+00, -1.73418753e+00,\n",
       "       -1.70570157e+00, -1.68646448e+00, -1.67618968e+00, -1.64214094e+00,\n",
       "       -1.62994067e+00, -1.61888891e+00, -1.59737439e+00, -1.56302193e+00,\n",
       "       -1.54007405e+00, -1.53749730e+00, -1.48984854e+00, -1.48768618e+00,\n",
       "       -1.47267854e+00, -1.46123057e+00, -1.45199560e+00, -1.44465330e+00,\n",
       "       -1.41981586e+00, -1.41004437e+00, -1.38351227e+00, -1.34737015e+00,\n",
       "       -1.30400052e+00, -1.28998848e+00, -1.27084774e+00, -1.24899586e+00,\n",
       "       -1.23659705e+00, -1.22005303e+00, -1.21168671e+00, -1.18918578e+00,\n",
       "       -1.17120895e+00, -1.15151663e+00, -1.12242415e+00, -1.11127564e+00,\n",
       "       -1.10296450e+00, -1.07417260e+00, -1.05898229e+00, -1.04687133e+00,\n",
       "       -1.01764352e+00, -9.96251508e-01, -9.78815114e-01, -9.54791728e-01,\n",
       "       -9.41489639e-01, -9.31774081e-01, -9.14146932e-01, -8.78704144e-01,\n",
       "       -8.46738618e-01, -8.30559800e-01, -8.30052576e-01, -8.16568626e-01,\n",
       "       -8.01585339e-01, -7.77674840e-01, -7.73148443e-01, -7.66718022e-01,\n",
       "       -7.40073317e-01, -7.05090674e-01, -6.94089050e-01, -6.86775758e-01,\n",
       "       -6.64458091e-01, -6.48451560e-01, -6.19604487e-01, -6.13588439e-01,\n",
       "       -6.00307519e-01, -5.58238507e-01, -5.49114947e-01, -5.17299416e-01,\n",
       "       -4.97935946e-01, -4.83730202e-01, -4.56652280e-01, -4.32867508e-01,\n",
       "       -4.16591534e-01, -3.96249635e-01, -3.80670406e-01, -3.70613442e-01,\n",
       "       -3.52321649e-01, -3.38315940e-01, -3.18267034e-01, -3.00348758e-01,\n",
       "       -2.98223704e-01, -2.79020801e-01, -2.38717459e-01, -2.18798206e-01,\n",
       "       -2.07944796e-01, -1.88165266e-01, -1.68264448e-01, -1.10982478e-01,\n",
       "       -1.08129618e-01, -9.23794145e-02, -8.68712300e-02, -7.50831774e-02,\n",
       "       -5.18833682e-02, -4.68394384e-02, -3.00183458e-02, -9.64389291e-03,\n",
       "        1.43710079e-02,  4.31438137e-02,  5.76808600e-02,  8.23106624e-02,\n",
       "        9.40470044e-02,  1.03865118e-01,  1.10888159e-01,  1.22992016e-01,\n",
       "        1.29211943e-01,  1.46620470e-01,  1.86126739e-01,  2.09524134e-01,\n",
       "        2.21786539e-01,  2.42614943e-01,  2.77813400e-01,  2.94919535e-01,\n",
       "        3.07020228e-01,  3.38543305e-01,  3.66224503e-01,  3.68913881e-01,\n",
       "        4.04940175e-01,  4.17379591e-01,  4.46453079e-01,  4.54566010e-01,\n",
       "        4.62679877e-01,  4.73179252e-01,  5.02196772e-01,  5.21926588e-01,\n",
       "        5.27902706e-01,  5.53290362e-01,  5.59610227e-01,  5.87854640e-01,\n",
       "        6.05079898e-01,  6.12977497e-01,  6.35379133e-01,  6.81172408e-01,\n",
       "        6.98375658e-01,  7.05333072e-01,  7.11483254e-01,  7.54903138e-01,\n",
       "        7.63480574e-01,  7.93450513e-01,  7.98666602e-01,  8.21931954e-01,\n",
       "        8.29449725e-01,  8.51513084e-01,  8.63999106e-01,  8.93232769e-01,\n",
       "        8.98436403e-01,  9.33944010e-01,  9.45038106e-01,  9.69831323e-01,\n",
       "        9.80600877e-01,  9.87608530e-01,  1.00460004e+00,  1.03027094e+00,\n",
       "        1.03490728e+00,  1.08699891e+00,  1.10027047e+00,  1.12198707e+00,\n",
       "        1.12969863e+00,  1.14365220e+00,  1.14814217e+00,  1.20136366e+00,\n",
       "        1.21568290e+00,  1.22084351e+00,  1.23633802e+00,  1.23824406e+00,\n",
       "        1.28063341e+00,  1.28581372e+00,  1.29408567e+00,  1.30992366e+00,\n",
       "        1.32127111e+00,  1.35860887e+00,  1.37268359e+00,  1.38801841e+00,\n",
       "        1.40147701e+00,  1.42694198e+00,  1.44372508e+00,  1.45698888e+00,\n",
       "        1.49898629e+00,  1.50728240e+00,  1.53299002e+00,  1.55678330e+00,\n",
       "        1.56471176e+00,  1.57771960e+00,  1.59836037e+00,  1.63820288e+00,\n",
       "        1.65225695e+00,  1.66358890e+00,  1.68375306e+00,  1.68934394e+00,\n",
       "        1.71358824e+00,  1.73700673e+00,  1.77472404e+00,  1.79314300e+00,\n",
       "        1.80403823e+00,  1.82393293e+00,  1.84120490e+00,  1.85576097e+00,\n",
       "        1.88215538e+00,  1.88827236e+00,  1.92068941e+00,  1.95474587e+00,\n",
       "        1.96305259e+00,  1.96512276e+00,  1.98963964e+00,  2.00413476e+00,\n",
       "        2.02703151e+00,  2.03393367e+00,  2.07221491e+00,  2.08206990e+00,\n",
       "        2.10337453e+00,  2.11494165e+00,  2.13351613e+00,  2.14346841e+00,\n",
       "        2.16479824e+00,  2.17376494e+00,  2.18294656e+00,  2.22146929e+00,\n",
       "        2.22342479e+00,  2.24817531e+00,  2.26874073e+00,  2.28471138e+00,\n",
       "        2.30198574e+00,  2.34878674e+00,  2.36518657e+00,  2.37308686e+00,\n",
       "        2.39972490e+00,  2.40270437e+00,  2.44051816e+00,  2.44632269e+00,\n",
       "        2.45718528e+00,  2.49812401e+00,  2.51410627e+00,  2.54398674e+00,\n",
       "        2.56722212e+00,  2.57439719e+00,  2.59483236e+00,  2.61894028e+00,\n",
       "        2.62452896e+00,  2.66147350e+00,  2.68823237e+00,  2.69880863e+00,\n",
       "        2.73400292e+00,  2.74867503e+00,  2.75479853e+00,  2.76469096e+00,\n",
       "        2.78506090e+00,  2.79984461e+00,  2.85039377e+00,  2.86149456e+00,\n",
       "        2.88208484e+00,  2.88837900e+00,  2.90761410e+00,  2.92980669e+00,\n",
       "        2.94086151e+00,  2.95929034e+00,  2.97806268e+00,  3.00493550e+00,\n",
       "        3.01597310e+00,  3.03652742e+00,  3.06720452e+00,  3.08111202e+00,\n",
       "        3.09194348e+00,  3.12285760e+00,  3.13521866e+00,  3.14252101e+00,\n",
       "        3.15790621e+00,  3.16197598e+00,  3.19253722e+00,  3.20658546e+00,\n",
       "        3.24389402e+00,  3.25885040e+00,  3.26968906e+00,  3.27778343e+00,\n",
       "        3.29735878e+00,  3.32370806e+00,  3.33328580e+00,  3.35392906e+00,\n",
       "        3.37786869e+00,  3.40150931e+00,  3.42718187e+00,  3.45331310e+00,\n",
       "        3.47263518e+00,  3.50247612e+00,  3.51237679e+00,  3.54718215e+00,\n",
       "        3.55086393e+00,  3.59191325e+00,  3.60538497e+00,  3.63505425e+00,\n",
       "        3.66415623e+00,  3.68320060e+00,  3.70549053e+00,  3.72420455e+00,\n",
       "        3.76715746e+00,  3.79143393e+00,  3.79778582e+00,  3.82466009e+00,\n",
       "        3.83556942e+00,  3.86614593e+00,  3.86937832e+00,  3.90988646e+00,\n",
       "        3.91762090e+00,  3.93833754e+00,  3.96654074e+00,  3.97872912e+00,\n",
       "        3.99444824e+00,  4.02418291e+00,  4.04447282e+00,  4.07528849e+00,\n",
       "        4.08898395e+00,  4.10613926e+00,  4.13934545e+00,  4.15373312e+00,\n",
       "        4.18000336e+00,  4.18537636e+00,  4.21541387e+00,  4.23399210e+00,\n",
       "        4.26382153e+00,  4.27662674e+00,  4.31387712e+00,  4.32764222e+00,\n",
       "        4.36844193e+00,  4.38857502e+00,  4.42934975e+00,  4.45504674e+00,\n",
       "        4.46483426e+00,  4.47541537e+00,  4.49228874e+00,  4.52217812e+00,\n",
       "        4.56843999e+00,  4.57139602e+00,  4.61317123e+00,  4.63240737e+00,\n",
       "        4.64438500e+00,  4.68489835e+00,  4.71089134e+00,  4.73318713e+00,\n",
       "        4.76175957e+00,  4.79590371e+00,  4.81906487e+00,  4.83686430e+00,\n",
       "        4.86140228e+00,  4.88144745e+00,  4.89236080e+00,  4.94259729e+00,\n",
       "        4.96057424e+00,  4.99046523e+00,  5.00788129e+00,  5.03036964e+00,\n",
       "        5.04388278e+00,  5.07038767e+00,  5.10325037e+00,  5.10626814e+00,\n",
       "        5.12328152e+00,  5.17324337e+00,  5.17677193e+00,  5.22418711e+00,\n",
       "        5.27499288e+00,  5.32030031e+00,  5.32476763e+00,  5.33397068e+00,\n",
       "        5.34781899e+00,  5.37358977e+00,  5.40841341e+00,  5.43442936e+00,\n",
       "        5.45122741e+00,  5.46316330e+00,  5.47668300e+00,  5.52178736e+00,\n",
       "        5.54328894e+00,  5.57885736e+00,  5.60941526e+00,  5.63726097e+00,\n",
       "        5.68496451e+00,  5.72295766e+00,  5.73306975e+00,  5.76748833e+00,\n",
       "        5.78452446e+00,  5.80844560e+00,  5.82722294e+00,  5.85237775e+00,\n",
       "        5.88339835e+00,  5.90262077e+00,  5.92925112e+00,  5.97015419e+00,\n",
       "        5.99077910e+00,  6.02586233e+00,  6.08152065e+00,  6.09182942e+00,\n",
       "        6.14061108e+00,  6.15376758e+00,  6.17838268e+00,  6.20685716e+00,\n",
       "        6.26010888e+00,  6.26980683e+00,  6.31233598e+00,  6.36421991e+00,\n",
       "        6.39641241e+00,  6.40688246e+00,  6.41957066e+00,  6.47102149e+00,\n",
       "        6.49546756e+00,  6.52570011e+00,  6.56267585e+00,  6.59083982e+00,\n",
       "        6.63727371e+00,  6.65755100e+00,  6.67905911e+00,  6.71811317e+00,\n",
       "        6.75451335e+00,  6.77798187e+00,  6.79787227e+00,  6.81845849e+00,\n",
       "        6.84878102e+00,  6.90234032e+00,  6.94971326e+00,  6.96424369e+00,\n",
       "        6.99759514e+00,  7.00909519e+00,  7.05789384e+00,  7.08440853e+00,\n",
       "        7.13574556e+00,  7.18515664e+00,  7.19339296e+00,  7.21939054e+00,\n",
       "        7.27782847e+00,  7.31772763e+00,  7.36354560e+00,  7.37850088e+00,\n",
       "        7.38380100e+00,  7.43269595e+00,  7.46275288e+00,  7.49048567e+00,\n",
       "        7.54462147e+00,  7.57187144e+00,  7.63196821e+00,  7.68734266e+00,\n",
       "        7.70269884e+00,  7.73052834e+00,  7.79861281e+00,  7.85760008e+00,\n",
       "        7.87319121e+00,  7.88956435e+00,  7.89563134e+00,  7.98628578e+00,\n",
       "        8.00374078e+00,  8.07296744e+00,  8.10219487e+00,  8.10972095e+00,\n",
       "        8.18181361e+00,  8.21122966e+00,  8.25104074e+00,  8.32463199e+00,\n",
       "        8.36778751e+00,  8.40721728e+00,  8.42620977e+00,  8.48454728e+00,\n",
       "        8.51144660e+00,  8.55428602e+00,  8.58723850e+00,  8.65033070e+00,\n",
       "        8.68466932e+00,  8.71606109e+00,  8.77655984e+00,  8.82726221e+00,\n",
       "        8.84364376e+00,  8.87532952e+00,  8.98494522e+00,  9.05733997e+00,\n",
       "        9.12110477e+00,  9.14463898e+00,  9.15748225e+00,  9.20251698e+00,\n",
       "        9.25762963e+00,  9.26208251e+00,  9.34896020e+00,  9.37081721e+00,\n",
       "        9.42380189e+00,  9.45298063e+00,  9.46942885e+00,  9.54341404e+00,\n",
       "        9.57437399e+00,  9.66877749e+00,  9.73505337e+00,  9.76779433e+00,\n",
       "        9.82798557e+00,  9.92755919e+00,  9.96680018e+00,  1.00014118e+01,\n",
       "        1.00399547e+01,  1.02000264e+01,  1.02106822e+01,  1.03486822e+01,\n",
       "        1.04092124e+01,  1.04390272e+01,  1.05455252e+01,  1.05992572e+01,\n",
       "        1.07132911e+01,  1.08098311e+01,  1.08981111e+01,  1.09761581e+01,\n",
       "        1.10048955e+01,  1.10558574e+01,  1.11720933e+01,  1.12144567e+01,\n",
       "        1.13128458e+01,  1.14034984e+01,  1.15531905e+01,  1.17754000e+01,\n",
       "        1.19873912e+01,  1.21782125e+01,  1.22078998e+01,  1.24196475e+01,\n",
       "        1.26696788e+01,  1.28019334e+01,  1.31065171e+01,  1.35439744e+01])"
      ]
     },
     "execution_count": 21,
     "metadata": {},
     "output_type": "execute_result"
    }
   ],
   "source": [
    "E"
   ]
  },
  {
   "cell_type": "code",
   "execution_count": 22,
   "metadata": {
    "executionInfo": {
     "elapsed": 2,
     "status": "ok",
     "timestamp": 1712140405023,
     "user": {
      "displayName": "dogyen ko (Kodo)",
      "userId": "17400671760216123133"
     },
     "user_tz": -540
    },
    "id": "sWnjphO3Pk6k"
   },
   "outputs": [],
   "source": [
    "ha_Et_inv  = np.linalg.inv((ha-Et).to_dense())\n",
    "E_inv, vec_inv = np.linalg.eigh(ha_Et_inv)"
   ]
  },
  {
   "cell_type": "code",
   "execution_count": 23,
   "metadata": {
    "colab": {
     "base_uri": "https://localhost:8080/",
     "height": 448
    },
    "executionInfo": {
     "elapsed": 450,
     "status": "ok",
     "timestamp": 1712140406932,
     "user": {
      "displayName": "dogyen ko (Kodo)",
      "userId": "17400671760216123133"
     },
     "user_tz": -540
    },
    "id": "f7IpYIMqPk6k",
    "outputId": "ba94e50b-17a2-43b4-af4c-6b17648e4095"
   },
   "outputs": [
    {
     "data": {
      "text/plain": [
       "<matplotlib.collections.PathCollection at 0x78162534a0d0>"
      ]
     },
     "execution_count": 23,
     "metadata": {},
     "output_type": "execute_result"
    },
    {
     "data": {
      "image/png": "[encoded data removed]",
      "text/plain": [
       "<Figure size 640x480 with 1 Axes>"
      ]
     },
     "metadata": {},
     "output_type": "display_data"
    }
   ],
   "source": [
    "plt.scatter(range(len(E_inv)),E_inv)"
   ]
  },
  {
   "cell_type": "code",
   "execution_count": 24,
   "metadata": {
    "colab": {
     "base_uri": "https://localhost:8080/"
    },
    "executionInfo": {
     "elapsed": 414,
     "status": "ok",
     "timestamp": 1712140410556,
     "user": {
      "displayName": "dogyen ko (Kodo)",
      "userId": "17400671760216123133"
     },
     "user_tz": -540
    },
    "id": "Hq9gxwC7Pk6l",
    "outputId": "ab8e4c94-f298-4e54-ad99-d7067d71c7cb"
   },
   "outputs": [
    {
     "data": {
      "text/plain": [
       "array([-1.04879267e+02, -2.53641272e+01, -1.74207791e+01, -9.29029615e+00,\n",
       "       -8.43507763e+00, -7.21512594e+00, -6.12986611e+00, -5.52684261e+00,\n",
       "       -4.89964812e+00, -4.19744030e+00, -3.74794508e+00, -3.45890709e+00,\n",
       "       -3.17357907e+00, -2.81202988e+00, -2.72040275e+00, -2.58512310e+00,\n",
       "       -2.33315612e+00, -2.31717487e+00, -2.09283006e+00, -1.96962343e+00,\n",
       "       -1.90627012e+00, -1.86857999e+00, -1.83501974e+00, -1.75238687e+00,\n",
       "       -1.63552362e+00, -1.58338566e+00, -1.48730337e+00, -1.45746488e+00,\n",
       "       -1.38241218e+00, -1.35836627e+00, -1.30546957e+00, -1.27455732e+00,\n",
       "       -1.22756075e+00, -1.21951719e+00, -1.18166033e+00, -1.16190637e+00,\n",
       "       -1.11874250e+00, -1.09767550e+00, -1.08141835e+00, -1.04654271e+00,\n",
       "       -1.02478221e+00, -9.94478893e-01, -9.79172142e-01, -9.67624018e-01,\n",
       "       -9.41918959e-01, -9.23890716e-01, -9.17335637e-01, -8.84469153e-01,\n",
       "       -8.81947706e-01, -8.58788851e-01, -8.50817700e-01, -8.31798543e-01,\n",
       "       -8.27426837e-01, -8.11133591e-01, -7.83824713e-01, -7.72493384e-01,\n",
       "       -7.59417116e-01, -7.48590536e-01, -7.32629849e-01, -7.17043756e-01,\n",
       "       -7.10183516e-01, -6.90066324e-01, -6.88317533e-01, -6.72213226e-01,\n",
       "       -6.67768982e-01, -6.54722425e-01, -6.46543265e-01, -6.35801421e-01,\n",
       "       -6.25590130e-01, -6.16472905e-01, -6.07507230e-01, -5.99982887e-01,\n",
       "       -5.96554798e-01, -5.87322795e-01, -5.80647067e-01, -5.77930808e-01,\n",
       "       -5.74333189e-01, -5.69441716e-01, -5.57595568e-01, -5.53261738e-01,\n",
       "       -5.44062531e-01, -5.42860524e-01, -5.38364097e-01, -5.36255902e-01,\n",
       "       -5.32724634e-01, -5.24093490e-01, -5.21135163e-01, -5.17385317e-01,\n",
       "       -5.09301739e-01, -5.04025424e-01, -5.01236926e-01, -4.94575174e-01,\n",
       "       -4.90025612e-01, -4.85639993e-01, -4.83046678e-01, -4.77923313e-01,\n",
       "       -4.73569830e-01, -4.72162444e-01, -4.67616299e-01, -4.65201479e-01,\n",
       "       -4.54513352e-01, -4.51479683e-01, -4.47365435e-01, -4.45394328e-01,\n",
       "       -4.44182876e-01, -4.41306836e-01, -4.34557514e-01, -4.32569426e-01,\n",
       "       -4.27619701e-01, -4.20969140e-01, -4.19981067e-01, -4.15771435e-01,\n",
       "       -4.12268652e-01, -4.11052734e-01, -4.07163926e-01, -4.02269811e-01,\n",
       "       -3.99700066e-01, -3.93264988e-01, -3.91592155e-01, -3.90704081e-01,\n",
       "       -3.85015855e-01, -3.84574693e-01, -3.80674940e-01, -3.79533515e-01,\n",
       "       -3.77185803e-01, -3.70642963e-01, -3.68284974e-01, -3.66131481e-01,\n",
       "       -3.63395243e-01, -3.60155920e-01, -3.59902446e-01, -3.54980841e-01,\n",
       "       -3.53827611e-01, -3.52708584e-01, -3.50074897e-01, -3.48859454e-01,\n",
       "       -3.46613441e-01, -3.45229306e-01, -3.42708689e-01, -3.41555125e-01,\n",
       "       -3.37146877e-01, -3.36364144e-01, -3.33793385e-01, -3.32186144e-01,\n",
       "       -3.29502619e-01, -3.29278010e-01, -3.28379819e-01, -3.24748014e-01,\n",
       "       -3.21364887e-01, -3.20734393e-01, -3.18041978e-01, -3.16576406e-01,\n",
       "       -3.14854812e-01, -3.12894857e-01, -3.11831803e-01, -3.10050989e-01,\n",
       "       -3.06467074e-01, -3.04283235e-01, -3.02054935e-01, -3.01545699e-01,\n",
       "       -2.99723257e-01, -2.98708708e-01, -2.97459949e-01, -2.93975879e-01,\n",
       "       -2.92202825e-01, -2.91096389e-01, -2.90426101e-01, -2.88432975e-01,\n",
       "       -2.86310007e-01, -2.85631558e-01, -2.82245797e-01, -2.81193108e-01,\n",
       "       -2.79872310e-01, -2.77891792e-01, -2.76856339e-01, -2.75685903e-01,\n",
       "       -2.74620321e-01, -2.71833024e-01, -2.70997104e-01, -2.69838941e-01,\n",
       "       -2.69237977e-01, -2.68862984e-01, -2.65833301e-01, -2.65698675e-01,\n",
       "       -2.64609312e-01, -2.64248469e-01, -2.63252365e-01, -2.59614982e-01,\n",
       "       -2.59312711e-01, -2.58377812e-01, -2.57864019e-01, -2.56428040e-01,\n",
       "       -2.55558324e-01, -2.52200912e-01, -2.51906361e-01, -2.50287833e-01,\n",
       "       -2.49227925e-01, -2.48793407e-01, -2.48128572e-01, -2.46611442e-01,\n",
       "       -2.45938571e-01, -2.43809459e-01, -2.43500531e-01, -2.41779445e-01,\n",
       "       -2.41051743e-01, -2.39776512e-01, -2.39345073e-01, -2.38019673e-01,\n",
       "       -2.37724530e-01, -2.36042822e-01, -2.35565885e-01, -2.33180855e-01,\n",
       "       -2.32846928e-01, -2.32470323e-01, -2.31544320e-01, -2.29114975e-01,\n",
       "       -2.27945035e-01, -2.27535422e-01, -2.26647111e-01, -2.25205455e-01,\n",
       "       -2.24885383e-01, -2.23608731e-01, -2.23310319e-01, -2.22330758e-01,\n",
       "       -2.20905588e-01, -2.20394412e-01, -2.20000995e-01, -2.19609025e-01,\n",
       "       -2.18215761e-01, -2.17625023e-01, -2.15932067e-01, -2.15806743e-01,\n",
       "       -2.14525215e-01, -2.13084234e-01, -2.12536216e-01, -2.11766303e-01,\n",
       "       -2.10199508e-01, -2.09283241e-01, -2.08747529e-01, -2.07732931e-01,\n",
       "       -2.06041995e-01, -2.05305587e-01, -2.05043749e-01, -2.04536127e-01,\n",
       "       -2.04242739e-01, -2.03833995e-01, -2.03347534e-01, -2.02334162e-01,\n",
       "       -2.01740773e-01, -2.00576497e-01, -1.99614987e-01, -1.98806432e-01,\n",
       "       -1.98143811e-01, -1.97945979e-01, -1.97041106e-01, -1.96584493e-01,\n",
       "       -1.96371857e-01, -1.95766371e-01, -1.95657098e-01, -1.93488551e-01,\n",
       "       -1.92746366e-01, -1.92014324e-01, -1.91614996e-01, -1.90886416e-01,\n",
       "       -1.89429070e-01, -1.88742502e-01, -1.88666830e-01, -1.88031175e-01,\n",
       "       -1.87324994e-01, -1.86834810e-01, -1.86198469e-01, -1.85850447e-01,\n",
       "       -1.85313888e-01, -1.84617945e-01, -1.84064861e-01, -1.83262548e-01,\n",
       "       -1.82357622e-01, -1.81886441e-01, -1.81248093e-01, -1.80208918e-01,\n",
       "       -1.79913114e-01, -1.78561623e-01, -1.78139173e-01, -1.77948466e-01,\n",
       "       -1.77039670e-01, -1.76539394e-01, -1.75846568e-01, -1.75620717e-01,\n",
       "       -1.75282052e-01, -1.74213803e-01, -1.73408860e-01, -1.73215709e-01,\n",
       "       -1.73080007e-01, -1.72366679e-01, -1.71922669e-01, -1.71525040e-01,\n",
       "       -1.71510118e-01, -1.71035523e-01, -1.70105516e-01, -1.69086093e-01,\n",
       "       -1.68583629e-01, -1.68307960e-01, -1.67931986e-01, -1.67257221e-01,\n",
       "       -1.66770857e-01, -1.66178006e-01, -1.65374777e-01, -1.65044219e-01,\n",
       "       -1.64631476e-01, -1.63854795e-01, -1.63631958e-01, -1.63333996e-01,\n",
       "       -1.62561537e-01, -1.62042804e-01, -1.61572141e-01, -1.60986870e-01,\n",
       "       -1.60770333e-01, -1.60343853e-01, -1.60025710e-01, -1.59468072e-01,\n",
       "       -1.58982803e-01, -1.58629428e-01, -1.57545562e-01, -1.56653572e-01,\n",
       "       -1.56005160e-01, -1.55767708e-01, -1.55167385e-01, -1.54990806e-01,\n",
       "       -1.54769279e-01, -1.54495545e-01, -1.54138158e-01, -1.54086801e-01,\n",
       "       -1.52963734e-01, -1.52903468e-01, -1.52368834e-01, -1.51575451e-01,\n",
       "       -1.51082759e-01, -1.50830912e-01, -1.50553866e-01, -1.49786038e-01,\n",
       "       -1.49555868e-01, -1.49126827e-01, -1.48496013e-01, -1.48277969e-01,\n",
       "       -1.47818169e-01, -1.47470243e-01, -1.47427645e-01, -1.46989195e-01,\n",
       "       -1.46323518e-01, -1.46065506e-01, -1.45895136e-01, -1.45241074e-01,\n",
       "       -1.45009048e-01, -1.44168334e-01, -1.43719129e-01, -1.43247139e-01,\n",
       "       -1.42981235e-01, -1.42350635e-01, -1.41994721e-01, -1.41926317e-01,\n",
       "       -1.41581844e-01, -1.40655179e-01, -1.40578559e-01, -1.40356463e-01,\n",
       "       -1.39903530e-01, -1.39354759e-01, -1.39087016e-01, -1.38753482e-01,\n",
       "       -1.38635625e-01, -1.38303344e-01, -1.37805906e-01, -1.37635377e-01,\n",
       "       -1.37080764e-01, -1.36849546e-01, -1.36708373e-01, -1.36332804e-01,\n",
       "       -1.35702191e-01, -1.34926498e-01, -1.34791416e-01, -1.34370170e-01,\n",
       "       -1.34187699e-01, -1.34049779e-01, -1.33521428e-01, -1.33446026e-01,\n",
       "       -1.33150184e-01, -1.32512141e-01, -1.32245385e-01, -1.31783718e-01,\n",
       "       -1.31547851e-01, -1.31428656e-01, -1.30653767e-01, -1.30249927e-01,\n",
       "       -1.29928567e-01, -1.29809578e-01, -1.29494306e-01, -1.29153180e-01,\n",
       "       -1.28753071e-01, -1.28685544e-01, -1.28200592e-01, -1.27899485e-01,\n",
       "       -1.27556460e-01, -1.27317123e-01, -1.26916687e-01, -1.26720775e-01,\n",
       "       -1.26674076e-01, -1.26027664e-01, -1.25578532e-01, -1.25174305e-01,\n",
       "       -1.25019920e-01, -1.24757662e-01, -1.24437300e-01, -1.24090637e-01,\n",
       "       -1.23851541e-01, -1.23504764e-01, -1.23466158e-01, -1.22756663e-01,\n",
       "       -1.22261423e-01, -1.22030925e-01, -1.21660849e-01, -1.21298885e-01,\n",
       "       -1.21047998e-01, -1.20947602e-01, -1.20400044e-01, -1.20237079e-01,\n",
       "       -1.19916963e-01, -1.19637867e-01, -1.19246527e-01, -1.19012292e-01,\n",
       "       -1.18882900e-01, -1.18453948e-01, -1.18386357e-01, -1.17935182e-01,\n",
       "       -1.17851295e-01, -1.17548912e-01, -1.17301825e-01, -1.16812935e-01,\n",
       "       -1.16702710e-01, -1.16428840e-01, -1.16367090e-01, -1.15718016e-01,\n",
       "       -1.15686219e-01, -1.15468495e-01, -1.15418840e-01, -1.15050125e-01,\n",
       "       -1.14849956e-01, -1.14353879e-01, -1.14179995e-01, -1.13702047e-01,\n",
       "       -1.13632034e-01, -1.13331939e-01, -1.12954284e-01, -1.12893744e-01,\n",
       "       -1.12332101e-01, -1.12303235e-01, -1.12035415e-01, -1.11713482e-01,\n",
       "       -1.11540612e-01, -1.11310085e-01, -1.11173548e-01, -1.10640015e-01,\n",
       "       -1.10577771e-01, -1.09978882e-01, -1.09749811e-01, -1.09478168e-01,\n",
       "       -1.09151679e-01, -1.09056219e-01, -1.08549027e-01, -1.08456133e-01,\n",
       "       -1.08234839e-01, -1.07999453e-01, -1.07662161e-01, -1.07339421e-01,\n",
       "       -1.07295958e-01, -1.06989056e-01, -1.06919035e-01, -1.06608759e-01,\n",
       "       -1.06348276e-01, -1.05921925e-01, -1.05777968e-01, -1.05551591e-01,\n",
       "       -1.05465450e-01, -1.05156615e-01, -1.04798980e-01, -1.04571032e-01,\n",
       "       -1.04317139e-01, -1.04051079e-01, -1.03923380e-01, -1.03609842e-01,\n",
       "       -1.03524021e-01, -1.03261808e-01, -1.02947358e-01, -1.02923705e-01,\n",
       "       -1.02551328e-01, -1.02234276e-01, -1.01806194e-01, -1.01614109e-01,\n",
       "       -1.01251963e-01, -1.01120359e-01, -1.01011102e-01, -1.00874957e-01,\n",
       "       -1.00472290e-01, -1.00396395e-01, -1.00147124e-01, -9.98662246e-02,\n",
       "       -9.96336839e-02, -9.94372810e-02, -9.90263825e-02, -9.89427763e-02,\n",
       "       -9.85000923e-02, -9.84100702e-02, -9.79839299e-02, -9.78015828e-02,\n",
       "       -9.75613748e-02, -9.74809809e-02, -9.73659315e-02, -9.70850647e-02,\n",
       "       -9.69091071e-02, -9.68052643e-02, -9.67201402e-02, -9.63283229e-02,\n",
       "       -9.62303100e-02, -9.58786808e-02, -9.56521692e-02, -9.54411064e-02,\n",
       "       -9.51841546e-02, -9.49341740e-02, -9.46850718e-02, -9.45364905e-02,\n",
       "       -9.43159779e-02, -9.42536304e-02, -9.39855898e-02, -9.37432115e-02,\n",
       "       -9.35693349e-02, -9.34481784e-02, -9.30974734e-02, -9.30339821e-02,\n",
       "       -9.28348704e-02, -9.25622151e-02, -9.23056761e-02, -9.19877308e-02,\n",
       "       -9.18931610e-02, -9.16030814e-02, -9.14104312e-02, -9.13819020e-02,\n",
       "       -9.09774643e-02, -9.09128684e-02, -9.06988140e-02, -9.04683518e-02,\n",
       "       -9.03325485e-02, -9.01181562e-02, -8.99159166e-02, -8.98629439e-02,\n",
       "       -8.96121249e-02, -8.93909875e-02, -8.92179355e-02, -8.89496157e-02,\n",
       "       -8.88091046e-02, -8.85686322e-02, -8.83879726e-02, -8.82948762e-02,\n",
       "       -8.81939372e-02, -8.79801200e-02, -8.76654803e-02, -8.73466776e-02,\n",
       "       -8.71447174e-02, -8.68480554e-02, -8.65605880e-02, -8.64262769e-02,\n",
       "       -8.62712422e-02, -8.61862632e-02, -8.59855512e-02, -8.59138947e-02,\n",
       "       -8.57339210e-02, -8.56308568e-02, -8.53607623e-02, -8.51792493e-02,\n",
       "       -8.51260007e-02, -8.47111313e-02, -8.46459424e-02, -8.42347034e-02,\n",
       "       -8.40984437e-02, -8.37260851e-02, -8.35132332e-02, -8.34556075e-02,\n",
       "       -8.31299096e-02, -8.30813040e-02, -8.29015435e-02, -8.26721135e-02,\n",
       "       -8.25026558e-02, -8.23774358e-02, -8.18654413e-02, -8.17519226e-02,\n",
       "       -8.15753871e-02, -8.14258555e-02, -8.11168437e-02, -8.09515145e-02,\n",
       "       -8.05708981e-02, -8.05570290e-02, -8.04533542e-02, -8.00506850e-02,\n",
       "       -8.00048633e-02, -7.95892525e-02, -7.94660636e-02, -7.90075650e-02,\n",
       "       -7.89126044e-02, -7.87435669e-02, -7.87067114e-02, -7.84960848e-02,\n",
       "       -7.81778360e-02, -7.78301856e-02, -7.76223937e-02, -7.72768361e-02,\n",
       "       -7.70777168e-02, -7.68052701e-02, -7.67321740e-02, -7.65918329e-02,\n",
       "       -7.63770961e-02, -7.61562244e-02, -7.60014587e-02, -7.57366724e-02,\n",
       "       -7.55675118e-02, -7.53830883e-02, -7.52736562e-02, -7.50433733e-02,\n",
       "       -7.50029382e-02, -7.45637668e-02, -7.43720630e-02, -7.42479229e-02,\n",
       "       -7.41704226e-02, -7.39255960e-02, -7.37409638e-02, -7.36100318e-02,\n",
       "       -7.32536225e-02, -7.31283306e-02, -7.29680506e-02, -7.26514915e-02,\n",
       "       -7.24151558e-02, -7.21299067e-02, -7.19912916e-02, -7.17675381e-02,\n",
       "       -7.16313824e-02, -7.15536065e-02, -7.14239131e-02, -7.11484961e-02,\n",
       "       -7.11247838e-02, -7.08380840e-02, -7.07960742e-02, -7.03047608e-02,\n",
       "       -7.02527367e-02, -7.00998839e-02, -6.99738127e-02, -6.97841981e-02,\n",
       "       -6.96402692e-02, -6.94851264e-02, -6.92639851e-02, -6.89671294e-02,\n",
       "       -6.87861969e-02, -6.86511328e-02, -6.84097328e-02, -6.83598124e-02,\n",
       "       -6.81170510e-02, -6.79652507e-02, -6.75223126e-02, -6.73457858e-02,\n",
       "       -6.72186674e-02, -6.68683354e-02, -6.67423253e-02, -6.64546566e-02,\n",
       "       -6.62205194e-02, -6.61942968e-02, -6.59738428e-02, -6.56949672e-02,\n",
       "       -6.55291922e-02, -6.51043526e-02, -6.49495545e-02, -6.47644300e-02,\n",
       "       -6.45607265e-02, -6.44416888e-02, -6.40583191e-02, -6.39534661e-02,\n",
       "       -6.38528999e-02, -6.36520084e-02, -6.35225558e-02, -6.31643990e-02,\n",
       "       -6.30649942e-02, -6.28758477e-02, -6.27783243e-02, -6.26797943e-02,\n",
       "       -6.23567606e-02, -6.21534149e-02, -6.17803215e-02, -6.16065677e-02,\n",
       "       -6.15392805e-02, -6.10243243e-02, -6.07750314e-02, -6.06928067e-02,\n",
       "       -6.05372369e-02, -6.03276188e-02, -5.99285643e-02, -5.96462440e-02,\n",
       "       -5.94298605e-02, -5.92906553e-02, -5.92074100e-02, -5.90609177e-02,\n",
       "       -5.88329171e-02, -5.86472245e-02, -5.82815083e-02, -5.82292267e-02,\n",
       "       -5.78311400e-02, -5.77790739e-02, -5.73194452e-02, -5.72516982e-02,\n",
       "       -5.68543681e-02, -5.63507580e-02, -5.62680953e-02, -5.58404808e-02,\n",
       "       -5.56471631e-02, -5.54291586e-02, -5.52594737e-02, -5.47767386e-02,\n",
       "       -5.45530026e-02, -5.41635310e-02, -5.38810163e-02, -5.35505836e-02,\n",
       "       -5.32996769e-02, -5.27948485e-02, -5.23203573e-02, -5.21140097e-02,\n",
       "       -5.18784602e-02, -5.16962767e-02, -5.15028598e-02, -5.08658291e-02,\n",
       "       -5.07695371e-02, -5.05305143e-02, -5.02341179e-02, -4.96085236e-02,\n",
       "       -4.92420011e-02, -4.89473713e-02, -4.87109188e-02, -4.82669951e-02,\n",
       "       -4.76493508e-02, -4.72982934e-02, -4.68906660e-02, -4.66075100e-02,\n",
       "       -4.64041261e-02, -4.58794348e-02, -4.55037950e-02, -4.42629487e-02,\n",
       "       -4.39375255e-02, -4.22308345e-02, -4.15240698e-02, -4.03045083e-02,\n",
       "       -3.95825635e-02, -3.64919809e-02,  1.17041550e-01,  1.23357539e-01,\n",
       "        1.28173357e-01,  1.30383556e-01,  1.34777292e-01,  1.38736667e-01,\n",
       "        1.39310448e-01,  1.43114929e-01,  1.47592761e-01,  1.52597426e-01,\n",
       "        1.56164636e-01,  1.58407165e-01,  1.60915112e-01,  1.62019585e-01,\n",
       "        1.65129383e-01,  1.66530792e-01,  1.67331583e-01,  1.69545805e-01,\n",
       "        1.72122042e-01,  1.75030466e-01,  1.78595118e-01,  1.80325573e-01,\n",
       "        1.83856407e-01,  1.84869797e-01,  1.86961941e-01,  1.91913452e-01,\n",
       "        1.92306716e-01,  1.98414482e-01,  1.99943544e-01,  2.01336869e-01,\n",
       "        2.02940231e-01,  2.07125723e-01,  2.09740591e-01,  2.11190862e-01,\n",
       "        2.14188832e-01,  2.18609148e-01,  2.20098805e-01,  2.23742235e-01,\n",
       "        2.24568684e-01,  2.26049906e-01,  2.28790167e-01,  2.29940021e-01,\n",
       "        2.34627086e-01,  2.34872473e-01,  2.37952637e-01,  2.40530191e-01,\n",
       "        2.41275538e-01,  2.42653380e-01,  2.46466899e-01,  2.50944478e-01,\n",
       "        2.58042573e-01,  2.60169793e-01,  2.61283379e-01,  2.64791250e-01,\n",
       "        2.69102142e-01,  2.71394774e-01,  2.73947782e-01,  2.78765964e-01,\n",
       "        2.81350458e-01,  2.84782915e-01,  2.86981326e-01,  2.91867710e-01,\n",
       "        2.93494637e-01,  2.96930847e-01,  3.00785171e-01,  3.07593807e-01,\n",
       "        3.11407189e-01,  3.14286166e-01,  3.21572262e-01,  3.22352412e-01,\n",
       "        3.25418352e-01,  3.32918209e-01,  3.34864133e-01,  3.45347830e-01,\n",
       "        3.46072930e-01,  3.48045058e-01,  3.49943999e-01,  3.57319882e-01,\n",
       "        3.66229489e-01,  3.70000529e-01,  3.72114808e-01,  3.79943799e-01,\n",
       "        3.88821923e-01,  3.92985760e-01,  4.01528108e-01,  4.06049673e-01,\n",
       "        4.11066579e-01,  4.19498103e-01,  4.20432891e-01,  4.23093170e-01,\n",
       "        4.31457081e-01,  4.39014620e-01,  4.50574147e-01,  4.55914658e-01,\n",
       "        4.57633097e-01,  4.68220568e-01,  4.79752403e-01,  4.85933716e-01,\n",
       "        4.97736495e-01,  5.00601938e-01,  5.09101801e-01,  5.12895932e-01,\n",
       "        5.25668299e-01,  5.40896941e-01,  5.49916320e-01,  5.56213039e-01,\n",
       "        5.62435432e-01,  5.69958617e-01,  5.82033838e-01,  5.95571646e-01,\n",
       "        6.03299687e-01,  6.10771426e-01,  6.28598800e-01,  6.39927980e-01,\n",
       "        6.55436800e-01,  6.68687188e-01,  6.79799723e-01,  7.04438340e-01,\n",
       "        7.10791434e-01,  7.16120821e-01,  7.33019649e-01,  7.61999986e-01,\n",
       "        7.87521358e-01,  7.93582219e-01,  8.28598474e-01,  8.48620757e-01,\n",
       "        8.66725687e-01,  8.76723032e-01,  9.15893990e-01,  9.24624045e-01,\n",
       "        9.74789666e-01,  1.00930672e+00,  1.03076399e+00,  1.07613537e+00,\n",
       "        1.10788498e+00,  1.13199215e+00,  1.17318877e+00,  1.20886396e+00,\n",
       "        1.23694161e+00,  1.27465752e+00,  1.30295141e+00,  1.36412667e+00,\n",
       "        1.38320686e+00,  1.45992965e+00,  1.56921583e+00,  1.64091722e+00,\n",
       "        1.72754130e+00,  1.84064119e+00,  1.91648950e+00,  2.09783024e+00,\n",
       "        2.15906571e+00,  2.21617741e+00,  2.30187019e+00,  2.44849944e+00,\n",
       "        2.67673279e+00,  2.87505865e+00,  2.99427482e+00,  3.07912456e+00,\n",
       "        3.12207001e+00,  3.63645772e+00,  4.46055983e+00,  5.65700680e+00,\n",
       "        5.77222660e+00,  8.11151591e+00,  9.41015813e+00,  9.68519543e+00,\n",
       "        1.42070340e+01,  2.27879799e+01,  3.29276251e+01,  1.26882802e+02])"
      ]
     },
     "execution_count": 24,
     "metadata": {},
     "output_type": "execute_result"
    }
   ],
   "source": [
    "E_inv\n",
    "# -4.135835"
   ]
  },
  {
   "cell_type": "code",
   "execution_count": 25,
   "metadata": {
    "executionInfo": {
     "elapsed": 2,
     "status": "ok",
     "timestamp": 1712140411973,
     "user": {
      "displayName": "dogyen ko (Kodo)",
      "userId": "17400671760216123133"
     },
     "user_tz": -540
    },
    "id": "NcIeASsLPk6s"
   },
   "outputs": [],
   "source": [
    "\n",
    "def add(x,y):\n",
    "    return x+y\n"
   ]
  },
  {
   "cell_type": "code",
   "execution_count": 26,
   "metadata": {
    "executionInfo": {
     "elapsed": 2,
     "status": "ok",
     "timestamp": 1712140413601,
     "user": {
      "displayName": "dogyen ko (Kodo)",
      "userId": "17400671760216123133"
     },
     "user_tz": -540
    },
    "id": "FldNJjkKPk6t"
   },
   "outputs": [],
   "source": [
    "@nk.vqs.expect.dispatch\n",
    "def expect_try(vstate: nk.vqs.FullSumState, Ô: nk.operator.DiscreteOperator) -> Stats:  # noqa: F811\n",
    "#     _check_hilbert(vstate, Ô)\n",
    "\n",
    "#     O = sparsify(Ô)\n",
    "    O = Ô.to_sparse()\n",
    "    Ψ = vstate.to_array()\n",
    "\n",
    "    # TODO: This performs the full computation on all MPI ranks.\n",
    "    # It would be great if we could split the computation among ranks.\n",
    "\n",
    "    OΨ = O @ Ψ\n",
    "    expval_O = (Ψ.conj() * OΨ).sum()\n",
    "\n",
    "    variance = jnp.sum(jnp.abs(OΨ - expval_O * Ψ) ** 2)\n",
    "    return Stats(mean=expval_O, error_of_mean=0.0, variance=variance)"
   ]
  },
  {
   "cell_type": "code",
   "execution_count": 27,
   "metadata": {
    "executionInfo": {
     "elapsed": 773,
     "status": "ok",
     "timestamp": 1712140414373,
     "user": {
      "displayName": "dogyen ko (Kodo)",
      "userId": "17400671760216123133"
     },
     "user_tz": -540
    },
    "id": "-z23LjQiPk6t"
   },
   "outputs": [],
   "source": [
    "O_sparse = ha.to_sparse()\n",
    "H_Et_sparse = (ha-Et).to_sparse()\n",
    "H_Et_squ_sparse = ((ha-Et)@(ha-Et)).to_sparse()"
   ]
  },
  {
   "cell_type": "code",
   "execution_count": 35,
   "metadata": {
    "executionInfo": {
     "elapsed": 13,
     "status": "ok",
     "timestamp": 1712140414374,
     "user": {
      "displayName": "dogyen ko (Kodo)",
      "userId": "17400671760216123133"
     },
     "user_tz": -540
    },
    "id": "39w50T4VPk6t"
   },
   "outputs": [],
   "source": [
    "@expect_and_grad.dispatch\n",
    "def expect_and_grad_fullsum(\n",
    "    vstate: nk.vqs.FullSumState,\n",
    "    Ô: nk.operator.DiscreteOperator,\n",
    "    *args,\n",
    "    mutable: CollectionFilter = False,\n",
    "    use_covariance: Optional[bool] = None,\n",
    "    **kwargs,\n",
    ") -> tuple[Stats, PyTree]:\n",
    "    if use_covariance is None:\n",
    "        use_covariance = Ô.is_hermitian\n",
    "\n",
    "    if use_covariance:\n",
    "        # Implementation of expect_and_grad for `use_covariance == True` (due to the Literal[True]\n",
    "        # type in the signature).` This case is equivalent to the composition of the\n",
    "        # `expect_and_forces` and `force_to_grad` functions.\n",
    "        # return expect_and_grad_from_covariance(vstate, Ô, *args, mutable=mutable)\n",
    "        Ō, Ō_grad = expect_and_forces(vstate, Ô, *args, mutable=mutable, **kwargs)\n",
    "        Ō_grad = force_to_grad(Ō_grad, vstate.parameters)\n",
    "        return Ō, Ō_grad\n",
    "    else:\n",
    "        raise NotImplementedError(\n",
    "            \"The gradient of non hermitian operators with \"\n",
    "            \"FullSumState is not yet implemented\"\n",
    "        )\n",
    "\n",
    "@nk.vqs.expect_and_forces.dispatch\n",
    "def expect_and_forces_fullsum(\n",
    "    vstate: nk.vqs.FullSumState,\n",
    "    Ô: nk.operator.DiscreteOperator,\n",
    "    *,\n",
    "    mutable: CollectionFilter = False,\n",
    ") -> tuple[Stats, PyTree]:\n",
    "    if isinstance(Ô, Squared):\n",
    "        raise NotImplementedError(\"expect_and_forces not yet implemented for `Squared`\")\n",
    "\n",
    "#     _check_hilbert(vstate, Ô)\n",
    "\n",
    "\n",
    "    O = O_sparse\n",
    "    H_Et = H_Et_sparse\n",
    "    H_Et_squ = H_Et_squ_sparse\n",
    "\n",
    "    Ψ = vstate.to_array()\n",
    "    OΨ = O @ Ψ\n",
    "    H_EtΨ = H_Et@Ψ\n",
    "    H_Et_squΨ = H_Et_squ @ Ψ\n",
    "    Ψ_pre = H_Et @ Ψ\n",
    "    Ψ_pre = Ψ_pre / jnp.linalg.norm(Ψ_pre)\n",
    "    H_EtΨ_pre = H_Et @ Ψ_pre\n",
    "    invOΨ = ha_Et_inv @ Ψ\n",
    "    Ψ_pre_conjO = Ψ_pre.conj() @ H_Et\n",
    "\n",
    "    expval_O, Ō_grad = _exp_forces(\n",
    "        vstate._apply_fun,\n",
    "        mutable,\n",
    "        vstate.parameters,\n",
    "        vstate.model_state,\n",
    "        vstate._all_states,\n",
    "        OΨ,\n",
    "        Ψ,\n",
    "        Ψ_pre,\n",
    "        H_Et_squΨ,\n",
    "        H_EtΨ,\n",
    "        H_EtΨ_pre,\n",
    "        invOΨ,\n",
    "        Ψ_pre_conjO,\n",
    "    )\n",
    "\n",
    "    # if mutable is not False:\n",
    "    #     vstate.model_state = new_model_state\n",
    "\n",
    "    return expval_O, Ō_grad\n",
    "\n",
    "\n",
    "@partial(jax.jit, static_argnums=(0, 1))\n",
    "def _exp_forces(\n",
    "    model_apply_fun: Callable,\n",
    "    mutable: CollectionFilter,\n",
    "    parameters: PyTree,\n",
    "    model_state: PyTree,\n",
    "    σ: jnp.ndarray,\n",
    "    OΨ: jnp.ndarray,\n",
    "    Ψ: jnp.ndarray,\n",
    "    Ψ_pre: jnp.ndarray,\n",
    "    H_Et_squΨ: jnp.ndarray,\n",
    "    H_EtΨ: jnp.ndarray,\n",
    "    H_EtΨ_pre: jnp.ndarray,\n",
    "    invOΨ: jnp.ndarray,\n",
    "    Ψ_pre_conjO: jnp.ndarray,\n",
    ") -> tuple[PyTree, PyTree]:\n",
    "    is_mutable = mutable is not False\n",
    "\n",
    "    expval_O = (Ψ.conj() * invOΨ).sum()\n",
    "#     expval_O = (Ψ.conj() * OΨ).sum()\n",
    "    # variance = jnp.sum(jnp.abs(OΨ - expval_O * Ψ) ** 2)\n",
    "    # ΔOΨ = (OΨ - expval_O * Ψ).conj() * Ψ\n",
    "\n",
    "    expval_H_Et_squ = (Ψ.conj() * H_Et_squΨ).sum()\n",
    "    ΔOΨ_squ = (H_Et_squΨ - expval_H_Et_squ * Ψ).conj() * Ψ\n",
    "\n",
    "    denom = Ψ_pre.conj()@Ψ\n",
    "    # denom = Ψ.conj()@Ψ\n",
    "    expval_H_Et = (Ψ_pre.conj() * H_EtΨ).sum()/denom\n",
    "    ΔOΨ_non = (Ψ_pre_conjO - expval_H_Et * Ψ_pre.conj())/denom * Ψ\n",
    "#     ΔOΨ_non = (Ψ_pre_conjO - expval_H_Et * Ψ_pre.conj()) * Ψ\n",
    "#     ΔOΨ_non = (H_EtΨ_pre - expval_H_Et * Ψ_pre).conj() * Ψ\n",
    "\n",
    "\n",
    "\n",
    "    _, vjp_fun, *new_model_state = nkjax.vjp(\n",
    "        lambda w: model_apply_fun({\"params\": w, **model_state}, σ, mutable=mutable),\n",
    "        parameters,\n",
    "        conjugate=True,\n",
    "        has_aux=is_mutable,\n",
    "    )\n",
    "\n",
    "#     Ō_grad = vjp_fun(ΔOΨ)[0]\n",
    "    Ō_grad_first = vjp_fun(ΔOΨ_squ)[0]\n",
    "    Ō_grad_second = vjp_fun(-2*ΔOΨ_non)[0]\n",
    "\n",
    "    #Let it reaches to the maximum state of inv(H-Et)\n",
    "    # Ō_grad_first = vjp_fun(-ΔOΨ_squ)[0]\n",
    "    # Ō_grad_second = vjp_fun(2*ΔOΨ_non)[0]\n",
    "#     Ō_grad_second = vjp_fun(ΔOΨ_non)[0]\n",
    "\n",
    "    Ō_grad = jax.tree.map(add, Ō_grad_first, Ō_grad_second)\n",
    "    #######################################################\n",
    "    #######################################################\n",
    "    Ō_grad = Ō_grad_first\n",
    "    #######################################################\n",
    "    #######################################################\n",
    "\n",
    "    # new_model_state = new_model_state[0] if is_mutable else None\n",
    "\n",
    "    return (\n",
    "        Stats(mean=expval_O, error_of_mean=0.0, variance=1.0),\n",
    "        Ō_grad,\n",
    "        # new_model_state,\n",
    "    )"
   ]
  },
  {
   "cell_type": "code",
   "execution_count": 36,
   "metadata": {
    "executionInfo": {
     "elapsed": 2,
     "status": "ok",
     "timestamp": 1712140415861,
     "user": {
      "displayName": "dogyen ko (Kodo)",
      "userId": "17400671760216123133"
     },
     "user_tz": -540
    },
    "id": "Ow4IIT6UPk6u"
   },
   "outputs": [],
   "source": [
    "def variance(vsta, hamil):\n",
    "    return vsta.to_array().conj()@(hamil@hamil).to_sparse()@vsta.to_array() - (vsta.to_array().conj()@(hamil).to_sparse()@vsta.to_array())**2"
   ]
  },
  {
   "cell_type": "code",
   "execution_count": 37,
   "metadata": {
    "colab": {
     "base_uri": "https://localhost:8080/",
     "height": 501
    },
    "executionInfo": {
     "elapsed": 1080326,
     "status": "ok",
     "timestamp": 1712141515976,
     "user": {
      "displayName": "dogyen ko (Kodo)",
      "userId": "17400671760216123133"
     },
     "user_tz": -540
    },
    "id": "5HRjDPiLPk6u",
    "outputId": "b7822e9e-077a-4b83-9da6-b4094493cc76"
   },
   "outputs": [
    {
     "name": "stderr",
     "output_type": "stream",
     "text": [
      "100%|█| 10000/10000 [3:02:41<00:00,  1.10s/it, Energy=3.712e+01-2.163e-13j ± 0.000e+00 [σ²=1.000e+00]]\n"
     ]
    },
    {
     "name": "stdout",
     "output_type": "stream",
     "text": [
      "Vaiance :  0.002855658370005898\n",
      "Variational result :  37.11814826409689\n",
      "Real result :  -104.87926739900401\n"
     ]
    },
    {
     "data": {
      "image/png": "[encoded data removed]",
      "text/plain": [
       "<Figure size 640x480 with 1 Axes>"
      ]
     },
     "metadata": {},
     "output_type": "display_data"
    }
   ],
   "source": [
    "# Build the sampler\n",
    "# sa = nk.sampler.MetropolisExchange(hilbert=hi,graph=g)\n",
    "epochs = 10000\n",
    "\n",
    "ma = nk.models.MPSPeriodic(hilbert=hi, graph=g, bond_dim=10, param_dtype=complex)\n",
    "# ma = nk.models.RBM(alpha=2, param_dtype=complex)\n",
    "vs = nk.vqs.FullSumState(hi, ma)\n",
    "\n",
    "# Optimizer\n",
    "# op = nk.optimizer.Sgd(learning_rate=0.001)\n",
    "op = nk.optimizer.Adam(learning_rate=0.01)\n",
    "\n",
    "# Stochastic Reconfiguration\n",
    "sr = nk.optimizer.SR(diag_shift=0.1, holomorphic=True)\n",
    "\n",
    "\n",
    "# The ground-state optimization loop\n",
    "Target_ha = ha\n",
    "gs = nk.VMC(\n",
    "    hamiltonian=ha,\n",
    "    optimizer=op,\n",
    "    preconditioner=sr,\n",
    "    variational_state=vs)\n",
    "\n",
    "start = time.time()\n",
    "gs.run(epochs, out='RBM')\n",
    "end = time.time()\n",
    "\n",
    "data=json.load(open(\"RBM.log\"))\n",
    "plt.plot(data['Energy']['Mean']['real'])\n",
    "print(\"Vaiance : \",variance(vs, ha).real)\n",
    "print(\"Variational result : \",data['Energy']['Mean']['real'][-1])\n",
    "print(\"Real result : \",E_inv[0])\n",
    "# plt.plot(np.log10(data['Energy']['Variance']))"
   ]
  },
  {
   "cell_type": "code",
   "execution_count": null,
   "metadata": {},
   "outputs": [],
   "source": [
    "psi = vs.to_array()\n",
    "psi.conj()@ha.to_dense()@ha.to_dense()@psi - (psi.conj()@ha.to_dense()@psi)**2"
   ]
  },
  {
   "cell_type": "code",
   "execution_count": null,
   "metadata": {},
   "outputs": [],
   "source": [
    "psi.conj()@(hamil@hamil).to_sparse()@psi - psi.conj()@(hamil).to_sparse()@psi)**2"
   ]
  },
  {
   "cell_type": "code",
   "execution_count": null,
   "metadata": {
    "id": "ENNAgUcNPk6u"
   },
   "outputs": [],
   "source": [
    "#Austria"
   ]
  }
 ],
 "metadata": {
  "colab": {
   "provenance": []
  },
  "kernelspec": {
   "display_name": "Python 3 (ipykernel)",
   "language": "python",
   "name": "python3"
  },
  "language_info": {
   "codemirror_mode": {
    "name": "ipython",
    "version": 3
   },
   "file_extension": ".py",
   "mimetype": "text/x-python",
   "name": "python",
   "nbconvert_exporter": "python",
   "pygments_lexer": "ipython3",
   "version": "3.11.7"
  }
 },
 "nbformat": 4,
 "nbformat_minor": 4
}
