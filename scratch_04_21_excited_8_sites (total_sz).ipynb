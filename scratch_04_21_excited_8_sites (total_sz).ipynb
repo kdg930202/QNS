{
 "cells": [
  {
   "cell_type": "code",
   "execution_count": 1,
   "metadata": {},
   "outputs": [],
   "source": [
    "import netket as nk\n",
    "from numpy.lib.function_base import append\n",
    "from itertools import permutations, combinations\n",
    "from netket.vqs.mc import get_local_kernel_arguments, get_local_kernel\n",
    "import time\n",
    "import matplotlib.pyplot as plt\n",
    "import json\n",
    "import numpy as np\n",
    "from numpy.linalg import eig\n",
    "from flax.core.frozen_dict import FrozenDict\n",
    "import flax\n",
    "from netket.optimizer.qgt import QGTJacobianPyTree\n",
    "\n",
    "\n",
    "from typing import Callable, Tuple\n",
    "from functools import partial\n",
    "\n",
    "import jax\n",
    "from jax import numpy as jnp\n",
    "\n",
    "from netket.stats import statistics as mpi_statistics, mean as mpi_mean, Stats\n",
    "from netket.utils.types import PyTree\n",
    "from netket.operator.spin import sigmax, sigmay,sigmaz\n",
    "\n",
    "import matplotlib.pyplot as plt\n",
    "from tqdm import tqdm\n",
    "################################################################\n",
    "from scipy.sparse.linalg import eigsh\n",
    "################################################################\n",
    "import os\n",
    "import pandas as pd\n",
    "\n"
   ]
  },
  {
   "cell_type": "code",
   "execution_count": 13,
   "metadata": {
    "tags": []
   },
   "outputs": [],
   "source": [
    "# We always shorten netket as nk\n",
    "import netket as nk\n",
    "\n",
    "# Define a 1d chain\n",
    "L = 8\n",
    "g = nk.graph.Hypercube(length=L, n_dim=1, pbc=True)\n",
    "hi = nk.hilbert.Spin(s=1/2, N=g.n_nodes)\n",
    "# ha = nk.operator.Heisenberg(hilbert=hi, graph=g)\n",
    "dis=1\n",
    "b=dis\n",
    "a=-dis\n",
    "Gamma = (b-a) * np.random.random_sample(L) + a\n",
    "\n",
    "ha = sum([ sigmax(hi,i)*sigmax(hi,(i+1)%L)\n",
    "         + sigmay(hi,i)*sigmay(hi,(i+1)%L)\n",
    "         + sigmaz(hi,i)*sigmaz(hi,(i+1)%L)\n",
    "           for i in range(L)])\n",
    "################################################################################\n",
    "################################################################################\n",
    "################################################################################\n",
    "ha = ha + sum([Gamma[i]*sigmaz(hi,i) for i in range(L)])"
   ]
  },
  {
   "cell_type": "code",
   "execution_count": 24,
   "metadata": {
    "tags": []
   },
   "outputs": [
    {
     "data": {
      "text/plain": [
       "1"
      ]
     },
     "execution_count": 24,
     "metadata": {},
     "output_type": "execute_result"
    }
   ],
   "source": [
    "Et = np.random.randint(low=0, high=L, size=None)\n",
    "# Et = np.random.randint(0,L, size=1)\n",
    "# Et = 9\n",
    "Et\n"
   ]
  },
  {
   "cell_type": "code",
   "execution_count": 25,
   "metadata": {},
   "outputs": [
    {
     "data": {
      "text/plain": [
       "[<matplotlib.lines.Line2D at 0x7449bde74950>]"
      ]
     },
     "execution_count": 25,
     "metadata": {},
     "output_type": "execute_result"
    },
    {
     "data": {
      "image/png": "[encoded data removed]",
      "text/plain": [
       "<Figure size 640x480 with 1 Axes>"
      ]
     },
     "metadata": {},
     "output_type": "display_data"
    }
   ],
   "source": [
    "E, vec = np.linalg.eigh(ha.to_dense())\n",
    "plt.scatter(np.arange(len(E)),E,s=20)\n",
    "plt.ylabel('E',fontsize=18)\n",
    "plt.plot([0,len(E)],[Et,Et],'r')"
   ]
  },
  {
   "cell_type": "code",
   "execution_count": 26,
   "metadata": {},
   "outputs": [
    {
     "data": {
      "text/plain": [
       "array([-1.49405868e+01, -1.29644285e+01, -1.28590014e+01, -1.25538855e+01,\n",
       "       -1.15534752e+01, -1.04242938e+01, -1.02857526e+01, -1.01686951e+01,\n",
       "       -1.00849183e+01, -1.00505691e+01, -9.82099764e+00, -8.99958837e+00,\n",
       "       -8.91788806e+00, -8.89663975e+00, -8.67951606e+00, -8.66127618e+00,\n",
       "       -8.51847207e+00, -8.11994673e+00, -7.90332937e+00, -7.87918361e+00,\n",
       "       -7.84100114e+00, -7.62447691e+00, -7.61285856e+00, -7.50849728e+00,\n",
       "       -7.21546046e+00, -7.15710324e+00, -7.14019885e+00, -7.09642676e+00,\n",
       "       -7.06698731e+00, -6.69061231e+00, -6.50699840e+00, -6.48693557e+00,\n",
       "       -5.76292994e+00, -5.73734590e+00, -5.60356800e+00, -5.53781237e+00,\n",
       "       -5.49848840e+00, -5.45215424e+00, -5.41790102e+00, -5.29209641e+00,\n",
       "       -5.19500504e+00, -5.07047969e+00, -5.06768599e+00, -4.96736717e+00,\n",
       "       -4.93194068e+00, -4.85222188e+00, -4.77684046e+00, -4.77312373e+00,\n",
       "       -4.75601006e+00, -4.66401939e+00, -4.59853334e+00, -4.52298817e+00,\n",
       "       -4.41914167e+00, -4.41812337e+00, -4.41303536e+00, -4.28787640e+00,\n",
       "       -4.21006718e+00, -4.13431579e+00, -3.94922361e+00, -3.81078756e+00,\n",
       "       -3.78296053e+00, -3.61343206e+00, -3.53618369e+00, -3.46499949e+00,\n",
       "       -3.42661952e+00, -3.31464422e+00, -3.26045059e+00, -3.13354348e+00,\n",
       "       -3.08626336e+00, -2.96613763e+00, -2.93139930e+00, -2.90957008e+00,\n",
       "       -2.84518799e+00, -2.72328071e+00, -2.65404954e+00, -2.54525017e+00,\n",
       "       -2.41942442e+00, -2.40664994e+00, -2.35962988e+00, -2.30321682e+00,\n",
       "       -2.29896358e+00, -2.23875191e+00, -2.09285718e+00, -2.06754563e+00,\n",
       "       -2.06267338e+00, -1.96872429e+00, -1.94092881e+00, -1.86100833e+00,\n",
       "       -1.81004806e+00, -1.79479245e+00, -1.75340796e+00, -1.73428546e+00,\n",
       "       -1.56028554e+00, -1.51512818e+00, -1.51122801e+00, -1.47599847e+00,\n",
       "       -1.44222005e+00, -1.43125032e+00, -1.40215681e+00, -1.37708374e+00,\n",
       "       -1.25556466e+00, -1.19143958e+00, -1.16865076e+00, -1.16743269e+00,\n",
       "       -1.01669408e+00, -1.00198595e+00, -9.49161732e-01, -8.77097806e-01,\n",
       "       -7.98743716e-01, -7.98366290e-01, -7.04492107e-01, -4.16493425e-01,\n",
       "       -3.95814210e-01, -3.84661827e-01, -3.59600582e-01, -3.10497635e-01,\n",
       "       -3.09664070e-01, -2.85115910e-01, -1.83555548e-01, -1.50427308e-01,\n",
       "       -3.14605084e-02, -1.64255779e-02, -4.72563069e-03, -7.90783704e-04,\n",
       "        2.15634518e-02,  7.16566004e-02,  1.08991764e-01,  2.43492077e-01,\n",
       "        3.38504784e-01,  3.51186796e-01,  3.91263467e-01,  4.17245413e-01,\n",
       "        4.19573243e-01,  4.35718211e-01,  4.49817404e-01,  5.81776574e-01,\n",
       "        8.54761057e-01,  8.80352095e-01,  9.14917672e-01,  9.35153919e-01,\n",
       "        9.58666321e-01,  1.02008272e+00,  1.12798086e+00,  1.13054853e+00,\n",
       "        1.14119792e+00,  1.17707336e+00,  1.20247621e+00,  1.20966465e+00,\n",
       "        1.32517516e+00,  1.32553810e+00,  1.38155784e+00,  1.48427007e+00,\n",
       "        1.50738446e+00,  1.56282620e+00,  1.63779192e+00,  1.66214263e+00,\n",
       "        1.66976957e+00,  1.71014467e+00,  1.72607828e+00,  1.77111226e+00,\n",
       "        1.79215122e+00,  1.85456406e+00,  1.87696429e+00,  1.92427848e+00,\n",
       "        1.96418394e+00,  2.04970086e+00,  2.07020621e+00,  2.14594754e+00,\n",
       "        2.23747812e+00,  2.24998821e+00,  2.31318215e+00,  2.64783291e+00,\n",
       "        2.96258908e+00,  3.00832079e+00,  3.13483172e+00,  3.16693134e+00,\n",
       "        3.19012857e+00,  3.31547125e+00,  3.37950766e+00,  3.49822582e+00,\n",
       "        3.58745084e+00,  3.60300074e+00,  3.68127448e+00,  3.69395437e+00,\n",
       "        3.73157696e+00,  3.83977008e+00,  3.84024331e+00,  3.87591494e+00,\n",
       "        3.97775310e+00,  3.98232492e+00,  4.00289647e+00,  4.03254679e+00,\n",
       "        4.15975669e+00,  4.26504833e+00,  4.26731124e+00,  4.39522016e+00,\n",
       "        4.40533344e+00,  4.41254916e+00,  4.47992832e+00,  4.48259259e+00,\n",
       "        4.50143313e+00,  4.58581488e+00,  4.75364163e+00,  4.75619776e+00,\n",
       "        4.82078369e+00,  4.85850069e+00,  4.86077602e+00,  4.97872887e+00,\n",
       "        4.99759752e+00,  5.10613994e+00,  5.11783028e+00,  5.25201905e+00,\n",
       "        5.27893700e+00,  5.35015813e+00,  5.35621137e+00,  5.56147223e+00,\n",
       "        5.60907209e+00,  5.76297100e+00,  5.86142687e+00,  5.91028928e+00,\n",
       "        5.94672971e+00,  5.97987732e+00,  6.18365308e+00,  6.18976058e+00,\n",
       "        6.26650429e+00,  6.33785737e+00,  6.43830060e+00,  6.49261554e+00,\n",
       "        6.49568643e+00,  6.52456000e+00,  6.54868300e+00,  6.77945645e+00,\n",
       "        6.88543974e+00,  6.91790265e+00,  7.06484608e+00,  7.11115807e+00,\n",
       "        7.20016407e+00,  7.23029205e+00,  7.23685893e+00,  7.40312408e+00,\n",
       "        7.43605291e+00,  7.56359419e+00,  7.58042676e+00,  7.69413428e+00,\n",
       "        7.76580749e+00,  7.80181497e+00,  7.82833989e+00,  7.87339651e+00,\n",
       "        8.17166011e+00,  8.30966407e+00,  8.41649342e+00,  8.60927803e+00,\n",
       "        8.62369351e+00,  8.74157296e+00,  8.77495863e+00,  8.80143103e+00])"
      ]
     },
     "execution_count": 26,
     "metadata": {},
     "output_type": "execute_result"
    }
   ],
   "source": [
    "E"
   ]
  },
  {
   "cell_type": "code",
   "execution_count": 27,
   "metadata": {},
   "outputs": [],
   "source": [
    "# and like before, we can jit-compile it!\n",
    "# compute_energy_jit = jax.jit(compute_energy, static_argnames=\"model\")\n",
    "\n",
    "# and we precompute the sparse-hamiltonian to avoid the overhead of re-computing them all the time\n",
    "# hamiltonian_jax = ha.to_pauli_strings().to_jax_operator()\n",
    "# hamiltonian_sparse = hamiltonian.to_sparse()\n",
    "# hamiltonian_jax_sparse = hamiltonian_jax.to_sparse()\n",
    "\n",
    "hamil_Et_jax = (ha-Et).to_pauli_strings().to_jax_operator()\n",
    "hamil_Et_jax_sparse = hamil_Et_jax.to_sparse()\n",
    "\n",
    "hamil_Et_sq_jax = ((ha-Et)@(ha-Et)).to_pauli_strings().to_jax_operator()\n",
    "hamil_Et_sq_jax_sparse = hamil_Et_sq_jax.to_sparse()"
   ]
  },
  {
   "cell_type": "markdown",
   "metadata": {},
   "source": [
    "The model itself is only a set of instructions on how to initialise the parameters and how to compute the result. \n",
    "\n",
    "To initialise the parameters we do the following:"
   ]
  },
  {
   "cell_type": "code",
   "execution_count": 28,
   "metadata": {
    "tags": []
   },
   "outputs": [],
   "source": [
    "def to_array(model, parameters):\n",
    "    # begin by generating all configurations in the hilbert space.\n",
    "    # all_States returns a batch of configurations that is (hi.n_states, N) large.\n",
    "    all_configurations = hi.all_states()\n",
    "\n",
    "    # now evaluate the model, and convert to a normalised wavefunction.\n",
    "    logpsi = model.apply(parameters, all_configurations)\n",
    "    psi = jnp.exp(logpsi)\n",
    "    psi = psi / jnp.linalg.norm(psi)\n",
    "    return psi"
   ]
  },
  {
   "cell_type": "markdown",
   "metadata": {},
   "source": [
    "### 3.3 Energy\n",
    "Now, using that function, let's build another one that computes the energy of the mean field state for the given parameters! \n",
    "To do that, you can for example convert the hamiltonian to a sparse format and compute the energy"
   ]
  },
  {
   "cell_type": "code",
   "execution_count": 29,
   "metadata": {
    "tags": []
   },
   "outputs": [],
   "source": [
    "def compute_energy(model, parameters, hamil):\n",
    "    psi_gs = to_array(model, parameters)\n",
    "    return psi_gs.conj().T@(hamil@psi_gs)\n",
    "\n",
    "def loss_fun(model, pre_psi, parameters, ha_Et, ha_Et_sq):\n",
    "    psi_gs = to_array(model, parameters)\n",
    "    return psi_gs.conj().T@(ha_Et_sq@psi_gs) - 2*pre_psi.conj().T@(ha_Et@psi_gs)\n",
    "    # return psi_gs.conj().T@(ha_Et_sq@psi_gs)/(psi_gs.conj()@psi_gs) - 2*pre_psi.conj().T@(ha_Et@psi_gs)/(pre_psi.conj()@psi_gs)\n",
    "    # return psi_gs.conj().T@(ha_Et_sq@psi_gs)\n",
    "    \n",
    "def compute_variance(model, parameters, hamil):\n",
    "    psi_gs = to_array(model, parameters)\n",
    "    variance = psi_gs.conj().T@(hamil@hamil@psi_gs) - (psi_gs.conj().T@(hamil@psi_gs))**2 \n",
    "    return variance"
   ]
  },
  {
   "cell_type": "code",
   "execution_count": 30,
   "metadata": {
    "tags": []
   },
   "outputs": [],
   "source": [
    "from functools import partial\n",
    "\n",
    "# we use partial to directly jit this function. Jitting the top-most will jit everything inside it as well.\n",
    "@partial(jax.jit, static_argnames='model')\n",
    "def compute_and_gradient(model, pre_psi, parameters, ha_Et, ha_Et_sq):\n",
    "    # grad_fun = jax.value_and_grad(compute_energy, argnums=1)\n",
    "    grad_fun = jax.jacfwd(loss_fun, argnums=2,holomorphic=True)\n",
    "    # grad_fun = jax.jacrev(loss_fun, argnums=2,holomorphic=True)\n",
    "    return grad_fun(model, pre_psi, parameters, ha_Et, ha_Et_sq)"
   ]
  },
  {
   "cell_type": "code",
   "execution_count": 31,
   "metadata": {
    "tags": []
   },
   "outputs": [
    {
     "name": "stderr",
     "output_type": "stream",
     "text": [
      "100%|█████████████████████████████████████| 10000/10000 [09:45<00:00, 17.08it/s]\n"
     ]
    },
    {
     "data": {
      "text/plain": [
       "Array(5.98486319-2.62947911e-15j, dtype=complex128)"
      ]
     },
     "execution_count": 31,
     "metadata": {},
     "output_type": "execute_result"
    }
   ],
   "source": [
    "model = nk.models.RBM(alpha=2, param_dtype=complex)\n",
    "\n",
    "parameters = model.init(jax.random.PRNGKey(0), np.ones((hi.size, )))\n",
    "\n",
    "# logging: you can (if you want) use netket loggers to avoid writing a lot of boilerplate...\n",
    "# they accumulate data you throw at them\n",
    "logger = nk.logging.RuntimeLog()\n",
    "energy = []\n",
    "from tqdm import tqdm\n",
    "import optax\n",
    "\n",
    "# define\n",
    "optimizer = optax.adam(learning_rate=0.001)\n",
    "\n",
    "# initialise\n",
    "optimizer_state = optimizer.init(parameters)\n",
    "\n",
    "# for i in range(n_iters):\n",
    "#     E, E_grad = estimate_energy_and_grad(..., parameters, ...)\n",
    "    \n",
    "#     updates, optimizer_state = optimizer.update(E_grad, optimizer_state, parameters)\n",
    "#     parameters = optax.apply_updates(parameters, updates)\n",
    "\n",
    "\n",
    "for i in tqdm(range(10000)):\n",
    "    # compute energy and gradient\n",
    "    # energy, gradient = compute_energy_and_gradient(model, parameters, hamiltonian_jax_sparse)\n",
    "    pre_psi = to_array(model, parameters)\n",
    "    energy.append(compute_energy(model, parameters, ha))\n",
    "    gradient = compute_and_gradient(model, pre_psi, parameters, hamil_Et_jax_sparse, hamil_Et_sq_jax_sparse)\n",
    "    updates, optimizer_state = optimizer.update(gradient, optimizer_state, parameters)\n",
    "    # update parameters\n",
    "    # parameters = jax.tree.map(lambda x,y:x-0.01*y, parameters, gradient)\n",
    "    parameters = optax.apply_updates(parameters, updates)\n",
    "    \n",
    "    # log energy: the logger takes a step argument and a dictionary of variables to be logged\n",
    "    # logger(step=i, item={'Energy':energy})\n",
    "\n",
    "    \n",
    "compute_variance(model, parameters, ha)    "
   ]
  },
  {
   "cell_type": "code",
   "execution_count": 32,
   "metadata": {
    "scrolled": true
   },
   "outputs": [
    {
     "data": {
      "text/plain": [
       "Array(5.98486319-2.62947911e-15j, dtype=complex128)"
      ]
     },
     "execution_count": 32,
     "metadata": {},
     "output_type": "execute_result"
    }
   ],
   "source": [
    "psi_ = to_array(model, parameters)\n",
    "psi_.conj().T@(ha@ha@psi_) - (psi_.conj().T@(ha@psi_))**2 "
   ]
  },
  {
   "cell_type": "code",
   "execution_count": 33,
   "metadata": {},
   "outputs": [
    {
     "data": {
      "text/plain": [
       "[<matplotlib.lines.Line2D at 0x7449bd3a4950>]"
      ]
     },
     "execution_count": 33,
     "metadata": {},
     "output_type": "execute_result"
    },
    {
     "data": {
      "image/png": "[encoded data removed]",
      "text/plain": [
       "<Figure size 640x480 with 1 Axes>"
      ]
     },
     "metadata": {},
     "output_type": "display_data"
    }
   ],
   "source": [
    "plt.plot(np.real(energy))\n",
    "# plt.xlim([2500,2510])"
   ]
  },
  {
   "cell_type": "code",
   "execution_count": null,
   "metadata": {},
   "outputs": [],
   "source": [
    "energy[-1]"
   ]
  },
  {
   "cell_type": "code",
   "execution_count": null,
   "metadata": {},
   "outputs": [],
   "source": []
  }
 ],
 "metadata": {
  "kernelspec": {
   "display_name": "Python 3 (ipykernel)",
   "language": "python",
   "name": "python3"
  },
  "language_info": {
   "codemirror_mode": {
    "name": "ipython",
    "version": 3
   },
   "file_extension": ".py",
   "mimetype": "text/x-python",
   "name": "python",
   "nbconvert_exporter": "python",
   "pygments_lexer": "ipython3",
   "version": "3.11.7"
  }
 },
 "nbformat": 4,
 "nbformat_minor": 4
}
